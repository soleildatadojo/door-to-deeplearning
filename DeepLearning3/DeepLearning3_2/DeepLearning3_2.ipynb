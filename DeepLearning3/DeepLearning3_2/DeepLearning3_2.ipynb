{
 "cells": [
  {
   "cell_type": "markdown",
   "metadata": {},
   "source": [
    "# 「**Deep Learning**の扉」　　\n",
    "### ③**Python**を使ってニューラルネットワークの学習を学ぶ-応用編-　　\n",
    "___________________________________________________"
   ]
  },
  {
   "cell_type": "markdown",
   "metadata": {},
   "source": [
    "## 1. 「Deep Learning」の世界をさらに！"
   ]
  },
  {
   "cell_type": "markdown",
   "metadata": {},
   "source": [
    "前回は「③**Python**を使ってニューラルネットワークの学習を学ぶ-基礎編-」を学習しました。\n",
    "\n",
    "損失関数をはじめ、数値微分や勾配など数学的な内容でしたね。\n",
    "\n",
    "今回は、これらの知識を活かした内容を学んでいきます！\n",
    "\n",
    "それでは頑張っていきましょう！\n",
    "\n",
    "### Let's go!!\n",
    "_____________"
   ]
  },
  {
   "cell_type": "markdown",
   "metadata": {},
   "source": [
    "## 2. 勾配法"
   ]
  },
  {
   "cell_type": "markdown",
   "metadata": {},
   "source": [
    "最適なパラメータを得なければ、良い結果を得られない。\n",
    "\n",
    "そして、最適なパラメータを得るためにデータを学習する必要がある。\n",
    "\n",
    "といった内容を覚えていますか？\n",
    "\n",
    "覚えてはいるけど、最適なパラメータって結局何なんだ？\n",
    "\n",
    "という方は少なくないと思います。\n",
    "\n",
    "そんな方は、前回学習した損失関数を思い出してみてください。\n",
    "\n",
    "損失関数は、パラメータが適切であるかどうかを確かめるための指標でした。\n",
    "\n",
    "つまり、この損失関数が最小値をとる時のパラメータの値が、最適なパラメータになります。"
   ]
  },
  {
   "cell_type": "markdown",
   "metadata": {},
   "source": [
    "<img src=\"img3_2_1.png\" style=\"width: 700px; float:left;\">"
   ]
  },
  {
   "cell_type": "markdown",
   "metadata": {},
   "source": [
    "図2-1"
   ]
  },
  {
   "cell_type": "markdown",
   "metadata": {},
   "source": [
    "さらっと損失関数が最小値をとる時と言いましたが、これを見つけるのは意外と大変です。\n",
    "\n",
    "そこで、前回学習した「勾配」を利用して損失関数の最小値（出来るだけ小さな値）を探すという方法が登場します。\n",
    "\n",
    "前回、最後の方に\n",
    "\n",
    "#### 「勾配を「-1倍」したものが示す方向は、各場所において関数の値を最も減らす方向」\n",
    "\n",
    "と言いました。（以後、勾配という言葉が出てきたら、「-1倍」したものだと考えてください）\n",
    "\n",
    "勾配が指す方向が本当に関数の最小値なのかどうかはわからないため、勾配を利用しても最小値を得ることはできないかもしれません。\n",
    "\n",
    "しかし、勾配の方向が必ず最小値を指すとは限らないにせよ、その方向に進めば、損失関数の値を小さくできることには変わりません。\n",
    "\n",
    "そこで、タイトルにもなっている「勾配法」の登場です。\n",
    "\n",
    "#### 勾配法では、\n",
    "\n",
    "#### 現在の場所から勾配方向に一定の距離だけ進みます。\n",
    "\n",
    "#### そして、一定の距離進んだ先でも同様に勾配を求め、また、その勾配方向へ進むというように、繰り返すことで、損失関数の値を徐々に減らしていきます。\n",
    "\n",
    "このように関数の最小値を探す勾配法を\n",
    "\n",
    "### 「勾配降下法」\n",
    "\n",
    "と呼びます。"
   ]
  },
  {
   "cell_type": "markdown",
   "metadata": {},
   "source": [
    "<img src=\"img3_2_2.png\" style=\"width: 700px; float:left;\">"
   ]
  },
  {
   "cell_type": "markdown",
   "metadata": {},
   "source": [
    "図2-2"
   ]
  },
  {
   "cell_type": "markdown",
   "metadata": {},
   "source": [
    "それでは、数学的に見ていきましょう！\n",
    "\n",
    "勾配法を数式で表すと次の式のように書くことができます。"
   ]
  },
  {
   "cell_type": "markdown",
   "metadata": {},
   "source": [
    "$$\n",
    "    x_0 = x_0 - η\\frac{∂f}{∂x_0}\n",
    "$$"
   ]
  },
  {
   "cell_type": "markdown",
   "metadata": {},
   "source": [
    "$$\n",
    "    x_1 = x_1 - η\\frac{∂f}{∂x_1}\n",
    "$$"
   ]
  },
  {
   "cell_type": "markdown",
   "metadata": {},
   "source": [
    "上式の「η」は**「学習率」**と呼ばれる数値になります。\n",
    "\n",
    "一回の学習で、どれだけ学習するべきか、どれだけパラメータを更新するか、を決めるのがこの学習率になります。\n",
    "\n",
    "上式は、パラメータを一回更新した時を表しています。\n",
    "\n",
    "つまり、このパラメータ更新を何回も行うことで、徐々に損失関数の値を減らしていきます。\n",
    "\n",
    "今回は、２変数の場合の式を表していますが、変数が増えれば、更新の式を増やせばいいので、なんら問題はありません。\n",
    "\n",
    "ところで、\n",
    "\n",
    "$$\n",
    "    \\frac{∂f}{∂x_0}\n",
    "$$\n",
    "\n",
    "は、勾配を求めてることはわかるけど、学習率とやら「η」はどんな数値？と気になりますよね。\n",
    "\n",
    "これは、「0.01」や「0.001」などと自分で設定してあげる必要があります。\n",
    "\n",
    "だからといって、大きすぎる値や小さすぎる値を使ってはいけません。\n",
    "\n",
    "また、ニューラルネットワークにおいては、学習率の値を変更しながら、正しく学習できているか、損失関数の値を小さくできているかを確認する必要があります。\n",
    "\n",
    "面倒な気がしますが、\n",
    "\n",
    "せっかくパラメータを更新したのに、損失関数が大きくなっていた。なんて嫌ですよね。\n",
    "\n",
    "それでは、勾配降下法をPyhtonで実装してみましょう。"
   ]
  },
  {
   "cell_type": "code",
   "execution_count": 1,
   "metadata": {},
   "outputs": [],
   "source": [
    "def gradient_descent(f, init_x, lr=0.01, step_num=100):\n",
    "    x = init_x\n",
    "    \n",
    "    for i in range(step_num):\n",
    "        grad = numerical_gradient(f, x)\n",
    "        x -= lr * grad\n",
    "        \n",
    "    return x\n",
    "######「Shift + Enter」を押してください######"
   ]
  },
  {
   "cell_type": "markdown",
   "metadata": {},
   "source": [
    "意外とスッキリしたコードで実装することができます。\n",
    "\n",
    "「init_x」とは、パラメータの初期値を表しています。\n",
    "\n",
    "この値を「x」に代入し、パラメータをどんどん更新していきます。\n",
    "\n",
    "今回は、更新回数を「step_num=100」としており、これは１００回パラメータを更新することを表します。\n",
    "\n",
    "また、学習率は「lr=0.01」としています。\n",
    "\n",
    "あとは、数式通りに実装するだけになるのですが、\n",
    "\n",
    "おや？「numerical_gradient(f, x)」ってみたことあるな。\n",
    "\n",
    "そうなんです。これは前回の内容で実装した「勾配」を求める関数になります。\n",
    "\n",
    "みなさん、覚えていますか？\n",
    "\n",
    "ということで復習がてらに実装してみましょう！"
   ]
  },
  {
   "cell_type": "markdown",
   "metadata": {},
   "source": [
    "【問題2-1】「勾配」を実装してください。\n",
    "\n",
    "$$\n",
    "    (\\frac{∂f}{∂x_0}, \\frac{∂f}{∂x_1})\n",
    "$$"
   ]
  },
  {
   "cell_type": "code",
   "execution_count": 2,
   "metadata": {},
   "outputs": [],
   "source": [
    "######以下にコードを書いてください######\n",
    "\n",
    "\n",
    "\n",
    "\n",
    "######「Shift + Enter」を押してください######"
   ]
  },
  {
   "cell_type": "markdown",
   "metadata": {},
   "source": [
    "どうですか？\n",
    "\n",
    "覚えていましたか？\n",
    "\n",
    "曖昧な方は前回のテキストに戻ってもらっても構いません！\n",
    "\n",
    "では、話を戻します。"
   ]
  },
  {
   "cell_type": "code",
   "execution_count": 2,
   "metadata": {},
   "outputs": [],
   "source": [
    "def gradient_descent(f, init_x, lr=0.01, step_num=100):\n",
    "    x = init_x\n",
    "    \n",
    "    for i in range(step_num):\n",
    "        grad = numerical_gradient(f, x)\n",
    "        x -= lr * grad\n",
    "        \n",
    "    return x\n",
    "######「Shift + Enter」を押してください######"
   ]
  },
  {
   "cell_type": "markdown",
   "metadata": {},
   "source": [
    "この勾配降下法を表す関数を使えば、関数の極小値を求めることができます。\n",
    "\n",
    "極小値？\n",
    "\n",
    "最小値を求めるために、勾配降下法を使ってるんじゃなかったの？\n",
    "\n",
    "そうですね。\n",
    "\n",
    "もちろん、最小値を求めたくて勾配降下法を使っています。\n",
    "\n",
    "しかし、最初の方に、勾配の指す方向は必ずしも最小値を指す方向ではないと言いました。\n",
    "\n",
    "何を指しているのか。\n",
    "\n",
    "それは極小値になります。\n",
    "\n",
    "そして、\n",
    "\n",
    "その極小値が最小値であればいいな。\n",
    "\n",
    "というのが勾配降下法の狙いになります。\n",
    "\n",
    "（極小値が何なのかあまりピンとこない方は、この章の終わりに説明をつけているのでそちらをご覧ください。）\n",
    "\n",
    "では、試しに次の問題を解いてみましょう。"
   ]
  },
  {
   "cell_type": "markdown",
   "metadata": {},
   "source": [
    "【問題2-2】以下の式の最小値を勾配法で求めてください。  \n",
    "\n",
    "$$\n",
    "    f(x_0, x_1) = x_0^2 + x_1^2\n",
    "$$\n",
    "\n",
    "初期値は\n",
    "\n",
    "$$\n",
    "    (x_0, x_1) = (-3.0, 4.0)\n",
    "$$\n",
    "\n",
    "学習率は0.1、更新回数は100回としてください。\n",
    "\n",
    "また、求める際には自分で勾配降下法を実装してみてください"
   ]
  },
  {
   "cell_type": "code",
   "execution_count": 3,
   "metadata": {},
   "outputs": [],
   "source": [
    "######以下にコードを書いてください######\n",
    "\n",
    "\n",
    "\n",
    "######「Shift + Enter」を押してください######"
   ]
  },
  {
   "cell_type": "markdown",
   "metadata": {},
   "source": [
    "どうですか？\n",
    "\n",
    "$$\n",
    "    (-6.1e-10, 　8.1e-10)\n",
    "$$\n",
    "\n",
    "といった結果が得られたのではないでしょうか。\n",
    "\n",
    "この数値は、ほとんど(0, 0)に近い数値になります。\n",
    "\n",
    "実際、真の最小値は(0, 0)なので、勾配法によって、ほぼ正しい結果を得ることができたと言えます。\n",
    "\n",
    "では、勾配法による更新のプロセスを図示してみます。"
   ]
  },
  {
   "cell_type": "code",
   "execution_count": 48,
   "metadata": {
    "jupyter": {
     "source_hidden": true
    }
   },
   "outputs": [
    {
     "data": {
      "image/png": "[encoded data removed]",
      "text/plain": [
       "<Figure size 432x288 with 1 Axes>"
      ]
     },
     "metadata": {
      "needs_background": "light"
     },
     "output_type": "display_data"
    }
   ],
   "source": [
    "import numpy as np\n",
    "import matplotlib.pyplot as plt\n",
    "def numerical_gradient(f, x):\n",
    "    h = 1e-4\n",
    "    grad = np.zeros_like(x)\n",
    "    \n",
    "    for  idx in range(x.size):\n",
    "        tmp_val = x[idx]\n",
    "        x[idx] = tmp_val + h\n",
    "        fxh1 = f(x)\n",
    "        \n",
    "        x[idx] = tmp_val - h\n",
    "        fxh2 = f(x)\n",
    "        \n",
    "        grad[idx] = (fxh1 - fxh2) / (2*h)\n",
    "        x[idx] = tmp_val\n",
    "        \n",
    "    return grad\n",
    "\n",
    "def gradient_descent(f, init_x, lr=0.01, step_num=100):\n",
    "    x = init_x\n",
    "    plt.scatter(-3.0, 4.0, color=\"black\")\n",
    "    for i in range(step_num):\n",
    "        grad = numerical_gradient(f, x)\n",
    "        x -= lr * grad\n",
    "        plt.scatter(x[0], x[1], color=\"black\")\n",
    "        \n",
    "    plt.xlim(-4.0, 1.0)\n",
    "    plt.ylim(-1.0, 5.0)\n",
    "    plt.xlabel(\"x0\")\n",
    "    plt.ylabel(\"x1\")\n",
    "    plt.show()\n",
    "\n",
    "def function_2(x):\n",
    "    return x[0]**2 + x[1]**2\n",
    "\n",
    "init_x = np.array([-3.0, 4.0])\n",
    "\n",
    "gradient_descent(function_2, init_x=init_x, lr=0.1, step_num=100)"
   ]
  },
  {
   "cell_type": "markdown",
   "metadata": {},
   "source": [
    "図2-3"
   ]
  },
  {
   "cell_type": "markdown",
   "metadata": {},
   "source": [
    "(0, 0)が最も低い場所となっていますが、その点に向かって徐々に近づいていることが見て取れます。\n",
    "\n",
    "ちなみに、一番左上の点が、(-3.0, 4.0)の点であり、ここからスタートしています。\n",
    "\n",
    "そう言えば、学習率を「0.1」としましたが、他の数値にした場合どうなるのでしょうか。\n",
    "\n",
    "そんな時は試してみることが大切です！\n",
    "\n",
    "【問題2-3】学習率が「10.0」の時と「1e-10」の時を計算してください。  "
   ]
  },
  {
   "cell_type": "code",
   "execution_count": null,
   "metadata": {},
   "outputs": [],
   "source": [
    "######以下にコードを書いてください######\n",
    "\n",
    "\n",
    "\n",
    "######「Shift + Enter」を押してください######"
   ]
  },
  {
   "cell_type": "code",
   "execution_count": null,
   "metadata": {},
   "outputs": [],
   "source": [
    "######以下にコードを書いてください######\n",
    "\n",
    "\n",
    "\n",
    "######「Shift + Enter」を押してください######"
   ]
  },
  {
   "cell_type": "markdown",
   "metadata": {},
   "source": [
    "どんな値になりましたか？\n",
    "\n",
    "学習率が大きすぎると大きな値、学習率が小さすぎると初期値とほぼ変わらない値が出力されると思います。\n",
    "\n",
    "いくら勾配が指す方向が極小値を指す方向だとしても、適切な学習率を設定しないと、極小値にたどり着かなかったり、極小値を通り越してしまうといったことが起きてしまいます。"
   ]
  },
  {
   "cell_type": "markdown",
   "metadata": {},
   "source": [
    "<img src=\"img3_2_3.png\" style=\"width: 700px; float:left;\">"
   ]
  },
  {
   "cell_type": "markdown",
   "metadata": {},
   "source": [
    "図2-4"
   ]
  },
  {
   "cell_type": "markdown",
   "metadata": {},
   "source": [
    "### 2+α. 極小値"
   ]
  },
  {
   "cell_type": "markdown",
   "metadata": {},
   "source": [
    "まず、ある関数「f(x)」があるとします。\n",
    "\n",
    "この関数の微分を以下のように表現します。\n",
    "\n",
    "$$\n",
    "    \\frac{df(x)}{dx} = f'(x)\n",
    "$$\n",
    "\n",
    "また、ある値「a」における「f'(x)」の値は,\n",
    "\n",
    "$$\n",
    "    x = a\n",
    "$$\n",
    "$$\n",
    "    f'(a) = k\n",
    "$$\n",
    "\n",
    "になるとします。\n",
    "\n",
    "この値「k」は、関数「f(x)」の「x = a」における接線の傾きになります。\n",
    "\n",
    "例えば、\n",
    "\n",
    "$$\n",
    "    f(x) = x^2\n",
    "$$\n",
    "\n",
    "だとすると、「x=-1」における接線の傾きは、\n",
    "\n",
    "$$\n",
    "    f'(x) = 2x\n",
    "$$\n",
    "\n",
    "より、\n",
    "\n",
    "$$\n",
    "    f'(-1) = -2\n",
    "$$\n",
    "\n",
    "となります。\n",
    "\n",
    "これをグラフで表すと、"
   ]
  },
  {
   "cell_type": "code",
   "execution_count": 18,
   "metadata": {
    "jupyter": {
     "source_hidden": true
    }
   },
   "outputs": [
    {
     "data": {
      "image/png": "[encoded data removed]",
      "text/plain": [
       "<Figure size 432x288 with 1 Axes>"
      ]
     },
     "metadata": {
      "needs_background": "light"
     },
     "output_type": "display_data"
    }
   ],
   "source": [
    "import matplotlib.pyplot as plt\n",
    "import numpy as np\n",
    "\n",
    "x = np.arange(-2.0, 2.0, 0.1)\n",
    "y1 = x**2\n",
    "y2 = -2*x - 1\n",
    "\n",
    "plt.plot(x, y1, color=\"black\")\n",
    "plt.plot(x, y2)\n",
    "plt.scatter(-1, 1, color=\"black\")\n",
    "plt.xlim(-2.0, 0.5)\n",
    "plt.ylim(0, 4)\n",
    "plt.show()"
   ]
  },
  {
   "cell_type": "markdown",
   "metadata": {},
   "source": [
    "図2-5"
   ]
  },
  {
   "cell_type": "markdown",
   "metadata": {},
   "source": [
    "となります。\n",
    "\n",
    "見てもらうとわかりますが、傾きが「負」であれば、接線は右肩下がりの直線になります。\n",
    "\n",
    "では、「x=-0.5」の場合はどうなるのでしょうか。"
   ]
  },
  {
   "cell_type": "code",
   "execution_count": 1,
   "metadata": {
    "collapsed": true,
    "jupyter": {
     "outputs_hidden": true,
     "source_hidden": true
    }
   },
   "outputs": [
    {
     "data": {
      "image/png": "[encoded data removed]",
      "text/plain": [
       "<Figure size 432x288 with 1 Axes>"
      ]
     },
     "metadata": {
      "needs_background": "light"
     },
     "output_type": "display_data"
    }
   ],
   "source": [
    "import matplotlib.pyplot as plt\n",
    "import numpy as np\n",
    "\n",
    "x = np.arange(-2.0, 2.0, 0.1)\n",
    "y1 = x**2\n",
    "y2 = -x - 0.25\n",
    "\n",
    "plt.plot(x, y1, color=\"black\")\n",
    "plt.plot(x, y2)\n",
    "plt.scatter(-0.5, 0.25, color=\"black\")\n",
    "plt.xlim(-2.0, 0.5)\n",
    "plt.ylim(0, 4)\n",
    "plt.show()"
   ]
  },
  {
   "cell_type": "markdown",
   "metadata": {},
   "source": [
    "緩やかな直線になりましたね。\n",
    "\n",
    "では、「x=0」と「x=0.5」の場合はどうなるのでしょうか。"
   ]
  },
  {
   "cell_type": "code",
   "execution_count": 13,
   "metadata": {
    "jupyter": {
     "source_hidden": true
    }
   },
   "outputs": [
    {
     "data": {
      "image/png": "[encoded data removed]",
      "text/plain": [
       "<Figure size 432x288 with 1 Axes>"
      ]
     },
     "metadata": {
      "needs_background": "light"
     },
     "output_type": "display_data"
    }
   ],
   "source": [
    "import matplotlib.pyplot as plt\n",
    "import numpy as np\n",
    "\n",
    "x = np.arange(-2.0, 2.0, 0.1)\n",
    "y1 = x**2\n",
    "y2 = np.zeros_like(x)\n",
    "\n",
    "plt.plot(x, y1, color=\"black\")\n",
    "plt.plot(x, y2)\n",
    "plt.scatter(0, 0, color=\"black\")\n",
    "plt.xlim(-1.0, 1.0)\n",
    "plt.ylim(-1, 3)\n",
    "plt.show()"
   ]
  },
  {
   "cell_type": "markdown",
   "metadata": {},
   "source": [
    "図2-6"
   ]
  },
  {
   "cell_type": "markdown",
   "metadata": {},
   "source": [
    "「x=0の場合」"
   ]
  },
  {
   "cell_type": "code",
   "execution_count": 20,
   "metadata": {
    "jupyter": {
     "source_hidden": true
    }
   },
   "outputs": [
    {
     "data": {
      "image/png": "[encoded data removed]",
      "text/plain": [
       "<Figure size 432x288 with 1 Axes>"
      ]
     },
     "metadata": {
      "needs_background": "light"
     },
     "output_type": "display_data"
    }
   ],
   "source": [
    "import matplotlib.pyplot as plt\n",
    "import numpy as np\n",
    "\n",
    "x = np.arange(-2.0, 2.0, 0.1)\n",
    "y1 = x**2\n",
    "y2 = x -0.25\n",
    "\n",
    "plt.plot(x, y1, color=\"black\")\n",
    "plt.plot(x, y2)\n",
    "plt.scatter(0.5, 0.25, color=\"black\")\n",
    "plt.xlim(-0.5, 2.0)\n",
    "plt.ylim(0, 4)\n",
    "plt.show()"
   ]
  },
  {
   "cell_type": "markdown",
   "metadata": {},
   "source": [
    "図2-7"
   ]
  },
  {
   "cell_type": "markdown",
   "metadata": {},
   "source": [
    "「x=0.5の場合」"
   ]
  },
  {
   "cell_type": "markdown",
   "metadata": {},
   "source": [
    "「x=-1」は右肩下がりだったのに、「x=0」では平坦、「x=0.5」では、右肩上がりになってしまいました。\n",
    "\n",
    "つまり、接線の傾きが、「負」から「正」に変わったのです。\n",
    "\n",
    "どの点を境に「負」から「正」に変わったのか。\n",
    "\n",
    "それは接線が平坦になったとき、\n",
    "\n",
    "つまり、\n",
    "\n",
    "#### 「x=0」\n",
    "\n",
    "になります。\n",
    "\n",
    "言い換えると、\n",
    "\n",
    "#### 「x=0」を境に、関数f(x)の微分の値「f'(x)」が負から正に変わる\n",
    "\n",
    "となります。\n",
    "\n",
    "この「f'(x)」が負から正に変わる点を**極小値**と呼ぶのです。\n",
    "\n",
    "今回の場合では、「x=0」が極小値となります。\n",
    "\n",
    "また、この点は最小値でもあります。"
   ]
  },
  {
   "cell_type": "code",
   "execution_count": 35,
   "metadata": {
    "jupyter": {
     "source_hidden": true
    }
   },
   "outputs": [
    {
     "data": {
      "image/png": "[encoded data removed]",
      "text/plain": [
       "<Figure size 432x288 with 1 Axes>"
      ]
     },
     "metadata": {
      "needs_background": "light"
     },
     "output_type": "display_data"
    }
   ],
   "source": [
    "import numpy as np\n",
    "import matplotlib.pyplot as plt\n",
    "\n",
    "def function(x):\n",
    "    return x**3 + 3*x**2 - 9*x + 1\n",
    "\n",
    "x = np.arange(-7.0, 5.0, 0.1)\n",
    "y = function(x)\n",
    "\n",
    "plt.plot(x, y)\n",
    "plt.scatter(1.0, -4.0, color=\"black\")\n",
    "plt.ylim(-40, 80)\n",
    "plt.show()"
   ]
  },
  {
   "cell_type": "markdown",
   "metadata": {},
   "source": [
    "図2-8"
   ]
  },
  {
   "cell_type": "markdown",
   "metadata": {},
   "source": [
    "では、上記のような関数の場合はどうなるのでしょうか。\n",
    "\n",
    "先ほどの例と同じように考えると、黒点あたりが極小値だとわかりますね。\n",
    "\n",
    "しかし、この関数は極小値より小さい値を取ることができるので、極小値が最小値と言い切ることができません。\n",
    "\n",
    "もう一度言いますが、\n",
    "\n",
    "#### 極小値は、f'(x)が負から正に変わる点であり、最小値とは言い切れない\n",
    "\n",
    "ということを頭に入れておいてください！"
   ]
  },
  {
   "cell_type": "markdown",
   "metadata": {},
   "source": [
    "## 3. ニューラルネットワークにおける勾配の適用"
   ]
  },
  {
   "cell_type": "markdown",
   "metadata": {},
   "source": [
    "前回は勾配について、今回は勾配法（詳しくは勾配降下法）について学習しました。\n",
    "\n",
    "何のために学習したのか。\n",
    "\n",
    "それは、ニューラルネットワークにおいて最適なパラメータを学習するためです！\n",
    "\n",
    "ニューラルネットワークでは、どんなパラメータが登場したでしょうか。\n",
    "\n",
    "そうですね。\n",
    "\n",
    "「重み」と「バイアス」です。\n",
    "\n",
    "今回は、重みパラメータに関する損失関数の勾配を計算していきましょう！\n",
    "\n",
    "まずは、形状が２×３の重み「W」を持つニューラルネットワークがあり、損失関数をLで表す場合を考えてみます。\n",
    "\n",
    "この場合、勾配は\n",
    "\n",
    "$$\n",
    "    \\frac{∂L}{∂W}\n",
    "$$\n",
    "\n",
    "と表すことができます。\n",
    "\n",
    "また、実際に数式で表すと"
   ]
  },
  {
   "cell_type": "markdown",
   "metadata": {},
   "source": [
    "$$\n",
    "    W = \\left(\n",
    "\\begin{matrix} \n",
    "w_{11} & w_{12} & w_{13} \\\\ \n",
    "w_{21} & w_{22} & w_{23} \n",
    "\\end{matrix} \n",
    "\\right)\n",
    "$$\n",
    "\n",
    "$$\n",
    "\\frac{∂L}{∂W} = \\left(\n",
    "\\begin{matrix} \n",
    "\\frac{∂L}{∂w_{11}} & \\frac{∂L}{∂w_{12}} & \\frac{∂L}{∂w_{13}} \\\\ \n",
    "\\frac{∂L}{∂w_{21}} & \\frac{∂L}{∂w_{22}} & \\frac{∂L}{∂w_{23}} \n",
    "\\end{matrix} \n",
    "\\right)\n",
    "$$"
   ]
  },
  {
   "cell_type": "markdown",
   "metadata": {},
   "source": [
    "という風になります。\n",
    "\n",
    "１行１列目の要素である\n",
    "\n",
    "$$\n",
    "    \\frac{∂L}{∂w_{11}}\n",
    "$$\n",
    "\n",
    "は、「w<sub>11</sub>」を少し変化させると損失関数「L」がどれだけ変化するか、ということを表します。\n",
    "\n",
    "他の要素も同様です。\n",
    "\n",
    "それでは、実際に勾配を求める実装を行います。\n",
    "\n",
    "実装を行う準備として、「ソフトマックス関数」や「交差エントロピー誤差」を実装してもらいます。\n",
    "\n",
    "前回の内容でもあるので、復習として取り組んでください！"
   ]
  },
  {
   "cell_type": "markdown",
   "metadata": {},
   "source": [
    "【問題3-1】ソフトマックス関数を実装してください。\n",
    "\n",
    "$$\n",
    "   y_k = \\frac{exp(a_k)}{\\sum_{i=1}^{n}exp(a_i)}\n",
    "$$"
   ]
  },
  {
   "cell_type": "code",
   "execution_count": 36,
   "metadata": {},
   "outputs": [],
   "source": [
    "######以下にコードを書いてください######\n",
    "\n",
    "\n",
    "\n",
    "######「Shift + Enter」を押してください######"
   ]
  },
  {
   "cell_type": "markdown",
   "metadata": {},
   "source": [
    "【問題3-2】交差エントロピー誤差を実装してください。\n",
    "\n",
    "$$\n",
    "    E = -\\sum_{k}t_k*logy_k\n",
    "$$"
   ]
  },
  {
   "cell_type": "code",
   "execution_count": null,
   "metadata": {},
   "outputs": [],
   "source": [
    "######以下にコードを書いてください######\n",
    "\n",
    "\n",
    "\n",
    "######「Shift + Enter」を押してください######"
   ]
  },
  {
   "cell_type": "markdown",
   "metadata": {},
   "source": [
    "復習できましたか？\n",
    "\n",
    "それでは、本題に戻りましょう。\n",
    "\n",
    "まず、以下のような「simpleNet」というクラスを実装したいと思います。"
   ]
  },
  {
   "cell_type": "code",
   "execution_count": 91,
   "metadata": {},
   "outputs": [],
   "source": [
    "import numpy as np\n",
    "\n",
    "class simpleNet:\n",
    "    def __init__(self):\n",
    "        self.W = np.random.randn(2,3)\n",
    "        \n",
    "    def predict(self, x):\n",
    "        return np.dot(x, self.W)\n",
    "    \n",
    "    def loss(self, x, t):\n",
    "        z = self.predict(x)\n",
    "        y = softmax(z)\n",
    "        loss = cross_entropy_error(y, t)\n",
    "        \n",
    "        return loss"
   ]
  },
  {
   "cell_type": "markdown",
   "metadata": {},
   "source": [
    "このクラスは、形状が２×３の重みパラメータを一つだけインスタンス変数として持ちます。\n",
    "\n",
    "そして、二つのメソッドがあり、一つは「predict(x)」、もう一つは「loss(x, t)」になります。\n",
    "\n",
    "「predict(x)」は入力「x」と重み「W」の行列の積を計算し、予測するメソッドであり、\n",
    "\n",
    "「loss(x, t)」は最終的に損失関数を計算するメソッドになります。\n",
    "\n",
    "また、「x」には入力データ、「t」には正解ラベルが入力されます。\n",
    "\n",
    "クラスにあまり慣れていない方は、「レシピ」だと思ってください！\n",
    "\n",
    "カレーのレシピとか、ハンバーグのレシピとか、唐揚げとか、ケーキとか、マカロンとか。\n",
    "\n",
    "食べ物って美味しいですよね〜。\n",
    "\n",
    "という話は置いといて。\n",
    "\n",
    "クラスがレシピなら、インスタンスとメソッドは？と思いますよね。\n",
    "\n",
    "インスタンスは材料で、メソッドは調理方法になります！\n",
    "\n",
    "例えば、カレーでいうと、\n",
    "\n",
    "インスタンスは、ジャガイモや人参、玉ねぎ、肉（牛？鶏？豚？）などで、\n",
    "\n",
    "メソッドは、材料を切ったり、材料を煮込んだりといったものになります。"
   ]
  },
  {
   "cell_type": "markdown",
   "metadata": {},
   "source": [
    "<img src=\"img3_2_4.png\" style=\"width: 700px; float:left;\">"
   ]
  },
  {
   "cell_type": "markdown",
   "metadata": {},
   "source": [
    "図3-1"
   ]
  },
  {
   "cell_type": "markdown",
   "metadata": {},
   "source": [
    "このことから、「simpleNet」というクラスは、\n",
    "\n",
    "「simpleNet」というレシピであり、そこには、\n",
    "\n",
    "・材料「２行３列の重み」を準備する。\n",
    "\n",
    "・〜といった手順で材料を調理する。（予測し、損失関数を計算する。）\n",
    "\n",
    "と書かれている。\n",
    "\n",
    "と表現することができます。"
   ]
  },
  {
   "cell_type": "markdown",
   "metadata": {},
   "source": [
    "<img src=\"img3_2_5.png\" style=\"width: 700px; float:left;\">"
   ]
  },
  {
   "cell_type": "markdown",
   "metadata": {},
   "source": [
    "図3-2"
   ]
  },
  {
   "cell_type": "markdown",
   "metadata": {},
   "source": [
    "それではこのクラスを使ってみましょう！"
   ]
  },
  {
   "cell_type": "code",
   "execution_count": 196,
   "metadata": {},
   "outputs": [
    {
     "name": "stdout",
     "output_type": "stream",
     "text": [
      "[[ 0.80001485 -0.11320443  0.17635342]\n",
      " [ 2.00410625  0.87028403  1.63448519]]\n"
     ]
    }
   ],
   "source": [
    "def cross_entropy_error(y, t):\n",
    "    if y.ndim == 1 :\n",
    "        t = t.reshape(1, t.size)\n",
    "        y = y.reshape(1, y.size)\n",
    "        \n",
    "    batch_size = y.shape[0]\n",
    "    return -np.sum(t * np.log(y + 1e-7)) / batch_size\n",
    "\n",
    "\n",
    "def softmax(a):\n",
    "    c = np.max(a)\n",
    "    exp_a = np.exp(a-c)\n",
    "    sum_exp_a = np.sum(exp_a)\n",
    "    y = exp_a / sum_exp_a\n",
    "    return y\n",
    "    \n",
    "net = simpleNet()\n",
    "print(net.W)\n",
    "######「Shift + Enter」を押してください######"
   ]
  },
  {
   "cell_type": "markdown",
   "metadata": {},
   "source": [
    "ではこの重みを使って、予測してみます。"
   ]
  },
  {
   "cell_type": "code",
   "execution_count": 93,
   "metadata": {},
   "outputs": [
    {
     "name": "stdout",
     "output_type": "stream",
     "text": [
      "[-1.72967371  0.85191776 -1.26469844]\n"
     ]
    }
   ],
   "source": [
    "x = np.array([0.6, 0.9])\n",
    "p = net.predict(x)\n",
    "print(p)"
   ]
  },
  {
   "cell_type": "markdown",
   "metadata": {},
   "source": [
    "最終的な出力が三つと仮定して、正解ラベルを以下のようにします。"
   ]
  },
  {
   "cell_type": "code",
   "execution_count": 94,
   "metadata": {},
   "outputs": [],
   "source": [
    "t = np.array([1, 0, 0])"
   ]
  },
  {
   "cell_type": "markdown",
   "metadata": {},
   "source": [
    "では、損失関数はどのようになるのでしょうか。"
   ]
  },
  {
   "cell_type": "code",
   "execution_count": 95,
   "metadata": {},
   "outputs": [
    {
     "data": {
      "text/plain": [
       "2.7606494560014"
      ]
     },
     "execution_count": 95,
     "metadata": {},
     "output_type": "execute_result"
    }
   ],
   "source": [
    "net.loss(x, t)"
   ]
  },
  {
   "cell_type": "markdown",
   "metadata": {},
   "source": [
    "それでは、勾配を求めてみましょう。\n",
    "\n",
    "今までは、１変数や２変数の場合の勾配を求めてきましたが、今回用いる重みのパラメータの形状は2×3なので、6変数の場合の勾配を考える必要があります。\n",
    "\n",
    "6変数の場合に対応したものが以下のコードになります。"
   ]
  },
  {
   "cell_type": "code",
   "execution_count": 207,
   "metadata": {},
   "outputs": [],
   "source": [
    "def numerical_gradient(f, x):\n",
    "    h = 1e-4 # 0.0001\n",
    "    grad = np.zeros_like(x)\n",
    "    \n",
    "    it = np.nditer(x, flags=['multi_index'], op_flags=['readwrite'])\n",
    "    while not it.finished:\n",
    "        idx = it.multi_index\n",
    "        tmp_val = x[idx]\n",
    "        x[idx] = tmp_val + h\n",
    "        fxh1 = f(x) # f(x+h)\n",
    "        x[idx] = tmp_val - h \n",
    "        fxh2 = f(x) # f(x-h)\n",
    "        grad[idx] = (fxh1 - fxh2) / (2*h)\n",
    "        \n",
    "        x[idx] = tmp_val # 値を元に戻す\n",
    "        it.iternext()   \n",
    "        \n",
    "    return grad"
   ]
  },
  {
   "cell_type": "markdown",
   "metadata": {},
   "source": [
    "-----------------\n",
    "少し上記のコードについて説明を加えます。\n",
    "\n",
    "上記のコードに登場した「np.nditer」は、インデックスをタプル形式で順番に返す関数になります。\n",
    "\n",
    "具体例を見た方がわかりやすいので、以下に例を示します。\n",
    "\n",
    "まず、形状が2×3の配列を作成します。"
   ]
  },
  {
   "cell_type": "code",
   "execution_count": 16,
   "metadata": {},
   "outputs": [
    {
     "name": "stdout",
     "output_type": "stream",
     "text": [
      "[[ 0.59792512  0.01589526 -0.32669315]\n",
      " [ 0.65215972 -0.81442417 -0.04692157]]\n"
     ]
    }
   ],
   "source": [
    "np_array = np.random.randn(2, 3)\n",
    "print(np_array)"
   ]
  },
  {
   "cell_type": "markdown",
   "metadata": {},
   "source": [
    "それでは、「np.nditer」を使って、np_arrayの要素を取り出してみます。"
   ]
  },
  {
   "cell_type": "code",
   "execution_count": 19,
   "metadata": {},
   "outputs": [
    {
     "name": "stdout",
     "output_type": "stream",
     "text": [
      "(0, 0)\n",
      "0.5979251191681487\n",
      "(0, 1)\n",
      "0.01589525644828395\n",
      "(0, 2)\n",
      "-0.32669315221809325\n",
      "(1, 0)\n",
      "0.6521597249040858\n",
      "(1, 1)\n",
      "-0.8144241747587121\n",
      "(1, 2)\n",
      "-0.04692156920732403\n"
     ]
    }
   ],
   "source": [
    "nditer = np.nditer(np_array, flags=['multi_index'], op_flags=['readwrite'])\n",
    "while not nditer.finished:\n",
    "    print(nditer.multi_index)\n",
    "    print(np_array[nditer.multi_index])\n",
    "    nditer.iternext()"
   ]
  },
  {
   "cell_type": "markdown",
   "metadata": {},
   "source": [
    "まず、「while not 条件式：」は、条件式を満たすまで、処理を繰り返すというループ文になります。\n",
    "\n",
    "また、「nditer.multi_index」にインデックスが格納されており、「np_array[nditer.multi_index]」と指定することで、インデックスに対応する要素を取り出すことができます。\n",
    "\n",
    "正直、以下のようなコードでも配列の要素を取り出すことはできます。"
   ]
  },
  {
   "cell_type": "code",
   "execution_count": 20,
   "metadata": {},
   "outputs": [
    {
     "data": {
      "text/plain": [
       "0.5979251191681487"
      ]
     },
     "execution_count": 20,
     "metadata": {},
     "output_type": "execute_result"
    }
   ],
   "source": [
    "np_array[0][0]"
   ]
  },
  {
   "cell_type": "code",
   "execution_count": 23,
   "metadata": {},
   "outputs": [
    {
     "data": {
      "text/plain": [
       "0.5979251191681487"
      ]
     },
     "execution_count": 23,
     "metadata": {},
     "output_type": "execute_result"
    }
   ],
   "source": [
    "np_array[0,0]"
   ]
  },
  {
   "cell_type": "markdown",
   "metadata": {},
   "source": [
    "しかし、配列の要素をまとめて取り出すには、二重のfor文を使う必要があります。\n",
    "\n",
    "例えば、"
   ]
  },
  {
   "cell_type": "code",
   "execution_count": 24,
   "metadata": {},
   "outputs": [
    {
     "name": "stdout",
     "output_type": "stream",
     "text": [
      "0.5979251191681487\n",
      "0.01589525644828395\n",
      "-0.32669315221809325\n",
      "0.6521597249040858\n",
      "-0.8144241747587121\n",
      "-0.04692156920732403\n"
     ]
    }
   ],
   "source": [
    "for i in range(2):\n",
    "    for j in range(3):\n",
    "        print(np_array[i, j])"
   ]
  },
  {
   "cell_type": "markdown",
   "metadata": {},
   "source": [
    "二次元配列の場合、この程度で済みますが、三次元配列や四次元配列、もしくはそれ以上の多次元配列の場合、どうなるのでしょうか？？\n",
    "\n",
    "おそらく、何重にもfor文を重ねることになります。\n",
    "\n",
    "面倒な感じがしますよね。\n",
    "\n",
    "それだけでなく、for文を重ねて書くときに、どの順番で書けばいいのかわからなくなる可能性もあります。\n",
    "\n",
    "そこで、「np.nditer」を使うことによって、多次元配列の要素を簡単に取り出すことができます。\n",
    "\n",
    "「np.nditer」については、このくらいにして、本題に戻りたいと思います！\n",
    "\n",
    "---------------"
   ]
  },
  {
   "cell_type": "markdown",
   "metadata": {},
   "source": [
    "「numerical_gradient」を使う前に、以下のような関数を定義します。"
   ]
  },
  {
   "cell_type": "code",
   "execution_count": 97,
   "metadata": {},
   "outputs": [],
   "source": [
    "def f(W):\n",
    "    return net.loss(x, t)"
   ]
  },
  {
   "cell_type": "markdown",
   "metadata": {},
   "source": [
    "なぜ、わざわざこのように置き換えたのか。\n",
    "\n",
    "それは、「numerical_gradient(f, x)」のコードを思い出してもらうとわかると思うのですが、内部で「f(x)」を実行するため、それと整合性が取れるようにf(W)に置き換えます。\n",
    "\n",
    "もし、置き換えずに実行すると、"
   ]
  },
  {
   "cell_type": "code",
   "execution_count": 37,
   "metadata": {},
   "outputs": [
    {
     "ename": "TypeError",
     "evalue": "'numpy.float64' object is not callable",
     "output_type": "error",
     "traceback": [
      "\u001b[0;31m---------------------------------------------------------------------------\u001b[0m",
      "\u001b[0;31mTypeError\u001b[0m                                 Traceback (most recent call last)",
      "\u001b[0;32m<ipython-input-37-00ea670438ce>\u001b[0m in \u001b[0;36m<module>\u001b[0;34m\u001b[0m\n\u001b[0;32m----> 1\u001b[0;31m \u001b[0mnumerical_gradient\u001b[0m\u001b[0;34m(\u001b[0m\u001b[0mnet\u001b[0m\u001b[0;34m.\u001b[0m\u001b[0mloss\u001b[0m\u001b[0;34m(\u001b[0m\u001b[0mx\u001b[0m\u001b[0;34m,\u001b[0m \u001b[0mt\u001b[0m\u001b[0;34m)\u001b[0m\u001b[0;34m,\u001b[0m \u001b[0mnet\u001b[0m\u001b[0;34m.\u001b[0m\u001b[0mW\u001b[0m\u001b[0;34m)\u001b[0m\u001b[0;34m\u001b[0m\u001b[0;34m\u001b[0m\u001b[0m\n\u001b[0m",
      "\u001b[0;32m<ipython-input-32-c9f5677aa91f>\u001b[0m in \u001b[0;36mnumerical_gradient\u001b[0;34m(f, x)\u001b[0m\n\u001b[1;32m      8\u001b[0m         \u001b[0mtmp_val\u001b[0m \u001b[0;34m=\u001b[0m \u001b[0mx\u001b[0m\u001b[0;34m[\u001b[0m\u001b[0midx\u001b[0m\u001b[0;34m]\u001b[0m\u001b[0;34m\u001b[0m\u001b[0;34m\u001b[0m\u001b[0m\n\u001b[1;32m      9\u001b[0m         \u001b[0mx\u001b[0m\u001b[0;34m[\u001b[0m\u001b[0midx\u001b[0m\u001b[0;34m]\u001b[0m \u001b[0;34m=\u001b[0m \u001b[0mtmp_val\u001b[0m \u001b[0;34m+\u001b[0m \u001b[0mh\u001b[0m\u001b[0;34m\u001b[0m\u001b[0;34m\u001b[0m\u001b[0m\n\u001b[0;32m---> 10\u001b[0;31m         \u001b[0mfxh1\u001b[0m \u001b[0;34m=\u001b[0m \u001b[0mf\u001b[0m\u001b[0;34m(\u001b[0m\u001b[0mx\u001b[0m\u001b[0;34m)\u001b[0m \u001b[0;31m# f(x+h)\u001b[0m\u001b[0;34m\u001b[0m\u001b[0;34m\u001b[0m\u001b[0m\n\u001b[0m\u001b[1;32m     11\u001b[0m         \u001b[0mx\u001b[0m\u001b[0;34m[\u001b[0m\u001b[0midx\u001b[0m\u001b[0;34m]\u001b[0m \u001b[0;34m=\u001b[0m \u001b[0mtmp_val\u001b[0m \u001b[0;34m-\u001b[0m \u001b[0mh\u001b[0m\u001b[0;34m\u001b[0m\u001b[0;34m\u001b[0m\u001b[0m\n\u001b[1;32m     12\u001b[0m         \u001b[0mfxh2\u001b[0m \u001b[0;34m=\u001b[0m \u001b[0mf\u001b[0m\u001b[0;34m(\u001b[0m\u001b[0mx\u001b[0m\u001b[0;34m)\u001b[0m \u001b[0;31m# f(x-h)\u001b[0m\u001b[0;34m\u001b[0m\u001b[0;34m\u001b[0m\u001b[0m\n",
      "\u001b[0;31mTypeError\u001b[0m: 'numpy.float64' object is not callable"
     ]
    }
   ],
   "source": [
    "numerical_gradient(net.loss(x, t), net.W)"
   ]
  },
  {
   "cell_type": "markdown",
   "metadata": {},
   "source": [
    "このようにエラーが表示されてしまいます。"
   ]
  },
  {
   "cell_type": "code",
   "execution_count": 98,
   "metadata": {},
   "outputs": [
    {
     "name": "stdout",
     "output_type": "stream",
     "text": [
      "[[-0.56204877  0.50163287  0.0604159 ]\n",
      " [-0.84307315  0.7524493   0.09062385]]\n"
     ]
    }
   ],
   "source": [
    "dW = numerical_gradient(f, net.W)\n",
    "print(dW)"
   ]
  },
  {
   "cell_type": "markdown",
   "metadata": {},
   "source": [
    "「numerical_gradient(f, x)」の引数fは関数であり、xは関数fの引数になります。\n",
    "\n",
    "今回の場合では、net.Wをを引数に取り、損失関数を計算する新しい関数fを定義してあげる必要があります。\n",
    "\n",
    "それが先ほど置き換えた「f(W)」になります。"
   ]
  },
  {
   "cell_type": "markdown",
   "metadata": {},
   "source": [
    "そして、新しく定義した「f(W)」を、「numerical_gradient(f, x)」に渡します。"
   ]
  },
  {
   "cell_type": "markdown",
   "metadata": {},
   "source": [
    "_________\n",
    "\n",
    "「f(W)」を新しく定義したところで、返す値は「net.loss(x, t)」であるため、これだけの説明だけだと直感的にはわかりにくいかもしれません。\n",
    "\n",
    "そこで、わかりやすくするために、「net.loss(x, t)」を詳しく見ていきたいと思います。"
   ]
  },
  {
   "cell_type": "code",
   "execution_count": null,
   "metadata": {},
   "outputs": [],
   "source": [
    "def f(W):\n",
    "    return net.loss(x, t)"
   ]
  },
  {
   "cell_type": "markdown",
   "metadata": {},
   "source": [
    "この「net.loss(x, t)」は、"
   ]
  },
  {
   "cell_type": "code",
   "execution_count": null,
   "metadata": {},
   "outputs": [],
   "source": [
    "def loss(self, x, t):\n",
    "    z = self.predict(x)\n",
    "    y = softmax(z)\n",
    "    loss = cross_entropy_error(y, t)\n",
    "    \n",
    "    return loss"
   ]
  },
  {
   "cell_type": "markdown",
   "metadata": {},
   "source": [
    "という計算を行う関数でした。\n",
    "\n",
    "「net.loss(x, t)」を書き直すと、"
   ]
  },
  {
   "cell_type": "code",
   "execution_count": null,
   "metadata": {},
   "outputs": [],
   "source": [
    "net.loss(x, t) = cross_entropy_error(y, t)\n",
    "               = cross_entropy_error(softmax(z), t)\n",
    "               = cross_entropy_error(softmax(net.predict(x)), t)"
   ]
  },
  {
   "cell_type": "markdown",
   "metadata": {},
   "source": [
    "となります。\n",
    "\n",
    "また、「net.predict(x)」は、"
   ]
  },
  {
   "cell_type": "code",
   "execution_count": null,
   "metadata": {},
   "outputs": [],
   "source": [
    "def predict(self, x):\n",
    "    return np.dot(x, self.W)"
   ]
  },
  {
   "cell_type": "markdown",
   "metadata": {},
   "source": [
    "という関数になります。\n",
    "\n",
    "つまり、"
   ]
  },
  {
   "cell_type": "code",
   "execution_count": null,
   "metadata": {},
   "outputs": [],
   "source": [
    "net.loss(x, t) = cross_entropy_error(softmax(self.predict(x)), t)\n",
    "               = cross_entropy_error(softmax(np.dot(x, net.W)), t)"
   ]
  },
  {
   "cell_type": "markdown",
   "metadata": {},
   "source": [
    "となります。\n",
    "\n",
    "この結果から、「net.loss(x, t)」は「net.W」を含む関数であることがわかります。\n",
    "\n",
    "このことから、"
   ]
  },
  {
   "cell_type": "code",
   "execution_count": null,
   "metadata": {},
   "outputs": [],
   "source": [
    "def f(W):\n",
    "    return net.loss(x, t)"
   ]
  },
  {
   "cell_type": "markdown",
   "metadata": {},
   "source": [
    "と定義し直しても問題ないことがわかります。\n",
    "\n",
    "______"
   ]
  },
  {
   "cell_type": "markdown",
   "metadata": {},
   "source": [
    "それでは、話を戻します。\n",
    "\n",
    "「numerical_gradient(f, net.W)」の結果は、dWであり、形状は重みと同様2×3になります。\n",
    "\n",
    "dWの中身を見ると、\n",
    "\n",
    "$$\n",
    "    \\frac{∂L}{∂w_{11}}\n",
    "$$\n",
    "\n",
    "は、「-0.16835309」という値を示しています。"
   ]
  },
  {
   "cell_type": "markdown",
   "metadata": {},
   "source": [
    "これは、「w<sub>11</sub>」をhだけ増加させると、損失関数の値がおよそ「-0.17h」だけ増加する、すなわち、「0.17h」だけ減少するということを表しています。\n",
    "\n",
    "また、「w<sub>12</sub>」の場合は、およそ「0.04h」だけ増加するということを表しています。\n",
    "\n",
    "つまり、損失関数の値を減少させるには、「w<sub>11</sub>」はプラス方向に更新し、「w<sub>12</sub>」はマイナス方向に更新した方が良いということがわかります。\n",
    "\n",
    "また、更新度合いについて考えると、\n",
    "\n",
    "$$\n",
    "    \\frac{∂L}{∂w_{12}}\n",
    "$$\n",
    "\n",
    "よりも\n",
    "\n",
    "$$\n",
    "    \\frac{∂L}{∂w_{11}}\n",
    "$$\n",
    "\n",
    "の方が大きく貢献することがわかります。\n",
    "\n",
    "それは、勾配の絶対値の大小関係に起因します。\n",
    "\n",
    "$$\n",
    "    |\\frac{∂L}{∂w_{11}}| > |\\frac{∂L}{∂w_{12}}|\n",
    "$$\n"
   ]
  },
  {
   "cell_type": "markdown",
   "metadata": {},
   "source": [
    "このようにニューラルネットワークの勾配を求めれば、あとは勾配法に従って、重みのパラメータを更新するだけになります。"
   ]
  },
  {
   "cell_type": "markdown",
   "metadata": {},
   "source": [
    "------\n",
    "先ほど、整合性が取れるように「f(W)」と定義し直しましたが、Pythonでは簡単な関数であれば、「lambda」を使って書くこともできます。\n",
    "\n",
    "「lambda」を使って書き直すと以下のようになります。"
   ]
  },
  {
   "cell_type": "code",
   "execution_count": 39,
   "metadata": {},
   "outputs": [
    {
     "data": {
      "text/plain": [
       "array([[-0.16833856,  0.04683889,  0.12149967],\n",
       "       [-0.25250784,  0.07025833,  0.18224951]])"
      ]
     },
     "execution_count": 39,
     "metadata": {},
     "output_type": "execute_result"
    }
   ],
   "source": [
    "f = lambda w: net.loss(x, t)\n",
    "dW = numerical_gradient(f, net.W)\n",
    "dW"
   ]
  },
  {
   "cell_type": "markdown",
   "metadata": {},
   "source": [
    "これ以外に「lambda」を使った簡単な例を紹介します。"
   ]
  },
  {
   "cell_type": "code",
   "execution_count": 45,
   "metadata": {},
   "outputs": [
    {
     "name": "stdout",
     "output_type": "stream",
     "text": [
      "この商品の消費税は100.00円です\n"
     ]
    }
   ],
   "source": [
    "#商品の消費税を計算する\n",
    "f = lambda x: x*0.1\n",
    "\n",
    "#１０００円の商品\n",
    "y = f(1000)\n",
    "print(\"この商品の消費税は%.2f円です\" % y)"
   ]
  },
  {
   "cell_type": "markdown",
   "metadata": {},
   "source": [
    "このように書くことで、「def 関数名：」とわざわざ定義する必要がなくなります。\n",
    "\n",
    "ただ、簡単な関数に限るので、複雑な関数を作る場合は、「def 関数名：」を使ってください！！"
   ]
  },
  {
   "cell_type": "markdown",
   "metadata": {},
   "source": [
    "-----"
   ]
  },
  {
   "cell_type": "markdown",
   "metadata": {},
   "source": [
    "次の章に行く前に手を動かしてみましょう！！\n",
    "\n",
    "【問題3-3】以下の手順に沿って、ニューラルネットワークの勾配を計算してください。"
   ]
  },
  {
   "cell_type": "markdown",
   "metadata": {},
   "source": [
    "#### 1.ソフトマックス関数を出力層の活性化関数に設定\n",
    "$$\n",
    "   y_k = \\frac{exp(a_k)}{\\sum_{i=1}^{n}exp(a_i)}\n",
    "$$"
   ]
  },
  {
   "cell_type": "code",
   "execution_count": 99,
   "metadata": {},
   "outputs": [],
   "source": [
    "#ソフトマックス関数を実装\n",
    "def softmax(a):\n",
    "    \n",
    "    \n",
    "    return \n",
    "\n",
    "######「Shift + Enter」を押してください######"
   ]
  },
  {
   "cell_type": "markdown",
   "metadata": {},
   "source": [
    "#### 2.交差エントロピー誤差を損失関数に設定\n",
    "$$\n",
    "    E = -\\sum_{k}t_k*logy_k\n",
    "$$"
   ]
  },
  {
   "cell_type": "code",
   "execution_count": 128,
   "metadata": {},
   "outputs": [],
   "source": [
    "#交差エントロピー誤差を実装\n",
    "def cross_entropy_error(y, t):\n",
    "    if y.ndim == 1:\n",
    "        t = t.reshape(1, t.size)\n",
    "        y = y.reshape(1, y.size)\n",
    "        \n",
    "    batch_size = y.shape[0]\n",
    "    return #この部分を消して埋める# / batch_size\n",
    "\n",
    "######「Shift + Enter」を押してください######"
   ]
  },
  {
   "cell_type": "markdown",
   "metadata": {},
   "source": [
    "#### 3.ニューラルネットワーク「simpleNet」を実装"
   ]
  },
  {
   "cell_type": "code",
   "execution_count": null,
   "metadata": {},
   "outputs": [],
   "source": [
    "#simpleNetを実装\n",
    "#numpyをインポート\n",
    "import \n",
    "\n",
    "class SimpleNet:\n",
    "    \n",
    "    def __init__(self):\n",
    "        #形状が2×3の重みを取得してください（np.random.randn）\n",
    "        self.W = \n",
    "        \n",
    "    def predict(self, x):\n",
    "        #入力と重みの行列積を計算\n",
    "        return \n",
    "    \n",
    "    def loss(self, x, t):\n",
    "        #活性化関数には「softmax」を使用\n",
    "        z = \n",
    "        y =\n",
    "        loss = \n",
    "        #損失関数の結果を返す\n",
    "        return "
   ]
  },
  {
   "cell_type": "markdown",
   "metadata": {},
   "source": [
    "#### 4.勾配を求める関数。以下のコードを実行するだけで良い。"
   ]
  },
  {
   "cell_type": "code",
   "execution_count": 1,
   "metadata": {},
   "outputs": [],
   "source": [
    "def numerical_gradient(f, x):\n",
    "    h = 1e-4 # 0.0001\n",
    "    grad = np.zeros_like(x)\n",
    "    \n",
    "    it = np.nditer(x, flags=['multi_index'], op_flags=['readwrite'])\n",
    "    while not it.finished:\n",
    "        idx = it.multi_index\n",
    "        tmp_val = x[idx]\n",
    "        x[idx] = tmp_val + h\n",
    "        fxh1 = f(x) # f(x+h)\n",
    "        x[idx] = tmp_val - h \n",
    "        fxh2 = f(x) # f(x-h)\n",
    "        grad[idx] = (fxh1 - fxh2) / (2*h)\n",
    "        \n",
    "        x[idx] = tmp_val # 値を元に戻す\n",
    "        it.iternext()   \n",
    "        \n",
    "    return grad\n",
    "######「Shift + Enter」を押してください######"
   ]
  },
  {
   "cell_type": "markdown",
   "metadata": {},
   "source": [
    "#### 5.以下の入力とラベルを使って、勾配を計算する。ただし、「net.loss」を再定義し、整合性を保つこと。\n",
    "\n",
    "**入力は[1.5, 2.3]**\n",
    "\n",
    "**ラベルは[0, 1, 0]**\n",
    "\n",
    "を用いる。"
   ]
  },
  {
   "cell_type": "code",
   "execution_count": null,
   "metadata": {},
   "outputs": [],
   "source": [
    "#入力とラベルの配列を作成する\n",
    "x = \n",
    "t = \n",
    "\n",
    "#「numerical_gradient」を用いる\n",
    "\n",
    "######「Shift + Enter」を押してください######"
   ]
  },
  {
   "cell_type": "markdown",
   "metadata": {},
   "source": [
    "----\n",
    "ここまでの内容で、**「ニューラルネットワークの学習」**に関する基本的な知識を学ぶことができました！！\n",
    "\n",
    "「損失関数」「ミニバッチ」「勾配」「勾配降下法」と、学習において重要なキーワードが登場しました。\n",
    "\n",
    "問題3-3で損失関数の勾配の算出を復習してもらいましたが、ニューラルネットワークの学習の手順について確認したいと思います。"
   ]
  },
  {
   "cell_type": "markdown",
   "metadata": {},
   "source": [
    "まず、前提から確認します。\n",
    "\n",
    "ニューラルネットワークは、適応可能な重みとバイアスがあり、この重みとバイアスを訓練データに適応するように調整することを「学習」と呼びます。\n",
    "\n",
    "学習の手順は以下になります。\n",
    "\n",
    "**step1（ミニバッチ）**  \n",
    "訓練データの中からランダムに一部のデータを選び出します。（例えば、１０００枚の画像の中から５０枚を選ぶなど。）ここでは、そのミニバッチの損失関数の値を減らすことを目的とします。\n",
    "\n",
    "**step2（勾配の算出）**  \n",
    "ミニバッチの損失関数を減らすために、各重みパラメータの勾配を求めます。勾配は、損失関数の値を最も減らす方向を示します。（例えば、勾配が0.5の場合、重みをh動かすと、損失関数の値が0.5hだけ増加するということを表しています。）\n",
    "\n",
    "**step3（パラメータの更新）**  \n",
    "重みパラメータを勾配方向に微小量だけ更新します。（例えば、勾配が0.5の場合、損失関数を小さくするには、重みを-0.5ηすれば良いということになります。）\n",
    "\n",
    "**step4（繰り返す）**  \n",
    "step１からstep３を繰り返します。"
   ]
  },
  {
   "cell_type": "markdown",
   "metadata": {},
   "source": [
    "ニューラルネットワークの学習は、上記の４つの手順による方法で行います。\n",
    "\n",
    "この方法は、勾配降下法によってパラメータを更新する方法になりますが、ここで使用するデータはミニバッチとしてランダムに選ばれたデータを使用しているので、**確率的勾配降下法**と呼ばれます。\n",
    "\n",
    "また、確率的勾配降下法は、英語の頭文字を取って、**SGD**と呼ばれます。\n",
    "\n",
    "それでは、実際に手書き数字を学習するニューラルネットワークを実装していきましょう！！"
   ]
  },
  {
   "cell_type": "markdown",
   "metadata": {},
   "source": [
    "## 4. 学習アルゴリズムの実装"
   ]
  },
  {
   "cell_type": "markdown",
   "metadata": {},
   "source": [
    "### 4-1.手書き数字を学習するニューラルネットワークの実装"
   ]
  },
  {
   "cell_type": "markdown",
   "metadata": {},
   "source": [
    "実際に手書き数字を学習するニューラルネットワークを実装していくのですが、今回は２層のニューラルネットワークを使います。２層のニューラルネットワークというのは、入力層・１つの隠れ層・出力層で構成されています。\n",
    "\n",
    "それでは、早速実装していきたいと思います！！\n",
    "\n",
    "ここでは「sigmoid関数」と「softmax関数」を実装するのですが、今までの内容に少し工夫を加えています。\n",
    "\n",
    "工夫については、章末に紹介したいと思います。\n",
    "\n",
    "また、勾配を求めるために「numerical_gradient」を使いたいのですが、\n",
    "\n",
    "手書き数字を学習するニューラルネットワークの実装には、たくさんのデータを扱うため、「numerical_gradient」を使うと、計算量が多く、処理が終わるまでにかなりの時間がかかってしまいます。\n",
    "\n",
    "そこで、「gradient」というすぐ計算が完了するメソッドを使います。\n",
    "\n",
    "「gradient」は**誤差逆伝播法**を使って勾配を計算するのですが、今後の内容になるので、説明は省略します。"
   ]
  },
  {
   "cell_type": "code",
   "execution_count": 9,
   "metadata": {
    "jupyter": {
     "source_hidden": true
    }
   },
   "outputs": [],
   "source": [
    "def numerical_gradient(f, x):\n",
    "    h = 1e-4 # 0.0001\n",
    "    grad = np.zeros_like(x)\n",
    "    \n",
    "    it = np.nditer(x, flags=['multi_index'], op_flags=['readwrite'])\n",
    "    while not it.finished:\n",
    "        idx = it.multi_index\n",
    "        tmp_val = x[idx]\n",
    "        x[idx] = tmp_val + h\n",
    "        fxh1 = f(x) # f(x+h)\n",
    "        x[idx] = tmp_val - h \n",
    "        fxh2 = f(x) # f(x-h)\n",
    "        grad[idx] = (fxh1 - fxh2) / (2*h)\n",
    "        \n",
    "        x[idx] = tmp_val # 値を元に戻す\n",
    "        it.iternext()   \n",
    "        \n",
    "    return grad"
   ]
  },
  {
   "cell_type": "code",
   "execution_count": 2,
   "metadata": {},
   "outputs": [],
   "source": [
    "### sigmoid関数\n",
    "def sigmoid(a):\n",
    "    sigmoid_range = 34.538776394910684\n",
    "    a2 = np.maximum(np.minimum(a, sigmoid_range), -sigmoid_range)\n",
    "    return 1/(1+np.exp(-a2))\n",
    "\n",
    "\n",
    "### sigmoid関数を微分したもの\n",
    "def sigmoid_grad(x):\n",
    "    return (1.0 - sigmoid(x)) * sigmoid(x)\n",
    "\n",
    "\n",
    "###　損失関数cross_entropy_error\n",
    "def cross_entropy_error(y, t):\n",
    "    if y.ndim == 1 :\n",
    "        t = t.reshape(1, t.size)\n",
    "        y = y.reshape(1, y.size)\n",
    "        \n",
    "    batch_size = y.shape[0]\n",
    "    return -np.sum(t * np.log(y + 1e-7)) / batch_size\n",
    "\n",
    "\n",
    "### softmax関数\n",
    "def softmax(a):\n",
    "    c = np.max(a, axis=-1, keepdims=True)\n",
    "    exp_a = np.exp(a-c)\n",
    "    sum_exp_a = np.sum(exp_a, axis=-1, keepdims=True)\n",
    "    y = exp_a / sum_exp_a\n",
    "    return y\n",
    "\n",
    "\n",
    "### ネットワークの作成\n",
    "class TwoLayerNet:\n",
    "    \n",
    "    ### 重みやバイアスの初期化\n",
    "    def __init__(self, input_size, hidden_size, output_size, weight_init_std=0.01):\n",
    "        self.params = {}\n",
    "        self.params['W1'] = weight_init_std * np.random.randn(input_size, hidden_size)\n",
    "        self.params['W2'] = weight_init_std * np.random.randn(hidden_size, output_size)\n",
    "        self.params['b1'] = np.zeros(hidden_size)\n",
    "        self.params['b2'] = np.zeros(output_size)\n",
    "    \n",
    "    ### 行列積やバイアスの加算による推論処理\n",
    "    def predict(self, x):\n",
    "        W1, W2 = self.params['W1'], self.params['W2']\n",
    "        b1, b2 = self.params['b1'], self.params['b2']\n",
    "        \n",
    "        a1 = np.dot(x, W1) + b1\n",
    "        z1 = sigmoid(a1)\n",
    "        a2 = np.dot(z1, W2) + b2\n",
    "        y = softmax(a2)\n",
    "        \n",
    "        return y\n",
    "    \n",
    "    ### 損失関数の値の計算\n",
    "    def loss(self, x, t):\n",
    "        y = self.predict(x)\n",
    "        \n",
    "        return cross_entropy_error(y, t)\n",
    "    \n",
    "    \n",
    "    ### 精度の計算\n",
    "    def accuracy(self, x, t):\n",
    "        y = self.predict(x)\n",
    "        y = np.argmax(y, axis=1)\n",
    "        t = np.argmax(t, axis=1)\n",
    "        \n",
    "        accuracy = np.sum(y == t) / float(x.shape[0])\n",
    "        return accuracy\n",
    "        \n",
    "        \n",
    "    ### 勾配の計算\n",
    "    def numerical_gradient(self, x, t):\n",
    "        loss_W = lambda W: self.loss(x, t)\n",
    "        \n",
    "        grads = {}\n",
    "        \n",
    "        grads['W1'] = numerical_gradient(loss_W, self.params['W1'])\n",
    "        grads['b1'] = numerical_gradient(loss_W, self.params['b1'])\n",
    "        grads['W2'] = numerical_gradient(loss_W, self.params['W2'])\n",
    "        grads['b2'] = numerical_gradient(loss_W, self.params['b2'])\n",
    "        \n",
    "        return grads\n",
    "    \n",
    "    ### 誤差逆伝播を使用した勾配の計算（numerical_gradientより計算スピードが速い）\n",
    "    def gradient(self, x, t):\n",
    "        W1, W2 = self.params['W1'], self.params['W2']\n",
    "        b1, b2 = self.params['b1'], self.params['b2']\n",
    "        grads = {}\n",
    "        \n",
    "        batch_num = x.shape[0]\n",
    "        \n",
    "        # forward\n",
    "        a1 = np.dot(x, W1) + b1\n",
    "        z1 = sigmoid(a1)\n",
    "        a2 = np.dot(z1, W2) + b2\n",
    "        y = softmax(a2)\n",
    "        \n",
    "        # backward\n",
    "        dy = (y - t) / batch_num\n",
    "        grads['W2'] = np.dot(z1.T, dy)\n",
    "        grads['b2'] = np.sum(dy, axis=0)\n",
    "        \n",
    "        dz1 = np.dot(dy, W2.T)\n",
    "        da1 = sigmoid_grad(a1) * dz1\n",
    "        grads['W1'] = np.dot(x.T, da1)\n",
    "        grads['b1'] = np.sum(da1, axis=0)\n",
    "\n",
    "        return grads\n",
    "\n",
    "    \n",
    "######「Shift+Enter」を押してください######"
   ]
  },
  {
   "cell_type": "markdown",
   "metadata": {},
   "source": [
    "------\n",
    "\n",
    "それでは、上記のクラスについて詳しく見ていきたいと思います。\n",
    "\n",
    "### ①"
   ]
  },
  {
   "cell_type": "code",
   "execution_count": null,
   "metadata": {},
   "outputs": [],
   "source": [
    "def __init__(self, input_size, hidden_size, output_size, weight_init_std=0.01):\n",
    "        self.params = {}\n",
    "        self.params['W1'] = weight_init_std * \\\n",
    "                            np.random.randn(input_size, hidden_size)\n",
    "        self.params['W2'] = weight_init_std * \\\n",
    "                            np.random.randn(hidden_size, output_size)\n",
    "        self.params['b1'] = np.zeros(hidden_size)\n",
    "        self.params['b2'] = np.zeros(output_size)"
   ]
  },
  {
   "cell_type": "markdown",
   "metadata": {},
   "source": [
    "「__init__(self, input_size, hidden_size, output_size)メソッド」はクラスの初期化メソッドになります。それぞれの引数は以下の内容を意味します。\n",
    "\n",
    "・「input_size」：入力層のニューロン数  \n",
    "・「hidden_size」：隠れ層のニューロン数  \n",
    "・「output_size」：出力層のニューロン数  \n",
    "\n",
    "また、この初期化メソッドによって、重みパラメータの初期化を行います。\n",
    "\n",
    "重みパラメータの初期値をどのような値に設定するかという問題は、ニューラルネットワークの学習を成功させる上で重要なポイントとなっています。\n",
    "\n",
    "（今回、重みはガウス分布に従う乱数で初期化し、バイアスは０で初期化しています。）\n",
    "\n",
    "上記の「params」は、ニューラルネットワークのパラメータを保持するディクショナリ変数になります。\n",
    "\n",
    "params['W1']は、１層目の重み（形状：input_size × hidden_size）、  \n",
    "params['b1']は、１層目のバイアス（形状：1 × hidden_isze）、  \n",
    "params['W2']は、２層目の重み（形状：hidden_size × output_size）、  \n",
    "params['b2']は、２層目のバイアス（形状：1 × output_size）  \n",
    "\n",
    "になります。"
   ]
  },
  {
   "cell_type": "markdown",
   "metadata": {},
   "source": [
    "### ②"
   ]
  },
  {
   "cell_type": "code",
   "execution_count": null,
   "metadata": {},
   "outputs": [],
   "source": [
    "def predict(self, x):\n",
    "        W1, W2 = self.params['W1'], self.params['W2']\n",
    "        b1, b2 = self.params['b1'], self.params['b2']\n",
    "        \n",
    "        a1 = np.dot(x, W1) + b1\n",
    "        z1 = sigmoid(a1)\n",
    "        a2 = np.dot(z1, W2) + b2\n",
    "        y = softmax(a2)\n",
    "        \n",
    "        return y"
   ]
  },
  {
   "cell_type": "markdown",
   "metadata": {},
   "source": [
    "この関数は、入力に対し、推論処理を行います。\n",
    "\n",
    "隠れ層の活性化関数は、「sigmoid関数」であり、出力層の活性化関数には、「softmax関数」を使っています。"
   ]
  },
  {
   "cell_type": "markdown",
   "metadata": {},
   "source": [
    "### ③"
   ]
  },
  {
   "cell_type": "code",
   "execution_count": null,
   "metadata": {},
   "outputs": [],
   "source": [
    "def loss(self, x, t):\n",
    "        y = self.predict(x)\n",
    "        \n",
    "        return cross_entropy_error(y, t)"
   ]
  },
  {
   "cell_type": "markdown",
   "metadata": {},
   "source": [
    "推論を行った結果（ニューラルネットワークの出力）を用いて、損失関数の値を計算します。\n",
    "\n",
    "引数の「x」は画像データ（入力）であり、「t」は正解ラベルになります。"
   ]
  },
  {
   "cell_type": "markdown",
   "metadata": {},
   "source": [
    "### ④"
   ]
  },
  {
   "cell_type": "code",
   "execution_count": null,
   "metadata": {},
   "outputs": [],
   "source": [
    "def accuracy(self, x, t):\n",
    "        y = self.predict(x)\n",
    "        y = np.argmax(y, axis=1)\n",
    "        t = np.argmax(t, axis=1)\n",
    "        \n",
    "        accuracy = np.sum(y == t) / float(x.shape[0])"
   ]
  },
  {
   "cell_type": "markdown",
   "metadata": {},
   "source": [
    "この関数は、以下の手順で認識精度を求めます。\n",
    "\n",
    "まず、「self.predict(x)」によって推論処理を行います。\n",
    "\n",
    "それによって得られた出力結果の中で、最大となる値のインデックスを取り出します。\n",
    "\n",
    "例えば、"
   ]
  },
  {
   "cell_type": "code",
   "execution_count": 137,
   "metadata": {},
   "outputs": [
    {
     "data": {
      "text/plain": [
       "2"
      ]
     },
     "execution_count": 137,
     "metadata": {},
     "output_type": "execute_result"
    }
   ],
   "source": [
    "np_array = np.array([0.1, 0.2, 0.3])\n",
    "np.argmax(np_array)"
   ]
  },
  {
   "cell_type": "code",
   "execution_count": 139,
   "metadata": {},
   "outputs": [
    {
     "data": {
      "text/plain": [
       "0.3"
      ]
     },
     "execution_count": 139,
     "metadata": {},
     "output_type": "execute_result"
    }
   ],
   "source": [
    "np_array[2]"
   ]
  },
  {
   "cell_type": "markdown",
   "metadata": {},
   "source": [
    "このように、配列の中で最大となる値のインデックスを返します。\n",
    "\n",
    "また、「axis=1」を指定することによって、向きを指定することができます。\n",
    "\n",
    "「axis=1」は、行方向、つまり、横方向になります。\n",
    "\n",
    "例えば、"
   ]
  },
  {
   "cell_type": "code",
   "execution_count": 142,
   "metadata": {},
   "outputs": [
    {
     "data": {
      "text/plain": [
       "array([1, 0])"
      ]
     },
     "execution_count": 142,
     "metadata": {},
     "output_type": "execute_result"
    }
   ],
   "source": [
    "np_array = np.array([[0.2, 0.4], [0.5, 0.1]])\n",
    "np.argmax(np_array, axis=1)"
   ]
  },
  {
   "cell_type": "markdown",
   "metadata": {},
   "source": [
    "このように、「axis=1」と指定することによって、"
   ]
  },
  {
   "cell_type": "code",
   "execution_count": 143,
   "metadata": {},
   "outputs": [
    {
     "data": {
      "text/plain": [
       "1"
      ]
     },
     "execution_count": 143,
     "metadata": {},
     "output_type": "execute_result"
    }
   ],
   "source": [
    "np.argmax([0.2, 0.4])"
   ]
  },
  {
   "cell_type": "code",
   "execution_count": 144,
   "metadata": {},
   "outputs": [
    {
     "data": {
      "text/plain": [
       "0"
      ]
     },
     "execution_count": 144,
     "metadata": {},
     "output_type": "execute_result"
    }
   ],
   "source": [
    "np.argmax([0.5, 0.1])"
   ]
  },
  {
   "cell_type": "markdown",
   "metadata": {},
   "source": [
    "といった処理をまとめて行うことができます。\n",
    "\n",
    "このような処理を正解ラベル「t」においても行い、\n",
    "\n",
    "最終的に「y=t」となる個数を数え上げます。\n",
    "\n",
    "また、数えたものを入力画像枚数で割ることによって、認識精度が求められます。\n",
    "\n",
    "（例えば、100枚中56枚出力結果とラベルが一致。つまり、認識精度は56%）"
   ]
  },
  {
   "cell_type": "markdown",
   "metadata": {},
   "source": [
    "### ⑤"
   ]
  },
  {
   "cell_type": "code",
   "execution_count": 212,
   "metadata": {},
   "outputs": [],
   "source": [
    "def numerical_gradient(self, x, t):\n",
    "        loss_W = lambda W: self.loss(x, t)\n",
    "        \n",
    "        grads = {}\n",
    "        \n",
    "        grads['W1'] = numerical_gradient(loss_W, self.params['W1'])\n",
    "        grads['b1'] = numerical_gradient(loss_W, self.params['b1'])\n",
    "        grads['W2'] = numerical_gradient(loss_W, self.params['W2'])\n",
    "        grads['b2'] = numerical_gradient(loss_W, self.params['b2'])\n",
    "        \n",
    "        return grads"
   ]
  },
  {
   "cell_type": "markdown",
   "metadata": {},
   "source": [
    "「numerical_gradient」は、パラメータに対する勾配を求めます。\n",
    "\n",
    "gradsは、勾配を保持するディクショナリ変数になります。\n",
    "\n",
    "grads['W1']は、１層目の重みの勾配、  \n",
    "grads['b1']は、１層目のバイアスの勾配、  \n",
    "grads['W2']は、２層目の重みの勾配、  \n",
    "grads['b2']は、２層目のバイアスの勾配\n",
    "\n",
    "になります。"
   ]
  },
  {
   "cell_type": "markdown",
   "metadata": {},
   "source": [
    "------\n",
    "\n",
    "それでは、具体的に見ていきたいと思います。"
   ]
  },
  {
   "cell_type": "code",
   "execution_count": 5,
   "metadata": {},
   "outputs": [
    {
     "name": "stdout",
     "output_type": "stream",
     "text": [
      "W1の形状： (784, 100)\n",
      "b1の形状： (100,)\n",
      "W2の形状： (100, 10)\n",
      "b2の形状： (10,)\n"
     ]
    }
   ],
   "source": [
    "net = TwoLayerNet(input_size=784, hidden_size=100, output_size=10)\n",
    "\n",
    "for key in ['W1', 'b1', 'W2', 'b2']:\n",
    "    print(key + 'の形状：',net.params[key].shape)"
   ]
  },
  {
   "cell_type": "markdown",
   "metadata": {},
   "source": [
    "上記のように、params変数には、このネットワークに必要なパラメータがすべて格納されています。\n",
    "\n",
    "そして、params変数に格納されたパラメータが、推論処理で使われます。\n",
    "\n",
    "推論処理は次のように実行することができます。\n",
    "\n",
    "入力には適当なものを使用します。"
   ]
  },
  {
   "cell_type": "code",
   "execution_count": 186,
   "metadata": {},
   "outputs": [],
   "source": [
    "x = np.random.randn(100, 784)\n",
    "y = net.predict(x)"
   ]
  },
  {
   "cell_type": "markdown",
   "metadata": {},
   "source": [
    "また、grads変数には、params変数と対応するように、各パラメータの勾配が格納されます。\n",
    "\n",
    "それでは、「numerical_gradient」を使って勾配を計算したいと思います。\n",
    "\n",
    "ここでも適当な入力とラベルを使います。"
   ]
  },
  {
   "cell_type": "code",
   "execution_count": 216,
   "metadata": {},
   "outputs": [],
   "source": [
    "x = np.random.randn(100, 784)\n",
    "t = np.random.rand(100, 10)\n",
    "grads = net.gradient(x,t)"
   ]
  },
  {
   "cell_type": "code",
   "execution_count": 220,
   "metadata": {},
   "outputs": [
    {
     "name": "stdout",
     "output_type": "stream",
     "text": [
      "W1の勾配の形状： (784, 100)\n",
      "b1の勾配の形状： (100,)\n",
      "W2の勾配の形状： (100, 10)\n",
      "b2の勾配の形状： (10,)\n"
     ]
    }
   ],
   "source": [
    "for key in ['W1', 'b1', 'W2', 'b2']:\n",
    "    print(key+'の勾配の形状：', grads[key].shape)"
   ]
  },
  {
   "cell_type": "markdown",
   "metadata": {},
   "source": [
    "それでは、「TwoLayerNet」の実装について見ていきましょう。"
   ]
  },
  {
   "cell_type": "code",
   "execution_count": null,
   "metadata": {},
   "outputs": [],
   "source": [
    "net = TwoLayerNet(input_size=784, hidden_size=100, output_size=10)"
   ]
  },
  {
   "cell_type": "markdown",
   "metadata": {},
   "source": [
    "手書き数字認識を行う場合、画像を入力します。\n",
    "\n",
    "画像の形状は28×28なので、入力サイズは28×28=784になります。\n",
    "\n",
    "また、今回は0から9の10クラスに分類するので、出力サイズは10になります。\n",
    "\n",
    "隠れ層であるhidden_sizeには、適当な値を設定します。"
   ]
  },
  {
   "cell_type": "markdown",
   "metadata": {},
   "source": [
    "### 4-2.ミニバッチ学習の実装"
   ]
  },
  {
   "cell_type": "markdown",
   "metadata": {},
   "source": [
    "ニューラルネットワークの学習の実装は、ミニバッチ学習で行います。\n",
    "\n",
    "ミニバッチ学習というのは、訓練データの中からランダムにデータを取り出し、そのデータを対象に、勾配法によりパラメータを更新する手法になります。\n",
    "\n",
    "例えば、訓練画像が1000枚あるとすれば、その中から100枚ランダムに取り出します。\n",
    "\n",
    "それでは、「TwoLayerNetクラス」を使ってミニバッチ学習を行っていきたいと思います！！"
   ]
  },
  {
   "cell_type": "code",
   "execution_count": 6,
   "metadata": {},
   "outputs": [],
   "source": [
    "import numpy as np\n",
    "from sklearn import datasets\n",
    "from sklearn.model_selection import train_test_split\n",
    "\n",
    "### 手書き数字データのMNISTデータセットを読み込む\n",
    "mnist = datasets.fetch_openml('mnist_784', version=1)\n",
    "\n",
    "### MNISTデータセットからデータを取り出す\n",
    "data = mnist.data\n",
    "\n",
    "### MNISTデータを正規化する\n",
    "std_data = data/255\n",
    "\n",
    "### MNISTデータセットからラベルを取り出す\n",
    "label = mnist.target\n",
    "\n",
    "### ラベルをone_hot_label表現に変換\n",
    "label = [int(x) for x in label]\n",
    "one_hot_label = np.identity(10)[label]\n",
    "\n",
    "### 訓練データとテストデータ、訓練ラベルとテストラベルに分ける\n",
    "x_train, x_test, t_train, t_test = train_test_split(std_data, one_hot_label, test_size=0.2)"
   ]
  },
  {
   "cell_type": "code",
   "execution_count": 7,
   "metadata": {},
   "outputs": [],
   "source": [
    "### 訓練による損失関数の値を格納する空のリストの作成\n",
    "train_loss_list = []\n",
    "\n",
    "### パラメータの更新回数\n",
    "iters_num = 10000\n",
    "\n",
    "### 訓練データの数\n",
    "train_size = x_train.shape[0]\n",
    "\n",
    "### バッチサイズ\n",
    "batch_size = 100\n",
    "\n",
    "### 学習率\n",
    "learning_rate = 0.1\n",
    "\n",
    "### ネットワークの作成（入力サイズ：784、隠れ層：50、出力層：10） \n",
    "network = TwoLayerNet(input_size=784, hidden_size=50, output_size=10)\n",
    "\n",
    "### 訓練ループ\n",
    "for i in range(iters_num):\n",
    "    ### 訓練データからランダムにバッチサイズ分のデータを取り出す\n",
    "    batch_mask = np.random.choice(train_size, batch_size)\n",
    "    x_batch = x_train[batch_mask]\n",
    "    t_batch = t_train[batch_mask]\n",
    "    \n",
    "    ### 勾配を計算する\n",
    "    grad = network.gradient(x_batch, t_batch)\n",
    "    \n",
    "    ### 勾配によって、パラメータを更新する\n",
    "    for key in ('W1', 'b1', 'W2', 'b2'):\n",
    "        network.params[key] -= learning_rate * grad[key]\n",
    "        \n",
    "    ### 損失関数の値を計算する\n",
    "    loss = network.loss(x_batch, t_batch)\n",
    "    \n",
    "    ### 計算した損失関数の値をリストに追加する\n",
    "    train_loss_list.append(loss)"
   ]
  },
  {
   "cell_type": "markdown",
   "metadata": {},
   "source": [
    "ここでは、ミニバッチのサイズを100として、毎回60000個の訓練データからランダムに100個のデータを抜き出しています。\n",
    "\n",
    "画像データだけでなく、正解ラベルデータも抜き出します。\n",
    "\n",
    "そして、抜き出した100個のミニバッチを対象に勾配を求め、確率勾配降下法（SGD）によりパラメータを更新します。\n",
    "\n",
    "また、勾配法によるパラメータの更新回数を10000回とし、更新するごとに、訓練データに対する損失関数を計算し、その値を配列「train_loss_list」に追加します。\n",
    "\n",
    "つまり、10000回の処理が終わると、配列「train_loss_list」は10000個の要素を保持するリストになります。\n",
    "\n",
    "それでは、損失関数の値の推移をグラフで表したいと思います！！"
   ]
  },
  {
   "cell_type": "code",
   "execution_count": 8,
   "metadata": {
    "jupyter": {
     "source_hidden": true
    }
   },
   "outputs": [
    {
     "data": {
      "image/png": "[encoded data removed]",
      "text/plain": [
       "<Figure size 432x288 with 1 Axes>"
      ]
     },
     "metadata": {
      "needs_background": "light"
     },
     "output_type": "display_data"
    }
   ],
   "source": [
    "import matplotlib.pyplot as plt\n",
    "import numpy as np\n",
    "x = np.arange(10000)\n",
    "plt.plot(x, train_loss_list)\n",
    "plt.xlabel(\"iteration\")\n",
    "plt.ylabel(\"loss\")\n",
    "plt.show()"
   ]
  },
  {
   "cell_type": "markdown",
   "metadata": {},
   "source": [
    "上のグラフを見ると、学習の回数が進むにつれて、損失関数の値が減っていくことがわかります。\n",
    "\n",
    "これは、学習がうまくいっていることを表しており、ニューラルネットワークの重みパラメータが徐々にデータに適応していることを意味しています。\n",
    "\n",
    "このように、何度も勾配法によってパラメータを更新することで、最適なパラメータへと徐々に近づいているのです！！"
   ]
  },
  {
   "cell_type": "markdown",
   "metadata": {},
   "source": [
    "### 4-3.テストデータで評価"
   ]
  },
  {
   "cell_type": "markdown",
   "metadata": {},
   "source": [
    "図の結果より、学習を繰り返し行うことで損失関数の値が徐々に下がっていくことを確認できました。\n",
    "\n",
    "しかし、一つ注意すべきポイントがあります。\n",
    "\n",
    "それは、ミニバッチ学習によって得られた損失関数の値というのは、「訓練データ」に対するものである、ということです。\n",
    "\n",
    "訓練データの損失関数の値が減ることは、ニューラルネットワークの学習が上手くいっている証拠なのですが、この結果だけでは、このネットワークモデルの汎用性を保証することはできません。\n",
    "\n",
    "ニューラルネットワークの学習では、訓練データ以外のデータを正しく認識できるかどうかを確認する必要があります。\n",
    "\n",
    "というのも、過学習を起こしていないかの確認を行うのです。\n",
    "\n",
    "過学習を起こしている場合、訓練データにおいては正しく分類できるが、訓練データに含まれない他のデータにおいては分類できない、ということになります。\n",
    "\n",
    "そもそもニューラルネットワークの学習で目的とすることは、汎用性を得ることです。\n",
    "\n",
    "そのため、ニューラルネットワークの汎用性を評価するために、訓練データ以外のデータを使う必要があります。\n",
    "\n",
    "そこで、次の実装では、ニューラルネットワークの学習を行う過程で、定期的に訓練データとテストデータを対象に、認識精度を記録することにします。\n",
    "\n",
    "ここでは、１エポックごとに、訓練データとテストデータの認識精度を記録します。"
   ]
  },
  {
   "cell_type": "markdown",
   "metadata": {},
   "source": [
    "-----\n",
    "\n",
    "**エポック**とは、単位のことを表し、１エポックとは学習において訓練データをすべて使い切った時の回数に対応します。\n",
    "\n",
    "例えば、\n",
    "\n",
    "1. 10000個の訓練データに対して、100個のミニバッチで分割する。\n",
    "\n",
    "2. 各ミニバッチを学習に回す。つまり、10000/100=100回学習を繰り返す。\n",
    "\n",
    "この場合、1.と2.の手順を1回実行することを１エポックと呼びます。\n",
    "\n",
    "では、「手書き数字認識」の場合を考えてみましょう。\n",
    "\n",
    "1. 60000個の訓練データに対して、100個のミニバッチで分割する。\n",
    "\n",
    "2. 各ミニバッチを学習に回す。つまり、60000/100=600回学習を繰り返す。\n",
    "\n",
    "この場合、1.と2.の手順を1回実行することを1エポックと呼びます。\n",
    "\n",
    "-----"
   ]
  },
  {
   "cell_type": "markdown",
   "metadata": {},
   "source": [
    "それでは、正しい評価ができるように、実装していきたいと思います。"
   ]
  },
  {
   "cell_type": "code",
   "execution_count": 3,
   "metadata": {},
   "outputs": [
    {
     "name": "stdout",
     "output_type": "stream",
     "text": [
      "0epoch：train acc, test acc | 0.09771428571428571, 0.09664285714285714\n",
      "1epoch：train acc, test acc | 0.78125, 0.7702142857142857\n",
      "2epoch：train acc, test acc | 0.8766071428571428, 0.8683571428571428\n",
      "3epoch：train acc, test acc | 0.8976785714285714, 0.8912142857142857\n",
      "4epoch：train acc, test acc | 0.9067678571428571, 0.9020714285714285\n",
      "5epoch：train acc, test acc | 0.9135178571428572, 0.91\n",
      "6epoch：train acc, test acc | 0.9178214285714286, 0.9154285714285715\n",
      "7epoch：train acc, test acc | 0.9222678571428572, 0.9177142857142857\n",
      "8epoch：train acc, test acc | 0.925375, 0.9222857142857143\n",
      "9epoch：train acc, test acc | 0.9293035714285715, 0.9237142857142857\n",
      "10epoch：train acc, test acc | 0.9300714285714285, 0.9252857142857143\n",
      "11epoch：train acc, test acc | 0.9341964285714286, 0.9286428571428571\n",
      "12epoch：train acc, test acc | 0.9360714285714286, 0.931\n",
      "13epoch：train acc, test acc | 0.9381428571428572, 0.933\n",
      "14epoch：train acc, test acc | 0.9408035714285714, 0.9351428571428572\n",
      "15epoch：train acc, test acc | 0.9417321428571429, 0.9367857142857143\n",
      "16epoch：train acc, test acc | 0.9437142857142857, 0.9382857142857143\n",
      "17epoch：train acc, test acc | 0.9450178571428571, 0.9398571428571428\n"
     ]
    }
   ],
   "source": [
    "import os\n",
    "import numpy as np\n",
    "from sklearn import datasets\n",
    "from sklearn.model_selection import train_test_split\n",
    "mnist = datasets.fetch_openml('mnist_784', version=1)\n",
    "data = mnist.data\n",
    "std_data = data/255\n",
    "label = mnist.target\n",
    "label = [int(x) for x in label]\n",
    "one_hot_label = np.identity(10)[label]\n",
    "x_train, x_test, t_train, t_test = train_test_split(std_data, one_hot_label, test_size=0.2)\n",
    "\n",
    "### 訓練時の損失関数の値を格納するための空のリスト\n",
    "train_loss_list = []\n",
    "### 訓練時の精度を格納するための空のリスト\n",
    "train_acc_list = []\n",
    "### テスト時の精度を格納するための空のリスト\n",
    "test_acc_list = []\n",
    "\n",
    "iters_num = 10000\n",
    "train_size = x_train.shape[0]\n",
    "batch_size = 100\n",
    "learning_rate = 0.1\n",
    "\n",
    "### 何回の学習を１エポックとするか\n",
    "iter_per_epoch = max(train_size/batch_size, 1)\n",
    "\n",
    "network = TwoLayerNet(input_size=784, hidden_size=50, output_size=10)\n",
    "\n",
    "for i in range(iters_num):\n",
    "    batch_mask = np.random.choice(train_size, batch_size)\n",
    "    x_batch = x_train[batch_mask]\n",
    "    t_batch = t_train[batch_mask]\n",
    "    \n",
    "    grad = network.gradient(x_batch, t_batch)\n",
    "    \n",
    "    for key in ('W1', 'b1', 'W2', 'b2'):\n",
    "        network.params[key] -= learning_rate * grad[key]\n",
    "        \n",
    "    loss = network.loss(x_batch, t_batch)\n",
    "    train_loss_list.append(loss)\n",
    "    \n",
    "    ### 学習回数が１エポックあたりの学習回数に達した時、訓練時の精度とテスト時の精度を計算して表示する\n",
    "    if i % iter_per_epoch == 0:\n",
    "        train_acc = network.accuracy(x_train, t_train)\n",
    "        test_acc = network.accuracy(x_test, t_test)\n",
    "        train_acc_list.append(train_acc)\n",
    "        test_acc_list.append(test_acc)\n",
    "        n = i/iter_per_epoch\n",
    "        n = int(n)\n",
    "        print(str(n)+\"epoch：train acc, test acc | \" + str(train_acc) + \", \" + str(test_acc))"
   ]
  },
  {
   "cell_type": "markdown",
   "metadata": {},
   "source": [
    "上の例では、１エポックごとに、全ての訓練データとテストデータに対して認識精度を計算して、その結果を記録します。\n",
    "\n",
    "なぜ１エポックごとに認識精度を計算するのか。\n",
    "\n",
    "それは、「iters_num」の回数分、認識精度を計算していては、時間がかかってしまうからです。\n",
    "\n",
    "今回の場合、「iters_num=10000」としているので、10000回認識精度を計算することになり、大変だということがわかります。\n",
    "\n",
    "また、そこまで細かい精度で認識精度を記録する必要もないからです。\n",
    "\n",
    "そのため、訓練データの１エポックごとに認識精度の経過を記録します。\n",
    "\n",
    "さて、上記のコードで得られた結果をグラフで表したいと思います！"
   ]
  },
  {
   "cell_type": "code",
   "execution_count": 4,
   "metadata": {},
   "outputs": [
    {
     "data": {
      "image/png": "[encoded data removed]",
      "text/plain": [
       "<Figure size 432x288 with 1 Axes>"
      ]
     },
     "metadata": {
      "needs_background": "light"
     },
     "output_type": "display_data"
    }
   ],
   "source": [
    "import numpy as np\n",
    "import matplotlib.pyplot as plt\n",
    "markers = {'train': 'o', 'test': 's'}\n",
    "x = np.arange(len(train_acc_list))\n",
    "plt.plot(x, train_acc_list, label='train acc')\n",
    "plt.plot(x, test_acc_list, label='test acc', linestyle='--')\n",
    "plt.xlabel(\"epochs\")\n",
    "plt.ylabel(\"accuracy\")\n",
    "plt.ylim(0, 1.0)\n",
    "plt.legend(loc='lower right')\n",
    "plt.show()"
   ]
  },
  {
   "cell_type": "markdown",
   "metadata": {},
   "source": [
    "訓練データの認識精度を実線で示し、テストデータの認識精度を波線で表しています。\n",
    "\n",
    "グラフを見てもらうとわかるのですが、エポックが進むにつれて、訓練データとテストデータを使って評価した認識精度は両方とも向上していることがわかります。\n",
    "\n",
    "また、二つの認識精度には差がないことから、今回の学習では過学習が起きていないことがわかります。\n",
    "\n",
    "ここで、画像認識ができているのか具体的に確認するために、学習が完了したモデルに一枚の画像を入力してみたいと思います。\n",
    "\n",
    "以下の画像を入力します。"
   ]
  },
  {
   "cell_type": "code",
   "execution_count": 70,
   "metadata": {},
   "outputs": [
    {
     "data": {
      "image/png": "[encoded data removed]",
      "text/plain": [
       "<Figure size 432x288 with 1 Axes>"
      ]
     },
     "metadata": {
      "needs_background": "light"
     },
     "output_type": "display_data"
    },
    {
     "name": "stdout",
     "output_type": "stream",
     "text": [
      "画像の正解ラベル：5\n"
     ]
    }
   ],
   "source": [
    "img = x_test[1]*255\n",
    "img = img.reshape(28, 28)\n",
    "\n",
    "plt.imshow(img, cmap='gray')\n",
    "plt.show()\n",
    "print('画像の正解ラベル：'+str(t_test[1].argmax()))"
   ]
  },
  {
   "cell_type": "code",
   "execution_count": 79,
   "metadata": {},
   "outputs": [
    {
     "name": "stdout",
     "output_type": "stream",
     "text": [
      "出力結果の中で最大値を取るインデックス：5\n",
      "インデックス「5」に対する出力結果：0.9928207218548443\n"
     ]
    }
   ],
   "source": [
    "out = network.predict(x_test[1])\n",
    "print('出力結果の中で最大値を取るインデックス：'+str(out.argmax()))\n",
    "print('インデックス「5」に対する出力結果：'+str(out[out.argmax()]))"
   ]
  },
  {
   "cell_type": "markdown",
   "metadata": {},
   "source": [
    "このように、「5」の画像に対し、約0.99つまり99%の確率で「5」の画像であると予測しています。\n",
    "\n",
    "これらのことから、ノートブック「DeepLearning2.ipynb」で作成したニューラルネットワークよりも圧倒的に正確に分類できており、優れたモデルになっていることがわかります。\n",
    "\n",
    "今回の実装を通して、\n",
    "\n",
    "「パラメータを学習することの重要さ」や\n",
    "\n",
    "「学習することによって最適なパラメータが得られる」\n",
    "\n",
    "ということを味わってもらえたのではないでしょうか？？"
   ]
  },
  {
   "cell_type": "markdown",
   "metadata": {},
   "source": [
    "--------\n",
    "\n",
    "### 4+α.「sigmoid」と「softmax」の工夫"
   ]
  },
  {
   "cell_type": "markdown",
   "metadata": {},
   "source": [
    "ここでは、先ほどの実装で用いた「sigmoid」と「softmax」の工夫について説明していきたいと思います。\n",
    "\n",
    "工夫に関しては、無理に理解する必要はありません！\n",
    "\n",
    "しかし、知っておいても損はないと思うので、余力のある方は読んでみてください！\n",
    "\n",
    "### 4+α-1.「sigmoid」\n",
    "\n",
    "まず、「sigmoid関数」について見ていきます。"
   ]
  },
  {
   "cell_type": "code",
   "execution_count": 3,
   "metadata": {},
   "outputs": [],
   "source": [
    "import numpy as np\n",
    "def sigmoid(x):\n",
    "    return 1/(1+np.exp(-x))"
   ]
  },
  {
   "cell_type": "markdown",
   "metadata": {},
   "source": [
    "この「sigmoid関数」に色々な数値を入力してみたいと思います。"
   ]
  },
  {
   "cell_type": "code",
   "execution_count": 4,
   "metadata": {},
   "outputs": [
    {
     "data": {
      "text/plain": [
       "0.7310585786300049"
      ]
     },
     "execution_count": 4,
     "metadata": {},
     "output_type": "execute_result"
    }
   ],
   "source": [
    "sigmoid(1)"
   ]
  },
  {
   "cell_type": "code",
   "execution_count": 5,
   "metadata": {},
   "outputs": [
    {
     "data": {
      "text/plain": [
       "0.5"
      ]
     },
     "execution_count": 5,
     "metadata": {},
     "output_type": "execute_result"
    }
   ],
   "source": [
    "sigmoid(0)"
   ]
  },
  {
   "cell_type": "markdown",
   "metadata": {},
   "source": [
    "「sigmoid関数」に「0」や「1」を入力した場合、正しく計算できており、正しい値が返ってきます。\n",
    "\n",
    "それでは、「1000」や「-1000」を入力した場合はどうなるのでしょうか。"
   ]
  },
  {
   "cell_type": "code",
   "execution_count": 9,
   "metadata": {},
   "outputs": [
    {
     "data": {
      "text/plain": [
       "1.0"
      ]
     },
     "execution_count": 9,
     "metadata": {},
     "output_type": "execute_result"
    }
   ],
   "source": [
    "sigmoid(1000)"
   ]
  },
  {
   "cell_type": "code",
   "execution_count": 8,
   "metadata": {},
   "outputs": [
    {
     "name": "stderr",
     "output_type": "stream",
     "text": [
      "/Users/imanishiwataru/opt/anaconda3/lib/python3.7/site-packages/ipykernel_launcher.py:3: RuntimeWarning: overflow encountered in exp\n",
      "  This is separate from the ipykernel package so we can avoid doing imports until\n"
     ]
    },
    {
     "data": {
      "text/plain": [
       "0.0"
      ]
     },
     "execution_count": 8,
     "metadata": {},
     "output_type": "execute_result"
    }
   ],
   "source": [
    "sigmoid(-1000)"
   ]
  },
  {
   "cell_type": "markdown",
   "metadata": {},
   "source": [
    "「1000」や「-1000」を入力した場合、それぞれ「1.0」や「0.0」と返ってきてしまいました。\n",
    "\n",
    "「sigmoid関数」の式を思い出してもらうとわかるのですが、「sigmoid関数」が「1.0」や「0.0」を返すことはありません。\n",
    "\n",
    "なぜ、あり得ない数値が返ってくるのか。\n",
    "\n",
    "それは、Numpyでの実数演算は、精度が有限桁の不動小数点を用いて行っているため、オーバーフローやアンダーフローといった不動小数点エラーを生じてしまうからです。\n",
    "\n",
    "そこで、手書き数字認識の実装を行う際にも不動小数点エラーが生じると困るので、工夫を加えます。\n",
    "\n",
    "今回は、「sigmoid関数」の入力が小さすぎる場合や、大きすぎる場合に処理を分けることで不動小数点エラーを生じないようにします。\n",
    "\n",
    "「sigmoid関数」の出力値の範囲を次のような区間に分けて処理を行います。\n",
    "\n",
    "・10<sup>-15</sup>より小さくなる場合では10<sup>-15</sup>の定数を出力  \n",
    "（入力値が「-34.538776394910684」よりも小さい場合）\n",
    "\n",
    "・10<sup>-15</sup>以上1-10<sup>-15</sup>以下の場合では、「sigmoid関数」の出力を採用  \n",
    "（入力値が「-34.538776394910684」よりも大きく、「34.538776394910684」よりも小さい場合）\n",
    "\n",
    "・1-10<sup>-15</sup>より大きくなる場合では1-10<sup>-15</sup>の定数を出力  \n",
    "（入力値が「34.538776394910684」よりも大きい場合）\n",
    "\n",
    "また、「sigmoid関数」の出力が10<sup>-15</sup>となる時の入力値は、「-34.538776394910684」なので、この値を使います。\n",
    "\n",
    "$$\n",
    "    10^{-15} = \\frac{1}{1+exp(34.538776394910684)}\n",
    "$$\n",
    "\n",
    "これらの内容を実装すると以下のようになります。"
   ]
  },
  {
   "cell_type": "code",
   "execution_count": 11,
   "metadata": {},
   "outputs": [],
   "source": [
    "def sigmoid(a):\n",
    "    sigmoid_range = 34.538776394910684\n",
    "    a2 = np.maximum(np.minimum(a, sigmoid_range), -sigmoid_range)\n",
    "    return 1/(1+np.exp(-a2))"
   ]
  },
  {
   "cell_type": "markdown",
   "metadata": {},
   "source": [
    "「np.maximum(a, b)」は、「aとbを比べたときに大きい方を採用する」関数であり、\n",
    "\n",
    "「np.minimum(a, b)」は、「aとbを比べたときに小さい方を採用する」関数になります。\n",
    "\n",
    "つまり、「a2 = np.maximum(np.minimum(a, sigmoid_range), -sigmoid_range)」というのは、\n",
    "\n",
    "入力値と「sigmoid_range」のどちらが小さいのかを比較し、採用した数値と「-sigmoid_range」のどちらが大きいのかを比較しています。\n",
    "\n",
    "### ①-sigmoid_range < a < sigmoid_range  \n",
    "「a」は「sigmoid_range」より小さいので、「np.minimum(a, sigmoid_range)」により、「a」が採用されます。  \n",
    "また、「a」は「-sigmoid_range」より大きいので、「np.maximum(a, -sigmoid_range)」により、「a」が採用されます。\n",
    "\n",
    "### ②sigmoid_range < a  \n",
    "「sigmoid_range」は「a」より小さいので、「np.minimum(a, sigmoid_range)」により。「sigmoid_range」が採用されます。  \n",
    "「-sigmoid_range」は「sigmoid_range」を-1倍したものなので、「sigmoid_range」の方が大きいことがわかります。  \n",
    "つまり、「sigmoid_range」が採用されます。\n",
    "\n",
    "### ③a < -sigmoid_range  \n",
    "「a」は「sigmoid_range」より小さいので、「a」が採用されます。  \n",
    "また、「a」よりも「-sigmoid_range」の方が大きいので、「-sigmoid_range」が採用されます。\n",
    "\n",
    "①から③より、「a2 = np.maximum(np.minimum(a, sigmoid_range), -sigmoid_range)」によって上手く実装できていることがわかります。"
   ]
  },
  {
   "cell_type": "markdown",
   "metadata": {},
   "source": [
    "それでは、工夫を加えた「sigmoid関数」に「1000」や「-1000」を入力してみたいと思います。"
   ]
  },
  {
   "cell_type": "code",
   "execution_count": 12,
   "metadata": {},
   "outputs": [
    {
     "data": {
      "text/plain": [
       "0.9999999999999989"
      ]
     },
     "execution_count": 12,
     "metadata": {},
     "output_type": "execute_result"
    }
   ],
   "source": [
    "sigmoid(1000.)"
   ]
  },
  {
   "cell_type": "code",
   "execution_count": 13,
   "metadata": {},
   "outputs": [
    {
     "data": {
      "text/plain": [
       "1e-15"
      ]
     },
     "execution_count": 13,
     "metadata": {},
     "output_type": "execute_result"
    }
   ],
   "source": [
    "sigmoid(-1000.)"
   ]
  },
  {
   "cell_type": "markdown",
   "metadata": {},
   "source": [
    "このように、「1.0」や「0.0」といった値は返ってこなくなりました。"
   ]
  },
  {
   "cell_type": "markdown",
   "metadata": {},
   "source": [
    "### 4+α-2.「softmax」"
   ]
  },
  {
   "cell_type": "code",
   "execution_count": null,
   "metadata": {},
   "outputs": [],
   "source": [
    "def softmax(a):\n",
    "    c = np.max(a, axis=-1, keepdims=True)\n",
    "    exp_a = np.exp(a-c)\n",
    "    sum_exp_a = np.sum(exp_a, axis=-1, keepdims=True)\n",
    "    y = exp_a / sum_exp_a\n",
    "    return y"
   ]
  },
  {
   "cell_type": "markdown",
   "metadata": {},
   "source": [
    "それでは、「softmax関数」についてみていきたいと思います。\n",
    "\n",
    "「softmax関数」は、元々オーバーフロー対策が行われていました。\n",
    "\n",
    "では、どのような工夫を加えるのか。\n",
    "\n",
    "以前の「softmax関数」は以下のようなコードでした。"
   ]
  },
  {
   "cell_type": "code",
   "execution_count": null,
   "metadata": {},
   "outputs": [],
   "source": [
    "def softmax(a):\n",
    "    c = np.max(a)\n",
    "    exp_a = np.exp(a-c)\n",
    "    sum_exp_a = np.sum(exp_a)\n",
    "    y = exp_a / sum_exp_a\n",
    "    return y"
   ]
  },
  {
   "cell_type": "markdown",
   "metadata": {},
   "source": [
    "二つのコードの違いは、\n",
    "\n",
    "「np.max」と「np.sum」の\n",
    "\n",
    "#### 軸の指定\n",
    "\n",
    "と\n",
    "\n",
    "#### 次元を固定するかどうかの指定\n",
    "\n",
    "になります。"
   ]
  },
  {
   "cell_type": "markdown",
   "metadata": {},
   "source": [
    "まず、軸を指定する理由と「axis=-1」について説明していきます。\n",
    "\n",
    "具体的にみていきましょう。"
   ]
  },
  {
   "cell_type": "code",
   "execution_count": 14,
   "metadata": {},
   "outputs": [
    {
     "data": {
      "text/plain": [
       "array([[1, 2, 3],\n",
       "       [4, 5, 6]])"
      ]
     },
     "execution_count": 14,
     "metadata": {},
     "output_type": "execute_result"
    }
   ],
   "source": [
    "np_array = np.array([[1, 2, 3], [4, 5, 6]])\n",
    "np_array"
   ]
  },
  {
   "cell_type": "markdown",
   "metadata": {},
   "source": [
    "このように、2×3といった二次元配列に「np.max」を適用します。\n",
    "\n",
    "軸を指定せずに、適用すると"
   ]
  },
  {
   "cell_type": "code",
   "execution_count": 15,
   "metadata": {},
   "outputs": [
    {
     "data": {
      "text/plain": [
       "6"
      ]
     },
     "execution_count": 15,
     "metadata": {},
     "output_type": "execute_result"
    }
   ],
   "source": [
    "np.max(np_array)"
   ]
  },
  {
   "cell_type": "markdown",
   "metadata": {},
   "source": [
    "このように、二次元配列の６つの値の中で一番大きな値を返します。\n",
    "\n",
    "手書き数字認識の学習では、バッチ処理を行うため、最終的には100×10のデータを「softmax関数」に入力します。\n",
    "\n",
    "その場合、軸を指定しないと、100×10=1000個の要素の中で一番大きな値を返すことになります。\n",
    "\n",
    "まとめて画像を入力するとは言えど、各画像ごとの最大値が欲しいのです。\n",
    "\n",
    "そのため、「axis=1」を使います。"
   ]
  },
  {
   "cell_type": "code",
   "execution_count": 16,
   "metadata": {},
   "outputs": [
    {
     "data": {
      "text/plain": [
       "array([3, 6])"
      ]
     },
     "execution_count": 16,
     "metadata": {},
     "output_type": "execute_result"
    }
   ],
   "source": [
    "np.max(np_array, axis=1)"
   ]
  },
  {
   "cell_type": "markdown",
   "metadata": {},
   "source": [
    "このように軸を指定することで、各行ごと、つまり各画像ごとの最大値を得ることができました。\n",
    "\n",
    "しかし、今回使っているのは、「axis=-1」になります。\n",
    "\n",
    "では「axis=-1」は何なのでしょうか。\n",
    "\n",
    "結論から言うと、「axis=-1」は「axis=1」と同じものになります。\n",
    "\n",
    "しかし、一次元配列に使えるか使えないかという違いがあります。\n",
    "\n",
    "どういうことなのか見ていきたいと思います。"
   ]
  },
  {
   "cell_type": "code",
   "execution_count": 17,
   "metadata": {},
   "outputs": [
    {
     "data": {
      "text/plain": [
       "array([3, 6])"
      ]
     },
     "execution_count": 17,
     "metadata": {},
     "output_type": "execute_result"
    }
   ],
   "source": [
    "np.max(np_array, axis=1)"
   ]
  },
  {
   "cell_type": "code",
   "execution_count": 18,
   "metadata": {},
   "outputs": [
    {
     "data": {
      "text/plain": [
       "array([3, 6])"
      ]
     },
     "execution_count": 18,
     "metadata": {},
     "output_type": "execute_result"
    }
   ],
   "source": [
    "np.max(np_array, axis=-1)"
   ]
  },
  {
   "cell_type": "code",
   "execution_count": 19,
   "metadata": {},
   "outputs": [],
   "source": [
    "np_array2 = np.array([1, 2, 3])"
   ]
  },
  {
   "cell_type": "code",
   "execution_count": 20,
   "metadata": {},
   "outputs": [
    {
     "ename": "AxisError",
     "evalue": "axis 1 is out of bounds for array of dimension 1",
     "output_type": "error",
     "traceback": [
      "\u001b[0;31m---------------------------------------------------------------------------\u001b[0m",
      "\u001b[0;31mAxisError\u001b[0m                                 Traceback (most recent call last)",
      "\u001b[0;32m<ipython-input-20-481e2a6d9f3e>\u001b[0m in \u001b[0;36m<module>\u001b[0;34m\u001b[0m\n\u001b[0;32m----> 1\u001b[0;31m \u001b[0mnp\u001b[0m\u001b[0;34m.\u001b[0m\u001b[0mmax\u001b[0m\u001b[0;34m(\u001b[0m\u001b[0mnp_array2\u001b[0m\u001b[0;34m,\u001b[0m \u001b[0maxis\u001b[0m\u001b[0;34m=\u001b[0m\u001b[0;36m1\u001b[0m\u001b[0;34m)\u001b[0m\u001b[0;34m\u001b[0m\u001b[0;34m\u001b[0m\u001b[0m\n\u001b[0m",
      "\u001b[0;32m<__array_function__ internals>\u001b[0m in \u001b[0;36mamax\u001b[0;34m(*args, **kwargs)\u001b[0m\n",
      "\u001b[0;32m~/opt/anaconda3/lib/python3.7/site-packages/numpy/core/fromnumeric.py\u001b[0m in \u001b[0;36mamax\u001b[0;34m(a, axis, out, keepdims, initial, where)\u001b[0m\n\u001b[1;32m   2704\u001b[0m     \"\"\"\n\u001b[1;32m   2705\u001b[0m     return _wrapreduction(a, np.maximum, 'max', axis, None, out,\n\u001b[0;32m-> 2706\u001b[0;31m                           keepdims=keepdims, initial=initial, where=where)\n\u001b[0m\u001b[1;32m   2707\u001b[0m \u001b[0;34m\u001b[0m\u001b[0m\n\u001b[1;32m   2708\u001b[0m \u001b[0;34m\u001b[0m\u001b[0m\n",
      "\u001b[0;32m~/opt/anaconda3/lib/python3.7/site-packages/numpy/core/fromnumeric.py\u001b[0m in \u001b[0;36m_wrapreduction\u001b[0;34m(obj, ufunc, method, axis, dtype, out, **kwargs)\u001b[0m\n\u001b[1;32m     85\u001b[0m                 \u001b[0;32mreturn\u001b[0m \u001b[0mreduction\u001b[0m\u001b[0;34m(\u001b[0m\u001b[0maxis\u001b[0m\u001b[0;34m=\u001b[0m\u001b[0maxis\u001b[0m\u001b[0;34m,\u001b[0m \u001b[0mout\u001b[0m\u001b[0;34m=\u001b[0m\u001b[0mout\u001b[0m\u001b[0;34m,\u001b[0m \u001b[0;34m**\u001b[0m\u001b[0mpasskwargs\u001b[0m\u001b[0;34m)\u001b[0m\u001b[0;34m\u001b[0m\u001b[0;34m\u001b[0m\u001b[0m\n\u001b[1;32m     86\u001b[0m \u001b[0;34m\u001b[0m\u001b[0m\n\u001b[0;32m---> 87\u001b[0;31m     \u001b[0;32mreturn\u001b[0m \u001b[0mufunc\u001b[0m\u001b[0;34m.\u001b[0m\u001b[0mreduce\u001b[0m\u001b[0;34m(\u001b[0m\u001b[0mobj\u001b[0m\u001b[0;34m,\u001b[0m \u001b[0maxis\u001b[0m\u001b[0;34m,\u001b[0m \u001b[0mdtype\u001b[0m\u001b[0;34m,\u001b[0m \u001b[0mout\u001b[0m\u001b[0;34m,\u001b[0m \u001b[0;34m**\u001b[0m\u001b[0mpasskwargs\u001b[0m\u001b[0;34m)\u001b[0m\u001b[0;34m\u001b[0m\u001b[0;34m\u001b[0m\u001b[0m\n\u001b[0m\u001b[1;32m     88\u001b[0m \u001b[0;34m\u001b[0m\u001b[0m\n\u001b[1;32m     89\u001b[0m \u001b[0;34m\u001b[0m\u001b[0m\n",
      "\u001b[0;31mAxisError\u001b[0m: axis 1 is out of bounds for array of dimension 1"
     ]
    }
   ],
   "source": [
    "np.max(np_array2, axis=1)"
   ]
  },
  {
   "cell_type": "code",
   "execution_count": 21,
   "metadata": {},
   "outputs": [
    {
     "data": {
      "text/plain": [
       "3"
      ]
     },
     "execution_count": 21,
     "metadata": {},
     "output_type": "execute_result"
    }
   ],
   "source": [
    "np.max(np_array2, axis=-1)"
   ]
  },
  {
   "cell_type": "markdown",
   "metadata": {},
   "source": [
    "このように、一次元配列に「axis=1」を指定すると、エラーが表示されます。\n",
    "\n",
    "しかし、「axis=-1」の場合、「3」という値が返ってきました。\n",
    "\n",
    "つまり、「axis=-1」とすることで、一次元配列にも二次元配列にも対応するようになります。\n",
    "\n",
    "それでは、「keepdims」の説明に移ります。\n",
    "\n",
    "「keepdims」は配列の次元を保つかどうかを指定するときに使います。\n",
    "\n",
    "「keepdims=True」とすることで、二次元配列なら出力結果も二次元配列になります。\n",
    "\n",
    "具体的に見てみましょう。"
   ]
  },
  {
   "cell_type": "code",
   "execution_count": 31,
   "metadata": {},
   "outputs": [
    {
     "data": {
      "text/plain": [
       "array([[1, 3, 2],\n",
       "       [2, 4, 7]])"
      ]
     },
     "execution_count": 31,
     "metadata": {},
     "output_type": "execute_result"
    }
   ],
   "source": [
    "np_array = np.array([[1, 3, 2], [2, 4, 7]])\n",
    "np_array"
   ]
  },
  {
   "cell_type": "code",
   "execution_count": 32,
   "metadata": {},
   "outputs": [
    {
     "name": "stdout",
     "output_type": "stream",
     "text": [
      "[3 7]\n",
      "(2,)\n"
     ]
    }
   ],
   "source": [
    "print(np.max(np_array, axis=-1))\n",
    "print(np.max(np_array, axis=-1).shape)"
   ]
  },
  {
   "cell_type": "code",
   "execution_count": 33,
   "metadata": {},
   "outputs": [
    {
     "name": "stdout",
     "output_type": "stream",
     "text": [
      "[[3]\n",
      " [7]]\n",
      "(2, 1)\n"
     ]
    }
   ],
   "source": [
    "print(np.max(np_array, axis=-1, keepdims=True))\n",
    "print(np.max(np_array, axis=-1, keepdims=True).shape)"
   ]
  },
  {
   "cell_type": "markdown",
   "metadata": {},
   "source": [
    "このように、\n",
    "\n",
    "「keepdims=False」の場合、「np.max」の出力形状は一次元配列であり、\n",
    "\n",
    "「keepdims=True」の場合、「np.max」の出力形状は二次元配列になります。\n",
    "\n",
    "手書き数字認識の場合、100×10の二次元配列なので、「np.max」の出力形状は、100×1の二次元配列になります。\n",
    "\n",
    "このように次元合わせをすることで、各画像ごとにオーバーフロー対策を行うことができます。\n",
    "\n",
    "先ほどの例を用いると、"
   ]
  },
  {
   "cell_type": "code",
   "execution_count": 35,
   "metadata": {},
   "outputs": [
    {
     "name": "stdout",
     "output_type": "stream",
     "text": [
      "[[1 3 2]\n",
      " [2 4 7]]\n",
      "-\n",
      "[[3]\n",
      " [7]]\n",
      "=\n",
      "[[-2  0 -1]\n",
      " [-5 -3  0]]\n"
     ]
    }
   ],
   "source": [
    "a = np.max(np_array, axis=-1, keepdims=True)\n",
    "print(np_array)\n",
    "print('-')\n",
    "print(a)\n",
    "print('=')\n",
    "print(np_array - a)"
   ]
  },
  {
   "cell_type": "markdown",
   "metadata": {},
   "source": [
    "と、このように各行ごとに、処理が完了していることがわかります。\n",
    "\n",
    "ここまで説明してきた内容は、「np.sum」に関しても同じことが言えます。\n",
    "\n",
    "これで、+αについての説明を終わりたいと思います。"
   ]
  },
  {
   "cell_type": "markdown",
   "metadata": {},
   "source": [
    "## 5.まとめ"
   ]
  },
  {
   "cell_type": "markdown",
   "metadata": {},
   "source": [
    "今回は、ニューラルネットワークの学習について説明してきました。\n",
    "\n",
    "ニューラルネットワークが学習を行えるようにするために、損失関数という「指標」を導入しました。\n",
    "\n",
    "この損失関数を小さくなるように、パラメータの更新を進める、これが学習の本質になります。\n",
    "\n",
    "ニューラルネットワークの大まかな学習手順は、\n",
    "\n",
    "1. ミニバッチとして、訓練データから数枚抜き出す。（例えば、10000枚の中から50枚ランダムに選ぶ）\n",
    "\n",
    "2. ミニバッチを使って、勾配を計算する。\n",
    "\n",
    "3. 勾配を使って、パラメータを更新する。\n",
    "\n",
    "4. 1から3を繰り返す。\n",
    "\n",
    "となります。\n",
    "\n",
    "基礎的な内容から応用的な内容が多く、大変かもしれませんが、DeepLearningの面白さが伝わってきたのではないでしょうか。\n",
    "\n",
    "１からコードを書くのは難しいと思うので、見本のコードを写経しながら、内容を理解するというのも効果的な勉強法だと思うので、ぜひ取り組んでみてください！！\n",
    "（見本のコードの下にセルを追加し、書き写すなど…）\n",
    "\n",
    "また、確認問題をつけておくのでそちらの方にも取り組んでみてください！！"
   ]
  },
  {
   "cell_type": "markdown",
   "metadata": {},
   "source": [
    "## 6.確認問題"
   ]
  },
  {
   "cell_type": "markdown",
   "metadata": {},
   "source": [
    "【問題6-1】：2層のニューラルネットワークモデルを作成し、手書き数字認識の学習を実装してください。また、損失関数の値のリストを作成してください。ただし、以下の条件に従うこと。\n",
    "\n",
    "-----\n",
    "\n",
    "・重みの初期値は、「np.random.randn」を使用してください。\n",
    "\n",
    "・バイアスの初期値は、「np.ones」を使用して、1の配列を作成してください。\n",
    "\n",
    "・入力層と出力層のニューロン数は、考えてみてください。また、隠れ層のニューロン数を100にして、実装してください。\n",
    "\n",
    "・隠れ層の活性化関数は、「sigmoid関数」、出力層の活性化関数は、「恒等関数」か「softmax関数」を使用してください。（どちらの関数が最適か考えること。）\n",
    "\n",
    "・勾配を計算する際、「numerical_gradient」ではかなりの時間がかかるので、「gradient」を使用してください。（gradientとsigmoid_gradに関してはコピペしても良い）\n",
    "\n",
    "・パラメータの更新回数やバッチサイズ、学習率などは以下の数値を使用してください。\n",
    "iters_num = 10000\n",
    "batch_size = 100\n",
    "learning_rate = 0.1\n",
    "iter_per_epoch = max(train_size/batch_size, 1)\n",
    "\n",
    "・MNISTデータの読み込みなどもコピペしても良い。\n",
    "\n",
    "\n",
    "-----"
   ]
  },
  {
   "cell_type": "code",
   "execution_count": null,
   "metadata": {},
   "outputs": [],
   "source": [
    "######以下に実装してください######\n",
    "import numpy as np\n",
    "\n",
    "\n",
    "\n",
    "\n",
    "\n",
    "\n",
    "\n",
    "\n",
    "\n",
    "\n",
    "\n",
    "######「Shift+Enter」を押してください######"
   ]
  },
  {
   "cell_type": "markdown",
   "metadata": {},
   "source": [
    "【問題6-2】問題6-1で作成した損失関数の値のリストを使って、グラフを描画してください。また、パラメータを更新することによって、損失関数の値が減ることを確認してください。"
   ]
  },
  {
   "cell_type": "code",
   "execution_count": null,
   "metadata": {},
   "outputs": [],
   "source": [
    "######以下に実装してください######\n",
    "import matplotlib.pyplot as plt\n",
    "\n",
    "\n",
    "\n",
    "######「Shift+Enter」を押してください######"
   ]
  },
  {
   "cell_type": "markdown",
   "metadata": {},
   "source": [
    "【問題6-3】問題6-1で作成したモデルの性能をテストデータで評価してください。また、試行回数と精度の関係を表すグラフを描画してください。ただし、問題6-1で学習済みのモデルを使うのではなく、もう一度学習しながら、精度がどのように変化するかを確認すること。\n",
    "（ネットワークモデルのパラメータ数を増やしているので、実行完了まで時間がかかります。）"
   ]
  },
  {
   "cell_type": "code",
   "execution_count": null,
   "metadata": {},
   "outputs": [],
   "source": []
  }
 ],
 "metadata": {
  "kernelspec": {
   "display_name": "Python 3",
   "language": "python",
   "name": "python3"
  },
  "language_info": {
   "codemirror_mode": {
    "name": "ipython",
    "version": 3
   },
   "file_extension": ".py",
   "mimetype": "text/x-python",
   "name": "python",
   "nbconvert_exporter": "python",
   "pygments_lexer": "ipython3",
   "version": "3.7.4"
  }
 },
 "nbformat": 4,
 "nbformat_minor": 4
}
