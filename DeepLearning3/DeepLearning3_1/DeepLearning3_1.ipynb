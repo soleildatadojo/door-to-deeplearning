{
 "cells": [
  {
   "cell_type": "markdown",
   "metadata": {},
   "source": [
    "# 「**Deep Learning**の扉」　　\n",
    "### ③**Python**を使ってニューラルネットワークの学習を学ぶ-基礎編-　　\n",
    "___________________________________________________"
   ]
  },
  {
   "cell_type": "markdown",
   "metadata": {},
   "source": [
    "## 1. 「Deep Learning」の世界を突き進もう！"
   ]
  },
  {
   "cell_type": "markdown",
   "metadata": {},
   "source": [
    "前回は、ニューラルネットワークを始め、手書き数字認識（MNISTデータ）を学びました。\n",
    "\n",
    "その時は、パラメータを乱数で決めただけだったので、認識の精度は良くありませんでした。\n",
    "\n",
    "そこで今回は、ニューラルネットワークの学習を学び、訓練データから最適な重みパラメータを自動で獲得できるように基礎的なことを学んでいきます。\n",
    "\n",
    "それでは頑張っていきましょう！\n",
    "\n",
    "### Let's go!!\n",
    "\n",
    "_________________"
   ]
  },
  {
   "cell_type": "markdown",
   "metadata": {},
   "source": [
    "## 2. データから学習する"
   ]
  },
  {
   "cell_type": "markdown",
   "metadata": {},
   "source": [
    "ニューラルネットワークの特徴は、データから学習できるという点にあります。\n",
    "\n",
    "データから学習するというのは、重みパラメータの値をデータから自動で決定できるということです。\n",
    "\n",
    "実際のニューラルネットワークでは、パラメータの数が数千、数万にも及ぶので手作業でパラメータを更新するのは、気が遠くなる作業になります。\n",
    "\n",
    "そのため、自動で決定できるのはとても嬉しいですね！\n",
    "\n",
    "最初は、文章が続きますがしっかり読んでイメージを掴んでください。"
   ]
  },
  {
   "cell_type": "markdown",
   "metadata": {},
   "source": [
    "### 2-1. データの重要性とニューラルネットワークの利点"
   ]
  },
  {
   "cell_type": "markdown",
   "metadata": {},
   "source": [
    "機械学習はデータが重要で、データがなければ何も始まりません。\n",
    "\n",
    "そのため、機械学習の中心には「データ」が存在します。\n",
    "\n",
    "皆さんが何らかの問題を解決しようとする場合、どうしますか？\n",
    "\n",
    "おそらく、あれやこれやと経験や直感を手がかりに考え、そして答えを出すのではないでしょうか。\n",
    "\n",
    "それに対し、機械の場合では、人の介入を極力避け、集められたデータから答えを見つけようとします。\n",
    "\n",
    "さらに、ニューラルネットワークやディープラーニングは、人の介入を遠ざけることができるという重要な性質を持ちます。\n",
    "\n",
    "具体的な問題を考えてみましょう。\n",
    "\n",
    "例えば、「５」という数字を認識するプログラムを実装したいとします。\n",
    "\n",
    "「５」という数字は、下の図に示すような手書きの画像だとして、５か５でないかを見分けるプログラムを実装することがゴールだとしましょう。\n",
    "\n",
    "とすると、どんなアルゴリズムが考えられますか？\n",
    "\n"
   ]
  },
  {
   "cell_type": "markdown",
   "metadata": {},
   "source": [
    "<img src=\"img3_1.png\" style=\"width: 700px; float:left;\">"
   ]
  },
  {
   "cell_type": "markdown",
   "metadata": {},
   "source": [
    "図2-1"
   ]
  },
  {
   "cell_type": "markdown",
   "metadata": {},
   "source": [
    "うーん。見れば当然５であるかどうかなんて簡単なのにな。機械に見分けさせるってどうやるんだ？\n",
    "\n",
    "となるくらいこれは意外と難しい問題なのです。\n",
    "\n",
    "今まで「５」という数字をたくさん見てきたはずなので、「５」を５だと判断するのは無意識の域だと思います。\n",
    "\n",
    "つまり、どのように「５」だと判断したかを明確に説明するのは困難なのではないでしょうか。\n",
    "\n",
    "そこで、ゼロから「５」を認識するアルゴリズムをひねり出すのではなく、データを有効に活用して解決したいと思います。\n",
    "\n",
    "その１つの方法として、画像から特徴量を抽出して、その特徴量のパターンを機械学習の技術で学習する方法が考えられます。\n",
    "\n",
    "この機械学習によるアプローチでは、集められたデータの中から「機械」が規則性を見つけ出します。\n",
    "\n",
    "しかし、ひとつ注意点があります。\n",
    "\n",
    "それは、問題に応じて適した特徴量を使わなければ、なかなか良い結果が得られないということです。\n",
    "\n",
    "このことから、特徴量と機械学習によるアプローチでも、問題に応じて、「人」の手によって適した特徴量を考える必要があるかもしれないということがわかります。"
   ]
  },
  {
   "cell_type": "markdown",
   "metadata": {},
   "source": [
    "しかし、ニューラルネットワークは、画像をそのまま学習します。\n",
    "\n",
    "さらに、ニューラルネットワークは、画像に含まれる重要な特徴量までも「機械」が学習するのです。\n",
    "\n",
    "先ほど問題に応じて適した特徴量を使わなければいけないと言いましたが、\n",
    "\n",
    "ニューラルネットワークの場合、対象とする問題に関係なく、データをそのままの生データとして最初から最後まで学習することができるのです。\n",
    "\n",
    "すごいですね！\n",
    "\n",
    "だんだんニューラルネットワークのすごさがわかってきたのではないでしょうか。"
   ]
  },
  {
   "cell_type": "markdown",
   "metadata": {},
   "source": [
    "### 2-2. 訓練データとテストデータ"
   ]
  },
  {
   "cell_type": "markdown",
   "metadata": {},
   "source": [
    "前回、MNISTデータを扱う際に、訓練データとテストデータに分けたのを覚えていますか？\n",
    "\n",
    "機械学習の問題では、このように訓練データとテストデータの２つに分けて学習を行うのが一般的なのです。\n",
    "\n",
    "名前からわかると思いますが、訓練データで学習を行い、最適なパラメータを探します。\n",
    "\n",
    "そして、テストデータを用いて、訓練したモデルの実力を評価します。\n",
    "\n",
    "私たちが欲しいのは、汎用的なモデルになります。\n",
    "\n",
    "この汎化能力を正しく評価するために、訓練データとテストデータに分けるのです。\n",
    "\n",
    "しかし、モデルを訓練していると、一つのデータセットだけに対応したモデルができてしまうことがあります。\n",
    "\n",
    "このように、あるデータセットだけに過度に対応した状態を過学習と言います。\n",
    "\n",
    "汎用的なモデルを目指すということは、過学習を避けると言い換えることもできますね。"
   ]
  },
  {
   "cell_type": "markdown",
   "metadata": {},
   "source": [
    "<img src=\"img3_2.png\" style=\"width: 600px; float:left;\">"
   ]
  },
  {
   "cell_type": "markdown",
   "metadata": {},
   "source": [
    "図2-2"
   ]
  },
  {
   "cell_type": "markdown",
   "metadata": {},
   "source": [
    "ふぅ。読むだけというのも疲れてしまいますね。\n",
    "\n",
    "ストレッチなど休憩を挟んで、次の章に進んでください！"
   ]
  },
  {
   "cell_type": "markdown",
   "metadata": {},
   "source": [
    "## 3. 損失関数"
   ]
  },
  {
   "cell_type": "markdown",
   "metadata": {},
   "source": [
    "ニューラルネットワークの学習では、ある「１つの指標」によって現在の状態を表します。\n",
    "\n",
    "そして、その指標を基準にして最適な重みパラメータの探索を行うのです。\n",
    "\n",
    "では、ニューラルネットワークにおける指標とは何なのか。\n",
    "\n",
    "それがこの章で学んでいく「損失関数」になります。\n",
    "\n",
    "名前の通り、ニューラルネットワークの性能の悪さを示す指標になります。"
   ]
  },
  {
   "cell_type": "markdown",
   "metadata": {},
   "source": [
    "<img src=\"img3_3.png\" style=\"width: 800px; float:left;\">"
   ]
  },
  {
   "cell_type": "markdown",
   "metadata": {},
   "source": [
    "図3-1"
   ]
  },
  {
   "cell_type": "markdown",
   "metadata": {},
   "source": [
    "### 3-1. 二乗和誤差"
   ]
  },
  {
   "cell_type": "markdown",
   "metadata": {},
   "source": [
    "損失関数として用いられる関数はいくつかありますが、最も有名なものは二乗和誤差になります。\n",
    "\n",
    "二乗和誤差ってどんなもの？ってなりますよね。\n",
    "\n",
    "二乗和誤差の式を以下に示します。"
   ]
  },
  {
   "cell_type": "markdown",
   "metadata": {},
   "source": [
    "$$\n",
    "    E = \\frac{1}{2}\\sum_{k}(y_k - t_k)^2\n",
    "$$"
   ]
  },
  {
   "cell_type": "markdown",
   "metadata": {},
   "source": [
    "確かに二乗して足し合わせているけど、「y<sub>k</sub>」と「t<sub>k</sub>」って何だ？という質問にお答えしましょう。\n",
    "\n",
    "「y<sub>k</sub>」はニューラルネットワークの出力を、「t<sub>k</sub>」は訓練データのラベルを表します。\n",
    "\n",
    "前回の手書き数字認識の場合では、「y<sub>k</sub>」は出力であり、入力画像に対してどの画像であるかという予想を表しています。\n",
    "\n",
    "「t<sub>k</sub>」は画像ラベルであり、入力画像が何の数字であったかを表しています。\n",
    "\n",
    "また、「y<sub>k</sub>」や「t<sub>k</sub>」は、N個あるうちの１つの値を表しています。\n",
    "\n",
    "例えば、手書き数字認識の場合では、１０個の値が存在し、そのうちの１つになります。\n",
    "\n",
    "##### [y<sub>1</sub>, y<sub>2</sub>, y<sub>3</sub>,...,y<sub>10</sub>]\n",
    "\n",
    "##### [t<sub>1</sub>, t<sub>2</sub>, t<sub>3</sub>,...,t<sub>10</sub>]\n",
    "\n",
    "それでは、実際の数値で見ていきましょう。"
   ]
  },
  {
   "cell_type": "code",
   "execution_count": 3,
   "metadata": {},
   "outputs": [],
   "source": [
    "y = [0.1, 0.1, 0.2, 0.0, 0.6, 0.0, 0.0, 0.0, 0.0, 0.0]\n",
    "t = 4"
   ]
  },
  {
   "cell_type": "markdown",
   "metadata": {},
   "source": [
    "今回は正解ラベルを4として、それ以外は０で表す「one-hot表現」を使って、「t<sub>k</sub>」に訓練データを代入したいと思います。\n",
    "\n",
    "「one-hot表現」を用いると「４」は以下のように表されます。"
   ]
  },
  {
   "cell_type": "code",
   "execution_count": 5,
   "metadata": {},
   "outputs": [],
   "source": [
    "t = [0, 0, 0, 0, 1, 0, 0, 0, 0, 0]"
   ]
  },
  {
   "cell_type": "markdown",
   "metadata": {},
   "source": [
    "この配列の要素は、最初のインデックスから順に、数字の「０」、「１」、「２」・・・に対応します。\n",
    "\n",
    "これを踏まえて見直すと、「４」に対応する部分が「１」になっており、それ以外が「０」になっていることがわかります。\n",
    "\n",
    "それでは、二乗和誤差に話を戻します。\n",
    "\n",
    "「y<sub>k</sub>」はニューラルネットワークの出力を、「t<sub>k</sub>」は訓練データを表しているということを頭に入れて、二乗和誤差の式を思い出してみてください。\n",
    "\n",
    "二乗和誤差の式は、ニューラルネットワークの出力と正解となる訓練データの各要素の差の二乗を計算し、その和を表しています。\n",
    "\n",
    "それではいきなりですが、この二乗和誤差を実装してみましょう！"
   ]
  },
  {
   "cell_type": "markdown",
   "metadata": {},
   "source": [
    "##### 【問題3-1】二乗和誤差を実装してください。"
   ]
  },
  {
   "cell_type": "code",
   "execution_count": null,
   "metadata": {},
   "outputs": [],
   "source": [
    "######以下にコードを書いてください######\n",
    "def mean_squared_error(y, t):\n",
    "    \n",
    "\n",
    "######「Shift + Enter」を押してください######"
   ]
  },
  {
   "cell_type": "code",
   "execution_count": null,
   "metadata": {
    "jupyter": {
     "source_hidden": true
    }
   },
   "outputs": [],
   "source": [
    "def mean_squared_error(y, t):\n",
    "    return 0.5 * np.sum((y - t)**2)"
   ]
  },
  {
   "cell_type": "markdown",
   "metadata": {},
   "source": [
    "書けましたか？\n",
    "\n",
    "式の通りにコードを書くだけなので簡単だと思いますが、「・・・」を押して、自分が書いたコードと照らし合わせてみてください。\n",
    "\n",
    "では、この関数を使って実際に計算してみましょう。\n",
    "\n",
    "##### 【問題3-2】関数を使用し、以下の数値を用いて２パターン計算してください。また、Numpyモジュールをインポートしてください。"
   ]
  },
  {
   "cell_type": "code",
   "execution_count": 18,
   "metadata": {},
   "outputs": [],
   "source": [
    "######以下の数値を使ってください######\n",
    "t = [0, 0, 0, 0, 1, 0, 0, 0, 0, 0]\n",
    "y1 = [0.1, 0.1, 0.2, 0.0, 0.6, 0.0, 0.0, 0.0, 0.0, 0.0]"
   ]
  },
  {
   "cell_type": "code",
   "execution_count": null,
   "metadata": {},
   "outputs": [],
   "source": [
    "######以下にコードを書いてください######\n",
    "\n",
    "\n",
    "######「Shift + Enter」を押してください######"
   ]
  },
  {
   "cell_type": "code",
   "execution_count": 19,
   "metadata": {},
   "outputs": [],
   "source": [
    "######以下の数値を使ってください######\n",
    "y2 = [0.1, 0.05, 0.1, 0.0, 0.05, 0.1, 0.0, 0.6, 0.0, 0.0]"
   ]
  },
  {
   "cell_type": "code",
   "execution_count": null,
   "metadata": {},
   "outputs": [],
   "source": [
    "######以下にコードを書いてください######\n",
    "\n",
    "######「Shift + Enter」を押してください######"
   ]
  },
  {
   "cell_type": "markdown",
   "metadata": {},
   "source": [
    "計算できましたか？\n",
    "\n",
    "与えられた数値をそのまま使おうとすると計算できません。\n",
    "\n",
    "そこで以下のように「Numpy配列」にして計算します。"
   ]
  },
  {
   "cell_type": "code",
   "execution_count": 16,
   "metadata": {},
   "outputs": [
    {
     "data": {
      "text/plain": [
       "array([0, 0, 0, 0, 1, 0, 0, 0, 0, 0])"
      ]
     },
     "execution_count": 16,
     "metadata": {},
     "output_type": "execute_result"
    }
   ],
   "source": [
    "np.array(t)"
   ]
  },
  {
   "cell_type": "markdown",
   "metadata": {},
   "source": [
    "では、計算結果を見ていきましょう。"
   ]
  },
  {
   "cell_type": "code",
   "execution_count": 22,
   "metadata": {},
   "outputs": [
    {
     "name": "stdout",
     "output_type": "stream",
     "text": [
      "0.11000000000000001\n",
      "0.6475\n"
     ]
    }
   ],
   "source": [
    "print(mean_squared_error(np.array(y1), np.array(t)))\n",
    "print(mean_squared_error(np.array(y2), np.array(t)))"
   ]
  },
  {
   "cell_type": "markdown",
   "metadata": {},
   "source": [
    "うまく計算できた人は上記のように表示されると思います。\n",
    "\n",
    "上の数値は、正解ラベルが「４」に対して「４」だと予想している場合であり、下の数値は、正解ラベルが「４」に対して「７」だと予想している場合になります。\n",
    "\n",
    "上の数値の方が明らかに小さいことがわかりますね。\n",
    "\n",
    "これは訓練データとの誤差が小さいということを意味しています。\n",
    "\n",
    "つまり、出力「y1」の方が訓練データにより適合しているということを表しているのです。"
   ]
  },
  {
   "cell_type": "markdown",
   "metadata": {},
   "source": [
    "<img src=\"img3_4.png\" style=\"width: 500px; float:left;\">"
   ]
  },
  {
   "cell_type": "markdown",
   "metadata": {},
   "source": [
    "図3-2"
   ]
  },
  {
   "cell_type": "markdown",
   "metadata": {},
   "source": [
    "### 3-2. 交差エントロピー誤差"
   ]
  },
  {
   "cell_type": "markdown",
   "metadata": {},
   "source": [
    "先ほど二乗和誤差を学習しましたが、次は別の損失関数として、交差エントロピー誤差を学習していきます。\n",
    "\n",
    "交差エントロピー誤差は次の数式で表されます。"
   ]
  },
  {
   "cell_type": "markdown",
   "metadata": {},
   "source": [
    "$$\n",
    "    E = -\\sum_{k}t_k*logy_k\n",
    "$$"
   ]
  },
  {
   "cell_type": "markdown",
   "metadata": {},
   "source": [
    "「y<sub>k</sub>」と「t<sub>k</sub>」は、二乗和誤差でも説明したものと同じものになります。\n",
    "\n",
    "ということは、「t<sub>k</sub>」は…？\n",
    "\n",
    "はい！「one-hot表現」になります！\n",
    "\n",
    "それを踏まえた上で式に注目してみてください。\n",
    "\n",
    "「y<sub>k</sub>」の自然対数を取った数値と「t<sub>k</sub>」を掛け合わせ、その和を取っています。\n",
    "\n",
    "「t<sub>k</sub>」は「one-hot表現」なので正解ラベルとなるインデックスだけが「１」で、その他は「０」にしています。\n",
    "\n",
    "これは、正解ラベルが「１」に対応する出力の自然対数を計算するだけというように捉え直すことができます。\n",
    "\n",
    "それ以外は「０」との積なので、「０」になることは当然ですね。"
   ]
  },
  {
   "cell_type": "markdown",
   "metadata": {},
   "source": [
    "<img src=\"img3_5.png\" style=\"width: 500px; float:left;\">"
   ]
  },
  {
   "cell_type": "markdown",
   "metadata": {},
   "source": [
    "図3-3"
   ]
  },
  {
   "cell_type": "markdown",
   "metadata": {},
   "source": [
    "例えば、正解ラベルのインデックスが「２」であるとして、それに対応するニューラルネットワークの出力が「0.6」の場合、交差エントロピー誤差は、\n",
    "\n",
    "$$\n",
    "-log0.6 = 0.51\n",
    "$$\n",
    "\n",
    "と計算することができます。\n",
    "\n",
    "また、「２」の出力が「0.1」の場合、\n",
    "\n",
    "$$\n",
    "-log0.1 = 2.30\n",
    "$$\n",
    "\n",
    "となります。\n",
    "\n",
    "つまり、交差エントロピー誤差は、正解ラベルとなる出力の結果によって、その値が決まるのです。\n",
    "\n",
    "自然対数のグラフを表示してみましょう。"
   ]
  },
  {
   "cell_type": "code",
   "execution_count": 27,
   "metadata": {
    "jupyter": {
     "source_hidden": true
    }
   },
   "outputs": [
    {
     "name": "stderr",
     "output_type": "stream",
     "text": [
      "/Users/imanishiwataru/opt/anaconda3/lib/python3.7/site-packages/ipykernel_launcher.py:3: RuntimeWarning: divide by zero encountered in log\n",
      "  This is separate from the ipykernel package so we can avoid doing imports until\n"
     ]
    },
    {
     "data": {
      "image/png": "[encoded data removed]",
      "text/plain": [
       "<Figure size 432x288 with 1 Axes>"
      ]
     },
     "metadata": {
      "needs_background": "light"
     },
     "output_type": "display_data"
    }
   ],
   "source": [
    "import matplotlib.pyplot as plt\n",
    "x = np.arange(0, 1.01, 0.01)\n",
    "y = np.log(x)\n",
    "plt.plot(x, y)\n",
    "plt.xlabel('x')\n",
    "plt.ylabel('y')\n",
    "plt.show()"
   ]
  },
  {
   "cell_type": "markdown",
   "metadata": {},
   "source": [
    "図3-4"
   ]
  },
  {
   "cell_type": "markdown",
   "metadata": {},
   "source": [
    "このグラフで示されるように、xが1のときyは0になり、xが0に近づくにつれて、yの値はどんどん小さくなります。\n",
    "\n",
    "つまり、正解ラベルに対応する出力が大きければ大きいほど０に近づきます。\n",
    "\n",
    "では、交差エントロピー誤差を実装してみましょう。\n",
    "\n",
    "##### 【問題3-3】交差エントロピー誤差を実装してください。"
   ]
  },
  {
   "cell_type": "code",
   "execution_count": null,
   "metadata": {},
   "outputs": [],
   "source": [
    "######以下にコードを書いてください######\n",
    "def cross_entropy_error(y, t):\n",
    "    \n",
    "\n",
    "######「Shift + Enter」を押してください######"
   ]
  },
  {
   "cell_type": "markdown",
   "metadata": {},
   "source": [
    "今回も交差エントロピー誤差の式を参考にすれば、すぐに書けると思います。\n",
    "\n",
    "しかし、「log(0)」の時を考えてみてください。\n",
    "\n",
    "「log(0)」はマイナス無限大を表す「-inf」となってします。\n",
    "\n",
    "こうなってしまうとそこで計算が**STOP**してしまうのです。\n",
    "\n",
    "それでは困りますよね。\n",
    "\n",
    "これを改善する必要があるので以下のように微小な値を追加して、マイナス無限大に発散するのを防ぎます。"
   ]
  },
  {
   "cell_type": "code",
   "execution_count": 28,
   "metadata": {},
   "outputs": [],
   "source": [
    "def cross_entropy_error(y, t):\n",
    "    delta = 1e-7\n",
    "    return -np.sum(t * np.log(y + delta))"
   ]
  },
  {
   "cell_type": "markdown",
   "metadata": {},
   "source": [
    "それでは、簡単な計算をしてみましょう！\n",
    "\n",
    "##### 【問題3-4】交差エントロピー誤差の関数を用いて２パターン計算してください。数値は二乗和誤差の時と同じものを使ってください。"
   ]
  },
  {
   "cell_type": "code",
   "execution_count": null,
   "metadata": {},
   "outputs": [],
   "source": [
    "######以下にコードを書いてください#######\n",
    "\n",
    "\n",
    "######「Shift + Enter」を押してください######"
   ]
  },
  {
   "cell_type": "code",
   "execution_count": 29,
   "metadata": {
    "jupyter": {
     "source_hidden": true
    }
   },
   "outputs": [
    {
     "name": "stdout",
     "output_type": "stream",
     "text": [
      "0.510825457099338\n",
      "2.9957302735559908\n"
     ]
    }
   ],
   "source": [
    "print(cross_entropy_error(np.array(y1), np.array(t)))\n",
    "print(cross_entropy_error(np.array(y2), np.array(t)))"
   ]
  },
  {
   "cell_type": "markdown",
   "metadata": {},
   "source": [
    "上記の数値が表示されれば正解です。\n",
    "\n",
    "「0.510825457099338」と表示されている方は、正解となるラベルの出力が「0.6」の場合で、「2.9957302735559908」と表示されている方は、正解となるラベルの出力が「0.05」と低い場合になります。\n",
    "\n",
    "先ほど正解ラベルに対応する出力が大きければ大きいほど「０」に近づくと言いました。\n",
    "\n",
    "結果を見てもらうとわかると思いますが、「0.6」と出力が大きい方が「０」に近い数値を表示していることがわかりますね。"
   ]
  },
  {
   "cell_type": "markdown",
   "metadata": {},
   "source": [
    "### 3-3. ミニバッチ学習"
   ]
  },
  {
   "cell_type": "markdown",
   "metadata": {},
   "source": [
    "機械学習の問題は、訓練データに対する損失関数を求め、その値をできるだけ小さくするようなパラメータを探し出すといった学習を行います。\n",
    "\n",
    "ということは、訓練データがたくさんあったらそれ全部を指標にするの？ってなりますよね。\n",
    "\n",
    "MNISTデータってたくさんデータ数なかったっけ…\n",
    "\n",
    "そうなんです。MNISのデータセットの訓練データは50000個以上あるのです。\n",
    "\n",
    "つまり、すべてのデータを対象にして損失関数を求めるには少し時間がかかってしまいます。\n",
    "\n",
    "そこで、データの中から一部を選び出し、その一部のデータを全体の近似として利用するといった処理を行います。\n",
    "\n",
    "それが「ミニバッチ学習」の大まかな説明になります。\n",
    "\n",
    "ちなみに前回学んだ「バッチ処理」を覚えていますか？\n",
    "\n",
    "複数のデータをまとめて処理するだのなんだの。\n",
    "\n",
    "ミニバッチ学習もほぼ同じような処理を行います。\n",
    "\n",
    "例えば、60000枚の訓練データの中から100枚を無作為に選び出して、その100枚を使って学習を行うのです。\n",
    "\n"
   ]
  },
  {
   "cell_type": "markdown",
   "metadata": {},
   "source": [
    "<img src=\"img3_6.png\" style=\"width: 500px; float:left;\">"
   ]
  },
  {
   "cell_type": "markdown",
   "metadata": {},
   "source": [
    "図3-5"
   ]
  },
  {
   "cell_type": "markdown",
   "metadata": {},
   "source": [
    "それでは、ミニバッチ学習のために準備をしていきます。\n",
    "\n",
    "MNISTデータセットの読み込み方は覚えていますか？\n",
    "\n",
    "今から読み込んでいくので一緒に思い出しましょう！"
   ]
  },
  {
   "cell_type": "code",
   "execution_count": 4,
   "metadata": {},
   "outputs": [],
   "source": [
    "import numpy as np\n",
    "from sklearn import datasets\n",
    "from sklearn.model_selection import train_test_split\n",
    "######「Shift + Enter」を押してください######"
   ]
  },
  {
   "cell_type": "markdown",
   "metadata": {},
   "source": [
    "まずはMNISTデータの準備に必要なモジュールをインポートします。"
   ]
  },
  {
   "cell_type": "code",
   "execution_count": 5,
   "metadata": {},
   "outputs": [],
   "source": [
    "mnist = datasets.fetch_openml('mnist_784', version=1)\n",
    "######「Shift + Enter」を押してください######"
   ]
  },
  {
   "cell_type": "markdown",
   "metadata": {},
   "source": [
    "このコードで「MNISTデータ」を読み込むことができ、このデータには様々な情報が含まれているので、必要な画像データとラベルを取り出します。\n",
    "\n",
    "それは以下のコードになります。"
   ]
  },
  {
   "cell_type": "code",
   "execution_count": 6,
   "metadata": {},
   "outputs": [],
   "source": [
    "data = mnist.data\n",
    "std_data = data / 255\n",
    "label = mnist.target\n",
    "label = [int(x) for x in label]\n",
    "one_hot_label = np.identity(10)[label]\n",
    "######「Shift + Enter」を押してください######"
   ]
  },
  {
   "cell_type": "markdown",
   "metadata": {},
   "source": [
    "また、損失関数を求めるときには「one-hot表現」を用いるので、「label」を「one_hot_label」に変換します。"
   ]
  },
  {
   "cell_type": "code",
   "execution_count": 7,
   "metadata": {},
   "outputs": [
    {
     "name": "stdout",
     "output_type": "stream",
     "text": [
      "(56000, 784)\n",
      "(56000, 10)\n"
     ]
    }
   ],
   "source": [
    "x_train, x_test, t_train, t_test = train_test_split(std_data, one_hot_label, test_size=0.2)\n",
    "print(x_train.shape)\n",
    "print(t_train.shape)\n",
    "######「Shift + Enter」を押してください######"
   ]
  },
  {
   "cell_type": "markdown",
   "metadata": {},
   "source": [
    "最後に得られたMNISTデータセットを訓練データとテストデータに分割し、訓練データの形状を確認します。\n",
    "\n",
    "これで準備は完了です。\n",
    "\n",
    "それでは、この訓練データの中からランダムに抜き出してみます。\n",
    "\n",
    "「np.random.choice()」を使えば簡単に抜き出すことができます。"
   ]
  },
  {
   "cell_type": "code",
   "execution_count": 12,
   "metadata": {},
   "outputs": [],
   "source": [
    "train_size = x_train.shape[0]\n",
    "batch_size = 10\n",
    "batch_mask = np.random.choice(train_size, batch_size)\n",
    "x_batch = x_train[batch_mask]\n",
    "t_batch = t_train[batch_mask]\n",
    "######「Shift + Enter」を押してください######"
   ]
  },
  {
   "cell_type": "markdown",
   "metadata": {},
   "source": [
    "このように「np.random.choice()」を使えば、指定された数字の中からランダムに好きな数だけ取り出すことができます。"
   ]
  },
  {
   "cell_type": "markdown",
   "metadata": {},
   "source": [
    "<img src=\"img3_7.png\" style=\"width: 500px; float:left;\">"
   ]
  },
  {
   "cell_type": "markdown",
   "metadata": {},
   "source": [
    "図3-6"
   ]
  },
  {
   "cell_type": "markdown",
   "metadata": {},
   "source": [
    "例えば以下のようにすると、"
   ]
  },
  {
   "cell_type": "code",
   "execution_count": null,
   "metadata": {},
   "outputs": [],
   "source": [
    "train_size = x_train.shape[0]\n",
    "print(train_size)\n",
    "np.random.choice(train_size, 10)\n",
    "######「Shift + Enter」を押してください######"
   ]
  },
  {
   "cell_type": "markdown",
   "metadata": {},
   "source": [
    "０から５６０００未満の数字の中から１０個取り出すことができます。\n",
    "\n",
    "この取り出した数字をインデックスとして使うことで、５６０００個のデータの中からランダムにデータを取り出すことができるのです。\n",
    "\n",
    "試しに見てみましょう。"
   ]
  },
  {
   "cell_type": "code",
   "execution_count": 17,
   "metadata": {
    "collapsed": true,
    "jupyter": {
     "outputs_hidden": true
    }
   },
   "outputs": [
    {
     "name": "stdout",
     "output_type": "stream",
     "text": [
      "9860\n",
      "[0. 0. 0. 0. 0. 0. 1. 0. 0. 0.]\n"
     ]
    }
   ],
   "source": [
    "batch_mask = np.random.choice(train_size, batch_size)\n",
    "print(batch_mask[0])\n",
    "t_batch[0] = t_train[batch_mask[0]]\n",
    "print(t_batch[0])\n",
    "######「Shift + Enter」を押してください######"
   ]
  },
  {
   "cell_type": "markdown",
   "metadata": {},
   "source": [
    "このように、０から５６０００未満の数字の中から１つ取り出し、その数字をインデックスとしたときに対応するラベルを表示していることがわかりますね。\n",
    "\n",
    "それでは、実際に取り出してみましょう。\n",
    "\n",
    "##### 【問題3-5】０から１０未満の数字の中からランダムに数字を３つ取り出し、その数字をインデックスとしたときに対応する数値を表示してください。"
   ]
  },
  {
   "cell_type": "code",
   "execution_count": 18,
   "metadata": {},
   "outputs": [],
   "source": [
    "x = np.array([0, 2, 4, 1, 2, 6, 3, 5, 1, 8])"
   ]
  },
  {
   "cell_type": "code",
   "execution_count": null,
   "metadata": {},
   "outputs": [],
   "source": [
    "######以下にコードを書いてください######\n",
    "\n",
    "\n",
    "######「Shift + Enter」を押してください######"
   ]
  },
  {
   "cell_type": "code",
   "execution_count": null,
   "metadata": {
    "collapsed": true,
    "jupyter": {
     "outputs_hidden": true,
     "source_hidden": true
    }
   },
   "outputs": [],
   "source": [
    "index = np.random.choice(10, 3)\n",
    "print(index)\n",
    "x_sample = x[index]\n",
    "print(x_sample)"
   ]
  },
  {
   "cell_type": "markdown",
   "metadata": {},
   "source": [
    "それでは、このミニバッチを使って、損失関数を求めてみましょう！"
   ]
  },
  {
   "cell_type": "markdown",
   "metadata": {},
   "source": [
    "### 3-4. ミニバッチを使った交差エントロピー誤差"
   ]
  },
  {
   "cell_type": "markdown",
   "metadata": {},
   "source": [
    "交差エントロピー誤差はどのような式で表されたでしょうか。\n",
    "\n",
    "この損失関数は、訓練データと出力データの自然対数をかけたものを足し合わせてマイナスとったものでしたね。\n",
    "\n",
    "$$\n",
    "    E = -\\sum_{k}t_k*logy_k\n",
    "$$\n",
    "\n",
    "では交差エントロピー誤差をもう一度実装してみます。"
   ]
  },
  {
   "cell_type": "code",
   "execution_count": 24,
   "metadata": {},
   "outputs": [],
   "source": [
    "def cross_entropy_error(y, t):\n",
    "    delta = 1e-7\n",
    "    return -np.sum(t * np.log(y + delta))\n",
    "######「Shift + Enter」を押してください######"
   ]
  },
  {
   "cell_type": "markdown",
   "metadata": {},
   "source": [
    "これは以前にやった内容なので何も難しいことはしていません。\n",
    "\n",
    "しかし、問題点があります。\n",
    "\n",
    "それは、この実装だとデータが１つの場合にしか対応していないということです。\n",
    "\n",
    "困りますね…\n",
    "\n",
    "そこで、データがバッチとしてまとめられて入力される場合にも対応するように書き換えていきます。"
   ]
  },
  {
   "cell_type": "code",
   "execution_count": 33,
   "metadata": {},
   "outputs": [],
   "source": [
    "def cross_entropy_error(y, t):\n",
    "    if y.ndim == 1 :\n",
    "        t = t.reshape(1, t.size)\n",
    "        y = y.reshape(1, y.size)\n",
    "        \n",
    "    batch_size = y.shape[0]\n",
    "    return -np.sum(t * np.log(y + 1e-7)) / batch_size\n",
    "######「Shift + Enter」を押してください######"
   ]
  },
  {
   "cell_type": "markdown",
   "metadata": {},
   "source": [
    "「y」はニューラルネットワークの出力、「t」は訓練データとして考えてください。\n",
    "\n",
    "まず、出力の次元が一次元かどうかを判断します。\n",
    "\n",
    "「一次元かどうか」よりも「入力画像が一枚かどうか」と言った方がわかりやすいですね。\n",
    "\n",
    "入力画像が一枚の場合、「reshape」を用いて整形します。\n",
    "\n",
    "わざわざ形状を整形する必要ってあるの？\n",
    "\n",
    "って思いますよね。"
   ]
  },
  {
   "cell_type": "code",
   "execution_count": 20,
   "metadata": {},
   "outputs": [],
   "source": [
    "batch_size = y.shape[0]\n",
    "######「Shift + Enter」を押してください######"
   ]
  },
  {
   "cell_type": "markdown",
   "metadata": {},
   "source": [
    "というところに注目してみてください。\n",
    "\n",
    "これは、出力データの枚数を取得するコードになります。\n",
    "\n",
    "では、整形せずに枚数を取得してみましょう。\n",
    "\n",
    "一枚のデータなので、「１」と表示されるでしょう。"
   ]
  },
  {
   "cell_type": "code",
   "execution_count": 23,
   "metadata": {},
   "outputs": [
    {
     "data": {
      "text/plain": [
       "5"
      ]
     },
     "execution_count": 23,
     "metadata": {},
     "output_type": "execute_result"
    }
   ],
   "source": [
    "y = np.array([0, 0, 0 ,2, 0])\n",
    "y.shape[0]\n",
    "######「Shift + Enter」を押してください######"
   ]
  },
  {
   "cell_type": "markdown",
   "metadata": {},
   "source": [
    "あ、あれれ？\n",
    "\n",
    "「５」という数字が出てきてしまいました。\n",
    "\n",
    "なぜでしょうか。\n",
    "\n",
    "これを見てください。"
   ]
  },
  {
   "cell_type": "code",
   "execution_count": 24,
   "metadata": {},
   "outputs": [
    {
     "data": {
      "text/plain": [
       "(5,)"
      ]
     },
     "execution_count": 24,
     "metadata": {},
     "output_type": "execute_result"
    }
   ],
   "source": [
    "y.shape\n",
    "######「Shift + Enter」を押してください######"
   ]
  },
  {
   "cell_type": "markdown",
   "metadata": {},
   "source": [
    "つまり、「y.shape[0]」は、タプルにおける１つ目の要素を表示するのです。\n",
    "\n",
    "これでは要素数が返ってくるだけで、欲しい「一枚」という値は返ってこないのです。\n",
    "\n",
    "そこで「reshape(1, y.size)」を使うことで「(1, y.size)」となり、一枚という値を得ることができるようになるのです。"
   ]
  },
  {
   "cell_type": "markdown",
   "metadata": {},
   "source": [
    "１次元の場合について説明してきましたが、２次元以上の場合、どうなるのでしょうか。\n",
    "\n",
    "言い換えると、画像が２枚以上の場合（３枚でも４枚でも構いません）、"
   ]
  },
  {
   "cell_type": "code",
   "execution_count": null,
   "metadata": {},
   "outputs": [],
   "source": [
    "y.reshape(2, y.size)"
   ]
  },
  {
   "cell_type": "markdown",
   "metadata": {},
   "source": [
    "をする必要はないのか。\n",
    "\n",
    "結論から言うと、する必要はありません。\n",
    "\n",
    "例えば、"
   ]
  },
  {
   "cell_type": "code",
   "execution_count": 2,
   "metadata": {},
   "outputs": [],
   "source": [
    "y = np.array([[2.0, 1.0, 3.0], [1.0, 0.5, 3.0]])"
   ]
  },
  {
   "cell_type": "markdown",
   "metadata": {},
   "source": [
    "といった２枚の画像がある場合、"
   ]
  },
  {
   "cell_type": "code",
   "execution_count": 3,
   "metadata": {},
   "outputs": [
    {
     "data": {
      "text/plain": [
       "(2, 3)"
      ]
     },
     "execution_count": 3,
     "metadata": {},
     "output_type": "execute_result"
    }
   ],
   "source": [
    "y.shape"
   ]
  },
  {
   "cell_type": "markdown",
   "metadata": {},
   "source": [
    "となります。\n",
    "\n",
    "つまり、「y.shape[0]」とすると、一次元の場合とは違って、以下のように画像の枚数が出力されます。"
   ]
  },
  {
   "cell_type": "code",
   "execution_count": 4,
   "metadata": {},
   "outputs": [
    {
     "data": {
      "text/plain": [
       "2"
      ]
     },
     "execution_count": 4,
     "metadata": {},
     "output_type": "execute_result"
    }
   ],
   "source": [
    "y.shape[0]"
   ]
  },
  {
   "cell_type": "markdown",
   "metadata": {},
   "source": [
    "このように、画像が２枚以上の場合は、「reshape」をする必要がないのです。"
   ]
  },
  {
   "cell_type": "markdown",
   "metadata": {},
   "source": [
    "最終的に、"
   ]
  },
  {
   "cell_type": "code",
   "execution_count": null,
   "metadata": {},
   "outputs": [],
   "source": [
    "-np.sum(t * np.log(y + 1e-7)) / batch_size"
   ]
  },
  {
   "cell_type": "markdown",
   "metadata": {},
   "source": [
    "のように、バッチの枚数で正規化し（/ batch_size）、一枚あたりの平均の交差エントロピー誤差を計算します。\n",
    "\n",
    "これは、「one_hot_label」の場合なので、訓練データがラベルとして与えられた時は以下のように実装されます。"
   ]
  },
  {
   "cell_type": "code",
   "execution_count": 26,
   "metadata": {},
   "outputs": [],
   "source": [
    "def cross_entropy_error(y, t):\n",
    "    if y.ndim == 1:\n",
    "        t = t.reshape(1, t.size)\n",
    "        y = y.reshape(1, y.size)\n",
    "        \n",
    "    batch_size = y.shape[0]\n",
    "    return -np.sum(np.log(y[np.arange(batch_size), t] + 1e-7)) / batch_size\n",
    "######「Shift + Enter」を押してください######"
   ]
  },
  {
   "cell_type": "markdown",
   "metadata": {},
   "source": [
    "「t」がいなくなってしまいました。\n",
    "\n",
    "それは、正解ラベルに対する出力だけが必要だからです。\n",
    "\n",
    "そのため、「y」の方で正解ラベルに対する出力を指定します。\n",
    "\n",
    "「np.arange(batch_size)」は、「０」から「batch_size-1」までの配列を生成します。\n",
    "\n",
    "つまり、「batch_size」が１００であれば、「０」から「９９」までの配列を生成します。\n",
    "\n",
    "０番目の正解ラベルが「２」だとすると、「y[0, 2]」というようになります。"
   ]
  },
  {
   "cell_type": "markdown",
   "metadata": {},
   "source": [
    "##### 【問題3-6】もう一度、ミニバッチに対応した交差エントロピー誤差を実装してください。"
   ]
  },
  {
   "cell_type": "code",
   "execution_count": 34,
   "metadata": {
    "collapsed": true,
    "jupyter": {
     "outputs_hidden": true
    }
   },
   "outputs": [
    {
     "data": {
      "text/plain": [
       "0.9162904818741863"
      ]
     },
     "execution_count": 34,
     "metadata": {},
     "output_type": "execute_result"
    }
   ],
   "source": [
    "#######以下にコードを書いてください######\n",
    "def cross_entropy_error(y, t):\n",
    "\n",
    "\n",
    "y = np.array([0.0, 0.2, 0.4, 0.1, 0.0, 0.0, 0.2, 0.0, 0.0, 0.1])\n",
    "t = np.array([0, 0, 1, 0, 0, 0, 0, 0, 0, 0])\n",
    "cross_entropy_error(y, t)\n",
    "######「Shift + Enter」を押してください######"
   ]
  },
  {
   "cell_type": "markdown",
   "metadata": {},
   "source": [
    "「0.9162904818741863」と表示されれば正解です。"
   ]
  },
  {
   "cell_type": "markdown",
   "metadata": {},
   "source": [
    "### 3-5. 損失関数の必要性"
   ]
  },
  {
   "cell_type": "markdown",
   "metadata": {},
   "source": [
    "今まで損失関数について説明してきました。\n",
    "\n",
    "しかし、適切なパラメータを得るための指標としか伝えていません。\n",
    "\n",
    "なぜ損失関数を使うのか気になりますよね。\n",
    "\n",
    "損失関数より認識精度の方がわかりやすい気がします。"
   ]
  },
  {
   "cell_type": "markdown",
   "metadata": {},
   "source": [
    "<img src=\"img3_8.png\" style=\"width: 700px; float:left;\">"
   ]
  },
  {
   "cell_type": "markdown",
   "metadata": {},
   "source": [
    "図3-7"
   ]
  },
  {
   "cell_type": "markdown",
   "metadata": {},
   "source": [
    "しかし、「微分」という概念に注目すると損失関数の重要性が見えてくると思います。\n",
    "\n",
    "例えば、あるニューラルネットワークにおける１つの重みパラメータに注目するとします。\n",
    "\n",
    "ここで重みパラメータの損失関数に「微分」という概念を導入します。\n",
    "\n",
    "重みパラメータの損失関数に対する微分とは何でしょうか。\n",
    "\n",
    "それは、「その重みのパラメータの値を少し変化させたときに、損失関数がどのように変化するか」ということを表しています。\n",
    "\n",
    "微分の値が「マイナス」であれば、その重みパラメータを正の方向へ変化させることで損失関数を減少させることができます。\n",
    "\n",
    "ということは、「プラス」であればどうなるかは簡単ですね。\n",
    "\n",
    "負の方向へ変化させれば、損失関数を減少させることができるのです。\n",
    "\n",
    "じゃあ「プラス」でも「マイナス」でもない「０」の場合はどうなるのか。\n",
    "\n",
    "それは、正の方向や負の方向に動かしても、損失関数の値が変化しないということを意味します。\n",
    "\n",
    "つまり、その重みのパラメータの更新はそこでストップしてしまいます。"
   ]
  },
  {
   "cell_type": "markdown",
   "metadata": {},
   "source": [
    "<img src=\"img3_9.png\" style=\"width: 700px; float:left;\">"
   ]
  },
  {
   "cell_type": "markdown",
   "metadata": {},
   "source": [
    "図3-8"
   ]
  },
  {
   "cell_type": "markdown",
   "metadata": {},
   "source": [
    "では、認識精度を指標にしてはいけない理由を説明します。\n",
    "\n",
    "それは、微分がほとんどの場所で０になってしまうからです。\n",
    "\n",
    "「０」になったらなぜダメなのか。\n",
    "\n",
    "先ほど説明したように、微分値が「０」ということは、どちらの方向に動かしても、損失関数の値が変わらず、その重みのパラメータの更新がストップしてしまうということを意味します。\n",
    "\n",
    "これでは、適切なパラメータを得ることができず、いつまで経っても良い結果を得ることはできません。\n",
    "\n",
    "ん？ちょっと待てよ。（キムタク風）\n",
    "\n",
    "どうして認識精度であればほとんどの場所で微分が０になってしまうんだ。そんなのわからないじゃないか。\n",
    "\n",
    "と思う方もいると思いますので、例を出して考えてみたいと思います。"
   ]
  },
  {
   "cell_type": "markdown",
   "metadata": {},
   "source": [
    "ここでは、１００枚の画像のうち３２枚だけ正しく認識できたとします。\n",
    "\n",
    "すると、認識精度は３２％になることはすぐにわかりますね。\n",
    "\n",
    "そこで認識精度を上げるために重みのパラメータを少し変化させますね。\n",
    "\n",
    "しかし、少しの調整だけでは、認識精度はあまり変化しません。\n",
    "\n",
    "また、変化したとしても３３％や３４％ととびとびの値になってしまいます。\n",
    "\n",
    "なぜなら、認識精度は全体のなかで何枚の画像が正しく認識しているかを表しているだけで、パラメータを変化させることで、１００枚中32.567枚正しく認識できました。なんてことあり得ないですよね。\n",
    "\n",
    "0.567枚ってなんだってなりますよね。\n",
    "\n",
    "だから、認識精度を指標に使うことはできないのです。\n",
    "\n",
    "それに対して、損失関数は「0.87354...」といった連続的な数値を取っていましたよね。"
   ]
  },
  {
   "cell_type": "markdown",
   "metadata": {},
   "source": [
    "<img src=\"img3_10.png\" style=\"width: 500px; float:left;\">"
   ]
  },
  {
   "cell_type": "markdown",
   "metadata": {},
   "source": [
    "図3-9"
   ]
  },
  {
   "cell_type": "markdown",
   "metadata": {},
   "source": [
    "数学的に表すと以下のようになります。"
   ]
  },
  {
   "cell_type": "code",
   "execution_count": 32,
   "metadata": {
    "jupyter": {
     "source_hidden": true
    }
   },
   "outputs": [
    {
     "data": {
      "image/png": "[encoded data removed]",
      "text/plain": [
       "<Figure size 720x360 with 2 Axes>"
      ]
     },
     "metadata": {
      "needs_background": "light"
     },
     "output_type": "display_data"
    }
   ],
   "source": [
    "import numpy as np\n",
    "import matplotlib.pyplot as plt\n",
    "\n",
    "plt.figure(figsize=(10, 5))\n",
    "plt.subplots_adjust(wspace=1)\n",
    "x = np.arange(-1, 1, 0.01)\n",
    "y = x**3 + 2*x\n",
    "\n",
    "plt.subplot(1, 2, 1)\n",
    "plt.plot(x, y)\n",
    "plt.xlabel('parameters')\n",
    "plt.ylabel('loss')\n",
    "plt.title('Continuous')\n",
    "\n",
    "\n",
    "plt.subplot(1, 2, 2)\n",
    "plt.xlabel('parameters')\n",
    "plt.ylabel('accuracy[%]')\n",
    "xmin=3\n",
    "xmax=4\n",
    "plt.hlines(33, xmin, xmax)\n",
    "x2min=2\n",
    "x2max=3\n",
    "plt.hlines(34, x2min, x2max)\n",
    "x3min=1\n",
    "x3max=2\n",
    "plt.hlines(35, x3min, x3max)\n",
    "plt.xlim(0, 5)\n",
    "plt.ylim(30, 38)\n",
    "plt.title('not Continuous')\n",
    "plt.show()"
   ]
  },
  {
   "cell_type": "markdown",
   "metadata": {},
   "source": [
    "左図は、パラメータを変化させると、損失関数が連続的に変化することを表しており、\n",
    "\n",
    "右図は、パラメータを変化させると、認識精度が断続的に変化することを表しています。"
   ]
  },
  {
   "cell_type": "markdown",
   "metadata": {},
   "source": [
    "何と無くイメージが湧いてきましたか？\n",
    "\n",
    "これを聞くと損失関数がなんだか重要に感じてきちゃいますよね。\n",
    "\n",
    "それにしても今回は文章が多いですね。\n",
    "\n",
    "しかし、大切な内容となっていますので読み飛ばさずしっかり理解してから次に進んでくださいね！\n",
    "\n",
    "それでは、微分について学習していきましょう！"
   ]
  },
  {
   "cell_type": "markdown",
   "metadata": {},
   "source": [
    "## 4. 数値微分"
   ]
  },
  {
   "cell_type": "markdown",
   "metadata": {},
   "source": [
    "先ほど微分を使うことで重みのパラメータを更新することができると言いました。\n",
    "\n",
    "そんな微分も大事な内容なのでじっくり学んでいきましょう。"
   ]
  },
  {
   "cell_type": "markdown",
   "metadata": {},
   "source": [
    "### 4-1. 微分"
   ]
  },
  {
   "cell_type": "markdown",
   "metadata": {},
   "source": [
    "微分とは何か。\n",
    "\n",
    "学校でやった気はするけど、\n",
    "\n",
    "$$\n",
    "  f(x) = x^2 \\\\\n",
    "  \\frac{d}{dx}f(x) = 2x\n",
    "$$"
   ]
  },
  {
   "cell_type": "markdown",
   "metadata": {},
   "source": [
    "こんな感じのやつ。\n",
    "\n",
    "計算はできるけど、これが何を意味してるかはあんまり説明できない。\n",
    "\n",
    "という方も多いのではないでしょうか。\n",
    "\n",
    "普通に生活してて微分なんて意識しないですもんね。\n",
    "\n",
    "簡単に説明すると、微分とは\n",
    "\n",
    "#### 「ある瞬間」の変化の量\n",
    "\n",
    "を表したものになります。\n",
    "\n",
    "車を想像してもらうとわかりやすいかもしれません。\n",
    "\n",
    "車が止まっている状態からアクセルを踏むと車は動き始めますよね。\n",
    "\n",
    "微量であったとしてもこの車は速度を持っています。\n",
    "\n",
    "つまり、アクセルを踏んだ瞬間に車の速度は０からある値に変化したと言えます。\n",
    "\n",
    "このある瞬間の変化の量が微分に当たるのです。"
   ]
  },
  {
   "cell_type": "markdown",
   "metadata": {},
   "source": [
    "<img src=\"img3_11.png\" style=\"width: 500px; float:left;\">"
   ]
  },
  {
   "cell_type": "markdown",
   "metadata": {},
   "source": [
    "図4-1"
   ]
  },
  {
   "cell_type": "markdown",
   "metadata": {},
   "source": [
    "では微分を数式で見ていきます。"
   ]
  },
  {
   "cell_type": "markdown",
   "metadata": {},
   "source": [
    "$$\n",
    "    \\frac{df(x)}{dx} = \\lim_{h\\to 0}\\frac{f(x+h)-f(x)}{h}\n",
    "$$"
   ]
  },
  {
   "cell_type": "markdown",
   "metadata": {},
   "source": [
    "左辺の$$\\frac{df(x)}{dx}$$は、「f(x)」の「x」についての微分、\n",
    "\n",
    "つまり、「x」に対する「f(x)」の変化の度合いを表しています。"
   ]
  },
  {
   "cell_type": "markdown",
   "metadata": {},
   "source": [
    "それに対し、右辺は「x」を微小変化させると「f(x)」がどれだけ変化するかというのを表しています。\n",
    "\n",
    "微小変化を表しているのが「h」になります。\n",
    "\n",
    "この「h」を「lim<sub>h→0</sub>」によって限りなく０に近づけることで微小量としています。"
   ]
  },
  {
   "cell_type": "markdown",
   "metadata": {},
   "source": [
    "<img src=\"img3_12.png\" style=\"width: 450px; float:left;\">"
   ]
  },
  {
   "cell_type": "markdown",
   "metadata": {},
   "source": [
    "図4-2"
   ]
  },
  {
   "cell_type": "markdown",
   "metadata": {},
   "source": [
    "それでは微分を実装していきましょう。\n",
    "\n",
    "##### 【問題4-1】微分計算を実装してください。微小量は「h=10e-50」としてください。"
   ]
  },
  {
   "cell_type": "code",
   "execution_count": null,
   "metadata": {},
   "outputs": [],
   "source": [
    "######以下にコードを書いてください######\n",
    "def numerical_diff(f, x):\n",
    "\n",
    "######「Shift + Enter」を押してください######"
   ]
  },
  {
   "cell_type": "markdown",
   "metadata": {},
   "source": [
    "実装できましたでしょうか？\n",
    "\n",
    "それでは以下の「・・・」を押して確認してみてください。\n",
    "\n",
    "上記の数式を参考にして実装すると以下のようになると思います。"
   ]
  },
  {
   "cell_type": "code",
   "execution_count": 3,
   "metadata": {
    "jupyter": {
     "source_hidden": true
    }
   },
   "outputs": [],
   "source": [
    "def numerical_diff(f, x):\n",
    "    h = 10e-50\n",
    "    return (f(x+h)-f(x)) / h"
   ]
  },
  {
   "cell_type": "markdown",
   "metadata": {},
   "source": [
    "お！一緒だ！ってなった人\n",
    "方には、\n",
    "\n",
    "おめでとうございます！と言いたいのですが、実は改善すべきポイントがあるのです。\n",
    "\n",
    "先ほど数式の説明のところで「h」を限りなく０に近づけると言いました。\n",
    "\n",
    "そのため、実装の際には「h=10e-50」を使ってもらいました。\n",
    "\n",
    "「10e-50」は「10<sup>-50</sup>」を表しており、「0.0000…0001」といった小さな値となります。\n",
    "\n",
    "ここに一つ改善点があります。\n",
    "\n",
    "こちらから「10e-50」を使うよう指定したのに、引っ掛けじゃないか！って思いますよね。\n",
    "\n",
    "それに関してはごめんなさい。ということで話を戻します。\n",
    "\n",
    "「10e-50」という小さな値を使ってしまうと、**「丸め誤差」**という問題が起きてしまいます。\n",
    "\n",
    "「丸め誤差」とは、少数の小さな範囲において数値が省略されることで最終的な計算結果に誤差が生じることを言います。"
   ]
  },
  {
   "cell_type": "markdown",
   "metadata": {},
   "source": [
    "<img src=\"img3_13.png\" style=\"width: 600px; float:left;\">"
   ]
  },
  {
   "cell_type": "markdown",
   "metadata": {},
   "source": [
    "図4-3"
   ]
  },
  {
   "cell_type": "markdown",
   "metadata": {},
   "source": [
    "実際に確認してみましょう。"
   ]
  },
  {
   "cell_type": "code",
   "execution_count": 21,
   "metadata": {},
   "outputs": [
    {
     "data": {
      "text/plain": [
       "0.0"
      ]
     },
     "execution_count": 21,
     "metadata": {},
     "output_type": "execute_result"
    }
   ],
   "source": [
    "np.float32(1e-50)\n",
    "######「Shift + Enter」を押してください######"
   ]
  },
  {
   "cell_type": "markdown",
   "metadata": {},
   "source": [
    "微小量だからといって、ただただ小さい数字を使えばいいということではないということがわかりますね。\n",
    "\n",
    "ではどうすればいいのか。\n",
    "\n",
    "「h=10<sup>-4</sup>」として計算すればいいのです。\n",
    "\n",
    "この値を使えば、いい値が求められるということがわかっているので、こういうものだと思って使ってください。\n",
    "\n",
    "これで何事もなく実装できる。と安心するのはまだ早いです！\n",
    "\n",
    "まだもう一つ改善点が残っています。\n",
    "\n",
    "微分の式を思い出してください。"
   ]
  },
  {
   "cell_type": "markdown",
   "metadata": {},
   "source": [
    "$$\n",
    "   \\frac{df(x)}{dx} = \\lim_{h\\to 0}\\frac{f(x+h)-f(x)}{h}\n",
    "$$"
   ]
  },
  {
   "cell_type": "markdown",
   "metadata": {},
   "source": [
    "この数式の"
   ]
  },
  {
   "cell_type": "markdown",
   "metadata": {},
   "source": [
    "$$\n",
    "    f(x+h) - f(x)\n",
    "$$"
   ]
  },
  {
   "cell_type": "markdown",
   "metadata": {},
   "source": [
    "は、関数fの差分を計算していますが、この計算には誤差が生じてしまいます。\n",
    "\n",
    "それはなぜか。\n",
    "\n",
    "本来、微分によって求められるのは、ある瞬間の変化量であり、\n",
    "\n",
    "ある関数の「x」の位置での関数の傾き、つまり接線の傾きになります。\n"
   ]
  },
  {
   "cell_type": "markdown",
   "metadata": {},
   "source": [
    "<img src=\"img3_14.png\" style=\"width: 450px; float:left;\">"
   ]
  },
  {
   "cell_type": "markdown",
   "metadata": {},
   "source": [
    "図4-4"
   ]
  },
  {
   "cell_type": "markdown",
   "metadata": {},
   "source": [
    "今度は上記の数式の右辺に注目してください。\n",
    "\n",
    "これは、「x」と「x+h」の間の傾きを計算しています。\n",
    "\n",
    "つまり以下のような直線になります（先ほどの図と重ねた直線を示します）。"
   ]
  },
  {
   "cell_type": "markdown",
   "metadata": {},
   "source": [
    "<img src=\"img3_15.png\" style=\"width: 450px; float:left;\">"
   ]
  },
  {
   "cell_type": "markdown",
   "metadata": {},
   "source": [
    "図4-5"
   ]
  },
  {
   "cell_type": "markdown",
   "metadata": {},
   "source": [
    "このことからわかるように、今まで見てきた微分の式で得られる値と真の微分の値の間には差異が生まれてしまいます。\n",
    "\n",
    "うーん困ったものですね。\n",
    "\n",
    "どうしたらいいのでしょうか。\n",
    "\n",
    "もちろん、改善策は用意してあります！\n",
    "\n",
    "**「中心差分」**というものを導入します。\n",
    "\n",
    "「中心差分」とは、(x+h)と(x-h)での関数fの差分を計算する手法になります。\n",
    "\n",
    "以下の図を見てみてください。"
   ]
  },
  {
   "cell_type": "markdown",
   "metadata": {},
   "source": [
    "<img src=\"img3_16.png\" style=\"width: 450px; float:left;\">"
   ]
  },
  {
   "cell_type": "markdown",
   "metadata": {},
   "source": [
    "図4-6\n",
    "\n",
    "少しわかりにくいですが、青色の直線とオレンジ色の直線が平行関係にあるように見えます。\n",
    "\n",
    "平行であるということは、二つの直線の傾きが等しいということになります。\n",
    "\n",
    "つまり、「中心差分」を使えば真の微分の値と近い数値を得ることができるのです。"
   ]
  },
  {
   "cell_type": "markdown",
   "metadata": {},
   "source": [
    "##### 【問題4-2】中心差分を使って、微分を実装してください。\n",
    "微小量は「h=0.0001」にしてください。"
   ]
  },
  {
   "cell_type": "code",
   "execution_count": null,
   "metadata": {},
   "outputs": [],
   "source": [
    "######以下にコードを書いてください######\n",
    "\n",
    "\n",
    "######「Shift + Enter」を押してください######"
   ]
  },
  {
   "cell_type": "code",
   "execution_count": 1,
   "metadata": {
    "jupyter": {
     "source_hidden": true
    }
   },
   "outputs": [],
   "source": [
    "def numerical_diff(f, x):\n",
    "    h = 10e-4\n",
    "    return (f(x+h)-f(x-h)) / (2*h)"
   ]
  },
  {
   "cell_type": "markdown",
   "metadata": {},
   "source": [
    "### 4-2. 数値微分の実際の計算"
   ]
  },
  {
   "cell_type": "markdown",
   "metadata": {},
   "source": [
    "では、微分の式を使って実際に計算して見ましょう。\n",
    "\n",
    "今回は以下の関数を微分します。"
   ]
  },
  {
   "cell_type": "markdown",
   "metadata": {},
   "source": [
    "$$\n",
    "    f(x) = 0.01x^2 + 0.1x\n",
    "$$"
   ]
  },
  {
   "cell_type": "markdown",
   "metadata": {},
   "source": [
    "この式をPythonで実装すると、"
   ]
  },
  {
   "cell_type": "code",
   "execution_count": 6,
   "metadata": {},
   "outputs": [],
   "source": [
    "def function_1(x):\n",
    "    return 0.01*x**2 + 0.1*x"
   ]
  },
  {
   "cell_type": "markdown",
   "metadata": {},
   "source": [
    "ではこの関数を描画して見ましょう。\n",
    "\n",
    "【問題９】下記の関数を描画してください。\n",
    "$$\n",
    "   f(x) = 0.01x^2 + 0.1x\n",
    "$$\n",
    "範囲は、\n",
    "$$\n",
    "    0 ≦ x ≦ 20\n",
    "$$\n",
    "としてください。"
   ]
  },
  {
   "cell_type": "code",
   "execution_count": 4,
   "metadata": {},
   "outputs": [],
   "source": [
    "######以下にコードを書いてください######\n",
    "import matplotlib.pyplot as plt\n",
    "\n",
    "\n",
    "######「Shift + Enter」を押してください######"
   ]
  },
  {
   "cell_type": "code",
   "execution_count": 7,
   "metadata": {
    "jupyter": {
     "source_hidden": true
    }
   },
   "outputs": [
    {
     "data": {
      "image/png": "[encoded data removed]",
      "text/plain": [
       "<Figure size 432x288 with 1 Axes>"
      ]
     },
     "metadata": {
      "needs_background": "light"
     },
     "output_type": "display_data"
    }
   ],
   "source": [
    "import numpy as np\n",
    "\n",
    "x = np.arange(0.0, 20.0, 0.1)\n",
    "y = function_1(x)\n",
    "plt.plot(x, y)\n",
    "plt.xlabel('x')\n",
    "plt.ylabel('f(x)')\n",
    "plt.show()"
   ]
  },
  {
   "cell_type": "markdown",
   "metadata": {},
   "source": [
    "図4-7"
   ]
  },
  {
   "cell_type": "markdown",
   "metadata": {},
   "source": [
    "それでは、この関数の微分を、「x=5」と「x=10」の時でそれぞれ計算して見ましょう。\n",
    "\n",
    "##### 【問題4-3】「x=5」と「x=10」の時の微分を計算してください。"
   ]
  },
  {
   "cell_type": "code",
   "execution_count": null,
   "metadata": {},
   "outputs": [],
   "source": [
    "######「x=5の時」######\n",
    "######以下にコードを書いてください######\n",
    "\n",
    "\n",
    "######「Shift + Enter」を押してください######"
   ]
  },
  {
   "cell_type": "code",
   "execution_count": null,
   "metadata": {},
   "outputs": [],
   "source": [
    "######「x=10の時」######\n",
    "######以下にコードを書いてください######\n",
    "\n",
    "\n",
    "######「Shift + Enter」を押してください######"
   ]
  },
  {
   "cell_type": "markdown",
   "metadata": {},
   "source": [
    "「x=5」の時は、0.20に近い値、\n",
    "\n",
    "「x=10」の時は、0.299に近い値が表示されると思います。\n",
    "\n",
    "ここで計算した微分の値は、xに対するf(x)の変化の量であり、これは関数の傾きに対応します。\n",
    "\n",
    "なお、\n",
    "$$\n",
    "    f(x) = 0.01x^2 + 0.1x\n",
    "$$\n",
    "の解析的な解は、\n",
    "$$\n",
    "    \\frac{df(x)}{dx} = 0.02x + 0.1\n",
    "$$\n",
    "になります。\n",
    "\n",
    "この式に、「x=5」と「x=10」を代入すると「真の微分」は、\n",
    "$$\n",
    "    0.02×5 + 0.1 = 0.2\\\\\n",
    "    0.02×10 + 0.1 = 0.3\n",
    "$$\n",
    "と計算することができます。\n",
    "\n",
    "この結果と先ほどPythonで実装した結果を比べてみると、わずかに誤差はありますが、ほとんど一緒であるということがわかります。\n",
    "\n",
    "ってことは、"
   ]
  },
  {
   "cell_type": "code",
   "execution_count": 6,
   "metadata": {},
   "outputs": [],
   "source": [
    "def numerical_diff(f, x):\n",
    "    h = 1e-4\n",
    "    return (f(x+h)-f(x-h)) / (2*h)"
   ]
  },
  {
   "cell_type": "markdown",
   "metadata": {},
   "source": [
    "これを使えば微分をある程度正確に計算することができますね！\n",
    "\n",
    "それでは、偏微分に移っていきます。"
   ]
  },
  {
   "cell_type": "markdown",
   "metadata": {},
   "source": [
    "### 4-3. 偏微分"
   ]
  },
  {
   "cell_type": "markdown",
   "metadata": {},
   "source": [
    "皆さんは、「偏微分」をご存知ですか？\n",
    "\n",
    "「偏微分」とは、\n",
    "\n",
    "**多変数関数において特定の文字だけを変数とし、それ以外を定数として微分する**\n",
    "\n",
    "というものになります。\n",
    "\n",
    "文章だけだとややこしいですね。\n",
    "\n",
    "では、以下のような式を見て見ましょう。\n",
    "\n",
    "$$\n",
    "    f(x, y) = x^3 + 2xy + y^2\n",
    "$$\n",
    "\n",
    "この式を偏微分してみましょう。\n",
    "\n",
    "先ほどの定義を元に、「x」を変数、「y」を定数として微分してみるとどうなるでしょうか。\n",
    "\n",
    "「x」で偏微分すると、\n",
    "\n",
    "$$\n",
    "    \\frac{df(x, y)}{dx} = 3x^2 + 2y\n",
    "$$\n",
    "\n",
    "となります。\n",
    "\n",
    "細かく分解すると、\n",
    "\n",
    "$$\n",
    "    \\frac{d(x^3)}{dx} = 3x^2\\\\\n",
    "    \\frac{d(2xy)}{dx} = 2y\\\\\n",
    "    \\frac{d(y^2)}{dx} = 0\n",
    "$$\n",
    "\n",
    "「x」を変数としているので、いつも通り微分し、「y」は定数なので「y」だけの場合は、０になりますね。"
   ]
  },
  {
   "cell_type": "markdown",
   "metadata": {},
   "source": [
    "「y」を変数、「x」を定数としたらどうなるでしょうか。\n",
    "\n",
    "考えて見てください。\n",
    "\n",
    "答えは、\n",
    "\n",
    "$$\n",
    "    \\frac{df(x, y)}{dy} = 2x + 2y\n",
    "$$\n",
    "\n",
    "となります。"
   ]
  },
  {
   "cell_type": "markdown",
   "metadata": {},
   "source": [
    "それでは、Pythonで実装していきましょう。\n",
    "\n",
    "今回は、\n",
    "$$\n",
    "    f(x_0, x_1) = x_0^2 + x_1^2\n",
    "$$\n",
    "を計算していきます。\n",
    "\n",
    "この式は以下の２パターンで実装できます。"
   ]
  },
  {
   "cell_type": "code",
   "execution_count": 28,
   "metadata": {},
   "outputs": [],
   "source": [
    "def function_2(x):\n",
    "    return x[0]**2 + x[1]**2\n",
    "\n",
    "def function_3(x):\n",
    "    return np.sum(x**2)\n",
    "######「Shift + Enter」######"
   ]
  },
  {
   "cell_type": "markdown",
   "metadata": {},
   "source": [
    "これは、引数「x」にNumpy配列が入力されることを想定しています。\n",
    "\n",
    "これはどんなグラフになるのでしょうか。\n",
    "\n",
    "描画して、見てみましょう。"
   ]
  },
  {
   "cell_type": "code",
   "execution_count": 2,
   "metadata": {
    "jupyter": {
     "source_hidden": true
    }
   },
   "outputs": [
    {
     "data": {
      "image/png": "[encoded data removed]",
      "text/plain": [
       "<Figure size 432x288 with 1 Axes>"
      ]
     },
     "metadata": {
      "needs_background": "light"
     },
     "output_type": "display_data"
    }
   ],
   "source": [
    "from mpl_toolkits.mplot3d import Axes3D\n",
    "import matplotlib.pyplot as plt\n",
    "import numpy as np\n",
    "\n",
    "def function_2(x):\n",
    "    return x[0]**2 + x[1]**2\n",
    "\n",
    "x0 = np.arange(-3.0, 3.0, 0.1)\n",
    "x1 = np.arange(-3.0, 3.0, 0.1)\n",
    "x = np.meshgrid(x0, x1)\n",
    "z = function_2(x)\n",
    "fig = plt.figure()\n",
    "ax = Axes3D(fig)\n",
    "ax.set_xlabel('x0')\n",
    "ax.set_ylabel('x1')\n",
    "ax.set_zlabel('f(x)')\n",
    "ax.plot_wireframe(x[0], x[1], z)\n",
    "plt.show()"
   ]
  },
  {
   "cell_type": "markdown",
   "metadata": {},
   "source": [
    "図4-8"
   ]
  },
  {
   "cell_type": "markdown",
   "metadata": {},
   "source": [
    "漁師さんが海で投げてそうな網のようなグラフが出てきました。\n",
    "\n",
    "これが、\n",
    "$$\n",
    "    f(x_0, x_1) = x_0^2 + x_1^2\n",
    "$$\n",
    "\n",
    "のグラフになります。\n",
    "\n",
    "描画の仕方が気になる方は、「・・・」を押してみてください。\n",
    "\n",
    "特別、解説はしません。"
   ]
  },
  {
   "cell_type": "markdown",
   "metadata": {},
   "source": [
    "それでは、この関数の微分を求めたいと思います。\n",
    "\n",
    "①  　x<sub>0</sub> = 3,　x<sub>1</sub> = 4のとき、x<sub>0</sub>に対する偏微分\n",
    "$$\n",
    "    \\frac{∂f}{∂x_0}\n",
    "$$\n",
    "\n",
    "を求めよ。"
   ]
  },
  {
   "cell_type": "code",
   "execution_count": 31,
   "metadata": {},
   "outputs": [
    {
     "data": {
      "text/plain": [
       "5.999999999998451"
      ]
     },
     "execution_count": 31,
     "metadata": {},
     "output_type": "execute_result"
    }
   ],
   "source": [
    "def function_tmp1(x0):\n",
    "    return x0*x0 + 4.0**2.0\n",
    "\n",
    "numerical_diff(function_tmp1, 3)\n",
    "######「Shift + Enter」を押してください######"
   ]
  },
  {
   "cell_type": "markdown",
   "metadata": {},
   "source": [
    "まず、「x<sub>0</sub>」を変数、「x<sub>1</sub>」を定数とします。\n",
    "\n",
    "そのため、\n",
    "$$\n",
    "    f(x_0, x_1) = x_0^2 + x_1^2\n",
    "$$\n",
    "\n",
    "という式を、\n",
    "$$\n",
    "    f(x_0, 4) = x_0^2 + 4^2\n",
    "$$\n",
    "\n",
    "といった「x<sub>1</sub>」に「4」を代入した式に変形します。\n",
    "\n",
    "その後、この式を「x<sub>0</sub>」で微分します。\n",
    "\n",
    "それでは、もう一つのパターンを計算してみてください。"
   ]
  },
  {
   "cell_type": "markdown",
   "metadata": {},
   "source": [
    "②  　x<sub>0</sub> = 3,　x<sub>1</sub> = 4のとき、x<sub>1</sub>に対する偏微分\n",
    "$$\n",
    "    \\frac{∂f}{∂x_1}\n",
    "$$\n",
    "\n",
    "を求めよ。"
   ]
  },
  {
   "cell_type": "code",
   "execution_count": 30,
   "metadata": {},
   "outputs": [],
   "source": [
    "######以下にコードを書いてください######\n",
    "\n",
    "\n",
    "\n",
    "######「Shift + Enter」を押してください######"
   ]
  },
  {
   "cell_type": "markdown",
   "metadata": {},
   "source": [
    "8.000000000000895と表示されると思います。\n",
    "\n",
    "このように、偏微分をPythonで実装するときには、ある特定の変数以外は定数として関数を置き換えてから、特定の変数で微分を行います。"
   ]
  },
  {
   "cell_type": "markdown",
   "metadata": {},
   "source": [
    "【問題4-4】x = 2.0, y = 3.0, z = 4.0のとき、xに対する偏微分\n",
    "$$\n",
    "    \\frac{∂f}{∂x}\n",
    "$$\n",
    "\n",
    "を求めよ。\n",
    "\n",
    "以下の式を用いること。\n",
    "$$\n",
    "    f(x, y, z) = x^2 + 3xy + xz^2\n",
    "$$"
   ]
  },
  {
   "cell_type": "code",
   "execution_count": 34,
   "metadata": {},
   "outputs": [],
   "source": [
    "######以下にコードを書いてください######\n",
    "\n",
    "\n",
    "######「Shift + Enter」を押してください######"
   ]
  },
  {
   "cell_type": "code",
   "execution_count": 36,
   "metadata": {
    "jupyter": {
     "source_hidden": true
    }
   },
   "outputs": [
    {
     "data": {
      "text/plain": [
       "28.999999999996362"
      ]
     },
     "execution_count": 36,
     "metadata": {},
     "output_type": "execute_result"
    }
   ],
   "source": [
    "def function_tmp3(x):\n",
    "    return x**2 + 3*3*x + x*(4**2)\n",
    "numerical_diff(function_tmp3, 2.0)"
   ]
  },
  {
   "cell_type": "markdown",
   "metadata": {},
   "source": [
    "### 4-4. 勾配"
   ]
  },
  {
   "cell_type": "markdown",
   "metadata": {},
   "source": [
    "偏微分を計算してきましたが、x<sub>0</sub>とx<sub>1</sub>を別々に計算してきました。\n",
    "\n",
    "なんだか面倒ですよね。\n",
    "\n",
    "まとめて偏微分できないの？と思う人も少なくないと思います。\n",
    "\n",
    "そこで、まとめて偏微分できる方法を紹介したいと思います。\n",
    "\n",
    "それは、「勾配」という方法です。\n",
    "\n",
    "**勾配**とは、\n",
    "\n",
    "(x<sub>0</sub>, x<sub>1</sub>)の両方の偏微分をまとめて、\n",
    "$$\n",
    "    (\\frac{∂f}{∂x_0}, \\frac{∂f}{∂x_1})\n",
    "$$\n",
    "のように、すべての変数の偏微分をベクトルとしてまとめたものを言います。\n",
    "\n",
    "これを実装すると以下のように書くことができます。"
   ]
  },
  {
   "cell_type": "code",
   "execution_count": 25,
   "metadata": {},
   "outputs": [],
   "source": [
    "def numerical_gradient(f, x):\n",
    "    h = 1e-4\n",
    "    grad = np.zeros_like(x)\n",
    "    \n",
    "    for  idx in range(x.size):\n",
    "        tmp_val = x[idx]\n",
    "        x[idx] = tmp_val + h\n",
    "        fxh1 = f(x)\n",
    "        \n",
    "        x[idx] = tmp_val - h\n",
    "        fxh2 = f(x)\n",
    "        \n",
    "        grad[idx] = (fxh1 - fxh2) / (2*h)\n",
    "        x[idx] = tmp_val\n",
    "        \n",
    "    return grad"
   ]
  },
  {
   "cell_type": "markdown",
   "metadata": {},
   "source": [
    "え…一気に複雑に…\n",
    "\n",
    "確かに今まで見てきた微分や偏微分の比べると、ややこしく見えますね。\n",
    "\n",
    "しかし、一つ一つ確認するとそんなにややこしい内容ではありません。\n",
    "\n",
    "では確認していきましょう。\n",
    "\n",
    "まず、微小量「h」の設定です。\n",
    "\n",
    "これは今まで通り「0.0001」が適切な値とされているのでこれを用います。\n",
    "\n",
    "次に、「np.zeros_like(x)」ですが、これは「x」と同じ形状の配列を作る関数になります。\n",
    "\n",
    "また、これによって作成された配列はすべて「０」で構成されています。\n",
    "\n",
    "つまり、このコードを書くことで「grad」というすべての要素が「０」である配列を作ることができます。"
   ]
  },
  {
   "cell_type": "markdown",
   "metadata": {},
   "source": [
    "<img src=\"img3_17.png\" style=\"width: 600px; float:left;\">"
   ]
  },
  {
   "cell_type": "markdown",
   "metadata": {},
   "source": [
    "図4-9"
   ]
  },
  {
   "cell_type": "markdown",
   "metadata": {},
   "source": [
    "例を見てみましょう。"
   ]
  },
  {
   "cell_type": "code",
   "execution_count": 4,
   "metadata": {},
   "outputs": [
    {
     "data": {
      "text/plain": [
       "array([0, 0, 0])"
      ]
     },
     "execution_count": 4,
     "metadata": {},
     "output_type": "execute_result"
    }
   ],
   "source": [
    "import numpy as np\n",
    "x = np.array([1, 2, 3])\n",
    "grad = np.zeros_like(x)\n",
    "grad\n",
    "######「Shift + Enter」を押してください######"
   ]
  },
  {
   "cell_type": "markdown",
   "metadata": {},
   "source": [
    "このように「x」が１×３（１行３列）の配列であれば、すべての要素が「０」である１×３（１行３列）の配列が生成されます。\n",
    "\n",
    "なぜ、このような配列を作るのか。\n",
    "\n",
    "それは、最終的に得られた微分の値をこの配列に格納するためになります。\n",
    "\n",
    "では、次のコードに移りましょう。\n",
    "\n",
    "for文では、「x」の大きさ（x.size）だけ繰り返すように指定します。\n",
    "\n",
    "また、「tmp_val」に「x[idx]」の値を代入することで、「x[idx]」の値を保存します。\n",
    "\n",
    "これによって、「x+h」や「x-h」の値を簡単に計算することができます。\n",
    "\n",
    "最終的に「x+h」と「x-h」の差分をとって「2h」で割りますが、これは今までやってきた微分計算と同じものになります。\n",
    "\n",
    "「x[idx]」は「h」を足したり引いたりしているので、「tmp_val」を代入して元の値に戻してあげます。\n",
    "\n",
    "以下に、どのような仕組みになっているのか書いてみたのでよければ、読んでみてください！"
   ]
  },
  {
   "cell_type": "markdown",
   "metadata": {},
   "source": [
    "<img src=\"img3_18.png\" style=\"width: 600px; float:left;\">"
   ]
  },
  {
   "cell_type": "markdown",
   "metadata": {},
   "source": [
    "図4-10"
   ]
  },
  {
   "cell_type": "markdown",
   "metadata": {},
   "source": [
    "##### 【問題4-5】勾配を実装してください。"
   ]
  },
  {
   "cell_type": "code",
   "execution_count": null,
   "metadata": {},
   "outputs": [],
   "source": [
    "######以下にコードを書いてください######\n",
    "\n",
    "\n",
    "\n",
    "######「Shift + Enter」を押してください######"
   ]
  },
  {
   "cell_type": "markdown",
   "metadata": {},
   "source": [
    "それでは、勾配を計算していきましょう。"
   ]
  },
  {
   "cell_type": "code",
   "execution_count": 33,
   "metadata": {},
   "outputs": [
    {
     "data": {
      "text/plain": [
       "array([6., 8.])"
      ]
     },
     "execution_count": 33,
     "metadata": {},
     "output_type": "execute_result"
    }
   ],
   "source": [
    "numerical_gradient(function_2, np.array([3.0, 4.0]))\n",
    "######「Shift + Enter」######"
   ]
  },
  {
   "cell_type": "markdown",
   "metadata": {},
   "source": [
    "今までは、片方を定数として固定することで計算していましたが、勾配という概念を導入することにより一気に計算が楽になりました。\n",
    "\n",
    "それでは、皆さんも実際に計算してみましょう。"
   ]
  },
  {
   "cell_type": "markdown",
   "metadata": {},
   "source": [
    "##### 【問題4-6】(0, 4)、(1, 2)のそれぞれにおいて勾配を計算してください。\n",
    "$$\n",
    "    f(x_0, x_1) = x_0^2 + x_1^2\n",
    "$$"
   ]
  },
  {
   "cell_type": "code",
   "execution_count": 5,
   "metadata": {},
   "outputs": [],
   "source": [
    "######以下にコードを書いてください######\n",
    "\n",
    "\n",
    "######「Shift + Enter」を押してください######"
   ]
  },
  {
   "cell_type": "markdown",
   "metadata": {},
   "source": [
    "計算できましたか？\n",
    "\n",
    "計算できるのはわかったけど、これを求めて何になるんだ？\n",
    "\n",
    "って思いますよね。\n",
    "\n",
    "この勾配は何を表しているのでしょうか。\n",
    "\n",
    "イメージしにくい時は、図に頼りましょう！\n",
    "\n",
    "ということで\n",
    "$$\n",
    "    f(x_0, x_1) = x_0^2 + x_1^2\n",
    "$$\n",
    "の勾配を以下に表してみます。"
   ]
  },
  {
   "cell_type": "code",
   "execution_count": 86,
   "metadata": {
    "jupyter": {
     "source_hidden": true
    }
   },
   "outputs": [
    {
     "data": {
      "image/png": "[encoded data removed]",
      "text/plain": [
       "<Figure size 432x288 with 1 Axes>"
      ]
     },
     "metadata": {
      "needs_background": "light"
     },
     "output_type": "display_data"
    }
   ],
   "source": [
    "import matplotlib.pyplot as plt\n",
    "\n",
    "x0 = np.arange(-2.0, 2.5, 0.25)\n",
    "x1 = np.arange(-2.0, 2.5, 0.25)\n",
    "\n",
    "x0_zero = np.zeros((18, 18))\n",
    "x1_zero = np.zeros((18, 18))\n",
    "\n",
    "for i in range(18):\n",
    "    for j in range(18):\n",
    "        d = (-1) * numerical_gradient(function_2, np.array([x0[i], x1[j]]))\n",
    "        x0_zero[j][i], x1_zero[j][i] = (d[0], d[1])\n",
    "        \n",
    "plt.xlabel('x0')\n",
    "plt.ylabel('x1')\n",
    "plt.quiver(x0, x1, x0_zero, x1_zero)\n",
    "plt.show()"
   ]
  },
  {
   "cell_type": "markdown",
   "metadata": {},
   "source": [
    "図4-11"
   ]
  },
  {
   "cell_type": "markdown",
   "metadata": {},
   "source": [
    "見えにくい方はぜひ拡大してみてください。\n",
    "\n",
    "これは、勾配の結果に「−1倍」したものになります。（矢印を極小値の方向に向けるために「-1倍」しています。）\n",
    "\n",
    "なんだか矢印がたくさんあるなぁ…。\n",
    "\n",
    "そうなんです。\n",
    "\n",
    "勾配はこのように向きを持った矢印（ベクトル）として図示されるのです。\n",
    "\n",
    "計算した結果はなぜこんな矢印になるのか。\n",
    "\n",
    "「勾配」という概念が出てきたときになんと説明したか覚えていますか？\n",
    "\n",
    "(x<sub>0</sub>, x<sub>1</sub>)の両方の偏微分をまとめて、\n",
    "$$\n",
    "    (\\frac{∂f}{∂x_0}, \\frac{∂f}{∂x_1})\n",
    "$$\n",
    "のように、\n",
    "\n",
    "#### すべての変数の偏微分をベクトルとしてまとめたもの\n",
    "\n",
    "でしたね。\n",
    "\n",
    "つまり、勾配はどの向きに進むのかを示すベクトルだったのです。\n",
    "\n",
    "さらに、勾配を「-1倍」したものは各地点において低くなる方向を指すベクトルなのです。\n",
    "\n",
    "視覚的に捉えた方がわかりやすいと思うので、以下の図をご覧ください。"
   ]
  },
  {
   "cell_type": "markdown",
   "metadata": {},
   "source": [
    "<img src=\"img3_19.png\" style=\"width: 600px; float:left;\">"
   ]
  },
  {
   "cell_type": "markdown",
   "metadata": {},
   "source": [
    "図4-12"
   ]
  },
  {
   "cell_type": "markdown",
   "metadata": {},
   "source": [
    "このようにして、様々な点において勾配を計算し「-1倍」して図示したものが先ほど示したグラフなのです。"
   ]
  },
  {
   "cell_type": "markdown",
   "metadata": {},
   "source": [
    "また、先ほどのグラフから勾配を「-1倍」したものは、\n",
    "$$\n",
    "    f(x_0, x_1) = x_0^2 + x_1^2\n",
    "$$\n",
    "の「一番低い場所（最小値）」を指していることがわかります。\n",
    "\n",
    "今回、勾配を学ぶ上で一番重要なのは、\n",
    "\n",
    "#### 「勾配を「-1倍」したものが示す方向は、各場所において関数の値を最も減らす方向」\n",
    "\n",
    "ということです！\n",
    "\n",
    "これは覚えておきましょう！\n",
    "\n",
    "________________________"
   ]
  },
  {
   "cell_type": "markdown",
   "metadata": {},
   "source": [
    "## 5. 問題集"
   ]
  },
  {
   "cell_type": "markdown",
   "metadata": {},
   "source": [
    "##### 【演習5-1】以下の手順を踏んで、損失関数を計算してください。  \n",
    "\n",
    "①損失関数として二乗和誤差を実装する。  \n",
    "②出力層の活性化関数をソフトマックス関数として、これを実装する。（実装する際、オーバーフローを起こさないように工夫すること。）  \n",
    "③出力層の前の層から伝わってきた数値をソフトマックス関数に入力し、出力層の出力値を計算する。  \n",
    "④出力値と正解ラベルを使って、損失関数の値を計算する。\n",
    "\n",
    "数値は以下の数値を使ってください。"
   ]
  },
  {
   "cell_type": "code",
   "execution_count": 9,
   "metadata": {},
   "outputs": [],
   "source": [
    "a = [1.6, 3.2, 7.6] ###出力層の前の層から伝わってきた数値\n",
    "t = [0, 0, 1]       ###正解ラベル"
   ]
  },
  {
   "cell_type": "code",
   "execution_count": null,
   "metadata": {},
   "outputs": [],
   "source": [
    "######以下にコードを書いてください######\n",
    "\n",
    "\n",
    "\n",
    "\n",
    "######「Shift + Enter」を押してください######"
   ]
  },
  {
   "cell_type": "code",
   "execution_count": 8,
   "metadata": {
    "collapsed": true,
    "jupyter": {
     "outputs_hidden": true,
     "source_hidden": true
    }
   },
   "outputs": [
    {
     "name": "stdout",
     "output_type": "stream",
     "text": [
      "[0.00244271 0.01209881 0.98545848]\n"
     ]
    },
    {
     "data": {
      "text/plain": [
       "0.00018190184207785487"
      ]
     },
     "execution_count": 8,
     "metadata": {},
     "output_type": "execute_result"
    }
   ],
   "source": [
    "import numpy as np\n",
    "def mean_squared_error(y, t):\n",
    "    return 0.5*np.sum((y-t)**2)\n",
    "\n",
    "def softmax(a):\n",
    "    c = np.max(a)\n",
    "    exp_a = np.exp(a-c)\n",
    "    sum_exp_a = np.sum(exp_a)\n",
    "    y = exp_a / sum_exp_a\n",
    "    return y\n",
    "\n",
    "a = np.array([1.6, 3.2, 7.6])\n",
    "t = np.array([0, 0, 1])\n",
    "y = softmax(a)\n",
    "print(y)\n",
    "mean_squared_error(y, t)"
   ]
  },
  {
   "cell_type": "markdown",
   "metadata": {},
   "source": [
    "##### 【演習5-2】以下の手順を踏んで、損失関数を計算してください。  \n",
    "\n",
    "①交差エントロピー誤差を実装する。  \n",
    "②出力層の活性化関数をソフトマックス関数として、これを実装する。（実装する際、オーバーフローを起こさないように工夫すること。）    \n",
    "③出力層の前の層から伝わってきた数値をソフトマックス関数に入力し、出力層の出力値を計算する。  \n",
    "④出力値と正解ラベルを使って、損失関数の値を計算する。\n",
    "\n",
    "数値は以下の数値を使ってください。"
   ]
  },
  {
   "cell_type": "code",
   "execution_count": null,
   "metadata": {},
   "outputs": [],
   "source": [
    "x = [0.1, 0.2, 0.05, 2.4, 5.7]\n",
    "t = [0, 0, 1, 0, 0]"
   ]
  },
  {
   "cell_type": "code",
   "execution_count": null,
   "metadata": {},
   "outputs": [],
   "source": [
    "######以下にコードを書いてください######\n",
    "\n",
    "\n",
    "######「Shift + Enter」を押してください######"
   ]
  },
  {
   "cell_type": "code",
   "execution_count": 11,
   "metadata": {
    "collapsed": true,
    "jupyter": {
     "outputs_hidden": true,
     "source_hidden": true
    }
   },
   "outputs": [
    {
     "name": "stdout",
     "output_type": "stream",
     "text": [
      "[0.00352787 0.0038989  0.00335582 0.03518764 0.95402977]\n"
     ]
    },
    {
     "data": {
      "text/plain": [
       "5.697030603118715"
      ]
     },
     "execution_count": 11,
     "metadata": {},
     "output_type": "execute_result"
    }
   ],
   "source": [
    "def cross_entropy_error(y, t):\n",
    "    delta = 1e-7\n",
    "    return -np.sum(t * np.log(y + delta))\n",
    "\n",
    "def softmax(a):\n",
    "    c = np.max(a)\n",
    "    exp_a = np.exp(a-c)\n",
    "    sum_exp_a = np.sum(exp_a)\n",
    "    y = exp_a / sum_exp_a\n",
    "    return y\n",
    "\n",
    "a = np.array([0.1, 0.2, 0.05, 2.4, 5.7])\n",
    "t = np.array([0, 0, 1, 0, 0])\n",
    "y = softmax(a)\n",
    "print(y)\n",
    "cross_entropy_error(y, t)"
   ]
  },
  {
   "cell_type": "markdown",
   "metadata": {},
   "source": [
    "##### 【演習5-3】以下の数式を実装し、(3, 4)における勾配を計算してください。\n",
    "$$\n",
    "    f(x_0, x_1) = 2x_0^3 + x_1^2 + 2x_0x_1\n",
    "$$"
   ]
  },
  {
   "cell_type": "code",
   "execution_count": 40,
   "metadata": {
    "jupyter": {
     "source_hidden": true
    }
   },
   "outputs": [
    {
     "data": {
      "image/png": "[encoded data removed]",
      "text/plain": [
       "<Figure size 432x288 with 1 Axes>"
      ]
     },
     "metadata": {
      "needs_background": "light"
     },
     "output_type": "display_data"
    }
   ],
   "source": [
    "from mpl_toolkits.mplot3d import Axes3D\n",
    "import matplotlib.pyplot as plt\n",
    "\n",
    "def function(x):\n",
    "    return 2*x[0]**3 + x[1]**2 + 2*x[0]*x[1]\n",
    "\n",
    "x0 = np.arange(-3.0, 3.0, 0.1)\n",
    "x1 = np.arange(-3.0, 3.0, 0.1)\n",
    "x = np.meshgrid(x0, x1)\n",
    "z = function(x)\n",
    "fig = plt.figure()\n",
    "ax = Axes3D(fig)\n",
    "ax.set_xlabel('x0')\n",
    "ax.set_ylabel('x1')\n",
    "ax.set_zlabel('f(x)')\n",
    "ax.plot_wireframe(x[0], x[1], z)\n",
    "plt.show()"
   ]
  },
  {
   "cell_type": "markdown",
   "metadata": {},
   "source": [
    "図5-1"
   ]
  },
  {
   "cell_type": "code",
   "execution_count": null,
   "metadata": {},
   "outputs": [],
   "source": [
    "######以下にコードを書いてください######\n",
    "\n",
    "\n",
    "\n",
    "######「Shift + Enter」を押してください######"
   ]
  },
  {
   "cell_type": "markdown",
   "metadata": {},
   "source": [
    "##### 【演習5-4】以下の数式を実装し、(2, 1)における勾配を計算してください。\n",
    "$$\n",
    "    f(x_0, x_1) = x_0^2 + x_1^4 + 2x_0^2x_1\n",
    "$$"
   ]
  },
  {
   "cell_type": "code",
   "execution_count": 12,
   "metadata": {
    "jupyter": {
     "source_hidden": true
    }
   },
   "outputs": [
    {
     "data": {
      "image/png": "[encoded data removed]",
      "text/plain": [
       "<Figure size 432x288 with 1 Axes>"
      ]
     },
     "metadata": {
      "needs_background": "light"
     },
     "output_type": "display_data"
    }
   ],
   "source": [
    "from mpl_toolkits.mplot3d import Axes3D\n",
    "import matplotlib.pyplot as plt\n",
    "\n",
    "def function(x):\n",
    "    return x[0]**2 + x[1]**4 + 2*(x[0]**2)*x[1]\n",
    "\n",
    "x0 = np.arange(-3.0, 3.0, 0.1)\n",
    "x1 = np.arange(-3.0, 3.0, 0.1)\n",
    "x = np.meshgrid(x0, x1)\n",
    "z = function(x)\n",
    "fig = plt.figure()\n",
    "ax = Axes3D(fig)\n",
    "ax.set_xlabel('x0')\n",
    "ax.set_ylabel('x1')\n",
    "ax.set_zlabel('f(x)')\n",
    "ax.plot_wireframe(x[0], x[1], z)\n",
    "plt.show()"
   ]
  },
  {
   "cell_type": "markdown",
   "metadata": {},
   "source": [
    "図5-2"
   ]
  },
  {
   "cell_type": "code",
   "execution_count": 13,
   "metadata": {},
   "outputs": [],
   "source": [
    "######以下にコードを書いてください######\n",
    "\n",
    "\n",
    "\n",
    "######「Shift + Enter」を押してください######"
   ]
  },
  {
   "cell_type": "markdown",
   "metadata": {},
   "source": [
    "_________"
   ]
  },
  {
   "cell_type": "markdown",
   "metadata": {},
   "source": [
    "## 6. まとめ"
   ]
  },
  {
   "cell_type": "markdown",
   "metadata": {},
   "source": [
    "お疲れ様でした！\n",
    "\n",
    "ここで、**Python**を使ってニューラルネットワークの学習を学ぶ-基礎編-を終わりたいと思います。\n",
    "\n",
    "基礎編が終了したということは、次は応用編になります！\n",
    "\n",
    "応用編ということは、内容が少し複雑になるかもしれません。\n",
    "\n",
    "しかし、今までの内容をしっかり理解していれば問題ないと思います！\n",
    "\n",
    "ということで、疲れたであろう脳をしっかり休めてあげてください！\n",
    "\n",
    "それではこの辺でさようなら！"
   ]
  },
  {
   "cell_type": "code",
   "execution_count": null,
   "metadata": {},
   "outputs": [],
   "source": []
  }
 ],
 "metadata": {
  "kernelspec": {
   "display_name": "Python 3",
   "language": "python",
   "name": "python3"
  },
  "language_info": {
   "codemirror_mode": {
    "name": "ipython",
    "version": 3
   },
   "file_extension": ".py",
   "mimetype": "text/x-python",
   "name": "python",
   "nbconvert_exporter": "python",
   "pygments_lexer": "ipython3",
   "version": "3.7.4"
  }
 },
 "nbformat": 4,
 "nbformat_minor": 4
}
