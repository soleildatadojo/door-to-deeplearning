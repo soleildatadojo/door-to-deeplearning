{
 "cells": [
  {
   "cell_type": "markdown",
   "metadata": {},
   "source": [
    "【問題2-1】"
   ]
  },
  {
   "cell_type": "code",
   "execution_count": 1,
   "metadata": {},
   "outputs": [
    {
     "name": "stdout",
     "output_type": "stream",
     "text": [
      "1\n"
     ]
    }
   ],
   "source": [
    "def h(x):\n",
    "    ######以下に活性化関数「h(x)」を実装してください######\n",
    "    if x > 0:\n",
    "        return 1\n",
    "        \n",
    "    elif x <= 0:\n",
    "        return 0\n",
    "        \n",
    "\n",
    "def per(x1, x2):\n",
    "    w1, w2, b = 0.5, 0.5, -0.3\n",
    "    ######以下にコードを書いてください######\n",
    "    a = w1*x1 + w2*x2 - b\n",
    "    y = h(a)\n",
    "    return y\n",
    "\n",
    "print(per(0, 1))\n",
    "######「Shift + Enter」を押してください######"
   ]
  },
  {
   "cell_type": "markdown",
   "metadata": {},
   "source": [
    "【問題2-2】"
   ]
  },
  {
   "cell_type": "code",
   "execution_count": 2,
   "metadata": {},
   "outputs": [
    {
     "name": "stdout",
     "output_type": "stream",
     "text": [
      "0\n"
     ]
    }
   ],
   "source": [
    "def step_function(x):\n",
    "    ######以下にコードを書いてください######\n",
    "    if x > 0:\n",
    "        return 1\n",
    "    else:\n",
    "        return 0\n",
    "    \n",
    "    \n",
    "print(step_function(-2.5))\n",
    "######「Shift + Enter」を押してください######"
   ]
  },
  {
   "cell_type": "markdown",
   "metadata": {},
   "source": [
    "【問題2-3】"
   ]
  },
  {
   "cell_type": "code",
   "execution_count": 3,
   "metadata": {},
   "outputs": [
    {
     "name": "stdout",
     "output_type": "stream",
     "text": [
      "[0.26894142 0.73105858 0.88079708]\n"
     ]
    }
   ],
   "source": [
    "import numpy as np\n",
    "def sigmoid(x):\n",
    "    return 1 / (1 + np.exp(-x))\n",
    "    \n",
    "x = np.array([-1.0, 1.0, 2.0])\n",
    "print(sigmoid(x))\n",
    "######「Shift + Enter」を押してください######"
   ]
  },
  {
   "cell_type": "markdown",
   "metadata": {},
   "source": [
    "【問題2-4】"
   ]
  },
  {
   "cell_type": "code",
   "execution_count": 4,
   "metadata": {},
   "outputs": [
    {
     "data": {
      "image/png": "[encoded data removed]",
      "text/plain": [
       "<Figure size 432x288 with 1 Axes>"
      ]
     },
     "metadata": {
      "needs_background": "light"
     },
     "output_type": "display_data"
    }
   ],
   "source": [
    "import numpy as np\n",
    "import matplotlib.pylab as plt\n",
    "######以下にコードを書いてください######\n",
    "x = np.arange(-5.0, 5.0, 0.1)\n",
    "y = sigmoid(x)\n",
    "plt.plot(x, y)\n",
    "plt.ylim(-0.1, 1.0)\n",
    "plt.show()\n",
    "######「Shift + Enter」を押してください######"
   ]
  },
  {
   "cell_type": "markdown",
   "metadata": {},
   "source": [
    "【問題2-5】"
   ]
  },
  {
   "cell_type": "code",
   "execution_count": 5,
   "metadata": {},
   "outputs": [
    {
     "name": "stdout",
     "output_type": "stream",
     "text": [
      "1\n"
     ]
    }
   ],
   "source": [
    "def ReLU(x):\n",
    "    ######以下にコードを書いてください######\n",
    "    if x > 0:\n",
    "        return x\n",
    "    else:\n",
    "        return 0\n",
    "    \n",
    "print(ReLU(1))\n",
    "######「Shift + Enter」を押してください######"
   ]
  },
  {
   "cell_type": "markdown",
   "metadata": {},
   "source": [
    "【問題2-6】\n"
   ]
  },
  {
   "cell_type": "code",
   "execution_count": 6,
   "metadata": {},
   "outputs": [
    {
     "data": {
      "image/png": "[encoded data removed]",
      "text/plain": [
       "<Figure size 432x288 with 1 Axes>"
      ]
     },
     "metadata": {
      "needs_background": "light"
     },
     "output_type": "display_data"
    }
   ],
   "source": [
    "import numpy as np\n",
    "import matplotlib.pylab as plt\n",
    "\n",
    "######以下にコードを書いてください######\n",
    "######np.maximum()を使って実装してください######\n",
    "def ReLU(x):\n",
    "    return np.maximum(0, x)\n",
    "\n",
    "######以下にグラフを描画するコードを書いてください######    \n",
    "x = np.arange(-5.0, 5.0, 0.1)\n",
    "y = ReLU(x)\n",
    "plt.plot(x, y)\n",
    "plt.ylim(-0.1, 5.0)\n",
    "plt.show()\n",
    "######「Shift + Enter」を押してください######"
   ]
  },
  {
   "cell_type": "markdown",
   "metadata": {},
   "source": [
    "【問題3-1】"
   ]
  },
  {
   "cell_type": "code",
   "execution_count": 7,
   "metadata": {},
   "outputs": [
    {
     "name": "stdout",
     "output_type": "stream",
     "text": [
      "[1 2 3 4]\n"
     ]
    }
   ],
   "source": [
    "import numpy as np\n",
    "######「np.array([])」を用いて一次元配列を作成してください######\n",
    "######数字は「1, 2, 3, 4」にしてください######\n",
    "A = np.array([1, 2, 3, 4])\n",
    "print(A)\n",
    "######「Shift + Enter」を押してください######"
   ]
  },
  {
   "cell_type": "markdown",
   "metadata": {},
   "source": [
    "【問題3-2】\n",
    "この問題ではどんな数字を選んでもらっても構いません。\n",
    "以下の通りでも構いませんが、できれば違う数字や違う形状を試してみてください。"
   ]
  },
  {
   "cell_type": "code",
   "execution_count": 8,
   "metadata": {},
   "outputs": [
    {
     "name": "stdout",
     "output_type": "stream",
     "text": [
      "[[[ 1  2]\n",
      "  [ 5  6]]\n",
      "\n",
      " [[ 7  8]\n",
      "  [ 9 10]]]\n",
      "3\n",
      "(2, 2, 2)\n"
     ]
    }
   ],
   "source": [
    "###### example ######\n",
    "import numpy as np\n",
    "C = np.array([[[1, 2],[5, 6]], [[7, 8],[9, 10]]])\n",
    "print(C)\n",
    "print(np.ndim(C))\n",
    "print(C.shape)\n",
    "######「Shift + Enter」を押してください######"
   ]
  },
  {
   "cell_type": "markdown",
   "metadata": {},
   "source": [
    "【問題3-3】\n",
    "２×３の行列と３×２の行列であればどんな数字でも構いません。"
   ]
  },
  {
   "cell_type": "code",
   "execution_count": 9,
   "metadata": {},
   "outputs": [
    {
     "name": "stdout",
     "output_type": "stream",
     "text": [
      "[[22 28]\n",
      " [49 64]]\n"
     ]
    }
   ],
   "source": [
    "###### example ######\n",
    "A = np.array([[1, 2, 3], [4, 5, 6]])\n",
    "B = np.array([[1, 2], [3, 4], [5, 6]])\n",
    "C = np.dot(A, B)\n",
    "print(C)"
   ]
  },
  {
   "cell_type": "markdown",
   "metadata": {},
   "source": [
    "【問題3-4】\n",
    "この問題で重要なのは、形状です。\n",
    "数字の並びはなんでも構いません。\n",
    "計算結果の結果が３×１になるように考えてみてください。"
   ]
  },
  {
   "cell_type": "code",
   "execution_count": 10,
   "metadata": {},
   "outputs": [
    {
     "name": "stdout",
     "output_type": "stream",
     "text": [
      "[[23]\n",
      " [53]\n",
      " [83]]\n"
     ]
    }
   ],
   "source": [
    "###### example ######\n",
    "A = np.array([[1, 2], [3, 4], [5, 6]])\n",
    "B = np.array([[7], [8]])\n",
    "C = np.dot(A, B)\n",
    "print(C)"
   ]
  },
  {
   "cell_type": "markdown",
   "metadata": {},
   "source": [
    "【問題3-5】"
   ]
  },
  {
   "cell_type": "code",
   "execution_count": 11,
   "metadata": {},
   "outputs": [
    {
     "name": "stdout",
     "output_type": "stream",
     "text": [
      "[0.42672206 0.72332636]\n"
     ]
    }
   ],
   "source": [
    "def sigmoid(x):\n",
    "    return 1 / (1 + np.exp(-x))\n",
    "def identity_function(x):\n",
    "    return x\n",
    "\n",
    "X = np.array([1.0, 0.5, 0.5]) ######「入力信号は３つ」######\n",
    "W1 = np.array([[0.1, 0.2, 0.1, 0.5],\n",
    "               [0.2, 0.1, 0.3, 0.4],\n",
    "               [0.3, 0.2, 0.6, 0.2]]) ######「重みは３×４」######\n",
    "B1 = np.array([0.1, 0.2, 0.2, 0.3]) ######「バイアスは４つ」######\n",
    "W2 = np.array([[0.1, 0.4],\n",
    "               [0.2, 0.1],\n",
    "               [0.3, 0.6],\n",
    "               [0.2, 0.5]]) ######「重みは４×２」######\n",
    "B2 = np.array([0.3, 0.2]) ######「バイアスは２つ」######\n",
    "W3 = np.array([[0.1, 0.3],\n",
    "               [0.2, 0.4]]) ######「重みは２×２」######\n",
    "B3 = np.array([0.2, 0.2])######「バイアスは２つ」######\n",
    "\n",
    "a1 = np.dot(X, W1) + B1\n",
    "z1 = sigmoid(a1)\n",
    "a2 = np.dot(z1, W2) + B2\n",
    "z2 = sigmoid(a2)\n",
    "z3 = np.dot(z2, W3) + B3\n",
    "y = identity_function(z3)\n",
    "\n",
    "print(y)"
   ]
  },
  {
   "cell_type": "markdown",
   "metadata": {},
   "source": [
    "【問題3-6】「・・・」を押してください。\n",
    "ここではディクショナリの使い方や取り出し方を学んでもらえれば大丈夫です。"
   ]
  },
  {
   "cell_type": "code",
   "execution_count": 12,
   "metadata": {},
   "outputs": [
    {
     "name": "stdout",
     "output_type": "stream",
     "text": [
      "660\n"
     ]
    }
   ],
   "source": [
    "price = {'apple':100, 'orange':120}\n",
    "money = 0\n",
    "for value in price.values():\n",
    "    money += value\n",
    "\n",
    "total = money * 3\n",
    "print(total)"
   ]
  },
  {
   "cell_type": "markdown",
   "metadata": {},
   "source": [
    "【問題4-1】"
   ]
  },
  {
   "cell_type": "code",
   "execution_count": 2,
   "metadata": {},
   "outputs": [],
   "source": [
    "######以下にコードを書いてください######\n",
    "def softmax(a):\n",
    "    exp_a = np.exp(a) \n",
    "    sum_exp_a = np.sum(exp_a)\n",
    "    y = exp_a / sum_exp_a\n",
    "    return y\n",
    "######「Shift + Enter」を書いてください######"
   ]
  },
  {
   "cell_type": "markdown",
   "metadata": {},
   "source": [
    "【問題4-2】"
   ]
  },
  {
   "cell_type": "code",
   "execution_count": 14,
   "metadata": {},
   "outputs": [
    {
     "name": "stdout",
     "output_type": "stream",
     "text": [
      "[9.99954600e-01 4.53978686e-05 2.06106005e-09]\n"
     ]
    }
   ],
   "source": [
    "def softmax(a):\n",
    "    c = np.max(a)\n",
    "    exp_a = np.exp(a - c)\n",
    "    sum_exp_a = np.sum(exp_a)\n",
    "    y = exp_a / sum_exp_a\n",
    "    return y\n",
    "a = np.array([1010, 1000, 990])\n",
    "print(softmax(a))\n",
    "######「Shift + Enter」を押してください######"
   ]
  },
  {
   "cell_type": "markdown",
   "metadata": {},
   "source": [
    "【問題5-1】"
   ]
  },
  {
   "cell_type": "code",
   "execution_count": 6,
   "metadata": {},
   "outputs": [],
   "source": [
    "from PIL import Image\n",
    "import os \n",
    "import matplotlib.pyplot as plt\n",
    "from sklearn import datasets\n",
    "\n",
    "mnist = datasets.fetch_openml('mnist_784', data_home=os.pardir)\n",
    "data = mnist.data\n",
    "\n",
    "def img_show(img):\n",
    "    pil_img = Image.fromarray(np.uint8(img))\n",
    "    pil_img.show()\n",
    "    \n",
    "img_show(data[1].reshape(28, 28))"
   ]
  },
  {
   "cell_type": "code",
   "execution_count": 7,
   "metadata": {},
   "outputs": [
    {
     "name": "stdout",
     "output_type": "stream",
     "text": [
      "Stored 'mnist' (Bunch)\n"
     ]
    }
   ],
   "source": [
    "%store mnist"
   ]
  },
  {
   "cell_type": "code",
   "execution_count": 8,
   "metadata": {},
   "outputs": [
    {
     "data": {
      "image/png": "[encoded data removed]",
      "text/plain": [
       "<Figure size 432x288 with 1 Axes>"
      ]
     },
     "metadata": {
      "needs_background": "light"
     },
     "output_type": "display_data"
    }
   ],
   "source": [
    "import os \n",
    "import matplotlib.pyplot as plt\n",
    "from sklearn import datasets\n",
    "\n",
    "mnist = datasets.fetch_openml('mnist_784', data_home=os.pardir)\n",
    "data = mnist.data\n",
    "\n",
    "plt.imshow(data[1].reshape(28, 28), cmap='gray')\n",
    "plt.show()"
   ]
  },
  {
   "cell_type": "markdown",
   "metadata": {},
   "source": [
    "以下、MNISTデータを読み込むのに時間がかかるので、\n",
    "\n",
    "データを保存する「%store」を使います。"
   ]
  },
  {
   "cell_type": "code",
   "execution_count": 9,
   "metadata": {},
   "outputs": [
    {
     "data": {
      "image/png": "[encoded data removed]",
      "text/plain": [
       "<Figure size 432x288 with 1 Axes>"
      ]
     },
     "metadata": {
      "needs_background": "light"
     },
     "output_type": "display_data"
    }
   ],
   "source": [
    "import os \n",
    "import matplotlib.pyplot as plt\n",
    "from sklearn import datasets\n",
    "\n",
    "%store -r\n",
    "data = mnist.data\n",
    "\n",
    "plt.imshow(data[1].reshape(28, 28), cmap='gray')\n",
    "plt.show()"
   ]
  },
  {
   "cell_type": "markdown",
   "metadata": {},
   "source": [
    "【問題5-2】この問題は解くというより、このようにコードを書くことで三層ニューラルネットワークが実装できるということを頭に入れてください。\n",
    "このコードは何を意味するのか。\n",
    "どうすればこうなるのかを一つ一つ確認してください。"
   ]
  },
  {
   "cell_type": "code",
   "execution_count": null,
   "metadata": {},
   "outputs": [],
   "source": [
    "class Network():\n",
    "    def __init__(self, input_col_length,  ##入力値の列数\n",
    "                 node1_col_length,  ##一つ目の隠れ層のノード数\n",
    "                 node2_col_length,  ##二つ目の隠れ層のノード数\n",
    "                 output_col_length, ##出力層の列数\n",
    "                 weight_init_std   = 0.01):\n",
    "        \n",
    "        self.params = {}\n",
    "        \n",
    "        ### 重み W\n",
    "        self.params['W1'] = weight_init_std * np.random.randn(input_col_length, \n",
    "                                                              node1_col_length)\n",
    "        self.params['W2'] = weight_init_std * np.random.randn(node1_col_length, \n",
    "                                                              node2_col_length)\n",
    "        self.params['W3'] = weight_init_std * np.random.randn(node2_col_length, \n",
    "                                                              output_col_length)       \n",
    "        ### バイアス b\n",
    "        self.params['b1'] = np.random.randn(node1_col_length)\n",
    "        self.params['b2'] = np.random.randn(node2_col_length)        \n",
    "        self.params['b3'] = np.random.randn(output_col_length)\n",
    "        \n",
    "def get_data():\n",
    "    mnist = datasets.fetch_openml('mnist_784', data_home=os.pardir)\n",
    "    data = mnist.data\n",
    "    label = mnist.target\n",
    "    label = [int(x) for x in label]\n",
    "    data_max = max(data[0])\n",
    "    std_data = data / data_max\n",
    "    x_train, x_test, t_train, t_test = train_test_split(std_data, label, test_size=0.2)\n",
    "    return x_test, t_test\n",
    "\n",
    "def predict(network, x):\n",
    "    W1, W2, W3 = network.params['W1'], network.params['W2'], network.params['W3']\n",
    "    b1, b2, b3 = network.params['b1'], network.params['b2'], network.params['b3']\n",
    "    \n",
    "    a1 = np.dot(x, W1) + b1\n",
    "    z1 = sigmoid(a1)\n",
    "    a2 = np.dot(z1, W2) + b2\n",
    "    z2 = sigmoid(a2)\n",
    "    a3 = np.dot(z2, W3) + b3\n",
    "    y = softmax(a3)\n",
    "    \n",
    "    return y\n",
    "import numpy as np\n",
    "from sklearn.model_selection import train_test_split\n",
    "x, t = get_data()\n",
    "network = Network(784, 50, 100, 10)\n",
    "\n",
    "accuracy_cnt = 0\n",
    "for i in range(len(x)):\n",
    "    y = predict(network, x[i])\n",
    "    p = np.argmax(y)\n",
    "    if p == t[i]:\n",
    "        accuracy_cnt += 1\n",
    "        \n",
    "print(\"Accuracy:\" + str(float(accuracy_cnt)/len(x)))\n",
    "######「Shift + Enetr」を押してください######"
   ]
  },
  {
   "cell_type": "code",
   "execution_count": 10,
   "metadata": {},
   "outputs": [
    {
     "name": "stdout",
     "output_type": "stream",
     "text": [
      "Accuracy:0.101\n"
     ]
    }
   ],
   "source": [
    "class Network():\n",
    "    def __init__(self, input_col_length,  ##入力値の列数\n",
    "                 node1_col_length,  ##一つ目の隠れ層のノード数\n",
    "                 node2_col_length,  ##二つ目の隠れ層のノード数\n",
    "                 output_col_length, ##出力層の列数\n",
    "                 weight_init_std   = 0.01):\n",
    "        \n",
    "        self.params = {}\n",
    "        \n",
    "        ### 重み W\n",
    "        self.params['W1'] = weight_init_std * np.random.randn(input_col_length, \n",
    "                                                              node1_col_length)\n",
    "        self.params['W2'] = weight_init_std * np.random.randn(node1_col_length, \n",
    "                                                              node2_col_length)\n",
    "        self.params['W3'] = weight_init_std * np.random.randn(node2_col_length, \n",
    "                                                              output_col_length)       \n",
    "        ### バイアス b\n",
    "        self.params['b1'] = np.random.randn(node1_col_length)\n",
    "        self.params['b2'] = np.random.randn(node2_col_length)        \n",
    "        self.params['b3'] = np.random.randn(output_col_length)\n",
    "        \n",
    "def get_data():\n",
    "    %store -r\n",
    "    data = mnist.data\n",
    "    label = mnist.target\n",
    "    label = [int(x) for x in label]\n",
    "    data_max = max(data[0])\n",
    "    std_data = data / data_max\n",
    "    x_train, x_test, t_train, t_test = train_test_split(std_data, label, test_size=0.2)\n",
    "    return x_test, t_test\n",
    "\n",
    "def predict(network, x):\n",
    "    W1, W2, W3 = network.params['W1'], network.params['W2'], network.params['W3']\n",
    "    b1, b2, b3 = network.params['b1'], network.params['b2'], network.params['b3']\n",
    "    \n",
    "    a1 = np.dot(x, W1) + b1\n",
    "    z1 = sigmoid(a1)\n",
    "    a2 = np.dot(z1, W2) + b2\n",
    "    z2 = sigmoid(a2)\n",
    "    a3 = np.dot(z2, W3) + b3\n",
    "    y = softmax(a3)\n",
    "    \n",
    "    return y\n",
    "import numpy as np\n",
    "from sklearn.model_selection import train_test_split\n",
    "x, t = get_data()\n",
    "network = Network(784, 50, 100, 10)\n",
    "\n",
    "accuracy_cnt = 0\n",
    "for i in range(len(x)):\n",
    "    y = predict(network, x[i])\n",
    "    p = np.argmax(y)\n",
    "    if p == t[i]:\n",
    "        accuracy_cnt += 1\n",
    "        \n",
    "print(\"Accuracy:\" + str(float(accuracy_cnt)/len(x)))\n",
    "######「Shift + Enetr」を押してください######"
   ]
  },
  {
   "cell_type": "markdown",
   "metadata": {},
   "source": [
    "【演習6-1】"
   ]
  },
  {
   "cell_type": "code",
   "execution_count": null,
   "metadata": {},
   "outputs": [],
   "source": [
    "import numpy as np\n",
    "def sigmoid(x):\n",
    "    return 1 / (1 + np.exp(-x))\n",
    "\n",
    "def softmax(a):\n",
    "    c = np.max(a)\n",
    "    exp_a = np.exp(a - c)\n",
    "    sum_exp_a = np.sum(exp_a)\n",
    "    y = exp_a / sum_exp_a\n",
    "    return y\n",
    "\n",
    "x = np.array([2.0, 3.0])\n",
    "W1 = np.array([[4.0, 8.0, 1.0], [7.0, 3.0, 5.0]])\n",
    "W2 = np.array([[2.0, 4.0], [6.0, 9.0], [1.0, 3.0]])\n",
    "W3 = np.array([[2.0], [1.0]])\n",
    "b1 = np.array([1.0, 1.5, 1.4])\n",
    "b2 = np.array([1.2, 1.4])\n",
    "b3 = np.array([1.1, 1.2])\n",
    "\n",
    "a1 = np.dot(x, W1) + b1\n",
    "z1 = sigmoid(a1)\n",
    "a2 = np.dot(z1, W2) + b2\n",
    "z2 = sigmoid(a2)\n",
    "a3 = np.dot(z2, W3) + b3\n",
    "z3 = softmax(a3)\n",
    "print(z3)\n",
    "y = np.argmax(z3)\n",
    "print(y)"
   ]
  },
  {
   "cell_type": "markdown",
   "metadata": {},
   "source": [
    "【演習6-2】白黒画像はどうすればいいか。白を表す数字は？黒を表す数字は？\n",
    "５×５の画像ということは？"
   ]
  },
  {
   "cell_type": "code",
   "execution_count": 11,
   "metadata": {},
   "outputs": [
    {
     "data": {
      "text/plain": [
       "<matplotlib.image.AxesImage at 0x112c39150>"
      ]
     },
     "execution_count": 11,
     "metadata": {},
     "output_type": "execute_result"
    },
    {
     "data": {
      "image/png": "[encoded data removed]",
      "text/plain": [
       "<Figure size 432x288 with 1 Axes>"
      ]
     },
     "metadata": {
      "needs_background": "light"
     },
     "output_type": "display_data"
    }
   ],
   "source": [
    "import matplotlib.pyplot as plt\n",
    "x = np.array([[0, 0 ,255, 0, 0],\n",
    "              [0, 255, 0, 255, 0], \n",
    "              [255, 0, 0, 0, 255], \n",
    "              [0, 255, 0, 255, 0],\n",
    "              [0, 0, 255, 0, 0]])\n",
    "\n",
    "plt.imshow(x, cmap='gray')"
   ]
  },
  {
   "cell_type": "markdown",
   "metadata": {},
   "source": [
    "【演習6-3】画像をニューラルネットワークの入力にするときには一次元配列に直す。\n",
    "正規化するときは最大値で割る。"
   ]
  },
  {
   "cell_type": "code",
   "execution_count": null,
   "metadata": {},
   "outputs": [],
   "source": [
    "W1 = np.array([[0, 1.0, 1.0],\n",
    "               [0, 2.0, 0.5],\n",
    "               [0, 0.5, 1.0],\n",
    "               [0, 1.0, 1.0],\n",
    "               [0, 1.0, 1.0],\n",
    "               [0, 0.5, 2.0],\n",
    "               [0, 1.0, 1.0],\n",
    "               [1.0, 1.0, 0.5],\n",
    "               [1.0, 1.0, 1.0],\n",
    "               [1.0, 1.0, 1.0],\n",
    "               [1.0, 2.0, 1.0],\n",
    "               [2.0, 1.0, 1.0],\n",
    "               [1.0, 1.0, 1.0],\n",
    "               [0.5, 0.5, 0.5],\n",
    "               [1.0, 1.0, 0.5],\n",
    "               [1.0, 1.0, 1.0],\n",
    "               [1.0, 2.0, 1.0],\n",
    "               [1.0, 0.5, 1.0],\n",
    "               [1.0, 1.0, 1.0],\n",
    "               [0.5, 1.0, 2.0],\n",
    "               [0.5, 0.5, 1.0],\n",
    "               [1.0, 1.0, 1.0],\n",
    "               [1.0, 0.5, 0.5],\n",
    "               [1.0, 2.0, 0.5],\n",
    "               [2.0, 1.0, 1.0]])\n",
    "W2 = np.array([[2.0, 2.0],\n",
    "               [3.0, 2.0],\n",
    "               [1.0, 3.0]])\n",
    "\n",
    "b1 = np.array([10.0, 1, 15])\n",
    "b2 = np.array([2.0, 1.0])\n",
    "\n",
    "std_x = x.reshape(1, 25)\n",
    "std_x = std_x / 255\n",
    "a1 = np.dot(std_x, W1) + b1\n",
    "z1 = sigmoid(a1)\n",
    "a2 = np.dot(z1, W2) + b2\n",
    "z2 = softmax(a2)\n",
    "print(z2)"
   ]
  },
  {
   "cell_type": "code",
   "execution_count": null,
   "metadata": {},
   "outputs": [],
   "source": []
  }
 ],
 "metadata": {
  "kernelspec": {
   "display_name": "Python 3",
   "language": "python",
   "name": "python3"
  },
  "language_info": {
   "codemirror_mode": {
    "name": "ipython",
    "version": 3
   },
   "file_extension": ".py",
   "mimetype": "text/x-python",
   "name": "python",
   "nbconvert_exporter": "python",
   "pygments_lexer": "ipython3",
   "version": "3.7.4"
  }
 },
 "nbformat": 4,
 "nbformat_minor": 4
}
