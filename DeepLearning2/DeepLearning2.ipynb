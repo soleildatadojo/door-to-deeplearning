{
 "cells": [
  {
   "cell_type": "markdown",
   "metadata": {},
   "source": [
    "# 「**Deep Learning**の扉」　　\n",
    "### ②**Python**を使ってニューラルネットワークを学ぶ　　\n",
    "___________________________________________________"
   ]
  },
  {
   "cell_type": "markdown",
   "metadata": {},
   "source": [
    "## 1. 「Deep Learning」の世界へ出発！　"
   ]
  },
  {
   "cell_type": "markdown",
   "metadata": {},
   "source": [
    "出発する前に少しお話。\n",
    "\n",
    "前回はパーセプトロンについて学び、Pythonを用いて論理回路を実装しました。\n",
    "\n",
    "そこでは便利な点を説明しましたが、実はパーセプトロンには不便な点も存在します。\n",
    "\n",
    "それは、重みの値を決めるときは、人の手によって行われるということです。\n",
    "\n",
    "実際に、ANDやORゲートを実装するときに自分で条件を満たす値を決めました。\n",
    "\n",
    "そこで今回は不便な点を解決する  \n",
    "\n",
    "#### **「ニューラルネットワーク」**\n",
    "\n",
    "について学んでいきます！\n",
    "\n",
    "そしてニューラルネットワークの学習が終わると\n",
    "\n",
    "#### 「活性化関数」\n",
    "\n",
    "#### 「多次元配列の計算」\n",
    "\n",
    "#### 「手書き数字認識」\n",
    "\n",
    "の順番に学んでいきます！\n",
    "\n",
    "それでは楽しんでいきましょう！\n",
    "\n",
    "### Let's go!!\n",
    "______________________________"
   ]
  },
  {
   "cell_type": "markdown",
   "metadata": {},
   "source": [
    "## 2. ニューラルネットワーク"
   ]
  },
  {
   "cell_type": "markdown",
   "metadata": {},
   "source": [
    "突然ですが、ニューラルネットワークを図で表すと以下のようになります。"
   ]
  },
  {
   "cell_type": "markdown",
   "metadata": {},
   "source": [
    "<img src = \"img2_1.png\" style=\"width: 500px; float:left;\">"
   ]
  },
  {
   "cell_type": "markdown",
   "metadata": {},
   "source": [
    "図2-1\n",
    "\n",
    "ここで、一番左の列を入力層、一番右の列を出力層、中間の列を中間層（隠れ層）と呼びます。\n",
    "\n",
    "そして入力層から出力層に向かって、順番に第０層、第１層、第２層と呼ぶことにします。\n",
    "\n",
    "つまり第０層が入力層、第１層が中間層、第２層が出力層に対応することがわかります。\n",
    "\n",
    "上図を見る限り、前回学習したパーセプトロンに似ていることがわかります。\n",
    "\n",
    "それではどのように信号を伝達するのか見ていきましょう。"
   ]
  },
  {
   "cell_type": "markdown",
   "metadata": {},
   "source": [
    "### 2-1. パーセプトロンの復習"
   ]
  },
  {
   "cell_type": "markdown",
   "metadata": {},
   "source": [
    "これからニューラルネットワークにおける信号の伝達方法を学習していきますが、\n",
    "\n",
    "その前にパーセプトロンの復習をしていきます。\n",
    "\n",
    "パーセプトロンの図を思い出してみてください。\n",
    "\n",
    "どうですか？思い出しましたか？"
   ]
  },
  {
   "cell_type": "markdown",
   "metadata": {},
   "source": [
    "<img src = \"img2_2.png\" style=\"width: 500px; float:left;\">"
   ]
  },
  {
   "cell_type": "markdown",
   "metadata": {},
   "source": [
    "図2-2\n",
    "\n",
    "パーセプトロンは上図のように表され、**「x１」**と**「x２」**の２つの入力信号を受け取り、**「y」**を出力していることがわかります。\n",
    "\n",
    "そして上図は次の式で表されます。"
   ]
  },
  {
   "cell_type": "markdown",
   "metadata": {},
   "source": [
    "$$\n",
    "  f(x) = \\left\\{ \\begin{array}{ll}\n",
    "    1　(b + w1x1 + w2x2 >0) \\\\\n",
    "    0　(b + w1x1 + w2x2 ≦0)\n",
    "  \\end{array} \\right.\n",
    "$$"
   ]
  },
  {
   "cell_type": "markdown",
   "metadata": {},
   "source": [
    "**「b」**はバイアスと呼ばれるパラメータであり、\n",
    "\n",
    "#### 「ニューロンの発火のしやすさ」\n",
    "\n",
    "をコントロールします。\n",
    "\n",
    "「b」を右辺に移動させてみてください。\n",
    "\n",
    "そうすると、\n",
    "\n",
    "$$w1x1 + w2x2 > -b$$\n",
    "\n",
    "という式になります。\n",
    "\n",
    "つまり、入力に重みをかけた式が「-b」という値を超えた時だけ、「１」を返します（超えた時だけニューロンが発火する）。\n",
    "\n",
    "では、具体的に考えてみましょう。\n",
    "\n",
    "バイアス「-b」を壁だと考えてください。\n",
    "\n",
    "「-b = 100000」の壁と「-b = 1」の壁。\n",
    "\n",
    "どっちが超えやすいでしょうか？\n",
    "\n",
    "小さい壁の方が超えやすいですよね。\n",
    "\n",
    "つまり、バイアスの値が小さい方が発火しやすいということが言えます。\n",
    "\n",
    "このことから「b」というバイアスは「ニューロンの発火のしやすさ」をコントロールしているということがわかります。"
   ]
  },
  {
   "cell_type": "markdown",
   "metadata": {},
   "source": [
    "<img src='img2_30.png' style=\"width: 500px; float:left;\" >\n",
    "\n"
   ]
  },
  {
   "cell_type": "markdown",
   "metadata": {},
   "source": [
    "図2-3"
   ]
  },
  {
   "cell_type": "markdown",
   "metadata": {},
   "source": [
    "また、**「w１」**や**「w２」**は各信号の「重み」を表すパラメータで、\n",
    "\n",
    "#### 「各信号の重要性」\n",
    "\n",
    "をコントロールします。"
   ]
  },
  {
   "cell_type": "markdown",
   "metadata": {},
   "source": [
    "あれ？図２にはバイアスが図示されてない…どういうこと？\n",
    "\n",
    "となったかもしれません。\n",
    "\n",
    "そこでバイアスを明示した図を以下に示します。"
   ]
  },
  {
   "cell_type": "markdown",
   "metadata": {},
   "source": [
    "<img src = \"img2_3.png\" style=\"width: 400px; float:left;\">"
   ]
  },
  {
   "cell_type": "markdown",
   "metadata": {},
   "source": [
    "図2-4"
   ]
  },
  {
   "cell_type": "markdown",
   "metadata": {},
   "source": [
    "上図には重みが「b」で入力が１の信号が追加されています。\n",
    "\n",
    "つまり、このパーセプトロンの入力は\n",
    "\n",
    "#### 「x１」と「x２」と「１」\n",
    "\n",
    "になります。\n",
    "\n",
    "そして、これらの３つの信号にそれぞれの重みが乗算（積）され、次のニューロンに送られることが見て取れます。\n",
    "\n",
    "また、次のニューロンでは、それらの重み付き信号の和が計算されます。\n",
    "\n",
    "#### その和が「０」を超えたら「１」を出力し、そうでなければ「０」を出力する\n",
    "\n",
    "というのがパーセプトロンの仕組みでした。\n",
    "\n",
    "そこで、新たな概念を導入します。\n",
    "\n",
    "新たな概念！？なんだなんだ？\n",
    "\n",
    "となるかもしれませんが、そこまで身構えなくても大丈夫です。\n",
    "\n",
    "０を超えたら１を出力し、そうでなければ０を出力する「h(x)」という新しい関数を導入してあげるだけです。\n",
    "\n",
    "それでは以下のようにパーセプトロンの式を書き換えてみましょう。"
   ]
  },
  {
   "cell_type": "markdown",
   "metadata": {},
   "source": [
    "<img src = \"img2_28.png\" style=\"width:250px; float:left;\">"
   ]
  },
  {
   "cell_type": "markdown",
   "metadata": {},
   "source": [
    "見やすくなりましたね。\n",
    "\n",
    "上式は、入力信号の総和が「h(x)」という関数によって変換され、その変換された値が出力yになるということを示しています。　\n",
    "\n",
    "もしわかりにくい場合は以下のように考えるとスッキリするかもしれません。"
   ]
  },
  {
   "cell_type": "markdown",
   "metadata": {},
   "source": [
    "<img src = \"img2_4.png\" style=\"width: 500px; float:left;\">"
   ]
  },
  {
   "cell_type": "markdown",
   "metadata": {},
   "source": [
    "図2-5"
   ]
  },
  {
   "cell_type": "markdown",
   "metadata": {},
   "source": [
    "どうですか？\n",
    "\n",
    "ここまでは前回の内容に新しい関数を加えただけなので、難しくはないと思います。\n",
    "\n",
    "しかし、うーん。となった方はしっかり理解してから次に進むことをおすすめします。"
   ]
  },
  {
   "cell_type": "markdown",
   "metadata": {},
   "source": [
    "### 2-2. 活性化関数"
   ]
  },
  {
   "cell_type": "markdown",
   "metadata": {},
   "source": [
    "先ほど登場したh(x)という関数（入力信号の総和を出力信号に変換する関数）は、一般的に\n",
    "\n",
    "#### 「活性化関数」\n",
    "\n",
    "と呼ばれます。\n",
    "\n",
    "先ほどの例だと以下のようになります。"
   ]
  },
  {
   "cell_type": "markdown",
   "metadata": {},
   "source": [
    "<img src = \"img2_29.png\"  style=\"width:400px; float:left;\">"
   ]
  },
  {
   "cell_type": "markdown",
   "metadata": {},
   "source": [
    "なぜそのように呼ばれるのか。\n",
    "\n",
    "それは、\n",
    "\n",
    "#### 「活性化関数は入力信号の総和がどのように活性化するか（どのように発火するか）ということを決定する役割がある」\n",
    "\n",
    "というところからきています。"
   ]
  },
  {
   "cell_type": "markdown",
   "metadata": {},
   "source": [
    "活性化関数を導入したパーセプトロンの式を思い出してみてください。  \n",
    "\n",
    "重みを乗算した入力信号を足し合わせ、その和が活性化関数によって変換される\n",
    "\n",
    "といった感じでしたよね。\n",
    "\n",
    "実際に手を動かしてみましょう。\n",
    "\n",
    "##### 【問題2-1】以下の式を参考に活性化関数を導入したパーセプトロンの式を実装してください。"
   ]
  },
  {
   "cell_type": "markdown",
   "metadata": {},
   "source": [
    "$$\n",
    "  h(x) = \\left\\{ \\begin{array}{ll}\n",
    "    1　(x >0) \\\\\n",
    "    0　(x ≦0)\n",
    "  \\end{array} \\right.\n",
    "$$\n",
    "\n",
    "$$\n",
    "  a = b + w1x1 + w2x2\n",
    "$$\n",
    "\n",
    "$$\n",
    "  y = h(a)\n",
    "$$"
   ]
  },
  {
   "cell_type": "code",
   "execution_count": null,
   "metadata": {},
   "outputs": [],
   "source": [
    "def h(x):\n",
    "    ######以下に活性化関数「h(x)」を実装してください######\n",
    "    if :\n",
    "        \n",
    "    elif :\n",
    "        \n",
    "\n",
    "def per(x1, x2):\n",
    "    w1, w2, b = 0.5, 0.5, -0.3\n",
    "    ######以下にコードを書いてください######\n",
    "    a = \n",
    "    y = \n",
    "    return \n",
    "\n",
    "print(per(0, 1))\n",
    "######「Shift + Enter」を押してください######"
   ]
  },
  {
   "cell_type": "markdown",
   "metadata": {},
   "source": [
    "「１」と表示されたら正解です。\n",
    "\n",
    "さて、この「a」が「h()」で変換され「y」が出力されるというのは図で表すとどうなるのでしょうか。\n",
    "\n",
    "以下にその図を示したいと思います。"
   ]
  },
  {
   "cell_type": "markdown",
   "metadata": {},
   "source": [
    "<img src = \"img2_5.png\" style=\"width: 400px; float:left;\">"
   ]
  },
  {
   "cell_type": "markdown",
   "metadata": {},
   "source": [
    "図2-6"
   ]
  },
  {
   "cell_type": "markdown",
   "metadata": {},
   "source": [
    "ここからは活性化関数を深く掘り下げていきたいと思います。\n",
    "\n",
    "活性化関数はなんのためにあるの？\n",
    "\n",
    "って思いますよね。\n",
    "\n",
    "実はこの活性化関数がパーセプトロンからニューラルネットワークへ進むための架け橋になるのです。\n"
   ]
  },
  {
   "cell_type": "markdown",
   "metadata": {},
   "source": [
    "先ほど説明していた活性化関数ですが、閾値を境にして出力が切り替わる関数であり、\n",
    "\n",
    "#### 「ステップ関数」や「階段関数」\n",
    "\n",
    "と呼ばれます。\n",
    "\n",
    "つまり、パーセプトロンでは活性化関数にステップ関数を使っているということがわかります。\n",
    "\n",
    "活性化関数にステップ関数を使う？\n",
    "\n",
    "それならば、活性化関数に別の関数を使ったらどうなるの？\n",
    "\n",
    "（ステップ関数以外の関数を使ったら、どうなるの？）\n",
    "\n",
    "答えは、「ニューラルネットワークの世界に進むことができる！」です。\n",
    "\n",
    "それでは色々な活性化関数を学んでみましょう！\n",
    "\n",
    "_______________"
   ]
  },
  {
   "cell_type": "markdown",
   "metadata": {},
   "source": [
    "### 2-2+α. 「イメージが湧かない方へ」"
   ]
  },
  {
   "cell_type": "markdown",
   "metadata": {},
   "source": [
    "この章は、\n",
    "\n",
    "#### 「バイアスだの、活性化関数だの。いきなりそんな概念の話されてもイメージするのが難しい！」\n",
    "\n",
    "という方のために、具体的な例に置き換えて紹介するコーナーになります。\n",
    "\n",
    "そのため、今までの内容がすんなり入ってきた方は、読み飛ばしてもらっても構いません。\n",
    "\n",
    "\n",
    "では、始めていきましょう。\n",
    "\n",
    "具体的な例として「たまご」を使います。"
   ]
  },
  {
   "cell_type": "markdown",
   "metadata": {},
   "source": [
    "<img src='img2_31.png' style=\"width: 250px; float:left;\">"
   ]
  },
  {
   "cell_type": "markdown",
   "metadata": {},
   "source": [
    "皆さんは、ゆでたまごを作ったことはありますか？\n",
    "\n",
    "たまごは、白身は63度から固化しはじめ、70度で黄身が固化するそうなんです。\n",
    "\n",
    "では、\n",
    "\n",
    "#### 「ニューロンが発火する」を「たまごの黄身が固化する」\n",
    "\n",
    "に置き換えてみましょう。\n",
    "\n",
    "これによって、入力値「x」はたまごの温度になります。\n",
    "\n",
    "では、ゆでたまごを作るにはどうしたらいいのでしょうか。\n",
    "\n",
    "そうですね。たまごに熱を加えればいいのです。\n",
    "\n",
    "直接加えるというよりかは、お湯にたまごを浸して温めますよね。\n",
    "\n",
    "なので、お湯に熱を加えるという風にしましょうか。\n",
    "\n",
    "ところで、この熱を加えるという一手間は、今まで登場してきた言葉で言うと「重み」になります。\n",
    "\n",
    "また、先ほども説明しましたが、「70度」で黄身が固化します。\n",
    "\n",
    "このことから、「閾値」が「70度」であるということが言えますね。\n",
    "\n",
    "つまり、「70度」を超えれば「黄身が完全に固まったゆでたまご」が完成し、「70度」を超えなければ「黄身が完全に固まったゆでたまご」ができないと考えることができます。\n",
    "\n",
    "「０」を超えると「１」を出力し、「０」を超えなければ「０」を出力するパーセプトロンの**たまごバージョン**が完成しました。\n"
   ]
  },
  {
   "cell_type": "markdown",
   "metadata": {},
   "source": [
    "<img src=\"img2_32.png\" style=\"width: 450px; float:left;\">"
   ]
  },
  {
   "cell_type": "markdown",
   "metadata": {},
   "source": [
    "あれれ、じゃあ「バイアス」ってなんなのさ。となりますよね。\n",
    "\n",
    "そこで、お湯の量を考えてみてください。\n",
    "\n",
    "・お湯がない場合  \n",
    "・少しだけの場合  \n",
    "・たまごの半分だけが浸かる場合  \n",
    "・たまごが完全に浸かる場合\n",
    "\n",
    "それぞれの状況において、たまごの温まりやすさが違いますよね。\n",
    "\n",
    "この温まりやすさを調節、コントロールするのが「バイアス」になります。\n"
   ]
  },
  {
   "cell_type": "markdown",
   "metadata": {},
   "source": [
    "<img src=\"img2_33.png\" style=\"width: 450px; float:left;\">"
   ]
  },
  {
   "cell_type": "markdown",
   "metadata": {},
   "source": [
    "では、活性化関数とは何なのか。\n",
    "\n",
    "たまご料理を思い浮かべてみてください。\n",
    "\n",
    "先ほどの説明にも出てきた「ゆでたまご」や「スクランブルエッグ」、「たまご焼き」、「目玉焼き」。\n",
    "\n",
    "手間の加え方次第で、たまごは色々なたまご料理に変化します。\n",
    "\n",
    "この手間の加え方が「活性化関数」になるのです。\n",
    "\n",
    "ゆでたまごにしたければ、この関数、\n",
    "\n",
    "スクランブルエッグにしたければ、あの関数というように、目的に応じて活性化関数を使い分けます。"
   ]
  },
  {
   "cell_type": "markdown",
   "metadata": {},
   "source": [
    "どうでしょうか？\n",
    "\n",
    "少しでもイメージが湧きやすくなりましたか？\n",
    "\n",
    "それでは、次の章に進みましょう。\n",
    "\n",
    "____________"
   ]
  },
  {
   "cell_type": "markdown",
   "metadata": {},
   "source": [
    "### 2-3. ステップ関数"
   ]
  },
  {
   "cell_type": "markdown",
   "metadata": {},
   "source": [
    "ステップ関数とは何かまとめると、\n",
    "\n",
    "**「活性化関数の一種であり、閾値を境に「1」か「0」を出力する関数」**\n",
    "\n",
    "になります。\n",
    "\n",
    "活性化関数にステップ関数を使うと、パーセプトロンを作ることができます。\n",
    "\n",
    "それでは、ステップ関数を実装してみましょう。"
   ]
  },
  {
   "cell_type": "markdown",
   "metadata": {},
   "source": [
    "##### 【問題2-2】ステップ関数を実装してください。\n",
    "\n",
    "$$\n",
    "  h(x) = \\left\\{ \\begin{array}{ll}\n",
    "    1　(x >0) \\\\\n",
    "    0　(x ≦0)\n",
    "  \\end{array} \\right.\n",
    "$$"
   ]
  },
  {
   "cell_type": "code",
   "execution_count": null,
   "metadata": {},
   "outputs": [],
   "source": [
    "def step_function(x):\n",
    "    ######以下にコードを書いてください######\n",
    "    \n",
    "    \n",
    "    \n",
    "print(step_function(-2.5))\n",
    "######「Shift + Enter」を押してください######"
   ]
  },
  {
   "cell_type": "markdown",
   "metadata": {},
   "source": [
    "「０」が表示されれば正解です。\n",
    "\n",
    "正直、これは簡単ですね。\n",
    "\n",
    "ですが引数の「x」には実数しか入力できないのです。\n",
    "\n",
    "やっぱり一度に複数のデータを入力したいので、Numpyの配列を引数に取るような使い方ができないのは少し不便です。\n",
    "\n",
    "ということで少し工夫してあげます。"
   ]
  },
  {
   "cell_type": "code",
   "execution_count": 2,
   "metadata": {},
   "outputs": [],
   "source": [
    "import numpy as np\n",
    "\n",
    "def step_function(x):\n",
    "    y = x > 0\n",
    "    return y.astype(np.int)\n",
    "######「Shift + Enter」を押してください######"
   ]
  },
  {
   "cell_type": "markdown",
   "metadata": {},
   "source": [
    "ん？なんだこれ？ってなりますよね。\n",
    "\n",
    "仕組みを説明していきます。"
   ]
  },
  {
   "cell_type": "code",
   "execution_count": null,
   "metadata": {},
   "outputs": [],
   "source": [
    "######「x」に配列を代入します######\n",
    "x = np.array([-1.0, 1.0, 2.0])\n",
    "\n",
    "print(x)\n",
    "######「Shift + Enter」を押してください######"
   ]
  },
  {
   "cell_type": "markdown",
   "metadata": {},
   "source": [
    "次に「y」に「x」の値を代入するのですが、ただ代入するわけではありません。\n",
    "\n",
    "「x」は配列なので、\n",
    "\n",
    "x[0] = -1.0\n",
    "\n",
    "x[1] = 1.0\n",
    "\n",
    "x[2] = 2.0\n",
    "\n",
    "といったように数値が格納されています。\n",
    "\n",
    "そして、それぞれの値が「０」より大きいかどうかを確認していきます。"
   ]
  },
  {
   "cell_type": "code",
   "execution_count": 5,
   "metadata": {},
   "outputs": [],
   "source": [
    "y = x > 0\n",
    "######「Shift + Enter」を押してください######"
   ]
  },
  {
   "cell_type": "markdown",
   "metadata": {},
   "source": [
    "「０」より大きいかどうかを確認？\n",
    "\n",
    "じゃあ「y」には何が代入されているの？\n",
    "\n",
    "Nnmpy配列に対して不等号の演算を行うと、配列の各要素に対して不等号の演算が行われ、ブーリアンの配列が生成されます。\n",
    "\n",
    "ブーリアンってなんだっけ。という方のために説明すると\n",
    "\n",
    "「真か偽」つまり「TrueかFalse」\n",
    "\n",
    "を表すために使われるデータ型のことを指します。\n",
    "\n",
    "ということは…\n",
    "\n",
    "「０」より大きい数値は「True」で、「０」より小さい数値は「False」ってこと？\n",
    "\n",
    "その通りです！\n",
    "\n",
    "今回の場合では"
   ]
  },
  {
   "cell_type": "code",
   "execution_count": 7,
   "metadata": {},
   "outputs": [
    {
     "name": "stdout",
     "output_type": "stream",
     "text": [
      "[False  True  True]\n"
     ]
    }
   ],
   "source": [
    "print(y)\n",
    "######「Shift + Enter」を押してください######"
   ]
  },
  {
   "cell_type": "markdown",
   "metadata": {},
   "source": [
    "のように数値ではなく、ブーリアンの配列が生成されるのです。\n",
    "\n",
    "しかし、実際自分が欲しいのは「０」か「１」の「int型」を出力する関数です。\n",
    "\n",
    "つまり、ブーリアンからint型に変換する必要があります。\n",
    "\n",
    "そこで登場するのが「astype()」メソッドです。\n",
    "\n",
    "このメソッドはTrueを１にFalseを０に変換します。"
   ]
  },
  {
   "cell_type": "code",
   "execution_count": null,
   "metadata": {},
   "outputs": [],
   "source": [
    "y = y.astype(np.int)\n",
    "print(y)\n",
    "######「Shift + Enter」を押してください######"
   ]
  },
  {
   "cell_type": "markdown",
   "metadata": {},
   "source": [
    "これでステップ関数でも入力に配列を使えるようになりました。\n",
    "\n",
    "次にステップ関数のグラフを表示してみましょう。\n",
    "\n",
    "そのために、ライブラリとしてmatplotlibを使用します。"
   ]
  },
  {
   "cell_type": "code",
   "execution_count": null,
   "metadata": {},
   "outputs": [],
   "source": [
    "######基本的に触らないでください######\n",
    "conda install matplotlib"
   ]
  },
  {
   "cell_type": "markdown",
   "metadata": {},
   "source": [
    "上記のコードは、下記のコードを試した時に\n",
    "\n",
    "#### 「no module named 'matplotlib'」\n",
    "\n",
    "と表示された場合のみ使用してください。"
   ]
  },
  {
   "cell_type": "code",
   "execution_count": 6,
   "metadata": {},
   "outputs": [
    {
     "data": {
      "image/png": "[encoded data removed]",
      "text/plain": [
       "<Figure size 432x288 with 1 Axes>"
      ]
     },
     "metadata": {
      "needs_background": "light"
     },
     "output_type": "display_data"
    }
   ],
   "source": [
    "######コードは書き換えないでください######\n",
    "import numpy as np\n",
    "import matplotlib.pylab as plt\n",
    "\n",
    "def step_function(x):\n",
    "    return np.array(x > 0, dtype = np.int)\n",
    "\n",
    "x = np.arange(-5.0, 5.0, 0.1)\n",
    "y = step_function(x)\n",
    "plt.plot(x, y)\n",
    "plt.ylim(-0.1, 1.1)\n",
    "plt.show()\n",
    "######「Shift + Enter」を押してください######"
   ]
  },
  {
   "cell_type": "markdown",
   "metadata": {},
   "source": [
    "図2-7"
   ]
  },
  {
   "cell_type": "markdown",
   "metadata": {},
   "source": [
    "先ほどのステップ関数は上記のように書き直すこともできます。\n",
    "\n",
    "「arange(-5.0, 5.0, 0.1)」は\n",
    "\n",
    "「-5.0から5.0までの範囲を0.1刻み」でNumpy配列を生成します。\n",
    "\n",
    "[-5.0, -4.9, …, 4.9]といった感じに生成されます。\n",
    "\n",
    "これらの数値をステップ関数に入力し、出力を「y」に代入します。\n",
    "\n",
    "そして「x」と「y」の値をプロットします。\n",
    "\n",
    "また、「ylim(-0.1, 1.1)」はy軸の範囲を指定します。"
   ]
  },
  {
   "cell_type": "markdown",
   "metadata": {},
   "source": [
    "グラフから見て分かるように「x = 0」を境に出力が「０」から「１」へ切り替わります。\n",
    "\n",
    "では、別の活性化関数について見ていきましょう。"
   ]
  },
  {
   "cell_type": "markdown",
   "metadata": {},
   "source": [
    "### 2-4. シグモイド関数"
   ]
  },
  {
   "cell_type": "markdown",
   "metadata": {},
   "source": [
    "シグモイド関数は次の式で表される関数です。"
   ]
  },
  {
   "cell_type": "markdown",
   "metadata": {},
   "source": [
    "$$\n",
    "  h(x) = \\frac{1}{1 + exp(-x)}\n",
    "$$\n"
   ]
  },
  {
   "cell_type": "markdown",
   "metadata": {},
   "source": [
    "「exp(x)」は指数関数「e<sup>x</sup>」を示します。\n",
    "\n",
    "これも「x」に何かの値を入力してあげれば、ある値を出力するといった簡単な関数です。\n",
    "\n",
    "ニューラルネットワークでは活性化関数にシグモイド関数を用いて信号の変換を行い、その変換された信号が次のニューロンの伝えられるのです。\n",
    "\n",
    "パーセプトロンとニューラルネットワークの違いは活性化関数の違いだけなのです。\n",
    "\n"
   ]
  },
  {
   "cell_type": "markdown",
   "metadata": {},
   "source": [
    "##### 【問題2-3】以下の式を参考にシグモイド関数を実装してください。"
   ]
  },
  {
   "cell_type": "markdown",
   "metadata": {},
   "source": [
    "$$\n",
    "  h(x) = \\frac{1}{1 + exp(-x)}\\\n",
    "$$"
   ]
  },
  {
   "cell_type": "code",
   "execution_count": null,
   "metadata": {},
   "outputs": [],
   "source": [
    "import numpy as np\n",
    "def sigmoid(x):\n",
    "    \n",
    "    \n",
    "x = np.array([-1.0, 1.0, 2.0])\n",
    "print(sigmoid(x))\n",
    "######「Shift + Enter」を押してください######"
   ]
  },
  {
   "cell_type": "markdown",
   "metadata": {},
   "source": [
    "[0.26894142, 0.73105858, 0.88079708]と表示されれば正解です。\n",
    "\n",
    "exp(-x)ってどうやって表現するんだ。\n",
    "\n",
    "となっている方は、「np.exp()」を使用してください。\n",
    "\n",
    "シグモイド関数の引数「x」には、Numpy配列も入力することができます。\n",
    "\n",
    "先ほどのステップ関数みたいにNumpy配列に対応するようにわざわざ書き換える必要がありません。\n",
    "\n",
    "では、シグモイド関数をグラフに描画してみましょう。"
   ]
  },
  {
   "cell_type": "markdown",
   "metadata": {},
   "source": [
    "##### 【問題2-4】シグモイド関数を描画してください。"
   ]
  },
  {
   "cell_type": "code",
   "execution_count": 21,
   "metadata": {},
   "outputs": [],
   "source": [
    "import numpy as np\n",
    "import matplotlib.pylab as plt\n",
    "######以下にコードを書いてください######\n",
    "\n",
    "\n",
    "\n",
    "\n",
    "\n",
    "\n",
    "\n",
    "######「Shift + Enter」を押してください######"
   ]
  },
  {
   "cell_type": "markdown",
   "metadata": {},
   "source": [
    "下のような図になれば正解です。"
   ]
  },
  {
   "cell_type": "code",
   "execution_count": 30,
   "metadata": {
    "jupyter": {
     "source_hidden": true
    }
   },
   "outputs": [
    {
     "data": {
      "image/png": "[encoded data removed]",
      "text/plain": [
       "<Figure size 432x288 with 1 Axes>"
      ]
     },
     "metadata": {
      "needs_background": "light"
     },
     "output_type": "display_data"
    }
   ],
   "source": [
    "######この部分は触れないでください######\n",
    "def sigmoid(x):\n",
    "    return 1 / (1 + np.exp(-x))\n",
    "\n",
    "x = np.arange(-5.0, 5.0, 0.1)\n",
    "y = sigmoid(x)\n",
    "plt.plot(x, y)\n",
    "plt.ylim(-0.1, 1.1)\n",
    "plt.show()"
   ]
  },
  {
   "cell_type": "markdown",
   "metadata": {},
   "source": [
    "図2-8"
   ]
  },
  {
   "cell_type": "markdown",
   "metadata": {},
   "source": [
    "### 2-5. ステップ関数とシグモイド関数の比較"
   ]
  },
  {
   "cell_type": "markdown",
   "metadata": {},
   "source": [
    "ここでステップ関数とシグモイド関数の各グラフを重ねてみましょう。"
   ]
  },
  {
   "cell_type": "code",
   "execution_count": 38,
   "metadata": {
    "jupyter": {
     "source_hidden": true
    }
   },
   "outputs": [
    {
     "data": {
      "image/png": "[encoded data removed]",
      "text/plain": [
       "<Figure size 432x288 with 1 Axes>"
      ]
     },
     "metadata": {
      "needs_background": "light"
     },
     "output_type": "display_data"
    }
   ],
   "source": [
    "######以下のコードは触れないでください######\n",
    "def step_function(x):\n",
    "    return np.array(x > 0, dtype = np.int)\n",
    "\n",
    "def sigmoid(x):\n",
    "    return 1 / (1 + np.exp(-x))\n",
    "\n",
    "x = np.arange(-5.0, 5.0, 0.1)\n",
    "y1 = step_function(x)\n",
    "y2 = sigmoid(x)\n",
    "plt.plot(x, y1, linestyle=\"dashed\")\n",
    "plt.plot(x, y2, linestyle=\"solid\")\n",
    "plt.ylim(-0.1, 1.1)\n",
    "plt.show()"
   ]
  },
  {
   "cell_type": "markdown",
   "metadata": {},
   "source": [
    "図2-9"
   ]
  },
  {
   "cell_type": "markdown",
   "metadata": {},
   "source": [
    "見比べてみて何か思うことはありますか。\n",
    "\n",
    "見ただけで分かるのは**「グラフの滑らかさの違い」**だと思います。\n",
    "\n",
    "ステップ関数は「x = 0」を境に急に出力を変えていますが、シグモイド関数は滑らかで入力に対して連続的に出力が変化しています。\n",
    "\n",
    "このシグモイド関数の滑らかさが、ニューラルネットワークの学習において意味を持ちます。\n",
    "\n",
    "パーセプトロンでは、「０」か「１」のどちらかの値しか返さないのに対し、ニューラルネットワークでは「連続的な実数値」を返すことができるのです。"
   ]
  },
  {
   "cell_type": "markdown",
   "metadata": {},
   "source": [
    "<img src = \"img2_6.png\" style=\"width: 500px; float:left;\">"
   ]
  },
  {
   "cell_type": "markdown",
   "metadata": {},
   "source": [
    "図2-10"
   ]
  },
  {
   "cell_type": "markdown",
   "metadata": {},
   "source": [
    "確かに滑らかさは異なりましたが、グラフ全体の形に注目してみると同じような形をしてる気がしませんか？\n",
    "\n",
    "木を見るんじゃなくて森を見る感じですね。\n",
    "\n",
    "ステップ関数もシグモイド関数も両方とも入力が小さい時に出力は０に近づき、入力が大きくなるに従い出力が１に近づくという構造をしています。\n",
    "\n",
    "（ステップ関数は０と１の値を取りますが、共通点として近づくという表現をしております。）\n",
    "\n",
    "つまり、２つの関数は、\n",
    "\n",
    "#### 「入力信号が重要な情報であれば大きな値を出力し、入力信号が重要でなければ小さな値を出力する」\n",
    "\n",
    "ということがわかります。"
   ]
  },
  {
   "cell_type": "markdown",
   "metadata": {},
   "source": [
    "そしてもう１つ重要なポイントがあります。それは、\n",
    "\n",
    "#### 「入力信号の値がどんなに小さくても、またどんなに大きくても、出力信号の値を０から１の間に押し込める」\n",
    "\n",
    "ということです。"
   ]
  },
  {
   "cell_type": "markdown",
   "metadata": {},
   "source": [
    "### 2-6. 非線形関数"
   ]
  },
  {
   "cell_type": "markdown",
   "metadata": {},
   "source": [
    "ステップ関数とシグモイド関数の共通点はまだあります。\n",
    "\n",
    "それは、ともに非線形関数であるということです。\n",
    "\n",
    "非線形関数と線形関数の違いは何？\n",
    "\n",
    "まずは関数とはどういうものか思い出してください。\n",
    "\n",
    "そうですね。関数とは、何かの値を入力すれば何かの値を返す「変換器」でした。\n",
    "\n",
    "線形関数は、この変換器に何か入力したとき、出力が入力の定数倍になるような関数のことを指します。\n",
    "\n",
    "具体的に言うと、\n",
    "\n",
    "h(x) = cx　（cは定数）\n",
    "\n",
    "といった式が線形関数になります。\n",
    "\n",
    "この式から分かるように線形関数は真っ直ぐな一本の直線になります。\n",
    "\n",
    "非線形関数は線形関数ではないという意味を持つので、線形関数のように単純な一本の直線でない関数を指します。\n",
    "\n",
    "ここで関数の説明は終わって話を戻します。\n",
    "\n",
    "ニューラルネットワークでは、活性化関数に線形関数ではなく非線形関数を用いる必要があります。\n",
    "\n",
    "なぜ線形関数を用いてはいけないのか。\n",
    "\n",
    "それは線形関数を用いると、ニューラルネットワークで層を深くすることの意味がなくなってしまうからです。\n",
    "\n",
    "線形関数の問題点は、どんなに層を深くしても、それと同じことを行う「隠れ層のないネットワーク」が必ず存在する、という事実に起因します。\n",
    "\n",
    "読むだけでは理解するのが難しいですね。ここで具体例を示します。\n",
    "\n",
    "先ほども登場した「h(x) = cx」を活性化関数として考えてみます。\n",
    "\n",
    "そして「y(x) = h(h(h(x)))」を行う計算を３層のネットワークに対応させて考えることにします。\n",
    "\n",
    "この計算は、「y(x) = c * c * c * x」の掛け算を行いますが、\n",
    "\n",
    "「y(x) = ax（a = c^3）」の一回の掛け算に書き換えることができます。\n",
    "\n",
    "つまり、３層のネットワークを隠れ層のないネットワークで表現できるのです。\n",
    "\n",
    "層を重ねることに意味があるのに、線形関数を用いてしまうと台無しにしてしまいます。\n",
    "\n",
    "このことから活性化関数に非線形関数を使う必要があるのです。"
   ]
  },
  {
   "cell_type": "markdown",
   "metadata": {},
   "source": [
    "### 2-7. ReLU関数"
   ]
  },
  {
   "cell_type": "markdown",
   "metadata": {},
   "source": [
    "今まではステップ関数とシグモイド関数を紹介してきました。\n",
    "\n",
    "ここで新しい関数を紹介したいと思います。\n",
    "\n",
    "それは**「ReLU関数」**です！\n",
    "\n",
    "最近では、ReLU関数が主に用いられているそうです。\n",
    "\n",
    "ReLU関数は、入力が０を超えていれば、その入力をそのまま出力し、０以下ならば０を出力する関数です。\n",
    "\n",
    "文章を読むだけでは少し退屈ですよね。\n",
    "\n",
    "手を動かしてみましょう。\n",
    "\n",
    "##### 【問題2-5】以下の式を参考にReLU関数を実装してください。"
   ]
  },
  {
   "cell_type": "markdown",
   "metadata": {},
   "source": [
    "\n",
    "$$\n",
    "  h(x) = \\left\\{ \\begin{array}{ll}\n",
    "    x　(x >0) \\\\\n",
    "    0　(x ≦0)\n",
    "  \\end{array} \\right.\n",
    "$$"
   ]
  },
  {
   "cell_type": "code",
   "execution_count": 1,
   "metadata": {
    "collapsed": true,
    "jupyter": {
     "outputs_hidden": true
    }
   },
   "outputs": [
    {
     "name": "stdout",
     "output_type": "stream",
     "text": [
      "1\n"
     ]
    }
   ],
   "source": [
    "def ReLU(x):\n",
    "    ######以下にコードを書いてください######\n",
    "    \n",
    "    \n",
    "    \n",
    "    \n",
    "    \n",
    "print(ReLU(1))\n",
    "######「Shift + Enter」を押してください######"
   ]
  },
  {
   "cell_type": "markdown",
   "metadata": {},
   "source": [
    "「１」と表示されれば正解です。\n",
    "\n",
    "おそらく、「np.maximum()」を使わずに「if」で条件分けしたのではないでしょうか。\n",
    "\n",
    "もちろんそれでも構いませんが、「np.maximum()」を用いた方がシンプルに実装することができます。\n",
    "\n",
    "またNumpyの関数であるため配列を扱うこともできます。\n",
    "\n",
    "この関数は\n",
    "\n",
    "#### 「入力された値から大きい方の値を選んで出力する関数」\n",
    "\n",
    "です。\n",
    "\n",
    "では書き直してみます。"
   ]
  },
  {
   "cell_type": "code",
   "execution_count": null,
   "metadata": {},
   "outputs": [],
   "source": [
    "######以下のコードは触らないでください######\n",
    "import numpy as np\n",
    "\n",
    "def ReLU(x):\n",
    "    return np.maximum(0, x)\n",
    "\n",
    "x = np.array([0, 2.0, -1.5])\n",
    "y = ReLU(x)\n",
    "print(y)\n",
    "######「Shift + Enter」を押してください######"
   ]
  },
  {
   "cell_type": "markdown",
   "metadata": {},
   "source": [
    "np.maximum()の片方の数値を「０」にすることで、入力された値と比較し、\n",
    "\n",
    "０より入力値が大きければ、入力値をそのまま出力し、\n",
    "\n",
    "０より入力値が小さければ、０を出力する\n",
    "\n",
    "といった関数になっています。\n",
    "\n",
    "これはまさに「ReLU関数」ですね。\n",
    "\n",
    "ではグラフ化してみましょう。\n",
    "\n",
    "##### 【問題2-6】ReLU関数のグラフを描画してください。\n",
    "\n",
    "##### y軸の値は「-1.0から5.0」にするのがオススメです。"
   ]
  },
  {
   "cell_type": "code",
   "execution_count": null,
   "metadata": {},
   "outputs": [],
   "source": [
    "import numpy as np\n",
    "import matplotlib.pylab as plt\n",
    "\n",
    "######以下にコードを書いてください######\n",
    "######np.maximum()を使って実装してください######\n",
    "def ReLU(x):\n",
    "    \n",
    "\n",
    "######以下にグラフを描画するコードを書いてください######    \n",
    "    \n",
    "    \n",
    "     \n",
    "######「Shift + Enter」を押してください######"
   ]
  },
  {
   "cell_type": "markdown",
   "metadata": {},
   "source": [
    "以下のようなグラフが表示されれば正解です。\n",
    "\n",
    "xが「０」を超えると入力値をそのまま出力していることがわかりますね。"
   ]
  },
  {
   "cell_type": "code",
   "execution_count": 3,
   "metadata": {
    "jupyter": {
     "source_hidden": true
    }
   },
   "outputs": [
    {
     "data": {
      "image/png": "[encoded data removed]",
      "text/plain": [
       "<Figure size 432x288 with 1 Axes>"
      ]
     },
     "metadata": {
      "needs_background": "light"
     },
     "output_type": "display_data"
    }
   ],
   "source": [
    "import numpy as np\n",
    "import matplotlib.pylab as plt\n",
    "\n",
    "######以下にコードを書いてください######\n",
    "######np.maximum()を使って実装してください######\n",
    "def ReLU(x):\n",
    "    return np.maximum(0,x)\n",
    "######以下にグラフを描画するコードを書いてください######    \n",
    "x = np.arange(-5.0, 5.0, 0.1)\n",
    "y = ReLU(x)\n",
    "plt.plot(x, y)\n",
    "plt.ylim(-1.0, 5.0)\n",
    "plt.show()    \n",
    "    \n",
    "\n",
    "######「Shift + Enter」を押してください######"
   ]
  },
  {
   "cell_type": "markdown",
   "metadata": {},
   "source": [
    "図2-11"
   ]
  },
  {
   "cell_type": "markdown",
   "metadata": {},
   "source": [
    "「活性化関数」についてはここで終わりにしたいと思います。\n",
    "\n",
    "どうでしたか？\n",
    "\n",
    "今までの話をまとめてみます。\n",
    "\n",
    "#### 「０か１の２つの値しか出力しない**\"ステップ関数\"**」\n",
    "\n",
    "#### 「滑らかな曲線で実数値を出力できる**\"シグモイド関数\"**」\n",
    "\n",
    "#### 「０より小さければ０、０より大きければそのまま出力する**\"ReLU関数#**」\n",
    "\n",
    "そして、\n",
    "\n",
    "#### 「多層ネットワークを構築するために活性化関数に非線形関数を用いる必要があるということ」\n",
    "\n",
    "大事な話でしたのでしっかり学習して次に進んでください。\n",
    "\n",
    "次は、「多次元配列の計算」を学習していきます！\n",
    "____________________"
   ]
  },
  {
   "cell_type": "markdown",
   "metadata": {},
   "source": [
    "## 3. 多次元配列の計算"
   ]
  },
  {
   "cell_type": "markdown",
   "metadata": {},
   "source": [
    "多次元配列と聞いてすぐに思い浮かびますか？\n",
    "\n",
    "二次元配列を思い浮かべる人が多いのではないでしょうか。以下の図のような「数字の集合」です。"
   ]
  },
  {
   "cell_type": "markdown",
   "metadata": {},
   "source": [
    "$$\n",
    "    \\begin{pmatrix}\n",
    "    1 & 2 \\\\\n",
    "    3 & 4\n",
    "    \\end{pmatrix}\n",
    "$$"
   ]
  },
  {
   "cell_type": "markdown",
   "metadata": {},
   "source": [
    "多次元配列にも色々な種類がありますよね。\n",
    "\n",
    "三次元配列だとか、N次元配列だとか…\n",
    "\n",
    "なぜここで多次元配列の話なのか。\n",
    "\n",
    "それは、多次元配列を導入することでニューラルネットワークの実装を効率的に進めることができるからです。\n",
    "\n",
    "効率的！\n",
    "\n",
    "素晴らしい言葉ですね。\n",
    "\n",
    "ということで学習していきましょう。"
   ]
  },
  {
   "cell_type": "markdown",
   "metadata": {},
   "source": [
    "### 3-1. 多次元配列の生成"
   ]
  },
  {
   "cell_type": "markdown",
   "metadata": {},
   "source": [
    "実は、今までに何回か登場してきた「Numpy」を使うことによって、多次元配列を作成することができるのです。\n",
    "\n",
    "それでは作成してみましょう。\n",
    "\n",
    "##### 【問題3-1】Numpyを使って多次元配列を作成しましょう。"
   ]
  },
  {
   "cell_type": "code",
   "execution_count": null,
   "metadata": {},
   "outputs": [],
   "source": [
    "import numpy as np\n",
    "######「np.array([])」を用いて一次元配列を作成してください######\n",
    "######数字は「1, 2, 3, 4」にしてください######\n",
    "A = \n",
    "print(A)\n",
    "######「Shift + Enter」を押してください######"
   ]
  },
  {
   "cell_type": "markdown",
   "metadata": {},
   "source": [
    "[1, 2, 3, 4]と表示されれば正解です。"
   ]
  },
  {
   "cell_type": "markdown",
   "metadata": {},
   "source": [
    "ここで作成した配列の情報を取り出します。\n",
    "\n",
    "まず、配列の次元を取得します。\n",
    "\n",
    "配列の次元を取得したいときは「np.ndim()」を使用してください。\n",
    "\n",
    "もちろん、一次元配列を作成したので「１」と表示されます。"
   ]
  },
  {
   "cell_type": "code",
   "execution_count": 6,
   "metadata": {},
   "outputs": [
    {
     "data": {
      "text/plain": [
       "1"
      ]
     },
     "execution_count": 6,
     "metadata": {},
     "output_type": "execute_result"
    }
   ],
   "source": [
    "np.ndim(A)\n",
    "######「Shift + Enter」を押してください######"
   ]
  },
  {
   "cell_type": "markdown",
   "metadata": {},
   "source": [
    "次に配列の形状を取得します。\n",
    "\n",
    "これはインスタンス変数の「shape」を使用してください。\n",
    "\n",
    "一次元配列で４つの要素から構成されているので以下のように表示されます。\n",
    "\n",
    "ここで表示されているのはタプルになっていることに注意してください。\n",
    "\n",
    "（タプルは、リストや辞書型といった複数の要素を管理するデータ型の一種です。要素を追加・削除・変更できないといったところですね。タプルだから〜だということはないのであまり気にしないでください。)\n",
    "\n",
    "ただ、一次元配列の場合、要素数をa個だとすると\n",
    "\n",
    "(a, )\n",
    "\n",
    "というように表示されるということだけを覚えておいてください。"
   ]
  },
  {
   "cell_type": "code",
   "execution_count": 7,
   "metadata": {
    "collapsed": true,
    "jupyter": {
     "outputs_hidden": true
    }
   },
   "outputs": [
    {
     "data": {
      "text/plain": [
       "(4,)"
      ]
     },
     "execution_count": 7,
     "metadata": {},
     "output_type": "execute_result"
    }
   ],
   "source": [
    "A.shape\n",
    "######「Shift + Enter」を押してください######"
   ]
  },
  {
   "cell_type": "markdown",
   "metadata": {},
   "source": [
    "じゃあ二次元配列は？となりますよね。\n",
    "\n",
    "それでは二次元配列を作成し、次元と形状を取得していきます。"
   ]
  },
  {
   "cell_type": "code",
   "execution_count": 18,
   "metadata": {
    "collapsed": true,
    "jupyter": {
     "outputs_hidden": true
    }
   },
   "outputs": [
    {
     "name": "stdout",
     "output_type": "stream",
     "text": [
      "2\n",
      "(3, 2)\n"
     ]
    }
   ],
   "source": [
    "B = np.array([[1,2], [3, 4], [5, 6]])\n",
    "print(np.ndim(B))\n",
    "print(B.shape)\n",
    "######「Shift + Enter」を押してください######"
   ]
  },
  {
   "cell_type": "markdown",
   "metadata": {},
   "source": [
    "今回は「３×２の配列」であるBを作成しました。\n",
    "\n",
    "３×２の配列とは、最初の次元に３つの要素があり、次の次元に２つの要素があるという意味です。\n",
    "\n",
    "ご存知かもしれませんが二次元配列は行列と呼びます。\n",
    "\n",
    "また、配列の横の並びを「行」、縦の並びを「列」と呼びます。"
   ]
  },
  {
   "cell_type": "markdown",
   "metadata": {},
   "source": [
    "<img src = \"img2_7.png\" style=\"width: 500px; float:left;\">"
   ]
  },
  {
   "cell_type": "markdown",
   "metadata": {},
   "source": [
    "図3-1"
   ]
  },
  {
   "cell_type": "markdown",
   "metadata": {},
   "source": [
    "##### 【問題3-2】以下の例を参考に好きな三次元配列を作成し、次元と形状を取得してください。"
   ]
  },
  {
   "cell_type": "code",
   "execution_count": 27,
   "metadata": {},
   "outputs": [
    {
     "name": "stdout",
     "output_type": "stream",
     "text": [
      "[[[ 1  2]\n",
      "  [ 5  6]]\n",
      "\n",
      " [[ 7  8]\n",
      "  [ 9 10]]]\n",
      "3\n",
      "(2, 2, 2)\n"
     ]
    }
   ],
   "source": [
    "###### example ######\n",
    "import numpy as np\n",
    "\n",
    "C = np.array([[[1, 2],[5, 6]], [[7, 8],[9, 10]]])\n",
    "print(C)\n",
    "print(np.ndim(C))\n",
    "print(C.shape)\n",
    "######「Shift + Enter」を押してください######"
   ]
  },
  {
   "cell_type": "code",
   "execution_count": null,
   "metadata": {},
   "outputs": [],
   "source": [
    "######以下にコードを書いてください######\n",
    "\n",
    "\n",
    "\n",
    "\n",
    "\n",
    "######「Shift + Enter」を押してください######"
   ]
  },
  {
   "cell_type": "markdown",
   "metadata": {},
   "source": [
    "### 3-2. 行列の積"
   ]
  },
  {
   "cell_type": "markdown",
   "metadata": {},
   "source": [
    "次は行列の積について学習していきましょう。\n",
    "\n",
    "行列の積は以下の図のように計算されます。\n",
    "\n",
    "以下は２×２（２行２列）の行列の場合を示します。"
   ]
  },
  {
   "cell_type": "markdown",
   "metadata": {},
   "source": [
    "<img src = \"img2_8.png\" style=\"width: 500px; float:left;\">"
   ]
  },
  {
   "cell_type": "markdown",
   "metadata": {},
   "source": [
    "図3-2"
   ]
  },
  {
   "cell_type": "markdown",
   "metadata": {},
   "source": [
    "行列の積は、左側の行列の行と右側の行列の列の間の要素ごとの積とその和によって計算が行われます。"
   ]
  },
  {
   "cell_type": "markdown",
   "metadata": {},
   "source": [
    "さて、この計算をPythonで実装すると次のようになります。"
   ]
  },
  {
   "cell_type": "code",
   "execution_count": 24,
   "metadata": {
    "collapsed": true,
    "jupyter": {
     "outputs_hidden": true
    }
   },
   "outputs": [
    {
     "name": "stdout",
     "output_type": "stream",
     "text": [
      "[[19 22]\n",
      " [43 50]]\n"
     ]
    }
   ],
   "source": [
    "A = np.array([[1, 2], [3, 4]])\n",
    "B = np.array([[5, 6], [7, 8]])\n",
    "C = np.dot(A, B)\n",
    "print(C)\n",
    "######「Shift + Enter」を押してください######"
   ]
  },
  {
   "cell_type": "markdown",
   "metadata": {},
   "source": [
    "行列の積はどの関数で計算してるでしょうか。\n",
    "\n",
    "それらしきコードは「np.dot()」だけですね。\n",
    "\n",
    "「np.dot()」はNumpyの関数であり、行列の積を計算してくれます。\n",
    "\n",
    "一次元配列の場合はベクトルを、二次元配列では行列の積を計算します。\n",
    "\n",
    "ここで１つ注意点があります。\n",
    "\n",
    "それは、np.dot(A, B)とnp.dot(B, A)は異なる値になり得るということです。\n",
    "\n",
    "つまり順番が異なると、結果が異なるということです。\n",
    "\n",
    "「np.dot()」を使うときは順番に注意して計算してください。\n",
    "\n",
    "##### 【問題3-3】以下の例を参考に２×３（２行３列）の行列と３×２（３行２列）の行列の積を計算してください。"
   ]
  },
  {
   "cell_type": "code",
   "execution_count": 26,
   "metadata": {
    "collapsed": true,
    "jupyter": {
     "outputs_hidden": true
    }
   },
   "outputs": [
    {
     "name": "stdout",
     "output_type": "stream",
     "text": [
      "[[22 28]\n",
      " [49 64]]\n"
     ]
    }
   ],
   "source": [
    "###### example ######\n",
    "A = np.array([[1, 2, 3], [4, 5, 6]])\n",
    "B = np.array([[1, 2], [3, 4], [5, 6]])\n",
    "C = np.dot(A, B)\n",
    "print(C)"
   ]
  },
  {
   "cell_type": "code",
   "execution_count": null,
   "metadata": {},
   "outputs": [],
   "source": [
    "######以下にコードを書いてください######\n",
    "\n",
    "\n",
    "\n",
    "######「Shift + Enter」を押してください######"
   ]
  },
  {
   "cell_type": "markdown",
   "metadata": {},
   "source": [
    "とりあえず数値は出たけど合ってるのかなと思う方は実際に紙に書いて計算してみることをおすすめします。\n",
    "\n",
    "そしてもう１つ行列の積において重要なことがあります。\n",
    "\n",
    "ここで行列Aと行列Bの積を考えます。\n",
    "\n",
    "Aが「２×４（２行４列）」の行列でBが「３×２（３行２列）」の行列だった場合、「A × B」はどうなるでしょうか。\n",
    "\n",
    "残念ながらこれは計算できません。\n",
    "\n",
    "しかし、「B × A」なら計算することができます。\n",
    "\n",
    "この違いがわかりますか？\n",
    "\n",
    "まず、「A × B」の計算から考えます。\n",
    "\n",
    "行列Aの列数と行列Bの行数に注目してください。\n",
    "\n",
    "行列Aの列数は「４」で、行列Bの行数は「３」です。\n",
    "\n",
    "何が言いたいかというと、\n",
    "\n",
    "#### 「行列Aと行列Bの積において、行列Aの列数と行列Bの行数は一致させないといけない！」\n",
    "\n",
    "ということです。\n",
    "\n",
    "「行列」という文字がたくさん出てきてややこしいですが…\n",
    "\n",
    "どっちがどっち？となることも多々あると思います。\n",
    "\n",
    "以下のように覚えると簡単です。"
   ]
  },
  {
   "cell_type": "markdown",
   "metadata": {},
   "source": [
    "<img src = \"img2_9.png\" style=\"width: 500px; float:left;\">"
   ]
  },
  {
   "cell_type": "markdown",
   "metadata": {},
   "source": [
    "図3-3"
   ]
  },
  {
   "cell_type": "markdown",
   "metadata": {},
   "source": [
    "話を戻しますが、\n",
    "\n",
    "「B × A（B行A列）」は列数と行数が一致するので積を計算することができるのです。\n",
    "\n",
    "一般的な図を以下に載せておきます。"
   ]
  },
  {
   "cell_type": "markdown",
   "metadata": {},
   "source": [
    "<img src = \"img2_10.png\" style=\"width: 500px; float:left;\">"
   ]
  },
  {
   "cell_type": "markdown",
   "metadata": {},
   "source": [
    "図3-4"
   ]
  },
  {
   "cell_type": "markdown",
   "metadata": {},
   "source": [
    "さてここで１つ問題を挟みましょう。\n",
    "\n",
    "##### 【問題3-4】「１」から「８」までの数字を使って行列Aと行列Bを作成し、３×１（３行１列）の行列Cを作成してください。\n",
    "##### （どうしてもわからない場合は、下の「・・・」をクリックしてください）"
   ]
  },
  {
   "cell_type": "code",
   "execution_count": 28,
   "metadata": {
    "collapsed": true,
    "jupyter": {
     "outputs_hidden": true,
     "source_hidden": true
    }
   },
   "outputs": [
    {
     "name": "stdout",
     "output_type": "stream",
     "text": [
      "[[23]\n",
      " [53]\n",
      " [83]]\n"
     ]
    }
   ],
   "source": [
    "###### example ######\n",
    "A = np.array([[1, 2], [3, 4], [5, 6]])\n",
    "B = np.array([[7], [8]])\n",
    "C = np.dot(A, B)\n",
    "print(C)"
   ]
  },
  {
   "cell_type": "code",
   "execution_count": null,
   "metadata": {},
   "outputs": [],
   "source": [
    "######以下にコードを書いてください######\n",
    "\n",
    "\n",
    "\n",
    "######「Shift + Enter」を押してください######"
   ]
  },
  {
   "cell_type": "markdown",
   "metadata": {},
   "source": [
    "### 3-3. ニューラルネットワークの行列の積"
   ]
  },
  {
   "cell_type": "markdown",
   "metadata": {},
   "source": [
    "行列計算についてしっかり学習したということで、ニューラルネットワークに話を戻していきたいと思います。\n",
    "\n",
    "いきなりですがNumpy配列を使ってニューラルネットワークの実装をしてみましょう。\n",
    "\n",
    "簡略化のため、バイアスと活性化関数は省きます。\n",
    "\n",
    "まず入力値を定めます。"
   ]
  },
  {
   "cell_type": "code",
   "execution_count": 13,
   "metadata": {
    "collapsed": true,
    "jupyter": {
     "outputs_hidden": true
    }
   },
   "outputs": [
    {
     "data": {
      "text/plain": [
       "(2,)"
      ]
     },
     "execution_count": 13,
     "metadata": {},
     "output_type": "execute_result"
    }
   ],
   "source": [
    "X = np.array([1, 2])\n",
    "X.shape\n",
    "######「Shift + Enter」を押してください######"
   ]
  },
  {
   "cell_type": "markdown",
   "metadata": {},
   "source": [
    "(2,)は要素数が２個の一次元配列でしたね。\n",
    "\n",
    "次に重みを掛けていきますが、この重みもまた配列です。\n",
    "\n",
    "何が言いたいかというと、行列の積「X × W」を行う場合、行列Xの列数と行列Wの行数が一致してる必要があるということです。"
   ]
  },
  {
   "cell_type": "code",
   "execution_count": 14,
   "metadata": {
    "collapsed": true,
    "jupyter": {
     "outputs_hidden": true
    }
   },
   "outputs": [
    {
     "name": "stdout",
     "output_type": "stream",
     "text": [
      "[[1 3 5]\n",
      " [2 4 6]]\n",
      "(2, 3)\n"
     ]
    }
   ],
   "source": [
    "W = np.array([[1, 3, 5], [2, 4, 6]])\n",
    "print(W)\n",
    "print(W.shape)\n",
    "######「Shift + Enter」を押してください######"
   ]
  },
  {
   "cell_type": "markdown",
   "metadata": {},
   "source": [
    "これを見ると、重みWは２×３（２行３列）の配列であり、Xの列数とWの行数が一致していることがわかります。"
   ]
  },
  {
   "cell_type": "markdown",
   "metadata": {},
   "source": [
    "それでは行列Xと行列Wの積を計算していきたいと思います。"
   ]
  },
  {
   "cell_type": "code",
   "execution_count": 15,
   "metadata": {
    "collapsed": true,
    "jupyter": {
     "outputs_hidden": true
    }
   },
   "outputs": [
    {
     "name": "stdout",
     "output_type": "stream",
     "text": [
      "[ 5 11 17]\n"
     ]
    }
   ],
   "source": [
    "Y = np.dot(X, W)\n",
    "print(Y)\n",
    "######「Shift + Enter」を押してください######"
   ]
  },
  {
   "cell_type": "markdown",
   "metadata": {},
   "source": [
    "<img src = \"img2_11.png\" style=\"width: 500px; float:left;\">"
   ]
  },
  {
   "cell_type": "markdown",
   "metadata": {},
   "source": [
    "図3-5"
   ]
  },
  {
   "cell_type": "markdown",
   "metadata": {},
   "source": [
    "ここで示したように、「np.dot()」を使えば、Yの結果を一度に計算することができます。\n",
    "\n",
    "あまりピンとこない方は、Yの要素数が１００や１０００、それ以上の場合を考えてみてください。\n",
    "\n",
    "これを１つ１つ取り出して計算しろ！なんて言われたらどうしますか？\n",
    "\n",
    "正直、面倒ですよね…\n",
    "\n",
    "しかし、便利な「np.dot()」を知っていれば、一度の演算で計算できるのです。\n",
    "\n",
    "行列の積において一度で計算できるというテクニックは、実装上とても重要であると言えます。"
   ]
  },
  {
   "cell_type": "markdown",
   "metadata": {},
   "source": [
    "### 3-4.３層ニューラルネットワークの実装"
   ]
  },
  {
   "cell_type": "markdown",
   "metadata": {},
   "source": [
    "それでは実践的なニューラルネットワークの実装を行なっていきましょう。\n",
    "\n",
    "ここでは図3-6に示す３層のニューラルネットワークを対象として、その入力から出力への処理を実装します。"
   ]
  },
  {
   "cell_type": "markdown",
   "metadata": {},
   "source": [
    "<img src = \"img2_12.png\" style=\"width: 500px; float:left;\">"
   ]
  },
  {
   "cell_type": "markdown",
   "metadata": {},
   "source": [
    "図3-6"
   ]
  },
  {
   "cell_type": "markdown",
   "metadata": {},
   "source": [
    "そしてこれから出てくる図の表記の仕方を以下に表示します。"
   ]
  },
  {
   "cell_type": "markdown",
   "metadata": {},
   "source": [
    "<img src = \"img2_13.png\" style=\"width: 500px; float:left;\">"
   ]
  },
  {
   "cell_type": "markdown",
   "metadata": {},
   "source": [
    "図3-7"
   ]
  },
  {
   "cell_type": "markdown",
   "metadata": {},
   "source": [
    "では始めたいと思います。\n",
    "\n",
    "まず最初に、入力層から「第１層目の１番目のニューロン」への信号の伝達を見ていきます。\n",
    "\n",
    "図で表すと以下のようになります。"
   ]
  },
  {
   "cell_type": "markdown",
   "metadata": {},
   "source": [
    "<img src = \"img2_14.png\" style=\"width: 500px; float:left;\">"
   ]
  },
  {
   "cell_type": "markdown",
   "metadata": {},
   "source": [
    "図3-8"
   ]
  },
  {
   "cell_type": "markdown",
   "metadata": {},
   "source": [
    "図3-8に示すように、バイアスのためのニューロンである①が追加されています。\n",
    "\n",
    "ここで「a<sub>1</sub><sup>(1)</sup>」を数式で表してみましょう。"
   ]
  },
  {
   "cell_type": "markdown",
   "metadata": {},
   "source": [
    "\n",
    "#### a<sub>1</sub><sup>(1)</sup> = w<sub>11</sub><sup>(1)</sup>x<sub>1</sub> + w<sub>12</sub><sup>(1)</sup>x<sub>2</sub> + b<sub>1</sub><sup>(1)</sup>\n"
   ]
  },
  {
   "cell_type": "markdown",
   "metadata": {},
   "source": [
    "「a<sub>2</sub><sup>(1)</sup>」や「a<sub>3</sub><sup>(1)</sup>」も同様に表すことができます。\n",
    "\n",
    "また、行列の積を用いると、第１層目の「重み付き和」は次式でまとめて表すことができます。"
   ]
  },
  {
   "cell_type": "markdown",
   "metadata": {},
   "source": [
    "#### A<sup>(1)</sup> = XW<sup>(1)</sup> + B<sup>(1)</sup>"
   ]
  },
  {
   "cell_type": "markdown",
   "metadata": {},
   "source": [
    "これは「a<sub>1</sub><sup>(1)</sup>」や「a<sub>2</sub><sup>(1)</sup>」や「a<sub>3</sub><sup>(1)</sup>」の式を配列を使って表現した式になります。"
   ]
  },
  {
   "cell_type": "markdown",
   "metadata": {},
   "source": [
    "詳しくは以下のようになります。"
   ]
  },
  {
   "cell_type": "markdown",
   "metadata": {},
   "source": [
    "<img src = \"img2_15.png\" style=\"width: 600px; float:left;\">"
   ]
  },
  {
   "cell_type": "markdown",
   "metadata": {},
   "source": [
    "図3-9"
   ]
  },
  {
   "cell_type": "markdown",
   "metadata": {},
   "source": [
    "スッキリしない方は一度紙に書いて整理してもいいでしょう。"
   ]
  },
  {
   "cell_type": "markdown",
   "metadata": {},
   "source": [
    "それでは、Numpyの多次元配列を使って、今までの内容を実装しましょう。\n",
    "\n",
    "（入力信号、重み、バイアスは適当な値に設定するので、この数値にとらわれる必要はありません。）"
   ]
  },
  {
   "cell_type": "code",
   "execution_count": 16,
   "metadata": {
    "collapsed": true,
    "jupyter": {
     "outputs_hidden": true
    }
   },
   "outputs": [
    {
     "name": "stdout",
     "output_type": "stream",
     "text": [
      "(2,)\n",
      "(2, 3)\n",
      "(3,)\n",
      "[0.3 0.7 1.1]\n"
     ]
    }
   ],
   "source": [
    "import numpy as np\n",
    "\n",
    "X = np.array([1.0, 0.5])\n",
    "W1 = np.array([[0.1, 0.3, 0.5], [0.2, 0.4, 0.6]])\n",
    "B1 = np.array([0.1, 0.2, 0.3])\n",
    "\n",
    "print(X.shape)\n",
    "print(W1.shape)\n",
    "print(B1.shape)\n",
    "\n",
    "A1 = np.dot(X, W1) + B1\n",
    "\n",
    "print(A1)\n",
    "######「Shift + Enter」を押してください######"
   ]
  },
  {
   "cell_type": "markdown",
   "metadata": {},
   "source": [
    "Xは要素数が２の一次元配列であり、W1は２×３（２行３列）の配列です。\n",
    "\n",
    "やはり、Xの列数とW1の行数が一致してることがわかりますね。\n",
    "\n",
    "続いて、第一層目の活性化関数によるプロセスを考えていきます。\n",
    "\n",
    "可視化した方がわかりやすいので、活性化関数によるプロセスを図示します。"
   ]
  },
  {
   "cell_type": "markdown",
   "metadata": {},
   "source": [
    "<img src = \"img2_16.png\" style=\"width: 500px; float:left;\">"
   ]
  },
  {
   "cell_type": "markdown",
   "metadata": {},
   "source": [
    "図3-10"
   ]
  },
  {
   "cell_type": "markdown",
   "metadata": {},
   "source": [
    "図3-10からわかるように、重み付き信号とバイアスの総和を「a」で表し、活性化関数で変換された信号を「z」で表します。\n",
    "\n",
    "また、活性化関数をh()で表し、ここではシグモイド関数を使うことにします。\n",
    "\n",
    "それでは、実装していきます。"
   ]
  },
  {
   "cell_type": "code",
   "execution_count": 17,
   "metadata": {
    "collapsed": true,
    "jupyter": {
     "outputs_hidden": true
    }
   },
   "outputs": [
    {
     "name": "stdout",
     "output_type": "stream",
     "text": [
      "[0.3 0.7 1.1]\n",
      "[0.57444252 0.66818777 0.75026011]\n"
     ]
    }
   ],
   "source": [
    "import numpy as np\n",
    "\n",
    "def sigmoid(x):\n",
    "    return 1/(1 + np.exp(-x))\n",
    "\n",
    "X = np.array([1.0, 0.5])\n",
    "W1 = np.array([[0.1, 0.3, 0.5], [0.2, 0.4, 0.6]])\n",
    "B1 = np.array([0.1, 0.2, 0.3])\n",
    "A1 = np.dot(X, W1) + B1\n",
    "Z1 = sigmoid(A1)\n",
    "print(A1)\n",
    "print(Z1)\n",
    "######「Shift + Enter」を押してください######"
   ]
  },
  {
   "cell_type": "markdown",
   "metadata": {},
   "source": [
    "入力層から第１層目のニューロンへの信号の伝達を実装してみました。\n",
    "\n",
    "「重み付き信号とバイアスの総和を計算し、その総和を活性化関数で変換する」\n",
    "\n",
    "というのが大体の流れになります。\n",
    "\n",
    "では図3-11を参考にしながら第１層から第２層までの実装を行います。"
   ]
  },
  {
   "cell_type": "markdown",
   "metadata": {},
   "source": [
    "<img src = \"img2_17.png\" style=\"width: 500px; float:left;\">"
   ]
  },
  {
   "cell_type": "markdown",
   "metadata": {},
   "source": [
    "図3-11"
   ]
  },
  {
   "cell_type": "code",
   "execution_count": 20,
   "metadata": {
    "collapsed": true,
    "jupyter": {
     "outputs_hidden": true
    }
   },
   "outputs": [
    {
     "name": "stdout",
     "output_type": "stream",
     "text": [
      "(3,)\n",
      "(3, 2)\n",
      "(2,)\n"
     ]
    }
   ],
   "source": [
    "W2 = np.array([[0.1, 0.4], [0.2, 0.5], [0.3, 0.6]])\n",
    "B2 = np.array([0.1, 0.2])\n",
    "\n",
    "print(Z1.shape)\n",
    "print(W2.shape)\n",
    "print(B2.shape)\n",
    "######「Shift + Enter」を押してください######"
   ]
  },
  {
   "cell_type": "markdown",
   "metadata": {},
   "source": [
    "入力信号となるZ1の列数と重みW2の行数が一致してることが確認できます。"
   ]
  },
  {
   "cell_type": "code",
   "execution_count": 19,
   "metadata": {
    "collapsed": true,
    "jupyter": {
     "outputs_hidden": true
    }
   },
   "outputs": [
    {
     "name": "stdout",
     "output_type": "stream",
     "text": [
      "[0.62624937 0.7710107 ]\n"
     ]
    }
   ],
   "source": [
    "A2 = np.dot(Z1, W2) + B2\n",
    "Z2 = sigmoid(A2)\n",
    "print(Z2)\n",
    "######「Shift + Enter」を押してください######"
   ]
  },
  {
   "cell_type": "markdown",
   "metadata": {},
   "source": [
    "先ほどの実装と同じように、重み付き信号とバイアスの総和を計算し、その総和を活性化関数で変換しましたが、出力信号であった「Z1」を入力信号として扱っていることは異なる点となります。\n",
    "\n",
    "最後に、第２層から出力層への信号の伝達を実装します。\n",
    "\n",
    "今までの実装とほとんど同じですが、最後の活性化関数だけが、これまでの隠れ層とは異なります。"
   ]
  },
  {
   "cell_type": "markdown",
   "metadata": {},
   "source": [
    "<img src = \"img2_18.png\" style=\"width: 500px; float:left;\">"
   ]
  },
  {
   "cell_type": "markdown",
   "metadata": {},
   "source": [
    "図3-12"
   ]
  },
  {
   "cell_type": "code",
   "execution_count": 22,
   "metadata": {
    "collapsed": true,
    "jupyter": {
     "outputs_hidden": true
    }
   },
   "outputs": [
    {
     "name": "stdout",
     "output_type": "stream",
     "text": [
      "[0.32672206 0.72332636]\n"
     ]
    }
   ],
   "source": [
    "def identity_function(x):\n",
    "    return x\n",
    "\n",
    "W3 = np.array([[0.1, 0.3], [0.2, 0.4]])\n",
    "B3 = np.array([0.1, 0.2])\n",
    "\n",
    "A3 = np.dot(Z2, W3) + B3\n",
    "Y = identity_function(A3)\n",
    "print(Y)\n",
    "######「Shift + Enter」を押してください######"
   ]
  },
  {
   "cell_type": "markdown",
   "metadata": {},
   "source": [
    "「identity_function()」を「恒等関数」と言います。\n",
    "\n",
    "そしてこれを出力層の活性化関数として利用します。\n",
    "\n",
    "恒等関数は入力をそのまま出力する関数なので、わざわざ「identity_function()」を定義する必要はないのでのですが、今までの流れと同じにするために定義しました。\n",
    "\n",
    "また、出力層で利用する活性化関数は、解く問題の性質に応じて決めます。\n",
    "\n",
    "例えば、回帰問題では恒等関数、２クラス分類問題ではシグモイド関数、多クラス分類ではソフトマックス関数を使うのが一般的です。\n",
    "\n",
    "出力層の活性化関数についてはこれから学んでいきます。\n",
    "\n",
    "ここでは、そうなんだ！くらいで大丈夫です。"
   ]
  },
  {
   "cell_type": "markdown",
   "metadata": {},
   "source": [
    "それではここで１つ自分で実装してみましょう。\n",
    "\n",
    "##### 【問題3-5】３層ニューラルネットワークを実装してください。第０層から第２層までの活性化関数にはシグモイド関数を、出力層の活性化関数には恒等関数を使用してください。数値は以下の値を使ってください。ちなみに以下の表記は正しくありませんので、計算できる形に変形してお使いください。"
   ]
  },
  {
   "cell_type": "code",
   "execution_count": null,
   "metadata": {},
   "outputs": [],
   "source": [
    "######何も触らないでください######\n",
    "\n",
    "X = [1.0, 0.5, 0.5] ######「入力信号は３つ」######\n",
    "W1 = [0.1, 0.2, 0.1, 0.5]\n",
    "     [0.2, 0.1, 0.3, 0.4]\n",
    "     [0.3, 0.2, 0.6, 0.2] ######「重みは３×４」######\n",
    "B1 = [0.1, 0.2, 0.2, 0.3] ######「バイアスは４つ」######\n",
    "W2 = [0.1, 0.4]\n",
    "     [0.2, 0.1]\n",
    "     [0.3, 0.6]\n",
    "     [0.2, 0.5] ######「重みは４×２」######\n",
    "B2 = [0.3, 0.2] ######「バイアスは２つ」######\n",
    "W3 = [0.1, 0.3]\n",
    "     [0.2, 0.4] ######「重みは２×２」######\n",
    "B3 = [0.2, 0.2] ######「バイアスは２つ」######"
   ]
  },
  {
   "cell_type": "code",
   "execution_count": null,
   "metadata": {},
   "outputs": [],
   "source": [
    "######以下にコードを書いてください######\n",
    "\n",
    "\n",
    "\n",
    "\n",
    "\n",
    "######「Shift + Enter」を押してください######"
   ]
  },
  {
   "cell_type": "code",
   "execution_count": 25,
   "metadata": {
    "jupyter": {
     "source_hidden": true
    }
   },
   "outputs": [
    {
     "name": "stdout",
     "output_type": "stream",
     "text": [
      "[0.42672206 0.72332636]\n"
     ]
    }
   ],
   "source": [
    "X = np.array([1.0, 0.5, 0.5])\n",
    "W1 = np.array([[0.1, 0.2, 0.1, 0.5], [0.2, 0.1, 0.3, 0.4], [0.3, 0.2, 0.6, 0.2]])\n",
    "B1 = np.array([0.1, 0.2, 0.2, 0.3])\n",
    "W2 = np.array([[0.1, 0.4], [0.2, 0.1], [0.3, 0.6], [0.2, 0.5]])\n",
    "B2 = np.array([0.3, 0.2])\n",
    "W3 = np.array([[0.1, 0.3], [0.2, 0.4]])\n",
    "B3 = np.array([0.2, 0.2])\n",
    "\n",
    "A1 = np.dot(X, W1) + B1\n",
    "Z1 = sigmoid(A1)\n",
    "A2 = np.dot(Z1, W2) + B2\n",
    "Z2 = sigmoid(A2)\n",
    "A3 = np.dot(Z2, W3) + B3\n",
    "Y = identity_function(A3)\n",
    "print(Y)"
   ]
  },
  {
   "cell_type": "markdown",
   "metadata": {},
   "source": [
    "上記のように表示されたら正解です。\n",
    "\n",
    "おそらく１つ１つに代入して計算するという方法をとったのではないでしょうか。\n",
    "\n",
    "もちろん問題ないのですが、毎回毎回それを行っていては面倒です。\n",
    "\n",
    "そこで別の書き方を紹介するのでじっくり読んで考えてみてください。"
   ]
  },
  {
   "cell_type": "code",
   "execution_count": 28,
   "metadata": {
    "collapsed": true,
    "jupyter": {
     "outputs_hidden": true
    }
   },
   "outputs": [
    {
     "name": "stdout",
     "output_type": "stream",
     "text": [
      "[0.31682708 0.69627909]\n"
     ]
    }
   ],
   "source": [
    "def init_network():\n",
    "    network = {}\n",
    "    network['W1'] = np.array([[0.1, 0.3, 0.5], [0.2, 0.4, 0.6]])\n",
    "    network['b1'] = np.array([0.1, 0.2, 0.3])\n",
    "    network['W2'] = np.array([[0.1, 0.4], [0.2, 0.5], [0.3, 0.6]])\n",
    "    network['b2'] = np.array([0.1, 0.2])\n",
    "    network['W3'] = np.array([[0.1, 0.3], [0.2, 0.4]])\n",
    "    network['b3'] = np.array([0.1, 0.2])\n",
    "    \n",
    "    return network\n",
    "\n",
    "def forward(network, x):\n",
    "    W1, W2, W3 = network['W1'], network['W2'], network['W3']\n",
    "    b1, b2, b3 = network['b1'], network['b2'], network['b3']\n",
    "    \n",
    "    a1 = np.dot(x, W1) + b1\n",
    "    z1 = sigmoid(a1)\n",
    "    a2 = np.dot(z1, W2) + b2\n",
    "    z2 = sigmoid(a2)\n",
    "    a3 = np.dot(z2, W3) + b3\n",
    "    y = identity_function(a3)\n",
    "    \n",
    "    return y\n",
    "\n",
    "network = init_network()\n",
    "x = np.array([1.0, 0.5])\n",
    "y = forward(network, x)\n",
    "print(y)\n",
    "######「Shift + Enter」を押してください######"
   ]
  },
  {
   "cell_type": "markdown",
   "metadata": {},
   "source": [
    "ここでは新しく「init_network()」と「forward()」という関数を追加しました。\n",
    "\n",
    "「init_network()関数」で重みとバイアスの初期化を行い、それらをディクショナリ型の変数networkに格納します。\n",
    "\n",
    "つまり、この関数を呼び出せば、毎回入力することなく重みとバイアスの値を呼び出せるのです。\n",
    "\n",
    "ディクショナリ型とは？となった方は、3-4(付録)を参照ください。\n",
    "\n",
    "「forward()関数」では、入力信号が出力へと変換されるプロセスがまとめて実装されているので、この関数を呼び出し、入力信号を入力するだけで出力信号が得られます。\n",
    "\n",
    "この内容は今までやってきた内容と同じなのでわかると思います。\n",
    "\n",
    "「forward」という名前は入力から出力方向への伝達処理を表しています。\n",
    "\n",
    "これで、ニューラルネットワークのフォワード方向の実装は終わりです。\n",
    "\n",
    "Numpyの多次元配列は便利なので必ず使えるようになっておいてください。"
   ]
  },
  {
   "cell_type": "markdown",
   "metadata": {},
   "source": [
    "### 3-4(付録). ディクショナリ型"
   ]
  },
  {
   "cell_type": "markdown",
   "metadata": {},
   "source": [
    "ディクショナリ型のディクショナリは「dictionary」と書きます。\n",
    "\n",
    "これは「辞書」と訳すことができます。\n",
    "\n",
    "つまり、Pythonの辞書ということがわかります。\n",
    "\n",
    "ディクショナリ型は配列の一種であり、任意の数の要素を代入でき、作成後、要素の追加や削除ができます。\n",
    "\n",
    "ディクショナリ型を扱う場合、「key」と「value」の２つで１つの要素と考え、１つのディクショナリの中で同じ「key」を使用することができません。\n",
    "\n",
    "そして、ディクショナリ型には順序がないので、要素を取り出すときには「key」を使うことになります。\n",
    "\n",
    "では、例を示します。"
   ]
  },
  {
   "cell_type": "code",
   "execution_count": 1,
   "metadata": {},
   "outputs": [],
   "source": [
    "a = {'apple':5, 'orange':3, 'banana':4}\n",
    "######「Shift + Enter」を押してください######"
   ]
  },
  {
   "cell_type": "markdown",
   "metadata": {},
   "source": [
    "まず、{}を用意します。その中に「key」を「''」で囲い、そのあとに「value」の値を書きます。\n",
    "\n",
    "これでディクショナリ型のオブジェクトが完成します。"
   ]
  },
  {
   "cell_type": "code",
   "execution_count": 3,
   "metadata": {
    "collapsed": true,
    "jupyter": {
     "outputs_hidden": true
    }
   },
   "outputs": [
    {
     "data": {
      "text/plain": [
       "5"
      ]
     },
     "execution_count": 3,
     "metadata": {},
     "output_type": "execute_result"
    }
   ],
   "source": [
    "a['apple']\n",
    "######「Shift + Enter」を押してください######"
   ]
  },
  {
   "cell_type": "markdown",
   "metadata": {},
   "source": [
    "上記のように['key']とすることによって、あるkeyにおけるvalueを取り出すことができます。\n",
    "\n",
    "また、「keys()」や「values()」、「items()」といった関数も存在しています。"
   ]
  },
  {
   "cell_type": "code",
   "execution_count": 4,
   "metadata": {
    "collapsed": true,
    "jupyter": {
     "outputs_hidden": true
    }
   },
   "outputs": [
    {
     "name": "stdout",
     "output_type": "stream",
     "text": [
      "apple\n",
      "orange\n",
      "banana\n"
     ]
    }
   ],
   "source": [
    "for key in a.keys():\n",
    "    print(key)\n",
    "######「Shift + Enter」を押してください######"
   ]
  },
  {
   "cell_type": "code",
   "execution_count": 5,
   "metadata": {
    "collapsed": true,
    "jupyter": {
     "outputs_hidden": true
    }
   },
   "outputs": [
    {
     "name": "stdout",
     "output_type": "stream",
     "text": [
      "5\n",
      "3\n",
      "4\n"
     ]
    }
   ],
   "source": [
    "for value in a.values():\n",
    "    print(value)\n",
    "######「Shift + Enter」を押してください######"
   ]
  },
  {
   "cell_type": "code",
   "execution_count": 6,
   "metadata": {
    "collapsed": true,
    "jupyter": {
     "outputs_hidden": true
    }
   },
   "outputs": [
    {
     "name": "stdout",
     "output_type": "stream",
     "text": [
      "apple 5\n",
      "orange 3\n",
      "banana 4\n"
     ]
    }
   ],
   "source": [
    "for key, value in a.items():\n",
    "    print(key, value)\n",
    "######「Shift + Enter」を押してください######"
   ]
  },
  {
   "cell_type": "markdown",
   "metadata": {},
   "source": [
    "上のコードからわかるように、\n",
    "\n",
    "「keys()」は「key」を、\n",
    "\n",
    "「values()」は「value」を、\n",
    "\n",
    "「item()」は「key」と「value」を取り出します。\n",
    "\n",
    "状況によって使い分けるととても便利です。\n",
    "\n",
    "では使ってみましょう。\n",
    "\n",
    "##### 【問題3-6】リンゴが１００円、みかんが１２０円で売っているとします。それぞれを３個ずつ買ったとすると何円になるでしょう。計算する際に、１つディクショナリを作成してください。"
   ]
  },
  {
   "cell_type": "code",
   "execution_count": 18,
   "metadata": {
    "jupyter": {
     "source_hidden": true
    }
   },
   "outputs": [
    {
     "name": "stdout",
     "output_type": "stream",
     "text": [
      "660\n"
     ]
    }
   ],
   "source": [
    "price = {'apple':100, 'orange':120}\n",
    "money = 0\n",
    "for value in price.values():\n",
    "    money += value\n",
    "\n",
    "total = money * 3\n",
    "print(total)"
   ]
  },
  {
   "cell_type": "code",
   "execution_count": null,
   "metadata": {},
   "outputs": [],
   "source": [
    "######以下にコードを書いてください######\n",
    "\n",
    "\n",
    "\n",
    "\n",
    "######「Shift + Enter」を押してください######"
   ]
  },
  {
   "cell_type": "markdown",
   "metadata": {},
   "source": [
    "## 4. 出力層の設計"
   ]
  },
  {
   "cell_type": "markdown",
   "metadata": {},
   "source": [
    "ニューラルネットワークは、分類問題と回帰問題の両方に用いることができます。\n",
    "\n",
    "ただし、分類問題と回帰問題のどちらかに用いるかで、出力層の活性化関数を変更する必要があります。\n",
    "\n",
    "一般的に、回帰問題では恒等関数を、分類問題ではソフトマックス関数を使います。\n",
    "\n",
    "ここで少し説明します。\n",
    "\n",
    "分類問題とは、データがどのクラスに属するか、という問題です。\n",
    "\n",
    "人の写った画像からその人が男性か女性のどちらであるかを分類するような問題が分類問題に相当します。\n",
    "\n",
    "一方、回帰問題は、ある入力データから、数値の予測を行う問題です。\n",
    "\n",
    "人の写った画像から、その人の体重を予測するような問題が、回帰問題の例になります。\n",
    "\n",
    "それでは恒等関数とソフトマックス関数について学習していきましょう。"
   ]
  },
  {
   "cell_type": "markdown",
   "metadata": {},
   "source": [
    "### 4-1. 恒等関数とソフトマックス関数"
   ]
  },
  {
   "cell_type": "markdown",
   "metadata": {},
   "source": [
    "恒等関数は、前回にも出てきたように、入力をそのまま出力します。\n",
    "\n",
    "言い換えると入ってきたものに対して何も手を加えずに出力する関数です。"
   ]
  },
  {
   "cell_type": "markdown",
   "metadata": {},
   "source": [
    "<img src = \"img2_19.png\" style=\"width: 500px; float:left;\">"
   ]
  },
  {
   "cell_type": "markdown",
   "metadata": {},
   "source": [
    "図4-1"
   ]
  },
  {
   "cell_type": "markdown",
   "metadata": {},
   "source": [
    "一方、ソフトマックス関数は、次の式で表されます。"
   ]
  },
  {
   "cell_type": "markdown",
   "metadata": {},
   "source": [
    "$$\n",
    "   y_k = \\frac{exp(a_k)}{\\sum_{i=1}^{n}exp(a_i)}\n",
    "$$"
   ]
  },
  {
   "cell_type": "markdown",
   "metadata": {},
   "source": [
    "ここでは出力層が全部で「n個」あるとして、k番目の出力「y<sub>k</sub>」を求める計算式を表しています。\n",
    "\n",
    "ソフトマックス関数の分子は入力信号「a<sub>k</sub>」の指数関数、分母はすべての入力の指数関数の和から構成されます。\n",
    "\n",
    "これを図で表すと以下のようになります。"
   ]
  },
  {
   "cell_type": "markdown",
   "metadata": {},
   "source": [
    "<img src = \"img2_20.png\" style=\"width: 500px; float:left;\">"
   ]
  },
  {
   "cell_type": "markdown",
   "metadata": {},
   "source": [
    "図4-2"
   ]
  },
  {
   "cell_type": "markdown",
   "metadata": {},
   "source": [
    "この図からわかるように、ソフトマックスの出力は、すべての入力信号から矢印による結びつきがあります。\n",
    "\n",
    "理由は、ソフトマックス関数の分母にあります。"
   ]
  },
  {
   "cell_type": "markdown",
   "metadata": {},
   "source": [
    "$$\n",
    "  \\sum_{i=1}^{n}exp(a_i)\n",
    "$$"
   ]
  },
  {
   "cell_type": "markdown",
   "metadata": {},
   "source": [
    "この式は、"
   ]
  },
  {
   "cell_type": "markdown",
   "metadata": {},
   "source": [
    "$$\n",
    "  exp(a_1) + exp(a_2) + \\cdots + exp(a_k) + \\cdots + exp(a_n)\n",
    "$$"
   ]
  },
  {
   "cell_type": "markdown",
   "metadata": {},
   "source": [
    "を表しています。\n",
    "\n",
    "先ほど説明しましたが、ソフトマックス関数の分母はすべての入力信号を足し合わせたものになります。\n",
    "\n",
    "つまり、出力の各ニューロンはすべての入力信号から影響を受けるということが言えるのです。"
   ]
  },
  {
   "cell_type": "markdown",
   "metadata": {},
   "source": [
    "それでは、ソフトマックス関数を実装しましょう。\n",
    "\n",
    "１つ１つ順を追って確認していきます。\n",
    "\n",
    "まず、「a」という配列を作成し、「exp()」関数を使います。"
   ]
  },
  {
   "cell_type": "code",
   "execution_count": 20,
   "metadata": {
    "collapsed": true,
    "jupyter": {
     "outputs_hidden": true
    }
   },
   "outputs": [
    {
     "name": "stdout",
     "output_type": "stream",
     "text": [
      "[ 1.34985881 18.17414537 54.59815003]\n"
     ]
    }
   ],
   "source": [
    "import numpy as np\n",
    "a = np.array([0.3, 2.9, 4.0])\n",
    "\n",
    "exp_a = np.exp(a)\n",
    "print(exp_a)\n",
    "######「Shift + Enter」を押してください######"
   ]
  },
  {
   "cell_type": "markdown",
   "metadata": {},
   "source": [
    "次にソフトマックス関数の分母について考えます。\n",
    "\n",
    "分母は入力信号の総和なので、足し合わせていきます。\n",
    "\n",
    "そこで「np.sum()」を用いるのですが、これは配列の要素の総和を計算します。"
   ]
  },
  {
   "cell_type": "code",
   "execution_count": 21,
   "metadata": {
    "collapsed": true,
    "jupyter": {
     "outputs_hidden": true
    }
   },
   "outputs": [
    {
     "name": "stdout",
     "output_type": "stream",
     "text": [
      "74.1221542101633\n"
     ]
    }
   ],
   "source": [
    "sum_exp_a = np.sum(exp_a)\n",
    "\n",
    "print(sum_exp_a)\n",
    "######「Shift + Enter」を押してください######"
   ]
  },
  {
   "cell_type": "markdown",
   "metadata": {},
   "source": [
    "分母が計算できたら、分子を分母で割ります。"
   ]
  },
  {
   "cell_type": "code",
   "execution_count": 22,
   "metadata": {
    "collapsed": true,
    "jupyter": {
     "outputs_hidden": true
    }
   },
   "outputs": [
    {
     "name": "stdout",
     "output_type": "stream",
     "text": [
      "[0.01821127 0.24519181 0.73659691]\n"
     ]
    }
   ],
   "source": [
    "y = exp_a / sum_exp_a\n",
    "\n",
    "print(y)\n",
    "######「Shift + Enter」を押してください######"
   ]
  },
  {
   "cell_type": "markdown",
   "metadata": {},
   "source": [
    "特に難しいことは出てきていませんね。\n",
    "\n",
    "それではもう一度自分で実装してください。\n",
    "\n",
    "##### 【問題4-1】ソフトマックス関数を実装してください。"
   ]
  },
  {
   "cell_type": "code",
   "execution_count": null,
   "metadata": {},
   "outputs": [],
   "source": [
    "######以下にコードを書いてください######\n",
    "def softmax(a):\n",
    "    \n",
    "    \n",
    "    \n",
    "######「Shift + Enter」を書いてください######"
   ]
  },
  {
   "cell_type": "markdown",
   "metadata": {},
   "source": [
    "### 4-2. ソフトマックス関数の実装上の注意"
   ]
  },
  {
   "cell_type": "markdown",
   "metadata": {},
   "source": [
    "今までソフトマックス関数について説明し、実装までしてもらったのですが、コンピュータで計算を行う上では欠陥があります。\n",
    "\n",
    "その欠陥は何かと言いますと、オーバーフローに関する問題になります。\n",
    "\n",
    "ソフトマックス関数の実装では、指数関数の計算を行うことになりますが、その際、指数関数の値が容易に大きな値になり得るということを頭に入れておく必要があります。\n",
    "\n",
    "例えば、「e<sup>10</sup>」を電卓で計算してみてください。\n",
    "\n",
    "おそらく20000を超えると思います。\n",
    "\n",
    "さらに「e<sup>100</sup>」は０が４０個以上も並ぶ大きな値になり、「e<sup>1000</sup>」の結果は無限大を表すinfが返ってきます。\n",
    "\n",
    "そして、このような大きな値どうしで割り算を行うと、数値が不安定な結果になってしまうのです。"
   ]
  },
  {
   "cell_type": "markdown",
   "metadata": {},
   "source": [
    "このことから改善策が必要だということがわかります。\n",
    "\n",
    "以下の式をご覧ください。"
   ]
  },
  {
   "cell_type": "markdown",
   "metadata": {},
   "source": [
    "$$\n",
    "  y_k = \\frac{exp(a_k)}{\\sum_{i=1}^{n}exp(a_i)}\\\\\n",
    "      = \\frac{Cexp(a_k)}{C\\sum_{i=1}^{n}exp(a_i)}\\\\ \n",
    "      = \\frac{exp(a_k + logC)}{\\sum_{i=1}^{n}exp(a_i + logC)}\\\\\n",
    "      = \\frac{exp(a_k + C')}{\\sum_{i=1}^{n}exp(a_i + C')}\n",
    "$$"
   ]
  },
  {
   "cell_type": "markdown",
   "metadata": {},
   "source": [
    "まず最初の式変形として、分子と分母に定数Cを掛けます。\n",
    "\n",
    "分数の性質として、分子と分母に同じものを掛けても大丈夫というのがありました。\n",
    "\n",
    "次に、定数Cを指数関数expの中に移動させます。\n",
    "\n",
    "「logC」は指数対数を表しています。\n",
    "\n",
    "また、「logC」は$exp(x) = C$を表しています。\n",
    "\n",
    "このことから\n",
    "$$\n",
    "  Cexp(a_k) = exp(logC)exp(a_k)\\\\\n",
    "            = exp(a_k + logC)\n",
    "$$"
   ]
  },
  {
   "cell_type": "markdown",
   "metadata": {},
   "source": [
    "という変形ができることがわかりますね。\n",
    "\n",
    "そして「logC」も定数なので「C'」に置き換えます。\n",
    "\n",
    "これで上の式変形の説明を終わります。\n",
    "\n",
    "どうしてややこしい変形をわざわざするのか。\n",
    "\n",
    "それは、ソフトマックスの指数関数の計算を行う際には、何らかの定数を足し算（もしくは引き算）しても結果は変わらないということがわかるからです。\n",
    "\n",
    "C'はどんな値でも大丈夫なのですが、オーバーフローの対策として、この式変形をしたと言っても過言ではないので、対策用の数値を用います。\n",
    "\n",
    "対策用の数値として、入力信号の中で最大の値を用いるのが基本的です。\n",
    "\n",
    "それでは、１つ具体例を見てみましょう。"
   ]
  },
  {
   "cell_type": "code",
   "execution_count": 23,
   "metadata": {
    "collapsed": true,
    "jupyter": {
     "outputs_hidden": true
    }
   },
   "outputs": [
    {
     "name": "stdout",
     "output_type": "stream",
     "text": [
      "[nan nan nan]\n"
     ]
    },
    {
     "name": "stderr",
     "output_type": "stream",
     "text": [
      "/Users/imanishiwataru/opt/anaconda3/lib/python3.7/site-packages/ipykernel_launcher.py:2: RuntimeWarning: overflow encountered in exp\n",
      "  \n",
      "/Users/imanishiwataru/opt/anaconda3/lib/python3.7/site-packages/ipykernel_launcher.py:2: RuntimeWarning: invalid value encountered in true_divide\n",
      "  \n"
     ]
    }
   ],
   "source": [
    "a = np.array([1010, 1000, 990])\n",
    "y = np.exp(a) / np.sum(np.exp(a))\n",
    "print(y)\n",
    "######「Shift + Enter」を押してください######"
   ]
  },
  {
   "cell_type": "markdown",
   "metadata": {},
   "source": [
    "配列の数値の数値が大きすぎるため、正しく計算されず、上記のようなものが返されてしまいます。\n",
    "\n",
    "そこで先ほど考えた改善策を導入していきます。"
   ]
  },
  {
   "cell_type": "code",
   "execution_count": 25,
   "metadata": {
    "collapsed": true,
    "jupyter": {
     "outputs_hidden": true
    }
   },
   "outputs": [
    {
     "name": "stdout",
     "output_type": "stream",
     "text": [
      "[  0 -10 -20]\n"
     ]
    }
   ],
   "source": [
    "c = np.max(a)\n",
    "print(a - c)\n",
    "######「Shift + Enter」を押してください######"
   ]
  },
  {
   "cell_type": "markdown",
   "metadata": {},
   "source": [
    "「a」という配列の中から最大の数値を取り出し、各要素からその値を引きました。\n",
    "\n",
    "そうすることによって各要素の値が小さい配列ができるので、オーバーフローを心配する必要がありません。\n",
    "\n",
    "それでは計算してみましょう。"
   ]
  },
  {
   "cell_type": "code",
   "execution_count": 26,
   "metadata": {
    "collapsed": true,
    "jupyter": {
     "outputs_hidden": true
    }
   },
   "outputs": [
    {
     "name": "stdout",
     "output_type": "stream",
     "text": [
      "[9.99954600e-01 4.53978686e-05 2.06106005e-09]\n"
     ]
    }
   ],
   "source": [
    "z = a - c\n",
    "y = np.exp(z)/np.sum(np.exp(z))\n",
    "print(y)\n",
    "######「Shift + Enter」を押してください######"
   ]
  },
  {
   "cell_type": "markdown",
   "metadata": {},
   "source": [
    "正しく計算できたことがわかると思います。\n",
    "\n",
    "これを踏まえて、ソフトマックス関数を実装してみてください。\n",
    "\n",
    "##### 【問題4-2】正しく計算できるようにソフトマックス関数を実装してください。"
   ]
  },
  {
   "cell_type": "code",
   "execution_count": null,
   "metadata": {},
   "outputs": [],
   "source": [
    "#######以下にコードを書いてください######\n",
    "def softmax(a):\n",
    "    \n",
    "    \n",
    "    \n",
    "    \n",
    "    \n",
    "a = np.array([1010, 1000, 990])\n",
    "print(softmax(a))\n",
    "######「Shift + Enter」を押してください######"
   ]
  },
  {
   "cell_type": "code",
   "execution_count": 16,
   "metadata": {
    "jupyter": {
     "source_hidden": true
    }
   },
   "outputs": [
    {
     "name": "stdout",
     "output_type": "stream",
     "text": [
      "[9.99954600e-01 4.53978686e-05 2.06106005e-09]\n"
     ]
    }
   ],
   "source": [
    "def softmax(a):\n",
    "    c = np.max(a)\n",
    "    exp_a = np.exp(a - c)\n",
    "    sum_exp_a = np.sum(exp_a)\n",
    "    y = exp_a / sum_exp_a\n",
    "    \n",
    "    return y\n",
    "\n",
    "a = np.array([1010, 1000, 990])\n",
    "print(softmax(a))"
   ]
  },
  {
   "cell_type": "markdown",
   "metadata": {},
   "source": [
    "上記のように表示されたら正解です。"
   ]
  },
  {
   "cell_type": "markdown",
   "metadata": {},
   "source": [
    "### 4-3. ソフトマックス関数の特徴"
   ]
  },
  {
   "cell_type": "markdown",
   "metadata": {},
   "source": [
    "softmax()関数を使えば、ニューラルネットワークの出力は次のように計算することができます。"
   ]
  },
  {
   "cell_type": "code",
   "execution_count": 30,
   "metadata": {
    "collapsed": true,
    "jupyter": {
     "outputs_hidden": true
    }
   },
   "outputs": [
    {
     "name": "stdout",
     "output_type": "stream",
     "text": [
      "[0.01821127 0.24519181 0.73659691]\n"
     ]
    }
   ],
   "source": [
    "a = np.array([0.3, 2.9, 4.0])\n",
    "y = softmax(a)\n",
    "print(y)\n",
    "######「Shift + Enter」を押してください######"
   ]
  },
  {
   "cell_type": "code",
   "execution_count": 31,
   "metadata": {
    "collapsed": true,
    "jupyter": {
     "outputs_hidden": true
    }
   },
   "outputs": [
    {
     "name": "stdout",
     "output_type": "stream",
     "text": [
      "1.0\n"
     ]
    }
   ],
   "source": [
    "print(np.sum(y))\n",
    "######「Shift + Enter」を押してください######"
   ]
  },
  {
   "cell_type": "markdown",
   "metadata": {},
   "source": [
    "ここで示したように、ソフトマックス関数の出力は、「０」から「１.０」の間の実数になります。\n",
    "\n",
    "また、ソフトマックス関数の出力の総和は「１」になります。\n",
    "\n",
    "総和が「１」になるという性質は、ソフトマックス関数の重要な性質です。\n",
    "\n",
    "この性質のおかげでソフトマックス関数の出力を「確率」として解釈することができるのです。\n",
    "\n",
    "「確率」として解釈できると言われても。という方は、サイコロを想像してみてください。\n",
    "\n",
    "「１」から「６」の目が出ますが、それぞれが出る確率は$\\frac{1}{6}$になります。\n",
    "\n",
    "そして、その総和は$\\frac{1}{6}×6=1$となることがわかります。\n",
    "\n",
    "このようなことからなんとなく想像できると思います。\n",
    "\n",
    "「確率」として解釈することで、上の例では、y[0]の確率が1.8％、y[1]の確率が24.5％、y[2]の確率が73.7％のように解釈できます。\n",
    "\n",
    "そして、この結果から、「２番目（y[2]）の要素が最も確率が高いため、答えは２番目のクラスだ」ということができます。\n",
    "\n",
    "さらに、「74％の確率で２番目のクラス、25％の確率で１番目のクラス、1％の確率で０番目のクラス」というような確率的な答え方もできるのです。\n",
    "\n",
    "何が言いたいのか。\n",
    "\n",
    "それは、ソフトマックス関数を用いることによって、問題に対して確率的（統計的）な対応ができるようになるということです。"
   ]
  },
  {
   "cell_type": "markdown",
   "metadata": {},
   "source": [
    "なるほど。となったところで１つ注意点があります。\n",
    "\n",
    "ソフトマックス関数を適用しても各要素の大小関係は変わらないのです。"
   ]
  },
  {
   "cell_type": "code",
   "execution_count": null,
   "metadata": {},
   "outputs": [],
   "source": [
    "a = np.array([0.3, 2.9, 4.0])\n",
    "######「Shift + Enter」を押してください######"
   ]
  },
  {
   "cell_type": "markdown",
   "metadata": {},
   "source": [
    "の大小関係は、a[0] < a[1] < a[2]になります。\n",
    "\n",
    "そして、ソフトマックス関数を適用します。"
   ]
  },
  {
   "cell_type": "code",
   "execution_count": 33,
   "metadata": {},
   "outputs": [
    {
     "name": "stdout",
     "output_type": "stream",
     "text": [
      "[0.01821127 0.24519181 0.73659691]\n"
     ]
    }
   ],
   "source": [
    "y = softmax(a)\n",
    "print(y)\n",
    "######「Shift + Enter」を押してください######"
   ]
  },
  {
   "cell_type": "markdown",
   "metadata": {},
   "source": [
    "確かに、ソフトマックス関数を適用しても小さい方から０番目、１番目、２番目の順になっていることがわかります。（y[0] < y[1] < y[2]）"
   ]
  },
  {
   "cell_type": "markdown",
   "metadata": {},
   "source": [
    "これは、指数関数（y = exp(x)）が単調増加する関数であることに関係しています。\n",
    "\n",
    "指数関数のグラフを見てみましょう。"
   ]
  },
  {
   "cell_type": "code",
   "execution_count": 58,
   "metadata": {
    "jupyter": {
     "source_hidden": true
    }
   },
   "outputs": [
    {
     "data": {
      "image/png": "[encoded data removed]",
      "text/plain": [
       "<Figure size 432x288 with 1 Axes>"
      ]
     },
     "metadata": {
      "needs_background": "light"
     },
     "output_type": "display_data"
    }
   ],
   "source": [
    "x = np.arange(-5.0, 5, 0.1)\n",
    "y = np.exp(x)\n",
    "z1 = np.array([0.3, 2.9, 4.0])\n",
    "z2 = np.exp(z1)\n",
    "plt.plot(x, y)\n",
    "for i in range(0, 3):\n",
    "    plt.plot(z1[i], z2[i], marker='.', color='r', markersize=15)\n",
    "plt.plot()\n",
    "plt.ylim(0, 100)\n",
    "plt.show()"
   ]
  },
  {
   "cell_type": "markdown",
   "metadata": {},
   "source": [
    "図4-3"
   ]
  },
  {
   "cell_type": "markdown",
   "metadata": {},
   "source": [
    "「x」の値が大きくなればなるほど「y」の値が大きくなっていることがわかりますね。\n",
    "\n",
    "そして、先ほどの「a」の要素とそれに対応する「y」の要素をプロットしてみました。\n",
    "\n",
    "もちろんソフトマックス関数ではもう少し複雑な計算を行なっていますが、単なる指数関数として考えても問題ないのでここではそうします。\n",
    "\n",
    "図で考えるとわかりやすいですね。\n",
    "\n",
    "「a」の最大値は図一番右にある点、つまり２番目の要素であり、「y」の最大値は図の一番上にある点、つまり２番目の要素であることがわかります。"
   ]
  },
  {
   "cell_type": "markdown",
   "metadata": {},
   "source": [
    "ニューラルネットワークのクラス分類では、一般的に、出力の一番大きいニューロンに相当するクラスだけを認識結果とします。\n",
    "\n",
    "そして、ソフトマックス関数を適用しても、出力の一番大きいニューロンの場所は変わりません。\n",
    "\n",
    "#### ということは、別にソフトマックス関数を使う必要ないんじゃない？って思いますよね。\n",
    "\n",
    "そうなんです。ニューラルネットワークが分類を行う際は、出力層のソフトマックス関数を省略することができるのです。\n",
    "\n",
    "実際の問題では、指数関数の計算は、それなりにコンピュータの計算が必要になるので、出力層のソフトマックス関数は省略するのが一般的になります。\n",
    "\n",
    "#### あれ？省略するのが一般的？どうしてわざわざ勉強したの？\n",
    "\n",
    "「意味はないが、とりあえず勉強してもらった。」なんていやらしいことはしません。\n",
    "\n",
    "もちろん、出力層にソフトマックス関数を用いることにちゃんとした理由があるのです。\n",
    "\n",
    "しかし、その理由は先の内容で説明するのでお預けとなります。"
   ]
  },
  {
   "cell_type": "markdown",
   "metadata": {},
   "source": [
    "### 4-4. 出力層のニューロンの数"
   ]
  },
  {
   "cell_type": "markdown",
   "metadata": {},
   "source": [
    "出力層のニューロンの数は、解くべき問題に応じて、適宜決める必要があります。\n",
    "\n",
    "クラス分離を行う問題では、出力層のニューロンの数は分類したいクラスの数に設定するのが一般的です。\n",
    "\n",
    "例えば、ある入力画像に対して、その画像の数字が０から９のどれかを予測する問題では、出力層のニューロンは１０個に設定します。"
   ]
  },
  {
   "cell_type": "markdown",
   "metadata": {},
   "source": [
    "<img src = \"img2_21.png\" style=\"width: 500px; float:left;\">"
   ]
  },
  {
   "cell_type": "markdown",
   "metadata": {},
   "source": [
    "図4-4"
   ]
  },
  {
   "cell_type": "markdown",
   "metadata": {},
   "source": [
    "この例では、出力層のニューロンは上から順に数字の０、１、$\\cdots$、９に対応するとします。\n",
    "\n",
    "今回、「y<sub>2</sub>」のニューロンが一番高い値を出力しているとします。\n",
    "\n",
    "その場合、入力に対し、「y<sub>2</sub>」に該当するクラス、つまり「２」であることを、このニューラルネットワークが予測していることを予測していることを意味します。"
   ]
  },
  {
   "cell_type": "markdown",
   "metadata": {},
   "source": [
    "## 5. 手書き数字認識"
   ]
  },
  {
   "cell_type": "markdown",
   "metadata": {},
   "source": [
    "ニューラルネットワークの仕組みを学んできました。\n",
    "\n",
    "今からは実践的な問題に取り組んでいきます。\n",
    "\n",
    "何をするかと言いますと、手書き数字画像の分類を行いたいと思います。\n",
    "\n",
    "4-4章で説明したように、入力画像がどの数字なのかを分類するというのを行なっていきます。\n",
    "\n",
    "学習はすでに完了したものとして、学習済みのパラメータを使って、ニューラルネットワークの「推論処理」だけを実装していきます。\n",
    "\n",
    "なお、この推論処理は、ニューラルネットワークの順方向伝播とも言います。\n",
    "\n",
    "本来、ニューラルネットワークを使って問題を解く場合、はじめに訓練データを使って重みパラメータの学習を行い、推論時には、先に学習したパラメータを使って、入力データの分類を行います。"
   ]
  },
  {
   "cell_type": "markdown",
   "metadata": {},
   "source": [
    "### 5-1. MNISTデータセット"
   ]
  },
  {
   "cell_type": "markdown",
   "metadata": {},
   "source": [
    "ここで使用するデータセットはMNISTという手書きの数字の画像セットです。\n",
    "\n",
    "MNISTは機械学習の分野で最も有名なデータセットの１つであり、簡単な実験から論文として発表される研究まで、さまざまな場所で利用されています。\n",
    "\n",
    "実際に使われていると聞くとなんだか本格的になってきたような気がしますね。\n",
    "\n",
    "話を戻します。\n",
    "\n",
    "MNISTデータセットは、０から９までの数字画像から構成されます。\n",
    "\n",
    "訓練画像が56000枚、テスト画像が14000枚用意されており、それらの画像を使用して学習と推論を行います。\n",
    "\n",
    "一般的にMNISTデータセットの使い方では、訓練画像を使って学習を行い、学習したモデルでテスト画像に対してどれだけ正しく分類できるかを計測します。"
   ]
  },
  {
   "cell_type": "markdown",
   "metadata": {},
   "source": [
    "MNISTの画像データは２８×２８のグレー画像で、各ピクセルは０から２５５までの値を取ります。\n",
    "\n",
    "この画像は「７」、この画像は「２」といったように、対応するラベルが与えられています。\n",
    "\n",
    "いきなり画像の話になったので、少しわかりにくいかもしれません。\n",
    "\n",
    "そんな時は図で確認しましょう。"
   ]
  },
  {
   "cell_type": "markdown",
   "metadata": {},
   "source": [
    "<img src = \"img2_22.png\" style=\"width: 600px; float:left;\">"
   ]
  },
  {
   "cell_type": "markdown",
   "metadata": {},
   "source": [
    "図5-1"
   ]
  },
  {
   "cell_type": "markdown",
   "metadata": {},
   "source": [
    "画像データは２８×２８＝７８４個のブロックに分けられており、それぞれのブロックに０から２５５までの値が格納されているのです。\n",
    "\n",
    "じゃあ、０から２５５ってなんの数字？ってなりますよね。\n",
    "\n",
    "先ほどMNISTの画像データはグレー画像と言いました。\n",
    "\n",
    "グレーとは、みなさんご存知のねずみ色のグレーです。\n",
    "\n",
    "つまり、０から２５５までの値は白黒の濃淡を表しているんですね。\n",
    "\n",
    "このマスは、この色だ！という色の情報ではなく、\n",
    "\n",
    "このマスは、この明るさだ！といった明るさの情報だけを含んでいるのです。\n",
    "\n",
    "何を表しているのかはわかったけど、どうして０から２５５なのか。\n",
    "\n",
    "それは、１マスを８ビットで表しているからです。\n",
    "\n",
    "前回、半加算器や全加算器を学習する際にビットについて説明しました。\n",
    "\n",
    "１ビットは「０」か「１」の二択であるということを覚えていますか？\n",
    "\n",
    "今回は８ビットあります。\n",
    "\n",
    "ということは、「０」か「１」の二択が８個あるので「2<sup>8</sup>」通り表現できるということがわかります。\n",
    "\n",
    "例えば、「００００００００」や「０００００００１」や「１１１１１１１１」など、２５６通りはここに載せるは大変なので３つだけ挙げておきます。\n",
    "\n",
    "そして「００００００００」を黒、「１１１１１１１１」を白といったように決めているのです。\n",
    "\n",
    "このことから、１マスにつき０から２５５までの数値が与えられる理由がわかりましたね。"
   ]
  },
  {
   "cell_type": "markdown",
   "metadata": {},
   "source": [
    "<img src = \"img2_23.png\" style=\"width: 600px; float:left;\">"
   ]
  },
  {
   "cell_type": "markdown",
   "metadata": {},
   "source": [
    "図5-2"
   ]
  },
  {
   "cell_type": "markdown",
   "metadata": {},
   "source": [
    "### 5-2. Scikit-learnによるMNISTの読み込みと画像表示\n",
    "\n",
    "今からMNISTデータを読み込んでいくのですが、今回は「scikit-learn」という機械学習用のライブラリを使っていきます。\n",
    "\n",
    "いつものようにインポートすればいいのですが、もしかしたら「scikit-learn」が「Anaconda」にインストールされていない可能性があります。\n",
    "\n",
    "その場合、エラーが出てしまいその先に進めないと思うので、一度確認することをおすすめします。\n",
    "\n",
    "では、確認の仕方とインストールの仕方を説明します。\n",
    "\n"
   ]
  },
  {
   "cell_type": "markdown",
   "metadata": {},
   "source": [
    "<img src=\"img2_34.png\" style=\"width: 900px; float:left;\">"
   ]
  },
  {
   "cell_type": "markdown",
   "metadata": {},
   "source": [
    "図5-3"
   ]
  },
  {
   "cell_type": "markdown",
   "metadata": {},
   "source": [
    "この画面は「JupyterLab」を開く前の画面になります。\n",
    "\n",
    "まず最初に「Anaconda Navigator」の「Home」から「Environments」に移動してください。\n",
    "\n",
    "次に「Search Packages」で「scikit-learn」を検索してください。\n",
    "\n",
    "検索した時に「scikit-learn」が表示されていれば大丈夫です。\n",
    "\n",
    "表示されていない方はインストールされていない証拠なので、「installed」と表示されているところを「Not installed」に変えてください。\n",
    "\n",
    "「scikit-learn」が表示されると思います。\n",
    "\n",
    "これをインストールしてください。\n",
    "\n",
    "それでは、MNISTデータを読み込んでいきましょう。"
   ]
  },
  {
   "cell_type": "code",
   "execution_count": 3,
   "metadata": {},
   "outputs": [],
   "source": [
    "import os \n",
    "from sklearn import datasets\n",
    "from sklearn.model_selection import train_test_split\n",
    "import matplotlib.pyplot as plt\n",
    "######「Shift + Enter」を押してください######"
   ]
  },
  {
   "cell_type": "markdown",
   "metadata": {},
   "source": [
    "まず、表示と読み込みに必要なモジュールをインポートしていきます。\n",
    "\n",
    "この「os」はオペレーションシステムのことであり、いわば汎用的に使われるコンピュータの基本機能を管理するシステムのことです。\n",
    "\n",
    "「sklearn」は「scikit-learn」を使うためのモジュールになります。\n",
    "\n",
    "また、「matplotlib」はグラフを描画するためのモジュールになります。\n",
    "\n",
    "「from import」は初めて登場しましたが、これは”あるモジュール”に定義されている”ある関数”だけを読み込んでくれます。\n",
    "\n",
    "では、「sklearn」からMNISTデータをダウンロードしていきます。"
   ]
  },
  {
   "cell_type": "code",
   "execution_count": 4,
   "metadata": {},
   "outputs": [],
   "source": [
    "mnist = datasets.fetch_openml('mnist_784', data_home=os.pardir)\n",
    "######「Shift + Enter」を押してください######"
   ]
  },
  {
   "cell_type": "markdown",
   "metadata": {},
   "source": [
    "このように書くことで、MNISTデータをダウンロードすることができます。\n",
    "\n",
    "この部分は、「ふーん。そうなんだ。」くらいで大丈夫です。\n",
    "\n",
    "また、何度もデータを読み込むのは時間がかかるので、\n",
    "\n",
    "「%store」を使って、読み込んだデータを保存します。"
   ]
  },
  {
   "cell_type": "code",
   "execution_count": 5,
   "metadata": {},
   "outputs": [
    {
     "name": "stdout",
     "output_type": "stream",
     "text": [
      "Stored 'mnist' (Bunch)\n"
     ]
    }
   ],
   "source": [
    "%store mnist"
   ]
  },
  {
   "cell_type": "markdown",
   "metadata": {},
   "source": [
    "これをすることによって、一旦「JupyterLab」を閉じてもデータを保存することができるため、もう一度読み込む必要はありません。\n",
    "\n",
    "しかし、MNISTデータを使いたい時は、以下のコードを使ってください。"
   ]
  },
  {
   "cell_type": "code",
   "execution_count": 6,
   "metadata": {},
   "outputs": [],
   "source": [
    "%store -r"
   ]
  },
  {
   "cell_type": "markdown",
   "metadata": {},
   "source": [
    "次に、ダウンロードしたMNISTデータから画像を表す数値データだけを取り出します。"
   ]
  },
  {
   "cell_type": "code",
   "execution_count": 7,
   "metadata": {
    "collapsed": true,
    "jupyter": {
     "outputs_hidden": true
    }
   },
   "outputs": [
    {
     "name": "stdout",
     "output_type": "stream",
     "text": [
      "[[0. 0. 0. ... 0. 0. 0.]\n",
      " [0. 0. 0. ... 0. 0. 0.]\n",
      " [0. 0. 0. ... 0. 0. 0.]\n",
      " ...\n",
      " [0. 0. 0. ... 0. 0. 0.]\n",
      " [0. 0. 0. ... 0. 0. 0.]\n",
      " [0. 0. 0. ... 0. 0. 0.]]\n"
     ]
    }
   ],
   "source": [
    "data = mnist.data\n",
    "print(data)\n",
    "######「Shift + Enter」を押してください######"
   ]
  },
  {
   "cell_type": "markdown",
   "metadata": {},
   "source": [
    "「mnist」の中には、このような数値以外にいろいろな情報が含まれているため、「data」だけを取り出す必要があります。\n",
    "\n",
    "それでは、「data」について確認していきましょう。"
   ]
  },
  {
   "cell_type": "code",
   "execution_count": 8,
   "metadata": {
    "collapsed": true,
    "jupyter": {
     "outputs_hidden": true
    }
   },
   "outputs": [
    {
     "name": "stdout",
     "output_type": "stream",
     "text": [
      "Mnist data shape : (70000, 784)\n",
      "Mnist min data : 0.0\n",
      "Mnist max data : 255.0\n"
     ]
    }
   ],
   "source": [
    "data_max = max(data[0])\n",
    "data_min = min(data[0])\n",
    "print('Mnist data shape : {}'.format(data.shape))\n",
    "print('Mnist min data : {}'.format(data_min))\n",
    "print('Mnist max data : {}'.format(data_max))\n",
    "######「Shift + Enter」を押してください######"
   ]
  },
  {
   "cell_type": "markdown",
   "metadata": {},
   "source": [
    "「data」は、70000×784の形状をしていることがわかりますね。\n",
    "\n",
    "これは、要素が784個の一次元配列が70000個あることを示しています。\n",
    "\n",
    "784という数字はどこから来たのか。\n",
    "\n",
    "MNISTの画像データは28×28であるということを思い出してください。\n",
    "\n",
    "これを以下の図ように形状を変形します。"
   ]
  },
  {
   "cell_type": "markdown",
   "metadata": {},
   "source": [
    "<img src = \"img2_24.png\" style=\"width: 600px; float:left;\">"
   ]
  },
  {
   "cell_type": "markdown",
   "metadata": {},
   "source": [
    "図5-4"
   ]
  },
  {
   "cell_type": "markdown",
   "metadata": {},
   "source": [
    "また、各ピクセルは0から255の値を取るという話もしました。\n",
    "\n",
    "上記の結果を見てもらうとわかるのですが、MNISTデータの最大値は255、最小値は0と表示していますね。\n",
    "\n",
    "それでは、この値を正規化していきます。\n",
    "\n",
    "この場合における正規化は、0から255の値を0.0から1.0の値に収まるようにすることを指します。\n",
    "\n",
    "255を1.0にするにはどうしたらいいのか。\n",
    "\n",
    "それは考えるとすぐにわかりますね。255で割ってやればいいのです。\n",
    "\n",
    "それでは正規化していきましょう。"
   ]
  },
  {
   "cell_type": "code",
   "execution_count": 9,
   "metadata": {
    "collapsed": true,
    "jupyter": {
     "outputs_hidden": true
    }
   },
   "outputs": [
    {
     "name": "stdout",
     "output_type": "stream",
     "text": [
      "Standardization Mnist min data : 0.0\n",
      "Standardization Mnist max data : 1.0\n"
     ]
    }
   ],
   "source": [
    "std_data = data / data_max\n",
    "std_data_max = max(std_data[0])\n",
    "std_data_min = min(std_data[0])\n",
    "print(\"Standardization Mnist min data : {}\".format(std_data_min))\n",
    "print(\"Standardization Mnist max data : {}\".format(std_data_max))\n",
    "######「Shift + Enter」を押してください######"
   ]
  },
  {
   "cell_type": "markdown",
   "metadata": {},
   "source": [
    "正規化できていることが確認できます。\n",
    "\n",
    "では、次に正解ラベルを確認していきます。"
   ]
  },
  {
   "cell_type": "code",
   "execution_count": 10,
   "metadata": {},
   "outputs": [],
   "source": [
    "label = mnist.target\n",
    "unique_label = list(set(label))\n",
    "######「Shift + Enter」を押してください######"
   ]
  },
  {
   "cell_type": "markdown",
   "metadata": {},
   "source": [
    "ここで用いた「set()」は、重複する値を取り除き、重複しない要素のみを集めたものを返す関数になります。\n",
    "\n",
    "以下に例を示します。"
   ]
  },
  {
   "cell_type": "code",
   "execution_count": 9,
   "metadata": {
    "collapsed": true,
    "jupyter": {
     "outputs_hidden": true
    }
   },
   "outputs": [
    {
     "data": {
      "text/plain": [
       "{1, 2, 3, 4, 5}"
      ]
     },
     "execution_count": 9,
     "metadata": {},
     "output_type": "execute_result"
    }
   ],
   "source": [
    "set([1, 1, 2, 2, 1, 3, 4, 4, 5])\n",
    "######「Shift + Enter」を押してください######"
   ]
  },
  {
   "cell_type": "markdown",
   "metadata": {},
   "source": [
    "このように、重複するデータを取り除いてくれます。\n",
    "\n",
    "それでは、正解ラベルを見てみましょう。"
   ]
  },
  {
   "cell_type": "code",
   "execution_count": 11,
   "metadata": {
    "collapsed": true,
    "jupyter": {
     "outputs_hidden": true
    }
   },
   "outputs": [
    {
     "data": {
      "text/plain": [
       "['9', '1', '4', '2', '5', '7', '3', '6', '8', '0']"
      ]
     },
     "execution_count": 11,
     "metadata": {},
     "output_type": "execute_result"
    }
   ],
   "source": [
    "unique_label\n",
    "######「Shift + Enter」を押してください######"
   ]
  },
  {
   "cell_type": "markdown",
   "metadata": {},
   "source": [
    "正解ラベルは、0から9の値になることがわかりました。\n",
    "\n",
    "では、０番目の画像はなんの数字が描かれているのでしょうか。"
   ]
  },
  {
   "cell_type": "code",
   "execution_count": 11,
   "metadata": {
    "collapsed": true,
    "jupyter": {
     "outputs_hidden": true
    }
   },
   "outputs": [
    {
     "name": "stdout",
     "output_type": "stream",
     "text": [
      "before encoding Mnist label(sample '0') : 5\n"
     ]
    }
   ],
   "source": [
    "print(\"before encoding Mnist label(sample '0') : {}\".format(label[0]))\n",
    "######「Shift + Enter」を押してください######"
   ]
  },
  {
   "cell_type": "markdown",
   "metadata": {},
   "source": [
    "この結果からわかるように、０番目の画像には「５」が描かれていることがわかります。\n",
    "\n",
    "では、この正解ラベルを「one-hot表現」として格納していきます。\n",
    "\n",
    "「one_hot表現」とは、\n",
    "\n",
    "[0, 0, 1, 0, 0, 0, 0, 0, 0, 0]\n",
    "\n",
    "のように、正解となるラベルだけが１で、それ以外は０の配列になります。\n",
    "\n",
    "これは左から「０」、「１」、「２」・・・「９」に対応しています。\n",
    "\n",
    "つまり、「５」と描かれている０番目の画像は、\n",
    "\n",
    "[0, 0, 0, 0, 0, 1, 0, 0, 0, 0]\n",
    "\n",
    "と出力されることが予想できますね。\n",
    "\n",
    "それでは実際に見てみましょう。"
   ]
  },
  {
   "cell_type": "code",
   "execution_count": 14,
   "metadata": {
    "collapsed": true,
    "jupyter": {
     "outputs_hidden": true
    }
   },
   "outputs": [
    {
     "data": {
      "text/plain": [
       "array([0., 0., 0., 0., 0., 1., 0., 0., 0., 0.])"
      ]
     },
     "execution_count": 14,
     "metadata": {},
     "output_type": "execute_result"
    }
   ],
   "source": [
    "label = [int(x) for x in label]\n",
    "one_hot_label = np.identity(10)[label]\n",
    "one_hot_label[0]\n",
    "######「Shift + Enter」を押してください######"
   ]
  },
  {
   "cell_type": "markdown",
   "metadata": {},
   "source": [
    "まず、「label」は文字列なのでそのままでは計算することができません。\n",
    "\n",
    "「one-hot表現」にするためには、「int型」に変換する必要があるのです。\n",
    "\n",
    "int型に変換したlabelを0と1の組み合わせに変換することで、「one-hot表現」にすることができます。"
   ]
  },
  {
   "cell_type": "markdown",
   "metadata": {},
   "source": [
    "前置きが長かったですね。\n",
    "\n",
    "それでは、MNIST画像を表示させてみます。\n",
    "\n",
    "今回は、０番目の画像を表示させます。\n",
    "\n",
    "画像の表示にはPILモジュールを使用するパターンとmatplotlibモジュールを使用するパターンがあります。\n",
    "\n",
    "まずはPILモジュールを使う方から見ていきましょう。"
   ]
  },
  {
   "cell_type": "code",
   "execution_count": 30,
   "metadata": {},
   "outputs": [],
   "source": [
    "from PIL import Image\n",
    "\n",
    "def img_show(img):\n",
    "    pil_img = Image.fromarray(np.uint8(img))\n",
    "    pil_img.show()\n",
    "######「Shift + Enter」を押してください######"
   ]
  },
  {
   "cell_type": "markdown",
   "metadata": {},
   "source": [
    "上記のコードが、画像を表示させる関数になります。\n",
    "\n",
    "表示させる前に、画像データの形状を確認しましょう。"
   ]
  },
  {
   "cell_type": "code",
   "execution_count": 14,
   "metadata": {
    "collapsed": true,
    "jupyter": {
     "outputs_hidden": true
    }
   },
   "outputs": [
    {
     "data": {
      "text/plain": [
       "(784,)"
      ]
     },
     "execution_count": 14,
     "metadata": {},
     "output_type": "execute_result"
    }
   ],
   "source": [
    "std_data[0].shape\n",
    "######「Shift + Enter」を押してください######"
   ]
  },
  {
   "cell_type": "markdown",
   "metadata": {},
   "source": [
    "先ほども確認しましたが、「data」には要素が784個の一次元配列が格納されています。\n",
    "\n",
    "しかし、画像は28×28の二次元配列になります。\n",
    "\n",
    "何が言いたいのかというと一次元配列のままでは画像を表示することはできないので、元の形状である２８×２８のサイズに変形する必要があるということです。\n",
    "\n",
    "また、「data」はただの数字の配列になります。\n",
    "\n",
    "これを表示しても、ずらりと数字が並ぶだけで求めてるものではありません。\n",
    "\n",
    "一度、見てみると納得できるかもしれません。"
   ]
  },
  {
   "cell_type": "code",
   "execution_count": 124,
   "metadata": {
    "collapsed": true,
    "jupyter": {
     "outputs_hidden": true
    }
   },
   "outputs": [
    {
     "data": {
      "text/plain": [
       "array([  0.,   0.,   0.,   0.,   0.,   0.,   0.,   0.,   0.,   0.,   0.,\n",
       "         0.,   0.,   0.,   0.,   0.,   0.,   0.,   0.,   0.,   0.,   0.,\n",
       "         0.,   0.,   0.,   0.,   0.,   0.,   0.,   0.,   0.,   0.,   0.,\n",
       "         0.,   0.,   0.,   0.,   0.,   0.,   0.,   0.,   0.,   0.,   0.,\n",
       "         0.,   0.,   0.,   0.,   0.,   0.,   0.,   0.,   0.,   0.,   0.,\n",
       "         0.,   0.,   0.,   0.,   0.,   0.,   0.,   0.,   0.,   0.,   0.,\n",
       "         0.,   0.,   0.,   0.,   0.,   0.,   0.,   0.,   0.,   0.,   0.,\n",
       "         0.,   0.,   0.,   0.,   0.,   0.,   0.,   0.,   0.,   0.,   0.,\n",
       "         0.,   0.,   0.,   0.,   0.,   0.,   0.,   0.,   0.,   0.,   0.,\n",
       "         0.,   0.,   0.,   0.,   0.,   0.,   0.,   0.,   0.,   0.,   0.,\n",
       "         0.,   0.,   0.,   0.,   0.,   0.,   0.,   0.,   0.,   0.,   0.,\n",
       "         0.,   0.,   0.,   0.,   0.,   0.,   0.,   0.,   0.,   0.,   0.,\n",
       "         0.,   0.,   0.,   0.,   0.,   0.,   0.,   0.,   0.,   0.,   0.,\n",
       "         0.,   0.,   0.,   0.,   0.,   0.,   0.,   0.,   0.,   3.,  18.,\n",
       "        18.,  18., 126., 136., 175.,  26., 166., 255., 247., 127.,   0.,\n",
       "         0.,   0.,   0.,   0.,   0.,   0.,   0.,   0.,   0.,   0.,   0.,\n",
       "        30.,  36.,  94., 154., 170., 253., 253., 253., 253., 253., 225.,\n",
       "       172., 253., 242., 195.,  64.,   0.,   0.,   0.,   0.,   0.,   0.,\n",
       "         0.,   0.,   0.,   0.,   0.,  49., 238., 253., 253., 253., 253.,\n",
       "       253., 253., 253., 253., 251.,  93.,  82.,  82.,  56.,  39.,   0.,\n",
       "         0.,   0.,   0.,   0.,   0.,   0.,   0.,   0.,   0.,   0.,   0.,\n",
       "        18., 219., 253., 253., 253., 253., 253., 198., 182., 247., 241.,\n",
       "         0.,   0.,   0.,   0.,   0.,   0.,   0.,   0.,   0.,   0.,   0.,\n",
       "         0.,   0.,   0.,   0.,   0.,   0.,   0.,  80., 156., 107., 253.,\n",
       "       253., 205.,  11.,   0.,  43., 154.,   0.,   0.,   0.,   0.,   0.,\n",
       "         0.,   0.,   0.,   0.,   0.,   0.,   0.,   0.,   0.,   0.,   0.,\n",
       "         0.,   0.,   0.,  14.,   1., 154., 253.,  90.,   0.,   0.,   0.,\n",
       "         0.,   0.,   0.,   0.,   0.,   0.,   0.,   0.,   0.,   0.,   0.,\n",
       "         0.,   0.,   0.,   0.,   0.,   0.,   0.,   0.,   0.,   0.,   0.,\n",
       "       139., 253., 190.,   2.,   0.,   0.,   0.,   0.,   0.,   0.,   0.,\n",
       "         0.,   0.,   0.,   0.,   0.,   0.,   0.,   0.,   0.,   0.,   0.,\n",
       "         0.,   0.,   0.,   0.,   0.,   0.,  11., 190., 253.,  70.,   0.,\n",
       "         0.,   0.,   0.,   0.,   0.,   0.,   0.,   0.,   0.,   0.,   0.,\n",
       "         0.,   0.,   0.,   0.,   0.,   0.,   0.,   0.,   0.,   0.,   0.,\n",
       "         0.,   0.,  35., 241., 225., 160., 108.,   1.,   0.,   0.,   0.,\n",
       "         0.,   0.,   0.,   0.,   0.,   0.,   0.,   0.,   0.,   0.,   0.,\n",
       "         0.,   0.,   0.,   0.,   0.,   0.,   0.,   0.,   0.,  81., 240.,\n",
       "       253., 253., 119.,  25.,   0.,   0.,   0.,   0.,   0.,   0.,   0.,\n",
       "         0.,   0.,   0.,   0.,   0.,   0.,   0.,   0.,   0.,   0.,   0.,\n",
       "         0.,   0.,   0.,   0.,   0.,  45., 186., 253., 253., 150.,  27.,\n",
       "         0.,   0.,   0.,   0.,   0.,   0.,   0.,   0.,   0.,   0.,   0.,\n",
       "         0.,   0.,   0.,   0.,   0.,   0.,   0.,   0.,   0.,   0.,   0.,\n",
       "         0.,  16.,  93., 252., 253., 187.,   0.,   0.,   0.,   0.,   0.,\n",
       "         0.,   0.,   0.,   0.,   0.,   0.,   0.,   0.,   0.,   0.,   0.,\n",
       "         0.,   0.,   0.,   0.,   0.,   0.,   0.,   0.,   0., 249., 253.,\n",
       "       249.,  64.,   0.,   0.,   0.,   0.,   0.,   0.,   0.,   0.,   0.,\n",
       "         0.,   0.,   0.,   0.,   0.,   0.,   0.,   0.,   0.,   0.,   0.,\n",
       "         0.,  46., 130., 183., 253., 253., 207.,   2.,   0.,   0.,   0.,\n",
       "         0.,   0.,   0.,   0.,   0.,   0.,   0.,   0.,   0.,   0.,   0.,\n",
       "         0.,   0.,   0.,   0.,   0.,  39., 148., 229., 253., 253., 253.,\n",
       "       250., 182.,   0.,   0.,   0.,   0.,   0.,   0.,   0.,   0.,   0.,\n",
       "         0.,   0.,   0.,   0.,   0.,   0.,   0.,   0.,   0.,  24., 114.,\n",
       "       221., 253., 253., 253., 253., 201.,  78.,   0.,   0.,   0.,   0.,\n",
       "         0.,   0.,   0.,   0.,   0.,   0.,   0.,   0.,   0.,   0.,   0.,\n",
       "         0.,   0.,  23.,  66., 213., 253., 253., 253., 253., 198.,  81.,\n",
       "         2.,   0.,   0.,   0.,   0.,   0.,   0.,   0.,   0.,   0.,   0.,\n",
       "         0.,   0.,   0.,   0.,   0.,   0.,  18., 171., 219., 253., 253.,\n",
       "       253., 253., 195.,  80.,   9.,   0.,   0.,   0.,   0.,   0.,   0.,\n",
       "         0.,   0.,   0.,   0.,   0.,   0.,   0.,   0.,   0.,   0.,  55.,\n",
       "       172., 226., 253., 253., 253., 253., 244., 133.,  11.,   0.,   0.,\n",
       "         0.,   0.,   0.,   0.,   0.,   0.,   0.,   0.,   0.,   0.,   0.,\n",
       "         0.,   0.,   0.,   0.,   0., 136., 253., 253., 253., 212., 135.,\n",
       "       132.,  16.,   0.,   0.,   0.,   0.,   0.,   0.,   0.,   0.,   0.,\n",
       "         0.,   0.,   0.,   0.,   0.,   0.,   0.,   0.,   0.,   0.,   0.,\n",
       "         0.,   0.,   0.,   0.,   0.,   0.,   0.,   0.,   0.,   0.,   0.,\n",
       "         0.,   0.,   0.,   0.,   0.,   0.,   0.,   0.,   0.,   0.,   0.,\n",
       "         0.,   0.,   0.,   0.,   0.,   0.,   0.,   0.,   0.,   0.,   0.,\n",
       "         0.,   0.,   0.,   0.,   0.,   0.,   0.,   0.,   0.,   0.,   0.,\n",
       "         0.,   0.,   0.,   0.,   0.,   0.,   0.,   0.,   0.,   0.,   0.,\n",
       "         0.,   0.,   0.,   0.,   0.,   0.,   0.,   0.,   0.,   0.,   0.,\n",
       "         0.,   0.,   0.,   0.,   0.,   0.,   0.,   0.,   0.,   0.,   0.,\n",
       "         0.,   0.,   0.])"
      ]
     },
     "execution_count": 124,
     "metadata": {},
     "output_type": "execute_result"
    }
   ],
   "source": [
    "data[0]\n",
    "######「Shift + Enetr」を押してください######"
   ]
  },
  {
   "cell_type": "markdown",
   "metadata": {},
   "source": [
    "うわぁ！なんだこれ！ってなりますよね。\n",
    "\n",
    "２８×２８＝７８４なので、７８４個分の数字が出てきます。\n",
    "\n",
    "しかし、画像として表示するには、Numpyとして格納された画像データを、PIL用のデータオブジェクトに変換する必要があるのです。\n",
    "\n",
    "この変換は、「Image.fromarray()」によって行うことができます。"
   ]
  },
  {
   "cell_type": "code",
   "execution_count": 31,
   "metadata": {},
   "outputs": [],
   "source": [
    "img_show(data[0].reshape(28, 28))\n",
    "######「Shift + Enter」を押してください######"
   ]
  },
  {
   "cell_type": "markdown",
   "metadata": {},
   "source": [
    "おそらく以下のように表示されると思います。"
   ]
  },
  {
   "cell_type": "code",
   "execution_count": 34,
   "metadata": {
    "jupyter": {
     "source_hidden": true
    }
   },
   "outputs": [
    {
     "data": {
      "image/png": "[encoded data removed]",
      "text/plain": [
       "<PIL.Image.Image image mode=L size=28x28 at 0x1A1D528B90>"
      ]
     },
     "execution_count": 34,
     "metadata": {},
     "output_type": "execute_result"
    }
   ],
   "source": [
    "Image.fromarray(np.uint8(data[0].reshape(28,28)))"
   ]
  },
  {
   "cell_type": "markdown",
   "metadata": {},
   "source": [
    "ちなみに、「np.uint8()」は８ビットの符号なし整数を指定します。\n",
    "\n",
    "では次にmatplotlibを用いたパターンを紹介します。\n",
    "\n",
    "こちらの場合は簡単ですぐに表示することができます。"
   ]
  },
  {
   "cell_type": "code",
   "execution_count": null,
   "metadata": {},
   "outputs": [],
   "source": [
    "plt.imshow(data[0].reshape(28, 28), cmap='gray')\n",
    "plt.show()\n",
    "######「Shift + Enter」を押してください######"
   ]
  },
  {
   "cell_type": "markdown",
   "metadata": {},
   "source": [
    "「imshow()」は画像を表示する関数であり、「cmap」は色を指定するときに使います。\n",
    "\n",
    "MNISTはグレー画像なので、「gray」と指定します。\n",
    "\n",
    "これで、MNISTデータの読み込みと画像の表示の説明は終わりになります。\n",
    "\n",
    "ここまで、文章ばかりで疲れたと思います。\n",
    "\n",
    "一度、休憩を挟んでみてはどうでしょうか。\n",
    "\n",
    "一息つくことも大事です。\n",
    "\n",
    "休憩が終われば、上のコードを参考に画像を１つ表示してみましょう。\n",
    "\n",
    "PILモジュールとmatplotlibモジュールのどちらを使うかはお任せします。\n",
    "\n",
    "また、実装する際は、必要なモジュールをインポートし、MNISTデータを読み込むところから始めてみてください。\n",
    "\n",
    "MNISTデータを使えるようになると何かと便利です！\n",
    "\n",
    "##### 【問題5-1】x_test[1]の画像を表示してください。"
   ]
  },
  {
   "cell_type": "code",
   "execution_count": null,
   "metadata": {},
   "outputs": [],
   "source": [
    "######以下にコードを書いてください######\n",
    "\n",
    "\n",
    "\n",
    "\n",
    "\n",
    "\n",
    "######「Shift + Enter」を押してください######"
   ]
  },
  {
   "cell_type": "code",
   "execution_count": 11,
   "metadata": {
    "jupyter": {
     "source_hidden": true
    }
   },
   "outputs": [
    {
     "data": {
      "image/png": "[encoded data removed]",
      "text/plain": [
       "<Figure size 432x288 with 1 Axes>"
      ]
     },
     "metadata": {
      "needs_background": "light"
     },
     "output_type": "display_data"
    }
   ],
   "source": [
    "import os \n",
    "import matplotlib.pyplot as plt\n",
    "from sklearn import datasets\n",
    "\n",
    "mnist = datasets.fetch_openml('mnist_784', data_home=os.pardir)\n",
    "data = mnist.data\n",
    "\n",
    "plt.imshow(data[1].reshape(28, 28), cmap='gray')\n",
    "plt.show()"
   ]
  },
  {
   "cell_type": "markdown",
   "metadata": {},
   "source": [
    "### 5-3. ニューラルネットワークの推論処理"
   ]
  },
  {
   "cell_type": "markdown",
   "metadata": {},
   "source": [
    "それでは、MNISTデータセットに対して、推論処理を行うニューラルネットワークを実装しましょう。\n",
    "\n",
    "ネットワークは、入力層を７８４個、出力層を１０個のニューロンで構成します。\n",
    "\n",
    "入力層の７８４という数字は、画像サイズの２８×２８＝７８４から、また、出力層の１０という数字は、１０クラス分類（０から９の１０クラス）から来ています。\n",
    "\n",
    "また、隠れ層が２つあり、１つ目の隠れ層が５０個、２つ目の層が１００個のニューロンを持つものとします。\n",
    "\n",
    "この５０と１００という数字は、任意の値に設定できます。\n",
    "\n",
    "それではコードを書いていきましょう。"
   ]
  },
  {
   "cell_type": "code",
   "execution_count": 8,
   "metadata": {},
   "outputs": [],
   "source": [
    "######初めてこのコードにたどり着いた場合、このコードを実行してください。######\n",
    "\n",
    "class Network():\n",
    "    def __init__(self, input_col_length,  ##入力値の列数\n",
    "                 node1_col_length,  ##一つ目の隠れ層のノード数\n",
    "                 node2_col_length,  ##二つ目の隠れ層のノード数\n",
    "                 output_col_length, ##出力層の列数\n",
    "                 weight_init_std   = 0.01):\n",
    "        \n",
    "        self.params = {}\n",
    "        \n",
    "        ### 重み W\n",
    "        self.params['W1'] = weight_init_std * np.random.randn(input_col_length, \n",
    "                                                              node1_col_length)\n",
    "        self.params['W2'] = weight_init_std * np.random.randn(node1_col_length, \n",
    "                                                              node2_col_length)\n",
    "        self.params['W3'] = weight_init_std * np.random.randn(node2_col_length, \n",
    "                                                              output_col_length)       \n",
    "        ### バイアス b\n",
    "        self.params['b1'] = np.random.randn(node1_col_length)\n",
    "        self.params['b2'] = np.random.randn(node2_col_length)        \n",
    "        self.params['b3'] = np.random.randn(output_col_length)\n",
    "        \n",
    "def get_data():\n",
    "    mnist = datasets.fetch_openml('mnist_784', data_home=os.pardir)\n",
    "    %store mnist\n",
    "    data = mnist.data\n",
    "    label = mnist.target\n",
    "    label = [int(x) for x in label]\n",
    "    data_max = max(data[0])\n",
    "    std_data = data / data_max\n",
    "    x_train, x_test, t_train, t_test = train_test_split(std_data, label, test_size=0.2)\n",
    "    return x_test, t_test\n",
    "\n",
    "def predict(network, x):\n",
    "    W1, W2, W3 = network.params['W1'], network.params['W2'], network.params['W3']\n",
    "    b1, b2, b3 = network.params['b1'], network.params['b2'], network.params['b3']\n",
    "    \n",
    "    a1 = np.dot(x, W1) + b1\n",
    "    z1 = sigmoid(a1)\n",
    "    a2 = np.dot(z1, W2) + b2\n",
    "    z2 = sigmoid(a2)\n",
    "    a3 = np.dot(z2, W3) + b3\n",
    "    y = softmax(a3)\n",
    "    \n",
    "    return y\n",
    "######「Shift + Enetr」を押してください######"
   ]
  },
  {
   "cell_type": "code",
   "execution_count": 18,
   "metadata": {},
   "outputs": [],
   "source": [
    "######一度、「JupyterLab」を閉じた場合は、こちらのコードを実行してください。######\n",
    "\n",
    "class Network():\n",
    "    def __init__(self, input_col_length,  ##入力値の列数\n",
    "                 node1_col_length,  ##一つ目の隠れ層のノード数\n",
    "                 node2_col_length,  ##二つ目の隠れ層のノード数\n",
    "                 output_col_length, ##出力層の列数\n",
    "                 weight_init_std   = 0.01):\n",
    "        \n",
    "        self.params = {}\n",
    "        \n",
    "        ### 重み W\n",
    "        self.params['W1'] = weight_init_std * np.random.randn(input_col_length, \n",
    "                                                              node1_col_length)\n",
    "        self.params['W2'] = weight_init_std * np.random.randn(node1_col_length, \n",
    "                                                              node2_col_length)\n",
    "        self.params['W3'] = weight_init_std * np.random.randn(node2_col_length, \n",
    "                                                              output_col_length)       \n",
    "        ### バイアス b\n",
    "        self.params['b1'] = np.random.randn(node1_col_length)\n",
    "        self.params['b2'] = np.random.randn(node2_col_length)        \n",
    "        self.params['b3'] = np.random.randn(output_col_length)\n",
    "        \n",
    "def get_data():\n",
    "    %store -r\n",
    "    data = mnist.data\n",
    "    label = mnist.target\n",
    "    label = [int(x) for x in label]\n",
    "    data_max = max(data[0])\n",
    "    std_data = data / data_max\n",
    "    x_train, x_test, t_train, t_test = train_test_split(std_data, label, test_size=0.2)\n",
    "    return x_test, t_test\n",
    "\n",
    "def predict(network, x):\n",
    "    W1, W2, W3 = network.params['W1'], network.params['W2'], network.params['W3']\n",
    "    b1, b2, b3 = network.params['b1'], network.params['b2'], network.params['b3']\n",
    "    \n",
    "    a1 = np.dot(x, W1) + b1\n",
    "    z1 = sigmoid(a1)\n",
    "    a2 = np.dot(z1, W2) + b2\n",
    "    z2 = sigmoid(a2)\n",
    "    a3 = np.dot(z2, W3) + b3\n",
    "    y = softmax(a3)\n",
    "    \n",
    "    return y\n",
    "######「Shift + Enetr」を押してください######"
   ]
  },
  {
   "cell_type": "markdown",
   "metadata": {},
   "source": [
    "上記では「get_data()」、「predict()」といった２つの関数を定義し、「Network()」というクラスを作りました。\n",
    "\n",
    "まず、「get_data()」は、MNISTデータを読み込む関数になります。\n",
    "\n",
    "前回の読み込みの時のコードとほぼ一緒ですが、「train_test_split()」という関数が足されています。\n",
    "\n",
    "この関数は、70000枚のMNIST画像を56000枚の訓練画像と14000枚のテスト画像に分けます。\n",
    "\n",
    "「test_size」はテスト画像を何枚にするかどうかの数値になります。\n",
    "\n",
    "「test_size=0.2」とすることで、70000枚の2割がテスト画像として用意されます。\n",
    "\n",
    "「get_data()」は、最終的にテスト画像とテストラベルを返します。\n",
    "\n",
    "次に、「Network()」というクラスについて説明します。\n",
    "\n",
    "「network = Network(input_col_length,  ##入力値の数  \n",
    "    node1_col_length,  ##一つ目の隠れ層のノード数  \n",
    "    node2_col_length,  ##二つ目の隠れ層のノード数  \n",
    "    output_col_length, ##出力層の列数)」\n",
    "                 \n",
    "というように、入力値の数、１つ目の隠れ層のノード数、２つ目の隠れ層のノード数、出力値の数を決めることで重みとバイアスをディクショナリ型の変数として得ることができます。\n",
    "\n",
    "また、「random.randn(形状)」を用いることで、平均０・分散１の標準正規分布に従うランダムな数値を得ることができます。\n",
    "\n",
    "ニューラルネットワークでは行列の計算を行うため、形状を考える必要がありますが、これに関しては、多次元配列の計算のところで学んだ内容なので説明は割愛します。\n",
    "\n",
    "最後に「predict()」がありますが、これはニューラルネットワークの処理をまとめたものになります。\n",
    "\n",
    "それでは、これらの関数を使って、ニューラルネットワークによる推論処理を行います。"
   ]
  },
  {
   "cell_type": "markdown",
   "metadata": {},
   "source": [
    "それでは仕切り直して、Let's Go！"
   ]
  },
  {
   "cell_type": "code",
   "execution_count": 19,
   "metadata": {},
   "outputs": [
    {
     "name": "stdout",
     "output_type": "stream",
     "text": [
      "Accuracy:0.10007142857142858\n"
     ]
    }
   ],
   "source": [
    "import numpy as np\n",
    "from sklearn.model_selection import train_test_split\n",
    "\n",
    "def sigmoid(x):\n",
    "    return 1 / (1 + np.exp(-x))\n",
    "\n",
    "def softmax(a):\n",
    "    c = np.max(a)\n",
    "    exp_a = np.exp(a-c)\n",
    "    sum_exp_a = np.sum(exp_a)\n",
    "    y = exp_a / sum_exp_a\n",
    "    return y\n",
    "\n",
    "x, t = get_data()\n",
    "network = Network(784, 50, 100, 10)\n",
    "\n",
    "accuracy_cnt = 0\n",
    "for i in range(len(x)):\n",
    "    y = predict(network, x[i])\n",
    "    p = np.argmax(y)\n",
    "    if p == t[i]:\n",
    "        accuracy_cnt += 1\n",
    "        \n",
    "print(\"Accuracy:\" + str(float(accuracy_cnt)/len(x)))\n",
    "###### 「Shift + Enter」を押してください######"
   ]
  },
  {
   "cell_type": "markdown",
   "metadata": {},
   "source": [
    "それでは、上記のコードについて説明していきます。\n",
    "\n",
    "まず、テスト画像とテストラベルの取得を行います。\n",
    "\n",
    "そしてその後に重みとバイアスの値を取り出します。\n",
    "\n",
    "これで下準備は完了です。\n",
    "\n",
    "次に「accuracy_cnt」を初期化します。\n",
    "\n",
    "初期化します。なんて言われても「accuracy_cnt」ってなんだ？ってなりますよね。\n",
    "\n",
    "「accuracy」は「正確さ」を表しており、ニューラルネットワークが予測した答えと正解ラベルとを比較して、正解した画像を数えていきます。\n",
    "\n",
    "その時に用いる変数が「accuracy_cnt」であり、正解するたびに「＋１」していきます。\n",
    "\n",
    "推論処理を行う前は、何もしてないので「accuracy_cnt」が０なのは当然ですね。\n",
    "\n",
    "そして、「len(x)」は画像の枚数を表しており、その枚数分、推論処理を繰り返します。\n",
    "\n",
    "「predict()」で各ラベルの確率を計算し、「np.argmax()」で一番大きな値を示しているインデックスを取り出します。\n",
    "\n",
    "つまり、「この画像はこのラベルである確率が高い」と示しているインデックスを取り出すことになります。\n",
    "\n",
    "そして、そのインデックスが正解のラベルと一致する場合、「accuracy_cnt」に「＋１」するといった処理を行います。\n",
    "\n",
    "最後の画像までこれらの処理が終わると、「何枚中何枚が正解していたのか」を表す割合を計算して、表示します。\n",
    "\n",
    "print()で表示するのは誰でも知っていると思うのですが、「\"Accuracy:\"」は文字列を示しており、文字列に並べて表示するには「float型」である数値を文字化する必要があります。\n",
    "\n",
    "そこで「str()」を使えば、数値を文字化することができます。"
   ]
  },
  {
   "cell_type": "markdown",
   "metadata": {},
   "source": [
    "文章を読むばかりで疲れましたよね。\n",
    "\n",
    "実際に手を動かしましょうか。\n",
    "\n",
    "【問題5-2】今までの内容を参考にして「Accuracy」を求めてください。"
   ]
  },
  {
   "cell_type": "code",
   "execution_count": null,
   "metadata": {},
   "outputs": [],
   "source": [
    "######以下にコードを書いてください######\n",
    "\n",
    "\n",
    "######「Shift + Enter」を押してください######"
   ]
  },
  {
   "cell_type": "markdown",
   "metadata": {},
   "source": [
    "「0.10」付近の数値が表示されれば大丈夫です。"
   ]
  },
  {
   "cell_type": "markdown",
   "metadata": {},
   "source": [
    "これは「10％」正しく分類することができた、ということを表しています。\n",
    "\n",
    "つまり、全然ダメだということですね。\n",
    "\n",
    "今回行う処理はここまでになりますが、ニューラルネットワークの構造や学習方法を工夫することで、この認識精度がさらに高くなっていきます。\n",
    "\n",
    "また、MNISTデータを正規化しましたが、これによって、画像データの値が0.0~1.0の範囲に収まるように変換されました。\n",
    "\n",
    "このように、ニューラルネットワークの入力データに対して、何らかの決まった変換を行うことを前処理と言います。\n",
    "\n",
    "前処理はニューラルネットワークにおいて、実践的によく用いられます。\n",
    "\n",
    "前処理の有効性は、識別性能の向上や学習の高速化など、多くの実験によって示されています。\n",
    "\n",
    "つまり、何事にも工夫が必要ということですね。"
   ]
  },
  {
   "cell_type": "markdown",
   "metadata": {},
   "source": [
    "### 5-4. バッチ処理"
   ]
  },
  {
   "cell_type": "markdown",
   "metadata": {},
   "source": [
    "MNISTデータを扱ったニューラルネットワークの実装はどうでしたか？\n",
    "\n",
    "最初の方に比べるとだいぶ応用的になり、面白くなってきたのではないでしょうか。\n",
    "\n",
    "さらにスキルアップを目指して、「バッチ処理」について学習していきましょう。\n",
    "\n",
    "まずは先ほどの実装の復習です。\n",
    "\n",
    "入力データと重みパラメータの「形状」を確認します。"
   ]
  },
  {
   "cell_type": "code",
   "execution_count": 20,
   "metadata": {},
   "outputs": [],
   "source": [
    "x, _ = get_data()\n",
    "network = Network(784, 50, 100, 10)\n",
    "######「Shift + Enetr」を押してください######"
   ]
  },
  {
   "cell_type": "code",
   "execution_count": 21,
   "metadata": {
    "collapsed": true,
    "jupyter": {
     "outputs_hidden": true
    }
   },
   "outputs": [
    {
     "data": {
      "text/plain": [
       "(14000, 784)"
      ]
     },
     "execution_count": 21,
     "metadata": {},
     "output_type": "execute_result"
    }
   ],
   "source": [
    "x.shape\n",
    "######「Shift + Enetr」を押してください######"
   ]
  },
  {
   "cell_type": "code",
   "execution_count": 22,
   "metadata": {
    "collapsed": true,
    "jupyter": {
     "outputs_hidden": true
    }
   },
   "outputs": [
    {
     "data": {
      "text/plain": [
       "(784,)"
      ]
     },
     "execution_count": 22,
     "metadata": {},
     "output_type": "execute_result"
    }
   ],
   "source": [
    "x[0].shape\n",
    "######「Shift + Enetr」を押してください######"
   ]
  },
  {
   "cell_type": "markdown",
   "metadata": {},
   "source": [
    "このことからわかるのは、７８４個の要素からなる一次元配列が14000個あるということです。"
   ]
  },
  {
   "cell_type": "code",
   "execution_count": 61,
   "metadata": {
    "collapsed": true,
    "jupyter": {
     "outputs_hidden": true
    }
   },
   "outputs": [
    {
     "data": {
      "text/plain": [
       "(784, 50)"
      ]
     },
     "execution_count": 61,
     "metadata": {},
     "output_type": "execute_result"
    }
   ],
   "source": [
    "network.params['W1'].shape\n",
    "######「Shift + Enetr」を押してください######"
   ]
  },
  {
   "cell_type": "code",
   "execution_count": 62,
   "metadata": {
    "collapsed": true,
    "jupyter": {
     "outputs_hidden": true
    }
   },
   "outputs": [
    {
     "data": {
      "text/plain": [
       "(50, 100)"
      ]
     },
     "execution_count": 62,
     "metadata": {},
     "output_type": "execute_result"
    }
   ],
   "source": [
    "network.params['W2'].shape\n",
    "######「Shift + Enetr」を押してください######"
   ]
  },
  {
   "cell_type": "code",
   "execution_count": 63,
   "metadata": {
    "collapsed": true,
    "jupyter": {
     "outputs_hidden": true
    }
   },
   "outputs": [
    {
     "data": {
      "text/plain": [
       "(100, 10)"
      ]
     },
     "execution_count": 63,
     "metadata": {},
     "output_type": "execute_result"
    }
   ],
   "source": [
    "network.params['W3'].shape\n",
    "######「Shift + Enetr」を押してください######"
   ]
  },
  {
   "cell_type": "markdown",
   "metadata": {},
   "source": [
    "重みの形状を表示してみました。\n",
    "\n",
    "これを見ると、多次元配列の対応する次元の要素数が一致していることが確認できますね。\n",
    "\n",
    "そして、最終的には要素数が１０の一次元配列「y」が出力されることも図から見て取れます。"
   ]
  },
  {
   "cell_type": "markdown",
   "metadata": {},
   "source": [
    "７８４個の要素からなる一次元配列が入力され、１０個の要素からなる一次元配列が出力されるという流れですが、これは14000枚の画像の中の一枚だけを入力した時の処理の流れになります。\n",
    "\n",
    "じゃあ、複数枚入力したらどうなるの？って思いますよね。\n",
    "\n",
    "では、画像を複数枚まとめて入力する場合を考えていきましょう。\n",
    "\n",
    "１００枚にしてみましょう。\n",
    "\n",
    "１００枚の画像を入力するということは、「x」の形状を１００×７８４にするということになります。"
   ]
  },
  {
   "cell_type": "markdown",
   "metadata": {},
   "source": [
    "<img src = \"img2_25.png\" style=\"width: 500px; float:left;\">"
   ]
  },
  {
   "cell_type": "markdown",
   "metadata": {},
   "source": [
    "図5-5"
   ]
  },
  {
   "cell_type": "markdown",
   "metadata": {},
   "source": [
    "上図を見てもらうとわかると思いますが、入力データが１００×７８４であれば、出力データは１００×１０になります。\n",
    "\n",
    "つまり、一度に１００枚の画像を入力すると１００枚分の結果が出力されるのです。\n",
    "\n",
    "x[0]とy[0]には０番目の画像と推論の結果が格納されています。\n",
    "\n",
    "同様にx[1]とy[1]には１番目、x[2]とy[2]には２番目といったようになっています。\n",
    "\n",
    "１００個のデータのようにまとまりのある入力データをバッチと呼びます。\n",
    "\n",
    "バッチは「batch」と書きますが、「束」という意味があります。\n",
    "\n",
    "「書類やお金などを束ねる」というように使いますよね。\n",
    "\n",
    "１００枚の画像を入力データとして処理するといった、入力データに複数のデータを用いて処理することをバッチ処理と言います。\n",
    "\n",
    "バッチ処理を行うことにはメリットがあります。\n",
    "\n",
    "それは、一枚あたりの処理時間を短縮できるということです。\n",
    "\n",
    "なぜなら、大きな配列の計算を効率よく処理できるような高度な最適化が行われており、バッチ処理のおかげでバス帯域の負荷を軽減できるからです。\n",
    "\n",
    "バッチ処理を行うことで大きな配列の計算を行うことになり大変そうですが、大きな配列を一度に計算する方が、分割した小さい配列を少しずつ計算するよりも早く計算が完了するのです。"
   ]
  },
  {
   "cell_type": "markdown",
   "metadata": {},
   "source": [
    "バッチ処理についてわかってもらえたと思いますが、前回実装したコードについて思い出してみてください。\n",
    "\n",
    "前回は、一枚の画像を入力しました。\n",
    "\n",
    "ということは、バッチ処理には対応してないのです。\n",
    "\n",
    "それでは、バッチ処理に対応するように前回のコードを書き換えてみましょう。"
   ]
  },
  {
   "cell_type": "code",
   "execution_count": 31,
   "metadata": {},
   "outputs": [],
   "source": [
    "x, t = get_data()\n",
    "network = Network(784, 50, 100, 10)\n",
    "accuracy_cnt = 0\n",
    "######「Shift + Enetr」を押してください######"
   ]
  },
  {
   "cell_type": "markdown",
   "metadata": {},
   "source": [
    "この部分は前回と同じ部分になります。\n",
    "\n",
    "それでは違う部分を書いていきます。\n",
    "\n",
    "まず、バッチの数を設定します。"
   ]
  },
  {
   "cell_type": "code",
   "execution_count": 24,
   "metadata": {},
   "outputs": [],
   "source": [
    "batch_size = 100\n",
    "######「Shift + Enetr」を押してください######"
   ]
  },
  {
   "cell_type": "code",
   "execution_count": 32,
   "metadata": {
    "collapsed": true,
    "jupyter": {
     "outputs_hidden": true
    }
   },
   "outputs": [
    {
     "name": "stdout",
     "output_type": "stream",
     "text": [
      "Accuracy:0.09735714285714285\n"
     ]
    }
   ],
   "source": [
    "for i in range(0, len(x), batch_size):\n",
    "    x_batch = x[i:i+batch_size]\n",
    "    y_batch = predict(network, x_batch)\n",
    "    p = np.argmax(y_batch, axis=1)\n",
    "    accuracy_cnt += np.sum(p == t[i:i+batch_size])\n",
    "    \n",
    "print(\"Accuracy:\" + str(float(accuracy_cnt) / len(x)))\n",
    "######「Shift + Enetr」を押してください######"
   ]
  },
  {
   "cell_type": "markdown",
   "metadata": {},
   "source": [
    "バッチ処理になるだけで、少し複雑なコードになりましたね。\n",
    "\n",
    "それでは説明していきます。\n",
    "\n",
    "「range()関数」は、「range(start, end, step)」のように指定すると、「start」から「end-1」までの整数からなるリストを作成するのですが、それらの数値は「step」の倍数になります。"
   ]
  },
  {
   "cell_type": "code",
   "execution_count": 123,
   "metadata": {
    "collapsed": true,
    "jupyter": {
     "outputs_hidden": true
    }
   },
   "outputs": [
    {
     "data": {
      "text/plain": [
       "[0, 5, 10, 15, 20, 25, 30, 35, 40, 45, 50, 55, 60, 65, 70, 75, 80, 85, 90, 95]"
      ]
     },
     "execution_count": 123,
     "metadata": {},
     "output_type": "execute_result"
    }
   ],
   "source": [
    "list(range(0, 100, 5))\n",
    "######「Shift + Enetr」を押してください######"
   ]
  },
  {
   "cell_type": "markdown",
   "metadata": {},
   "source": [
    "上の例では、「０から９９までの数値で５の倍数」を表示しました。\n",
    "\n",
    "今回はどうなるでしょうか。\n",
    "\n",
    "見てみましょう！"
   ]
  },
  {
   "cell_type": "code",
   "execution_count": null,
   "metadata": {},
   "outputs": [],
   "source": [
    "list(range(0, len(x), 100))\n",
    "######「Shift + Enter」を押してください######"
   ]
  },
  {
   "cell_type": "markdown",
   "metadata": {},
   "source": [
    "このリストをもとに、「x[i:i+batch_size]」のように、入力データからバッチを抜き出します。\n",
    "\n",
    "これは、入力データのi番目から、(i+batch_size-1)番目までのデータを取り出します。\n",
    "\n",
    "例えば、「i=100」の時、「x[100:200]」の１００枚が取り出されます。\n",
    "\n",
    "つまり、「x[i:i+batch_size]」は、１００×７８４の入力データになります。\n",
    "\n",
    "そのため、出力データは１００×１０になります。\n",
    "\n",
    "次に、「argmax()」になりますが、これは最大値のインデックスを取得します。\n",
    "\n",
    "言い換えると、リストの中で最大となる要素を探し、その要素が何番目に格納されているのかを確認する関数になります。\n",
    "\n",
    "例を挙げて説明してみたいと思います。\n",
    "\n",
    "以下のようなリストがあるとします。"
   ]
  },
  {
   "cell_type": "code",
   "execution_count": 3,
   "metadata": {},
   "outputs": [],
   "source": [
    "x = np.array([0, 0, 1, 2, 1, 4, 8, 5])\n",
    "######「Shift + Enter」を押してください######"
   ]
  },
  {
   "cell_type": "markdown",
   "metadata": {},
   "source": [
    "このリストには８個の要素が格納されています。\n",
    "\n",
    "詳しく説明すると、０番目には「０」、１番目は「０」、・・・、６番目には「８」、７番目には「５」が格納されています。\n",
    "\n",
    "この場合では、「８」が一番大きな数値になるので、この数値が何番目の要素なのか、つまり、最大値のインデックスは何なのかを考えます。\n",
    "\n",
    "「８」は６番目に格納されているので、「６」ということになります。\n",
    "\n",
    "「argmax()」を使ってみると、"
   ]
  },
  {
   "cell_type": "code",
   "execution_count": 5,
   "metadata": {},
   "outputs": [
    {
     "data": {
      "text/plain": [
       "6"
      ]
     },
     "execution_count": 5,
     "metadata": {},
     "output_type": "execute_result"
    }
   ],
   "source": [
    "np.argmax(x)\n",
    "######「Shift + Enter」を押してください######"
   ]
  },
  {
   "cell_type": "markdown",
   "metadata": {},
   "source": [
    "といった結果が返ってきます。\n",
    "\n",
    "このように「argmax()」は、最大値のインデックスを返す関数になります。"
   ]
  },
  {
   "cell_type": "markdown",
   "metadata": {},
   "source": [
    "最大値のインデックスを取得って言われてもどこの最大値？ってなりますよね。\n",
    "\n",
    "そこで「axis」を使います。\n",
    "\n",
    "「axis」は「軸」という意味であり、「axis=0」は０次元目を軸に、「axis=1」は１次元目を軸にするという意味を持ちます。\n",
    "\n",
    "言い換えると、「axis=0」は列方向、「axis=1」は行方向になります。"
   ]
  },
  {
   "cell_type": "markdown",
   "metadata": {},
   "source": [
    "<img src = \"img2_26.png\" style=\"width: 500px; float:left;\">"
   ]
  },
  {
   "cell_type": "markdown",
   "metadata": {},
   "source": [
    "図5-6"
   ]
  },
  {
   "cell_type": "markdown",
   "metadata": {},
   "source": [
    "今回は「axis=1」と設定しているので、各行で最大値を探し、最大値であるインデックスを返すことになります。\n",
    "\n",
    "例えば以下のようになります。"
   ]
  },
  {
   "cell_type": "code",
   "execution_count": 28,
   "metadata": {
    "collapsed": true,
    "jupyter": {
     "outputs_hidden": true
    }
   },
   "outputs": [
    {
     "name": "stdout",
     "output_type": "stream",
     "text": [
      "[[1 2 1]\n",
      " [2 2 3]\n",
      " [4 2 3]]\n",
      "[1 2 0]\n"
     ]
    }
   ],
   "source": [
    "x = np.array([[1, 2, 1], [2, 2, 3], [4, 2, 3]])\n",
    "y = np.argmax(x, axis=1)\n",
    "print(x)\n",
    "print(y)\n",
    "######「Shift + Enetr」を押してください######"
   ]
  },
  {
   "cell_type": "markdown",
   "metadata": {},
   "source": [
    "上から０行、１行、２行とすると、０行目では１番目の要素「２」が一番大きいので「１」と返しているのがわかります。\n",
    "\n",
    "１行目も２行目も同様に取り出していることがわかりますね。\n",
    "\n",
    "では今回の場合では？\n",
    "\n",
    "０番目から９９番目の画像を見てみます。"
   ]
  },
  {
   "cell_type": "code",
   "execution_count": 33,
   "metadata": {
    "collapsed": true,
    "jupyter": {
     "outputs_hidden": true
    }
   },
   "outputs": [
    {
     "name": "stdout",
     "output_type": "stream",
     "text": [
      "[6 6 6 6 6 6 6 6 6 6 6 6 6 6 6 6 6 6 6 6 6 6 6 6 6 6 6 6 6 6 6 6 6 6 6 6 6\n",
      " 6 6 6 6 6 6 6 6 6 6 6 6 6 6 6 6 6 6 6 6 6 6 6 6 6 6 6 6 6 6 6 6 6 6 6 6 6\n",
      " 6 6 6 6 6 6 6 6 6 6 6 6 6 6 6 6 6 6 6 6 6 6 6 6 6 6]\n"
     ]
    }
   ],
   "source": [
    "x_batch = x[0:100]\n",
    "y_batch = predict(network, x_batch)\n",
    "p = np.argmax(y_batch, axis=1)\n",
    "print(p)\n",
    "######「Shift + Enetr」を押してください######"
   ]
  },
  {
   "cell_type": "markdown",
   "metadata": {},
   "source": [
    "０番目から９９番目の画像の予測した答えが出力されました。\n",
    "\n",
    "今回の場合は学習が足りていないため、偏った予想になってしまっています。\n",
    "\n",
    "最後に、予想した答えと正解ラベルを比較します。\n",
    "\n",
    "「sum(p == t[i:i+batch_size])」とすることにより、「True/Fasle」からなるブーリアン配列を作成し、「True」の個数を算出します。\n",
    "\n",
    "ブーリアン配列は、ステップ関数を実装するときに使いましたね。\n",
    "\n",
    "以下に例を示します。"
   ]
  },
  {
   "cell_type": "code",
   "execution_count": 50,
   "metadata": {
    "collapsed": true,
    "jupyter": {
     "outputs_hidden": true
    }
   },
   "outputs": [
    {
     "name": "stdout",
     "output_type": "stream",
     "text": [
      "[ True False  True False]\n"
     ]
    }
   ],
   "source": [
    "y = np.array([1, 2, 3, 4])\n",
    "t = np.array([1, 1, 3, 1])\n",
    "print(y == t)\n",
    "######「Shift + Enetr」を押してください######"
   ]
  },
  {
   "cell_type": "code",
   "execution_count": 51,
   "metadata": {
    "collapsed": true,
    "jupyter": {
     "outputs_hidden": true
    }
   },
   "outputs": [
    {
     "data": {
      "text/plain": [
       "2"
      ]
     },
     "execution_count": 51,
     "metadata": {},
     "output_type": "execute_result"
    }
   ],
   "source": [
    "np.sum(y == t)\n",
    "######「Shift + Enetr」を押してください######"
   ]
  },
  {
   "cell_type": "markdown",
   "metadata": {},
   "source": [
    "こうやって見るとわかりやすいですね。\n",
    "\n",
    "これと同じことが先ほどの処理において行われているのです。\n",
    "\n",
    "そして、Trueの数を数え、それを０と初期化した「Accuracy_cnt」に足します。\n",
    "\n",
    "これで一連の流れが終了し、次は「x[100:200]」、次は「x[200:300]」・・・と「x[9900:10000]」の処理が終わるまで上記の流れを繰り返します。\n",
    "\n",
    "これがバッチ処理になります。\n",
    "\n",
    "ということで、今回学ぶべき内容が終了しました！\n",
    "\n",
    "文章が多く読むのが大変だったと思いますが、どうだったでしょうか？\n",
    "\n",
    "ニューラルネットワークの説明から入り、色々な活性化関数、その後には出力層に用いる活性化関数、そして多次元配列の計算、最後には処理を早くするバッチ処理。\n",
    "\n",
    "色々な内容が出てきて大変でしたが、すべて大切な内容なのでしっかり学習してください。\n",
    "\n",
    "一通り学習が終わったので、次の章につける問題に取り掛かってみてください。\n",
    "\n",
    "今までは、学習してすぐに問題がありましたが、今回は総まとめ問題になるので、すべての知識が備わっていないと解けない問題になっています。\n",
    "\n",
    "そこでしっかり知識が定着しているか確認してください。\n",
    "\n",
    "______________"
   ]
  },
  {
   "cell_type": "markdown",
   "metadata": {},
   "source": [
    "## 6. 問題集"
   ]
  },
  {
   "cell_type": "markdown",
   "metadata": {},
   "source": [
    "皆さんは、色々な内容を学習し、経験値を得てレベルアップしてきました。\n",
    "\n",
    "学んだ。で終わるのはもったいないです。\n",
    "\n",
    "アウトプットしましょう！"
   ]
  },
  {
   "cell_type": "markdown",
   "metadata": {},
   "source": [
    "【演習6-1】以下の図を参考に三層のニューラルネットワークを実装してください。\n",
    "最終的には、数値が大きかった方のインデックスを出力するように実装してください。\n",
    "また、隠れ層の活性化関数にはシグモイド関数、出力層の活性化関数にはソフトマックス関数を用いてもらいますが、それらの関数も自分で定義してください。\n",
    "また、重みとバイアスなどの値はこちらが指定する値を使ってください。"
   ]
  },
  {
   "cell_type": "markdown",
   "metadata": {},
   "source": [
    "<img src = \"img2_12.png\" style=\"width: 500px; float:left;\">"
   ]
  },
  {
   "cell_type": "markdown",
   "metadata": {},
   "source": [
    "<img src = 'img2_27.png' style=\"width: 500px; float:left;\">"
   ]
  },
  {
   "cell_type": "code",
   "execution_count": 63,
   "metadata": {},
   "outputs": [],
   "source": [
    "######以下にコードを書いてください######\n",
    "\n",
    "\n",
    "\n",
    "######「Shift + Enter」を押してください######"
   ]
  },
  {
   "cell_type": "code",
   "execution_count": 143,
   "metadata": {},
   "outputs": [
    {
     "name": "stdout",
     "output_type": "stream",
     "text": [
      "[0.47502081 0.52497919]\n",
      "1\n"
     ]
    }
   ],
   "source": [
    "def sigmoid(x):\n",
    "    return 1 / (1 + np.exp(-x))\n",
    "\n",
    "def softmax(a):\n",
    "    c = np.max(a)\n",
    "    exp_a = np.exp(a - c)\n",
    "    sum_exp_a = np.sum(exp_a)\n",
    "    y = exp_a / sum_exp_a\n",
    "    return y\n",
    "\n",
    "x = np.array([2.0, 3.0])\n",
    "W1 = np.array([[4.0, 8.0, 1.0], [7.0, 3.0, 5.0]])\n",
    "W2 = np.array([[2.0, 4.0], [6.0, 9.0], [1.0, 3.0]])\n",
    "W3 = np.array([[2.0], [1.0]])\n",
    "b1 = np.array([1.0, 1.5, 1.4])\n",
    "b2 = np.array([1.2, 1.4])\n",
    "b3 = np.array([1.1, 1.2])\n",
    "\n",
    "a1 = np.dot(x, W1) + b1\n",
    "z1 = sigmoid(a1)\n",
    "a2 = np.dot(z1, W2) + b2\n",
    "z2 = sigmoid(a2)\n",
    "a3 = np.dot(z2, W3) + b3\n",
    "z3 = softmax(a3)\n",
    "print(z3)\n",
    "y = np.argmax(z3)\n",
    "print(y)"
   ]
  },
  {
   "cell_type": "markdown",
   "metadata": {},
   "source": [
    "【演習6-2】以下の図を参考に同じ画像を出力してください。\n",
    "画像を出力する際には、「matplotlib」モジュールを使用してください。"
   ]
  },
  {
   "cell_type": "code",
   "execution_count": 145,
   "metadata": {
    "jupyter": {
     "source_hidden": true
    }
   },
   "outputs": [
    {
     "data": {
      "text/plain": [
       "<matplotlib.image.AxesImage at 0x1a1b7e99d0>"
      ]
     },
     "execution_count": 145,
     "metadata": {},
     "output_type": "execute_result"
    },
    {
     "data": {
      "image/png": "[encoded data removed]",
      "text/plain": [
       "<Figure size 432x288 with 1 Axes>"
      ]
     },
     "metadata": {
      "needs_background": "light"
     },
     "output_type": "display_data"
    }
   ],
   "source": [
    "plt.imshow(z, cmap='gray')"
   ]
  },
  {
   "cell_type": "code",
   "execution_count": null,
   "metadata": {},
   "outputs": [],
   "source": [
    "######以下にコードを書いてください######\n",
    "\n",
    "\n",
    "\n",
    "######「Shift + Enter」を押してください######"
   ]
  },
  {
   "cell_type": "markdown",
   "metadata": {},
   "source": [
    "【演習6-3】二層のニューラルネットワークを実装してください。\n",
    "ただし、入力には問題１８の画像を使ってください。\n",
    "また、画像をそのまま使うのではなく、正規化してください。\n",
    "重みとバイアスはこちらが指定する値を使ってください。\n",
    "(・・・を押してコピーしてください)"
   ]
  },
  {
   "cell_type": "code",
   "execution_count": null,
   "metadata": {
    "jupyter": {
     "source_hidden": true
    }
   },
   "outputs": [],
   "source": [
    "W1 = np.array([[2.0, 1.0, 1.0],\n",
    "               [1.0, 2.0, 0.5],\n",
    "               [1.0, 0.5, 1.0],\n",
    "               [1.0, 1.0, 1.0],\n",
    "               [1.0, 1.0, 1.0],\n",
    "               [0.5, 0.5, 2.0],\n",
    "               [0.5, 1.0, 1.0],\n",
    "               [1.0, 1.0, 0.5],\n",
    "               [1.0, 1.0, 1.0],\n",
    "               [1.0, 1.0, 1.0],\n",
    "               [1.0, 2.0, 1.0],\n",
    "               [2.0, 1.0, 1.0],\n",
    "               [1.0, 1.0, 1.0],\n",
    "               [0.5, 0.5, 0.5],\n",
    "               [1.0, 1.0, 0.5],\n",
    "               [1.0, 1.0, 1.0],\n",
    "               [1.0, 2.0, 1.0],\n",
    "               [1.0, 0.5, 1.0],\n",
    "               [1.0, 1.0, 1.0],\n",
    "               [0.5, 1.0, 2.0],\n",
    "               [0.5, 0.5, 1.0],\n",
    "               [1.0, 1.0, 1.0],\n",
    "               [1.0, 0.5, 0.5],\n",
    "               [1.0, 2.0, 0.5],\n",
    "               [2.0, 1.0, 1.0]])\n",
    "W2 = np.array([[2.0, 2.0],\n",
    "               [3.0, 2.0],\n",
    "               [1.0, 3.0]])\n",
    "\n",
    "b1 = np.array([1.0, 2.5, 1.5])\n",
    "b2 = np.array([2.0, 1.0])"
   ]
  },
  {
   "cell_type": "code",
   "execution_count": null,
   "metadata": {},
   "outputs": [],
   "source": [
    "######以下にコードを書いてください######\n",
    "\n",
    "\n",
    "\n",
    "\n",
    "######「Shift + Enter」を押してください######"
   ]
  },
  {
   "cell_type": "markdown",
   "metadata": {},
   "source": [
    "_______"
   ]
  },
  {
   "cell_type": "markdown",
   "metadata": {},
   "source": [
    "## 7. まとめ"
   ]
  },
  {
   "cell_type": "markdown",
   "metadata": {},
   "source": [
    "みなさん、お疲れ様でした。\n",
    "\n",
    "今回は、ニューラルネットワークを始め、多次元配列やMNISTデータについて学んできました。\n",
    "\n",
    "少しハードな内容だったかもしれませんが、理解できない内容ではありませんので頑張ってみてください。\n",
    "\n",
    "次回の内容にも影響するので、重要な内容となっております。\n",
    "\n",
    "次回は何をするかというと、データの学習を行なっていきます。\n",
    "\n",
    "データの学習？となりますよね。\n",
    "\n",
    "今回、MNISTデータの認識を行なったと思いますが、精度が１０％程度で悪かったと思います。\n",
    "\n",
    "それはなぜか。\n",
    "\n",
    "重みやバイアスといったパラメータを乱数で取得し、それを使用したからです。\n",
    "\n",
    "これは画像を認識する際に、適切なパラメータではなかったということです。\n",
    "\n",
    "次回は、最適なパラメータを取得するといったことを学んでいきます。\n",
    "\n",
    "なんだかワクワクしますよね！\n",
    "\n",
    "それではまたお会いしましょう！\n",
    "\n",
    "さようなら！"
   ]
  }
 ],
 "metadata": {
  "kernelspec": {
   "display_name": "Python 3",
   "language": "python",
   "name": "python3"
  },
  "language_info": {
   "codemirror_mode": {
    "name": "ipython",
    "version": 3
   },
   "file_extension": ".py",
   "mimetype": "text/x-python",
   "name": "python",
   "nbconvert_exporter": "python",
   "pygments_lexer": "ipython3",
   "version": "3.7.4"
  }
 },
 "nbformat": 4,
 "nbformat_minor": 4
}
