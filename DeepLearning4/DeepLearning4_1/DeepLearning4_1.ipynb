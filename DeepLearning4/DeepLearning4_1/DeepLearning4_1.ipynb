{
 "cells": [
  {
   "cell_type": "markdown",
   "metadata": {},
   "source": [
    "# 「**Deep Learning**の扉」　　\n",
    "### ④**Python**を使ってニューラルネットワークの**誤差逆伝播法**を学ぶ\n",
    "__________________________"
   ]
  },
  {
   "cell_type": "markdown",
   "metadata": {},
   "source": [
    "## 1. 「Deep Learning」のさらなる手法を！！"
   ]
  },
  {
   "cell_type": "markdown",
   "metadata": {},
   "source": [
    "前回、基礎編と応用編を通して、ニューラルネットワークの学習について学んできました。\n",
    "\n",
    "ニューラルネットワークの学習を大まかに言えば、勾配を計算し、その勾配を使ってパラメータを更新する、というものになりました。\n",
    "\n",
    "また、この勾配を求める時に、数値微分を使いました。\n",
    "\n",
    "数値微分はシンプルで比較的理解しやすく、実装も簡単だったと思います。（少し工夫は必要でしたが…）\n",
    "\n",
    "しかし、計算が完了するまでにとてつもなく時間がかかるというデメリットがありました。\n",
    "\n",
    "今回は、勾配の計算を効率よく行う手法である「誤差逆伝搬法」について学びたいと思います！！\n",
    "\n",
    "誤差逆伝播法を理解するために、数式と計算グラフを使って話を進めていきたいと思います！！\n",
    "\n",
    "それでは、楽しんでいきましょう！！\n",
    "\n",
    "### Let's go!!\n",
    "\n",
    "-----------"
   ]
  },
  {
   "cell_type": "markdown",
   "metadata": {},
   "source": [
    "## 2.計算グラフ"
   ]
  },
  {
   "cell_type": "markdown",
   "metadata": {},
   "source": [
    "まず、計算グラフについて説明していきたいと思います。\n",
    "\n",
    "計算グラフとは、計算の過程をグラフによって表したものになります。\n",
    "\n",
    "ここで言うグラフとは、データ構造としてのグラフであり、複数のノードとエッジによって表現されます。（ノード間を結ぶ直線を「エッジ」と言います）\n",
    "\n",
    "ノードとエッジについては図で紹介します。\n",
    "\n",
    "この章では、計算グラフに慣れるために、簡単な問題から始めたいと思います。"
   ]
  },
  {
   "cell_type": "markdown",
   "metadata": {},
   "source": [
    "### 2-1.計算グラフで簡単な問題に挑戦！！"
   ]
  },
  {
   "cell_type": "markdown",
   "metadata": {},
   "source": [
    "それでは、簡単な問題を「計算グラフ」を使って解いていきましょう。\n",
    "\n",
    "簡単な問題を使うので、暗算でも解けてしまいますが、計算グラフに慣れることが重要です。"
   ]
  },
  {
   "cell_type": "markdown",
   "metadata": {},
   "source": [
    "------\n",
    "\n",
    "【問題2-1】蘭さんはスーパーで１個100円のリンゴを２個買いました。合計何円になるでしょうか。ただし、消費税が10%適用されるものとします。"
   ]
  },
  {
   "cell_type": "markdown",
   "metadata": {},
   "source": [
    "下の「・・・」を押して答えを確認してください。"
   ]
  },
  {
   "cell_type": "markdown",
   "metadata": {
    "jupyter": {
     "source_hidden": true
    }
   },
   "source": [
    "\n",
    "### 220円\n"
   ]
  },
  {
   "cell_type": "markdown",
   "metadata": {},
   "source": [
    "計算グラフはノードと矢印によって計算の過程を表します。ノードは○で表し、○の中に演算の内容を書きます。（例えば、+や-、×、÷など…）\n",
    "\n",
    "また、計算の途中結果を矢印の上部に書くことによって、ノードごとの計算結果が左から右へ伝わるように表します。\n",
    "\n",
    "問題を計算グラフで解くと、以下の図のようになります。"
   ]
  },
  {
   "cell_type": "markdown",
   "metadata": {},
   "source": [
    "<img src=\"img4_1_1.png\" style=\"width: 700px; float:left;\">"
   ]
  },
  {
   "cell_type": "markdown",
   "metadata": {},
   "source": [
    "図2-1"
   ]
  },
  {
   "cell_type": "markdown",
   "metadata": {},
   "source": [
    "図に示すように、最初にリンゴの100円が「×2」ノードへ流れ、200円になって次のノードに伝達されます。\n",
    "\n",
    "続いて、その200円が「×1.1」ノードへ流れ220円になります。\n",
    "\n",
    "よって、この計算グラフの結果から、答えは220円ということになります。\n",
    "\n",
    "また、以下の図のように分けて表記することもできます。"
   ]
  },
  {
   "cell_type": "markdown",
   "metadata": {},
   "source": [
    "<img src=\"img4_1_2.png\" style=\"width: 700px; float:left;\">"
   ]
  },
  {
   "cell_type": "markdown",
   "metadata": {},
   "source": [
    "図2-2"
   ]
  },
  {
   "cell_type": "markdown",
   "metadata": {},
   "source": [
    "-----\n",
    "\n",
    "それでは次の問題。\n",
    "\n",
    "【問題2-2】蘭さんはスーパーでリンゴを２個、みかんを３個買いました。リンゴは１個100円、みかんは１個150円です。合計何円になるでしょうか。今回も消費税は10%として考えます。"
   ]
  },
  {
   "cell_type": "markdown",
   "metadata": {},
   "source": [
    "下の「・・・」を押して答えを確認してください。"
   ]
  },
  {
   "cell_type": "markdown",
   "metadata": {
    "jupyter": {
     "source_hidden": true
    }
   },
   "source": [
    "### 715円"
   ]
  },
  {
   "cell_type": "markdown",
   "metadata": {},
   "source": [
    "問題2-1と同様に、計算グラフによって問題2-2の問題を解きます。計算グラフは以下の図のようになります。"
   ]
  },
  {
   "cell_type": "markdown",
   "metadata": {},
   "source": [
    "<img src=\"img4_1_3.png\" style=\"width: 700px; float:left;\">"
   ]
  },
  {
   "cell_type": "markdown",
   "metadata": {},
   "source": [
    "図2-3"
   ]
  },
  {
   "cell_type": "markdown",
   "metadata": {},
   "source": [
    "この問題では、加算ノードである「+」が新しく加わり、リンゴとみかんの金額を合算します。\n",
    "\n",
    "計算グラフを作ったら、左から右へと計算を進めていきます。\n",
    "\n",
    "一番右まで計算結果がたどり着いたらそこで終了になります。\n",
    "\n",
    "計算グラフより、答えは「715円」になります。\n",
    "\n",
    "-------"
   ]
  },
  {
   "cell_type": "markdown",
   "metadata": {},
   "source": [
    "計算グラフを使って問題を解くには、\n",
    "\n",
    "1. 計算グラフを構築する\n",
    "2. 計算グラフ上で計算を左から右へ進める\n",
    "\n",
    "という流れで行います。\n",
    "\n",
    "ここで「2.計算グラフ上で計算を左から右へ進める」というステップは、順方向の伝播であり、「順伝播」と言います。\n",
    "\n",
    "また、右から左へと進める逆方向の伝播も存在します。\n",
    "\n",
    "これを「逆伝播」と言います。\n",
    "\n",
    "逆伝播はとても重要な内容となります。"
   ]
  },
  {
   "cell_type": "markdown",
   "metadata": {},
   "source": [
    "### 2-2.局所的な計算"
   ]
  },
  {
   "cell_type": "markdown",
   "metadata": {},
   "source": [
    "計算グラフの特徴は、「局所的な計算」を伝播することによって最終的な結果を得ることができる点にあります。\n",
    "\n",
    "局所的というのは、「自分に関係する小さな範囲」つまり部分的ということを意味します。\n",
    "\n",
    "局所的な計算とは、全体でどのような計算が行われていても、自分に関係する情報だけから次の結果を出力することができる、ということを表しています。\n",
    "\n",
    "局所的な計算について具体的に考えてみましょう。"
   ]
  },
  {
   "cell_type": "markdown",
   "metadata": {},
   "source": [
    "<img src=\"img4_1_16.png\" style=\"width: 700px; float:left;\">"
   ]
  },
  {
   "cell_type": "markdown",
   "metadata": {},
   "source": [
    "図2-4"
   ]
  },
  {
   "cell_type": "markdown",
   "metadata": {},
   "source": [
    "上図の計算グラフで示すように、たくさんの買い物を行い、その金額が4000円になったとします。\n",
    "\n",
    "ここで大切なポイントは、各ノードにおける計算は局所的な計算であるということです。\n",
    "\n",
    "これは、例えば、リンゴとそれ以外の買い物を合計する計算\n",
    "\n",
    "「4000 + 200 = 4200」\n",
    "\n",
    "は、4000という数字がどのように計算されてきたかということについては全く関係なく、\n",
    "\n",
    "ただ二つの数字を足せば良いということを意味します。\n",
    "\n",
    "つまり、各ノードの計算で行うべきことは、自分に関係する計算だけであり、全体的にどんな計算が行われているのかを考える必要はありません。\n",
    "\n",
    "このように、計算グラフでは、局所的な計算に集中することができます。\n",
    "\n",
    "例えば、蘭さんが果物ジュースのお店で働いているとします。\n",
    "\n",
    "そのお店では、果物を使って、果物ジュースを作り、その果物ジュースをカップに注いで提供します。\n",
    "\n",
    "また、蘭さんは、カップに注ぐ役割を担当しているとします。\n",
    "\n",
    "この時、蘭さんは、果物がどこで、どのように育てられ、どんな手順を踏んで届けられたかは全く関係なく、果物ジュースをカップに注ぐと思います。\n",
    "\n",
    "このように、全体的に見ると複雑ですが、蘭さんの役割に注目すると、単純であることがわかります。"
   ]
  },
  {
   "cell_type": "markdown",
   "metadata": {},
   "source": [
    "### 2-3.なぜ計算グラフを使うのか。"
   ]
  },
  {
   "cell_type": "markdown",
   "metadata": {},
   "source": [
    "計算グラフを使って、簡単な問題を二つ解いてもらいました。\n",
    "\n",
    "では、計算グラフを使うメリットとは何なのでしょうか。\n",
    "\n",
    "一つは、先ほども説明したように、「局所的な計算に集中することができる」というところにあります。\n",
    "\n",
    "全体の計算がどんなに複雑であろうと、局所的な計算に集中することで、問題を単純化することができます。\n",
    "\n",
    "また、もう一つのメリットとして、計算グラフによって、途中の計算の結果を全て保持することができます。\n",
    "\n",
    "例えば、2個のリンゴの値段は200円、消費税を考えると220円など、部分部分で計算結果が保持されます。\n",
    "\n",
    "計算グラフを使うメリットは、これだけでは終わりません。\n",
    "\n",
    "もう一つ重要なポイントが存在します。\n",
    "\n",
    "それは、先ほども少し紹介しましたが、「逆伝播」というところにあります。\n",
    "\n",
    "「逆伝播」を使うことで、「微分」を効率よく計算することができます。\n",
    "\n",
    "それでは、計算グラフの逆伝播を説明するにあたって、問題2-1をもう一度考えてみましょう。\n",
    "\n",
    "例えば、リンゴの値段が値上がりした場合、最終的な支払い金額にどのように影響するかを知りたいとします。\n",
    "\n",
    "これは、わかりにくいかもしれませんが、「リンゴの値段に関する支払い金額の微分」を求めることに相当します。\n",
    "\n",
    "この微分の値は、リンゴの値段が少しだけ値上がりした場合に、支払い金額がどれだけ増加するか、ということを表したものになります。\n",
    "\n",
    "数学的に表してみましょう。\n",
    "\n",
    "リンゴの値段を「x」とし、支払い金額を「L」とした場合、「リンゴの値段に関する支払い金額の微分」は、\n",
    "\n",
    "$$\n",
    "    \\frac{∂L}{∂x}\n",
    "$$\n",
    "\n",
    "に相当します。\n",
    "\n",
    "例えば、リンゴを２個買う場合、１個あたりの値段が変化すると、以下のように合計金額が変化します。"
   ]
  },
  {
   "cell_type": "code",
   "execution_count": 2,
   "metadata": {
    "jupyter": {
     "source_hidden": true
    }
   },
   "outputs": [
    {
     "data": {
      "image/png": "[encoded data removed]",
      "text/plain": [
       "<Figure size 432x288 with 1 Axes>"
      ]
     },
     "metadata": {
      "needs_background": "light"
     },
     "output_type": "display_data"
    }
   ],
   "source": [
    "import numpy as np\n",
    "import matplotlib.pyplot as plt\n",
    "\n",
    "x = np.arange(0, 100, 1)\n",
    "y = 2*x\n",
    "\n",
    "plt.plot(x, y)\n",
    "plt.xlabel('price of apple (yen per apple)')\n",
    "plt.ylabel('two apples (yen)')\n",
    "plt.show()"
   ]
  },
  {
   "cell_type": "markdown",
   "metadata": {},
   "source": [
    "数式的に見ると、\n",
    "\n",
    "$$\n",
    "    y = 2x\n",
    "$$\n",
    "\n",
    "であり、簡単な式で表すことができます。\n",
    "\n",
    "１個あたりのリンゴの値段を入力すれば、合計金額は求められるのですが、１個あたりの値段が１円値上がりすると、合計金額が何円増えるのかは、この式だけではわかりません。\n",
    "\n",
    "もちろん、丁寧に計算すれば求めることはできます。\n",
    "\n",
    "例えば、リンゴ１個が100円の場合。\n",
    "\n",
    "$$\n",
    "    x_1 = 100\\\\\n",
    "    y_1 = 2\\times100\\\\\n",
    "    y_1 = 200\n",
    "$$\n",
    "\n",
    "次に、リンゴ１個が101円の場合。\n",
    "\n",
    "$$\n",
    "    x_2 = 101\\\\\n",
    "    y_2 = 2\\times101\\\\\n",
    "    y_2 = 202\n",
    "$$\n",
    "\n",
    "最終的に、この二つの合計を引けば、１個あたりの値段が１円値上がりすると、合計金額が何円増えるのか求めることができます。\n",
    "\n",
    "$$\n",
    "    a = y_2 - y_1\\\\\n",
    "    a = 202 - 200\\\\\n",
    "    a = 2\n",
    "$$\n",
    "\n",
    "つまり、１個あたりの値段が１円値上がりすると、合計金額は２円増えることがわかりました。\n",
    "\n",
    "正直面倒ですよね。\n",
    "\n",
    "式自体が簡単なので、計算は難しくないのですが、手間がかかります。\n",
    "\n",
    "そこで、微分が使います。\n",
    "\n",
    "微分を使うと、\n",
    "\n",
    "$$\n",
    "    \\frac{∂L}{∂x}\\\\\n",
    "    =\\frac{∂2x}{∂x}\\\\\n",
    "    =2\n",
    "$$"
   ]
  },
  {
   "cell_type": "markdown",
   "metadata": {},
   "source": [
    "このように、簡単に「２」という値を得ることができます。"
   ]
  },
  {
   "cell_type": "markdown",
   "metadata": {},
   "source": [
    "これが先ほど説明した「リンゴの値段に関する支払い金額の微分」になります。\n",
    "\n",
    "この「リンゴの値段に関する支払い金額の微分」のような値は、計算グラフで逆方向の伝播を行えば求めることができます。\n",
    "\n",
    "では、逆伝播を表してみましょう。"
   ]
  },
  {
   "cell_type": "markdown",
   "metadata": {},
   "source": [
    "<img src=\"img4_1_5.png\" style=\"width: 700px; float:left;\">"
   ]
  },
  {
   "cell_type": "markdown",
   "metadata": {},
   "source": [
    "図2-5"
   ]
  },
  {
   "cell_type": "markdown",
   "metadata": {},
   "source": [
    "上図のように、逆伝播の場合は、順方向とは逆向きの矢印によって図示します。\n",
    "\n",
    "逆伝播は「局所的な微分」を伝達し、その微分の値は矢印の下側に書くことにします。\n",
    "\n",
    "この場合、逆伝播は右から左へ「1→1.1→2.2」と微分の値が伝達されていきます。\n",
    "\n",
    "この結果から、「リンゴの値段に関する支払い金額の微分」の値は「2.2」ということができます。\n",
    "\n",
    "これは、リンゴが１円値上がりしたら、最終的な支払い金額が2.2円増えることを意味します。\n",
    "\n",
    "ここでは、リンゴの値段に関する微分だけを求めましたが、「消費税に関する支払いの金額の微分」や「リンゴの個数に関する支払い金額の微分」も同様の手順で求めることができます。\n",
    "\n",
    "そして、途中まで求めた微分の結果（数値）を共有することができ、効率よく複数の微分を計算することができるのです。\n",
    "\n",
    "このように、計算グラフのメリットは、順伝播と逆伝播によって、各変数の微分の値を効率よく求めることができるというところにあります。"
   ]
  },
  {
   "cell_type": "markdown",
   "metadata": {},
   "source": [
    "## 3.連鎖律"
   ]
  },
  {
   "cell_type": "markdown",
   "metadata": {},
   "source": [
    "これまで行ってきた計算グラフの順伝播は、計算の結果を順方向に伝達し、\n",
    "\n",
    "逆方向の伝播では**「局所的な微分」**を、逆方向に伝達していきます。\n",
    "\n",
    "この**「局所的な微分」**を伝達する原理は、**連鎖律**によるものになります。"
   ]
  },
  {
   "cell_type": "markdown",
   "metadata": {},
   "source": [
    "### 3-1.計算グラフの逆伝播"
   ]
  },
  {
   "cell_type": "markdown",
   "metadata": {},
   "source": [
    "それでは、計算グラフを使った逆伝播の例を示します。\n",
    "\n",
    "ここでは、\n",
    "\n",
    "$$\n",
    "    y = f(x)\n",
    "$$\n",
    "\n",
    "を扱って考えたいと思います。"
   ]
  },
  {
   "cell_type": "markdown",
   "metadata": {},
   "source": [
    "<img src=\"img4_1_6.png\" style=\"width: 700px; float:left;\">"
   ]
  },
  {
   "cell_type": "markdown",
   "metadata": {},
   "source": [
    "図3-1"
   ]
  },
  {
   "cell_type": "markdown",
   "metadata": {},
   "source": [
    "上図のように、逆伝播の計算手順は、信号Eに対して、ノードの局所的な微分\n",
    "\n",
    "$$\n",
    "    \\frac{∂y}{∂x}\n",
    "$$\n",
    "\n",
    "を掛け、それを次のノードに伝達していきます。\n",
    "\n",
    "$$\n",
    "    E\\frac{∂y}{∂x}\n",
    "$$"
   ]
  },
  {
   "cell_type": "markdown",
   "metadata": {},
   "source": [
    "ここで言う局所的な微分とは、順伝播での\n",
    "\n",
    "$$\n",
    "    y = f(x)\n",
    "$$\n",
    "\n",
    "の微分を求めるということであり、これは、xに関するyの微分を求めることを意味します。\n",
    "\n",
    "例えば、\n",
    "\n",
    "$$\n",
    "    y = f(x) = x^2\n",
    "$$\n",
    "\n",
    "の場合、\n",
    "\n",
    "$$\n",
    "    \\frac{∂y}{∂x} = 2x\n",
    "$$\n",
    "\n",
    "になります。"
   ]
  },
  {
   "cell_type": "markdown",
   "metadata": {},
   "source": [
    "これが逆伝播で行う計算手順ですが、この計算を行うことで、目的とする微分の値を効率よく求めることができるのが逆伝播のポイントになります。\n",
    "\n",
    "なぜ、そのようなことができるのかは、**「連鎖律」**の原理から説明することができます。"
   ]
  },
  {
   "cell_type": "markdown",
   "metadata": {},
   "source": [
    "### 3-2.連鎖律とは"
   ]
  },
  {
   "cell_type": "markdown",
   "metadata": {},
   "source": [
    "連鎖律を説明する前に、合成関数について話していきたいと思います。\n",
    "\n",
    "合成関数とは、簡単に言うと、複数の関数によって構成される関数のことになります。\n",
    "\n",
    "例えば、\n",
    "\n",
    "$$\n",
    "    z = (x + y)^2\n",
    "$$\n",
    "\n",
    "の場合、以下の式で構成されます。\n",
    "\n",
    "$$\n",
    "    z = t^2\\\\\n",
    "    t = x + y\n",
    "$$"
   ]
  },
  {
   "cell_type": "markdown",
   "metadata": {},
   "source": [
    "**連鎖律**とは、合成関数の微分についての性質であり、次のように定義されます。"
   ]
  },
  {
   "cell_type": "markdown",
   "metadata": {},
   "source": [
    "#### ある関数が合成関数で表される場合、その合成関数の微分は、合成関数を構成するそれぞれの関数の微分の積によって表すことができる。"
   ]
  },
  {
   "cell_type": "markdown",
   "metadata": {},
   "source": [
    "先ほどの例において\n",
    "\n",
    "$$\n",
    "    \\frac{∂z}{∂x}\n",
    "$$\n",
    "\n",
    "は、\n",
    "\n",
    "$$\n",
    "    \\frac{∂z}{∂t}と\\frac{∂t}{∂x}\n",
    "$$\n",
    "\n",
    "の積によって表すことができます。\n",
    "\n",
    "数式で表すと、\n",
    "\n",
    "$$\n",
    "    \\frac{∂z}{∂x} = \\frac{∂z}{∂t}\\frac{∂t}{∂x}\n",
    "$$\n",
    "\n",
    "となります。"
   ]
  },
  {
   "cell_type": "markdown",
   "metadata": {},
   "source": [
    "それでは、連鎖律を使って、\n",
    "\n",
    "$$\n",
    "    z = (x + y)^2\n",
    "$$\n",
    "\n",
    "の微分\n",
    "\n",
    "$$\n",
    "    \\frac{∂z}{∂x}\n",
    "$$\n",
    "\n",
    "を求めてみましょう。\n",
    "\n",
    "まず、局所的な微分を先に求めます。"
   ]
  },
  {
   "cell_type": "markdown",
   "metadata": {},
   "source": [
    "$$\n",
    "    \\frac{∂z}{∂t} = 2t\n",
    "$$\n",
    "\n",
    "$$\n",
    "    \\frac{∂t}{∂x} = 1\n",
    "$$"
   ]
  },
  {
   "cell_type": "markdown",
   "metadata": {},
   "source": [
    "最終的に求めたい\n",
    "\n",
    "$$\n",
    "    \\frac{∂z}{∂x}\n",
    "$$\n",
    "\n",
    "は、先ほど計算した局所的な微分の積によって計算できます。\n",
    "\n",
    "つまり、\n",
    "\n",
    "$$\n",
    "    \\frac{∂z}{∂x} = \\frac{∂z}{∂t}\\frac{∂t}{∂x} = 2t\\times1\\\\\n",
    "$$\n",
    "\n",
    "となります。\n",
    "\n",
    "また、\n",
    "\n",
    "$$\n",
    "    t = x + y\n",
    "$$\n",
    "\n",
    "なので、\n",
    "\n",
    "$$\n",
    "    \\frac{∂z}{∂x} = 2(x + y)\n",
    "$$\n",
    "\n",
    "となります。"
   ]
  },
  {
   "cell_type": "markdown",
   "metadata": {},
   "source": [
    "### 3-3.連鎖律と計算グラフ"
   ]
  },
  {
   "cell_type": "markdown",
   "metadata": {},
   "source": [
    "それでは、先ほど行った連鎖律の計算を、計算グラフで表してみましょう。\n",
    "\n",
    "2乗の計算を「**2」というノードで表すとすれば、以下のように書くことができます。\n",
    "\n",
    "また、\n",
    "\n",
    "$$\n",
    "        z = (x + y)^2\n",
    "$$\n",
    "\n",
    "で完結する計算を考えているので、上流から流れてくる値はなく、出力値zを使って考えます。"
   ]
  },
  {
   "cell_type": "markdown",
   "metadata": {},
   "source": [
    "<img src=\"img4_1_7.png\" style=\"width: 700px; float:left;\">"
   ]
  },
  {
   "cell_type": "markdown",
   "metadata": {},
   "source": [
    "図3-2"
   ]
  },
  {
   "cell_type": "markdown",
   "metadata": {},
   "source": [
    "逆伝播の計算手順では、ノードへの入力信号に対して、ノードの局所的な微分を乗算して次のノードへと伝達していきます。\n",
    "\n",
    "例えば、「**2」への逆伝播時の入力は、出力値zをzで微分した値となるので、\n",
    "\n",
    "$$\n",
    "    \\frac{∂z}{∂z}\n",
    "$$\n",
    "\n",
    "となります。\n",
    "\n",
    "また、これに局所的な微分である\n",
    "\n",
    "$$\n",
    "    \\frac{∂z}{∂t}\n",
    "$$\n",
    "\n",
    "を乗算して、次のノードへ渡していきます。\n",
    "\n",
    "さて、図で注目すべきことは、一番左の逆伝播の結果になります。\n",
    "\n",
    "これは、連鎖律より、\n",
    "\n",
    "$$\n",
    "    \\frac{∂z}{∂z}\\frac{∂z}{∂t}\\frac{∂t}{∂x}\\\\\n",
    "    =\\frac{∂z}{∂t}\\frac{∂t}{∂x}\\\\\n",
    "    =\\frac{∂z}{∂x}\n",
    "$$\n",
    "\n",
    "が成り立ち、「xに関するzの微分」に対応します。\n",
    "\n",
    "つまり、逆伝播が行っていることは、連鎖律の原理から構成されているのです。"
   ]
  },
  {
   "cell_type": "markdown",
   "metadata": {},
   "source": [
    "$$\n",
    "    z = (x + y)^2\n",
    "$$\n",
    "\n",
    "を先ほどの図に適用すると、以下のようになります。"
   ]
  },
  {
   "cell_type": "markdown",
   "metadata": {},
   "source": [
    "<img src=\"img4_1_8.png\" style=\"width: 700px; float:left;\">"
   ]
  },
  {
   "cell_type": "markdown",
   "metadata": {},
   "source": [
    "図3-3"
   ]
  },
  {
   "cell_type": "markdown",
   "metadata": {},
   "source": [
    "## 4.逆伝播"
   ]
  },
  {
   "cell_type": "markdown",
   "metadata": {},
   "source": [
    "前節では、計算グラフの逆伝播が連鎖律によって成り立つことを説明しました。\n",
    "\n",
    "ここでは、「+」や「×」などの演算を例に、逆伝播の仕組みについて説明します。"
   ]
  },
  {
   "cell_type": "markdown",
   "metadata": {},
   "source": [
    "### 4-1.加算ノードの逆伝播"
   ]
  },
  {
   "cell_type": "markdown",
   "metadata": {},
   "source": [
    "はじめに加算ノードの逆伝播について考えていきます。\n",
    "\n",
    "ここでは、\n",
    "\n",
    "$$\n",
    "    z = x + y\n",
    "$$\n",
    "\n",
    "という式を対象にして、その逆伝播を見ていきます。\n",
    "\n",
    "まず、微分を計算すると、\n",
    "\n",
    "$$\n",
    "    \\frac{∂z}{∂x} = 1\\\\\n",
    "    \\frac{∂z}{∂y} = 1\n",
    "$$\n",
    "\n",
    "となります。\n",
    "\n",
    "これらのことを考えると、以下の図のように書くことができます。"
   ]
  },
  {
   "cell_type": "markdown",
   "metadata": {},
   "source": [
    "<img src=\"img4_1_9.png\" style=\"width: 700px; float:left;\">"
   ]
  },
  {
   "cell_type": "markdown",
   "metadata": {},
   "source": [
    "図4-1"
   ]
  },
  {
   "cell_type": "markdown",
   "metadata": {},
   "source": [
    "上図に示すように、逆伝播の際には、上流から伝わった微分に1を乗算して、下流に流します。\n",
    "\n",
    "つまり、加算ノードの逆伝播は１を乗算するだけなので、入力された値をそのまま次のノードへ流すだけになります。\n",
    "\n",
    "$$\n",
    "    z = x + y\n",
    "$$\n",
    "\n",
    "という計算は、その大きな計算グラフのどこかに存在し、上流から\n",
    "\n",
    "$$\n",
    "    \\frac{∂L}{∂z}\n",
    "$$\n",
    "\n",
    "の値が伝わることになります。\n",
    "\n",
    "そして、下流にはそれぞれ\n",
    "\n",
    "$$\n",
    "    \\frac{∂L}{∂x} = \\frac{∂L}{∂z}\\frac{∂z}{∂x}\\\\\n",
    "    \\frac{∂L}{∂y} = \\frac{∂L}{∂z}\\frac{∂z}{∂y}\n",
    "$$\n",
    "\n",
    "の値を伝達していくのです。\n",
    "\n",
    "それでは、具体例を見ていきたいと思います。"
   ]
  },
  {
   "cell_type": "markdown",
   "metadata": {},
   "source": [
    "例えば、「10+5=15」という計算があるとして、逆伝播の場合、上流から1.3の値が流れてくるとします。\n",
    "\n",
    "これを計算グラフで表すと以下のようになります。"
   ]
  },
  {
   "cell_type": "markdown",
   "metadata": {},
   "source": [
    "<img src=\"img4_1_10.png\" style=\"width: 700px; float:left;\">"
   ]
  },
  {
   "cell_type": "markdown",
   "metadata": {},
   "source": [
    "図4-2"
   ]
  },
  {
   "cell_type": "markdown",
   "metadata": {},
   "source": [
    "### 4-2.乗算ノードの逆伝播"
   ]
  },
  {
   "cell_type": "markdown",
   "metadata": {},
   "source": [
    "続いて乗算ノードの逆伝播について説明します。\n",
    "\n",
    "ここでは、\n",
    "\n",
    "$$\n",
    "    z = xy\n",
    "$$\n",
    "\n",
    "という式を考えます。\n",
    "\n",
    "この式の微分は、\n",
    "\n",
    "$$\n",
    "    \\frac{∂z}{∂x} = y\\\\\n",
    "    \\frac{∂z}{∂y} = x\n",
    "$$\n",
    "\n",
    "となります。\n",
    "\n",
    "このことから、計算グラフは以下のように表すことができます。"
   ]
  },
  {
   "cell_type": "markdown",
   "metadata": {},
   "source": [
    "<img src=\"img4_1_11.png\" style=\"width: 700px; float:left;\">"
   ]
  },
  {
   "cell_type": "markdown",
   "metadata": {},
   "source": [
    "図4-3"
   ]
  },
  {
   "cell_type": "markdown",
   "metadata": {},
   "source": [
    "乗算の逆伝播の場合は、上流の値に、順伝播の際の入力信号をひっくり返した値を乗算して下流へ流します。\n",
    "\n",
    "ここで、具体例を見ていきたいと思います。\n",
    "\n",
    "例えば、「5×10 = 50」という計算を考えます。\n",
    "\n",
    "逆伝播の際には、上流から1.3の値が流れてくるとします。\n",
    "\n",
    "この場合、計算グラフは以下のようになります。"
   ]
  },
  {
   "cell_type": "markdown",
   "metadata": {},
   "source": [
    "<img src=\"img4_1_12.png\" style=\"width: 700px; float:left;\">"
   ]
  },
  {
   "cell_type": "markdown",
   "metadata": {},
   "source": [
    "図4-4"
   ]
  },
  {
   "cell_type": "markdown",
   "metadata": {},
   "source": [
    "乗算の逆伝播は、入力信号をひっくり返した値を掛けるので、\n",
    "\n",
    "$$\n",
    "    1.3\\times10 = 13\\\\\n",
    "    1.3\\times5 = 6.5\n",
    "$$\n",
    "\n",
    "とそれぞれ計算することができます。\n",
    "\n",
    "このように、乗算の逆伝播では、順伝播の時の入力信号の値が必要になります。\n",
    "\n",
    "そのため、乗算ノードの実装時には、順伝播の入力信号を保持します。"
   ]
  },
  {
   "cell_type": "markdown",
   "metadata": {},
   "source": [
    "### 4-3.リンゴの例"
   ]
  },
  {
   "cell_type": "markdown",
   "metadata": {},
   "source": [
    "ここで、最初に考えたリンゴの例について見ていきたいと思います。\n",
    "\n",
    "リンゴ２個と消費税について考えました。\n",
    "\n",
    "ここで解きたい問題は、リンゴの値段、リンゴの個数、消費税の３つの変数それぞれが最終的な支払い金額にどのように影響するか、ということになります。\n",
    "\n",
    "つまり、\n",
    "\n",
    "#### ・「リンゴの値段に関する支払金額の微分」\n",
    "\n",
    "#### ・「リンゴの個数に関する支払金額の微分」\n",
    "\n",
    "#### ・「消費税に関する支払金額の微分」\n",
    "\n",
    "を求めることに相当します。\n",
    "\n",
    "これを計算グラフの逆伝播を使って考えると、以下のようになります。"
   ]
  },
  {
   "cell_type": "markdown",
   "metadata": {},
   "source": [
    "<img src=\"img4_1_13.png\" style=\"width: 700px; float:left;\">"
   ]
  },
  {
   "cell_type": "markdown",
   "metadata": {},
   "source": [
    "図4-5"
   ]
  },
  {
   "cell_type": "markdown",
   "metadata": {},
   "source": [
    "これまで説明してきたとおり、乗算ノードの逆伝播では、入力信号がひっくり返って下流へと流れます。\n",
    "\n",
    "上図の結果より、\n",
    "\n",
    "#### リンゴの値段の微分は2.2\n",
    "\n",
    "#### リンゴの個数の微分は110\n",
    "\n",
    "#### 消費税の微分は200\n",
    "\n",
    "となります。\n",
    "\n",
    "例えば、\n",
    "\n",
    "消費税とリンゴの値段が同じ量だけ増加したら、\n",
    "\n",
    "消費税は200の大きさで最終的な支払金額に影響を与え、\n",
    "\n",
    "リンゴの値段は2.2の大きさで影響を与えると解釈できます。\n",
    "\n",
    "この例において、注意すべきポイントが一つあります。\n",
    "\n",
    "それは、消費税とリンゴの値段のスケールが異なるということです。\n",
    "\n",
    "消費税の1は100%、リンゴの値段の1は1円になります。\n",
    "\n",
    "--------\n",
    "\n",
    "例）リンゴの値段が100円から101円になる場合\n",
    "\n",
    "リンゴの値段が100円から101円になると、最終的な支払金額は\n",
    "\n",
    "$$\n",
    "    (101 - 100)\\times2.2 = 2.2円\n",
    "$$\n",
    "\n",
    "増加します。\n",
    "\n",
    "例）消費税が10%から20%になる場合\n",
    "\n",
    "また、消費税が10%から20%になると、最終的な支払金額は\n",
    "\n",
    "$$\n",
    "    \\frac{20-10}{100}\\times200 = 20円\n",
    "$$\n",
    "\n",
    "増加します。\n",
    "\n",
    "-----"
   ]
  },
  {
   "cell_type": "markdown",
   "metadata": {},
   "source": [
    "それでは、最後に練習問題として、「リンゴとみかんの買い物」の逆伝播を考えてみましょう！\n",
    "\n",
    "【問題4-1】リンゴとみかんの買い物の逆伝播を考え、それぞれの変数の微分を求めてください。"
   ]
  },
  {
   "cell_type": "markdown",
   "metadata": {},
   "source": [
    "<img src=\"img4_1_14.png\" style=\"width: 700px; float:left;\">"
   ]
  },
  {
   "cell_type": "markdown",
   "metadata": {},
   "source": [
    "図4-6"
   ]
  },
  {
   "cell_type": "markdown",
   "metadata": {},
   "source": [
    "以下の「・・・」を押すと、答えが表示されます。"
   ]
  },
  {
   "cell_type": "markdown",
   "metadata": {
    "jupyter": {
     "source_hidden": true
    }
   },
   "source": [
    "<img src=\"img4_1_15.png\" style=\"width: 700px; float:left;\">"
   ]
  },
  {
   "cell_type": "markdown",
   "metadata": {},
   "source": [
    "## 5.単純なレイヤの実装"
   ]
  },
  {
   "cell_type": "markdown",
   "metadata": {},
   "source": [
    "この章では、またまた「リンゴの買い物」の例を使って、Pythonで実装していきたいと思います！\n",
    "\n",
    "ここでは、計算グラフの乗算ノードを「乗算レイヤ」、加算ノードを「加算レイヤ」という名前で実装していきます。（レイヤとは、層のことを表します。）"
   ]
  },
  {
   "cell_type": "markdown",
   "metadata": {},
   "source": [
    "### 5-1.乗算レイヤの実装"
   ]
  },
  {
   "cell_type": "markdown",
   "metadata": {},
   "source": [
    "レイヤは、「forward()」と「backward()」という共通のメソッドを持つように実装します。\n",
    "\n",
    "#### forward()：順伝播\n",
    "\n",
    "#### backward()：逆伝播\n",
    "\n",
    "に対応します。\n",
    "\n",
    "それでは、乗算レイヤを実装していきます。\n",
    "\n",
    "ここでは、「MulLayer」という名前を付けます。\n",
    "\n",
    "「乗算」は英語で「multiplication」と言います。\n",
    "\n",
    "そのため、頭の三文字を取って、「MulLayer」とします。"
   ]
  },
  {
   "cell_type": "code",
   "execution_count": 15,
   "metadata": {},
   "outputs": [],
   "source": [
    "class MulLayer:\n",
    "    def __init__(self):\n",
    "        self.x = None\n",
    "        self.y = None\n",
    "        \n",
    "    def forward(self, x, y):\n",
    "        self.x = x\n",
    "        self.y = y\n",
    "        out = x * y\n",
    "        \n",
    "        return out\n",
    "    \n",
    "    def backward(self, dout):\n",
    "        dx = dout * self.y\n",
    "        dy = dout * self.x\n",
    "        \n",
    "        return dx, dy"
   ]
  },
  {
   "cell_type": "markdown",
   "metadata": {},
   "source": [
    "このように乗算レイヤを実装することができます。\n",
    "\n",
    "それでは、コードについて説明していきたいと思います。"
   ]
  },
  {
   "cell_type": "code",
   "execution_count": null,
   "metadata": {},
   "outputs": [],
   "source": [
    "def __init__(self):"
   ]
  },
  {
   "cell_type": "markdown",
   "metadata": {},
   "source": [
    "では、インスタンス変数である「x」と「y」の初期化を行いますが、これは、順伝播時の入力値を保持するために用います。"
   ]
  },
  {
   "cell_type": "code",
   "execution_count": null,
   "metadata": {},
   "outputs": [],
   "source": [
    "self.x = x\n",
    "self.y = y"
   ]
  },
  {
   "cell_type": "markdown",
   "metadata": {},
   "source": [
    "というように、値を代入することで、順伝播だけでなく、逆伝播の時にもこの値を使うことができます。\n",
    "\n",
    "なぜ、"
   ]
  },
  {
   "cell_type": "code",
   "execution_count": null,
   "metadata": {},
   "outputs": [],
   "source": [
    "def __init__(self):\n",
    "    self.x = a\n",
    "    self.y = b"
   ]
  },
  {
   "cell_type": "markdown",
   "metadata": {},
   "source": [
    "としないのか。\n",
    "\n",
    "このように初期化をしてしまうと、「MulLayer」はある値「a」と「b」だけに対応した汎用性のない乗算レイヤになってしまいます。\n",
    "\n",
    "そこで、"
   ]
  },
  {
   "cell_type": "code",
   "execution_count": null,
   "metadata": {},
   "outputs": [],
   "source": [
    "def forward(self, x, y):\n",
    "    self.x = x\n",
    "    self.y = y"
   ]
  },
  {
   "cell_type": "markdown",
   "metadata": {},
   "source": [
    "と、このようにすることで、下流からどんな値が流れてきても大丈夫なようになります。\n",
    "\n",
    "また、先ほども説明しましたが、値を保持することができるので、逆伝播の際にこの値を使うことができます。\n",
    "\n",
    "また、"
   ]
  },
  {
   "cell_type": "code",
   "execution_count": null,
   "metadata": {},
   "outputs": [],
   "source": [
    "def backward(self, dout):"
   ]
  },
  {
   "cell_type": "markdown",
   "metadata": {},
   "source": [
    "では、上流から伝わってきた微分「dout」に対して、順伝播のひっくり返した値を乗算して下流に流します。\n",
    "\n",
    "それでは、この「MulLayer」を使って、これまで見てきた「リンゴの買い物」を実装してみましょう。"
   ]
  },
  {
   "cell_type": "markdown",
   "metadata": {},
   "source": [
    "<img src=\"img4_1_13.png\" style=\"width: 700px; float:left;\">"
   ]
  },
  {
   "cell_type": "markdown",
   "metadata": {},
   "source": [
    "図5-1"
   ]
  },
  {
   "cell_type": "code",
   "execution_count": 9,
   "metadata": {},
   "outputs": [
    {
     "name": "stdout",
     "output_type": "stream",
     "text": [
      "220.0\n"
     ]
    }
   ],
   "source": [
    "apple = 100\n",
    "apple_num = 2\n",
    "tax = 1.1\n",
    "\n",
    "mul_apple_layer = MulLayer()\n",
    "mul_tax_layer = MulLayer()\n",
    "\n",
    "apple_price = mul_apple_layer.forward(apple, apple_num)\n",
    "price = mul_tax_layer.forward(apple_price, tax)\n",
    "\n",
    "print(round(price, 2))"
   ]
  },
  {
   "cell_type": "markdown",
   "metadata": {},
   "source": [
    "また、各変数に関する微分は、backward()で求めることができます。"
   ]
  },
  {
   "cell_type": "code",
   "execution_count": 34,
   "metadata": {},
   "outputs": [
    {
     "name": "stdout",
     "output_type": "stream",
     "text": [
      "dapple： 2.2\n",
      "dapple_num： 110\n",
      "dtax： 650\n"
     ]
    }
   ],
   "source": [
    "dprice = 1\n",
    "dapple_price, dtax = mul_tax_layer.backward(dprice)\n",
    "dapple, dapple_num = mul_apple_layer.backward(dapple_price)\n",
    "\n",
    "print(\"dapple：\", dapple)\n",
    "print(\"dapple_num：\", round(dapple_num))\n",
    "print(\"dtax：\", dtax)"
   ]
  },
  {
   "cell_type": "markdown",
   "metadata": {},
   "source": [
    "ここで、backward()の呼び出す順番は、forward()のときと逆の順番で行います。\n",
    "\n",
    "また、backward()の引数は、「順伝播の際の出力変数に対する微分」を入力することに注意してください。\n",
    "\n",
    "例えば、mul_apple_layerという乗算レイヤの出力は、２個のリンゴの値段「apple_price」なので、逆伝播の際には、「apple_price」の微分である「dapple_price」を引数に設定します。"
   ]
  },
  {
   "cell_type": "markdown",
   "metadata": {},
   "source": [
    "【問題5-1】乗算レイヤをもう一度実装し、以下の条件について順伝播の値と逆伝播の値を計算してください。その際、計算グラフを紙に書いてみること。\n",
    "\n",
    "リンゴの値段：110円  \n",
    "リンゴの個数：3個  \n",
    "消費税：10%"
   ]
  },
  {
   "cell_type": "code",
   "execution_count": null,
   "metadata": {},
   "outputs": [],
   "source": [
    "######以下にコードを書いてください######\n",
    "\n",
    "\n",
    "\n",
    "\n",
    "\n",
    "\n",
    "######「Shift+Enter」を押してください######"
   ]
  },
  {
   "cell_type": "markdown",
   "metadata": {},
   "source": [
    "【問題5-2】問題5-1で作成した「MulLayer」を使って、順伝播の値と逆伝播の値を計算してください。\n",
    "\n",
    "蘭さんは、みたらし団子を３本買いました。その時、クーポンを持っていたので使用しました。そのクーポンは税込価格から10%引きしてくれるものとなっています。では、合計金額はいくらになるでしょう。また、みたらし団子の値段が1円値上がりすると、合計金額は何円値上がりするでしょう。\n",
    "\n",
    "みたらし団子の値段：150円  \n",
    "みたらし団子の本数：3本  \n",
    "消費税：10%  \n",
    "割引クーポン：10%"
   ]
  },
  {
   "cell_type": "code",
   "execution_count": null,
   "metadata": {},
   "outputs": [],
   "source": [
    "######以下にコードを書いてください######\n",
    "\n",
    "\n",
    "\n",
    "\n",
    "\n",
    "\n",
    "######「Shift+Enter」を押してください######"
   ]
  },
  {
   "cell_type": "markdown",
   "metadata": {},
   "source": [
    "### 5-2.加算レイヤの実装"
   ]
  },
  {
   "cell_type": "markdown",
   "metadata": {},
   "source": [
    "先ほど乗算レイヤについて実装したので、加算レイヤについて実装していきたいと思います。"
   ]
  },
  {
   "cell_type": "code",
   "execution_count": 16,
   "metadata": {},
   "outputs": [],
   "source": [
    "class AddLayer:\n",
    "    def __init__(self):\n",
    "        pass\n",
    "    \n",
    "    def forward(self, x, y):\n",
    "        out = x + y\n",
    "        return out\n",
    "    \n",
    "    def backward(self, dout):\n",
    "        dx = dout * 1\n",
    "        dy = dout * 1\n",
    "        return dx, dy"
   ]
  },
  {
   "cell_type": "markdown",
   "metadata": {},
   "source": [
    "加算レイヤでは特に初期化は必要ないので、"
   ]
  },
  {
   "cell_type": "code",
   "execution_count": null,
   "metadata": {},
   "outputs": [],
   "source": [
    "def __init__(self):"
   ]
  },
  {
   "cell_type": "markdown",
   "metadata": {},
   "source": [
    "では何も行いません。\n",
    "\n",
    "そのため、「pass」を使用します。\n",
    "\n",
    "加算レイヤは、難しいことを行わないので簡単ですね。\n",
    "\n",
    "それでは、加算レイヤを使って、リンゴ２個とみかん３個の買い物を実装してみましょう。"
   ]
  },
  {
   "cell_type": "code",
   "execution_count": 31,
   "metadata": {},
   "outputs": [
    {
     "name": "stdout",
     "output_type": "stream",
     "text": [
      "合計金額：715円\n",
      "dapple_num： 110\n",
      "dapple： 2.2\n",
      "dorange_num： 165.0\n",
      "dorange： 3.3\n",
      "dtax： 650\n"
     ]
    }
   ],
   "source": [
    "apple = 100\n",
    "apple_num = 2\n",
    "orange = 150\n",
    "orange_num = 3\n",
    "tax = 1.1\n",
    "\n",
    "mul_apple_layer = MulLayer()\n",
    "mul_orange_layer = MulLayer()\n",
    "add_apple_orange_layer = AddLayer()\n",
    "mul_tax_layer = MulLayer()\n",
    "\n",
    "#forward\n",
    "apple_price = mul_apple_layer.forward(apple, apple_num)\n",
    "orange_price = mul_orange_layer.forward(orange, orange_num)\n",
    "all_price = add_apple_orange_layer.forward(apple_price, orange_price)\n",
    "price = mul_tax_layer.forward(all_price, tax)\n",
    "\n",
    "#backward\n",
    "dprice = 1\n",
    "dall_price, dtax = mul_tax_layer.backward(dprice)\n",
    "dapple_price, dorange_price = add_apple_orange_layer.backward(dall_price)\n",
    "dorange, dorange_num = mul_orange_layer.backward(dorange_price)\n",
    "dapple, dapple_num = mul_apple_layer.backward(dapple_price)\n",
    "\n",
    "price = round(price)\n",
    "\n",
    "print(\"合計金額：\" + str(price) + \"円\")\n",
    "print(\"dapple_num：\", round(dapple_num))\n",
    "print(\"dapple：\", dapple)\n",
    "print(\"dorange_num：\", dorange_num)\n",
    "print(\"dorange：\", round(dorange, 2))\n",
    "print(\"dtax：\", dtax)\n"
   ]
  },
  {
   "cell_type": "markdown",
   "metadata": {},
   "source": [
    "この実装は少し長くなりましたが、一つ一つの内容はとても簡単なものになっています。"
   ]
  },
  {
   "cell_type": "markdown",
   "metadata": {},
   "source": [
    "【問題5-3】加算レイヤを実装し、以下の条件について計算してください。その際、計算グラフを紙に書いてみること。\n",
    "\n",
    "リンゴの値段：150円  \n",
    "リンゴの個数：3個  \n",
    "ぶどうの値段：400円  \n",
    "ぶどうの個数：2個  \n",
    "消費税：10%  "
   ]
  },
  {
   "cell_type": "code",
   "execution_count": null,
   "metadata": {},
   "outputs": [],
   "source": [
    "######以下にコードを書いてください######\n",
    "\n",
    "\n",
    "\n",
    "\n",
    "\n",
    "\n",
    "######「Shift+Enter」を押してください######"
   ]
  },
  {
   "cell_type": "markdown",
   "metadata": {},
   "source": [
    "【問題5-4】蘭さんは机を一つ、椅子を四つ買いました。レジの際、店員さんに「こちらのクッションは税抜き価格の半額で買うことができます」と言われ、蘭さんは追加で二つ買うことにしました。さて、合計金額はいくらでしょう。また、クッションの割引額が変化すると、合計金額は何円変化するでしょう。\n",
    "\n",
    "机：21000円  \n",
    "椅子：4200円  \n",
    "クッション：1000円  \n",
    "消費税：10%"
   ]
  },
  {
   "cell_type": "code",
   "execution_count": null,
   "metadata": {},
   "outputs": [],
   "source": [
    "######以下にコードを書いてください######\n",
    "\n",
    "\n",
    "\n",
    "\n",
    "\n",
    "\n",
    "######「Shift+Enter」を押してください######"
   ]
  },
  {
   "cell_type": "markdown",
   "metadata": {},
   "source": [
    "## 6.まとめ"
   ]
  },
  {
   "cell_type": "markdown",
   "metadata": {},
   "source": [
    "このノートブックでは、視覚的に計算の過程を表す計算グラフという方法を学びました。\n",
    "\n",
    "また、計算グラフに慣れ親しんでもらうために、リンゴの例を初め、最終的には加算ノードと乗算ノードを実装しました。\n",
    "\n",
    "計算グラフを書いてしまえば、順伝播と逆伝播の実装は簡単であるということを味わってもらえたのではないでしょうか。\n",
    "\n",
    "ノートブック「DeepLearnin4-2」では、計算グラフや逆伝播をニューラルネットワークに落とし込んでいきたいと思います。\n",
    "\n",
    "今回の内容よりかは難しくなりますが、計算グラフや逆伝播についてしっかり理解しておけば問題ないので、しっかり学習して次に進みましょう！！"
   ]
  },
  {
   "cell_type": "code",
   "execution_count": null,
   "metadata": {},
   "outputs": [],
   "source": []
  }
 ],
 "metadata": {
  "kernelspec": {
   "display_name": "Python 3",
   "language": "python",
   "name": "python3"
  },
  "language_info": {
   "codemirror_mode": {
    "name": "ipython",
    "version": 3
   },
   "file_extension": ".py",
   "mimetype": "text/x-python",
   "name": "python",
   "nbconvert_exporter": "python",
   "pygments_lexer": "ipython3",
   "version": "3.7.4"
  }
 },
 "nbformat": 4,
 "nbformat_minor": 4
}
