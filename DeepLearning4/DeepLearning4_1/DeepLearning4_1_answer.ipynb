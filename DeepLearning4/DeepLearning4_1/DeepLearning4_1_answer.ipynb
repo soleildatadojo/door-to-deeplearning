{
 "cells": [
  {
   "cell_type": "markdown",
   "metadata": {},
   "source": [
    "【問題5-1】"
   ]
  },
  {
   "cell_type": "markdown",
   "metadata": {},
   "source": [
    "・乗算レイヤ"
   ]
  },
  {
   "cell_type": "code",
   "execution_count": 14,
   "metadata": {},
   "outputs": [],
   "source": [
    "class MulLayer:\n",
    "    def __init__(self):\n",
    "        self.x = None\n",
    "        self.y = None\n",
    "        \n",
    "    def forward(self, x, y):\n",
    "        self.x = x\n",
    "        self.y = y\n",
    "        out = x * y\n",
    "        \n",
    "        return out\n",
    "    \n",
    "    def backward(self, dout):\n",
    "        dx = dout * self.y\n",
    "        dy = dout * self.x\n",
    "        \n",
    "        return dx, dy"
   ]
  },
  {
   "cell_type": "markdown",
   "metadata": {},
   "source": [
    "・順伝播"
   ]
  },
  {
   "cell_type": "code",
   "execution_count": 16,
   "metadata": {},
   "outputs": [
    {
     "name": "stdout",
     "output_type": "stream",
     "text": [
      "合計金額：363円\n"
     ]
    }
   ],
   "source": [
    "apple = 110\n",
    "apple_num = 3\n",
    "tax = 1.1\n",
    "\n",
    "mul_apple_layer = MulLayer()\n",
    "mul_tax_layer = MulLayer()\n",
    "\n",
    "apple_price = mul_apple_layer.forward(apple, apple_num)\n",
    "price = mul_tax_layer.forward(apple_price, tax)\n",
    "\n",
    "print(\"合計金額：\" + str(int(price)) + \"円\")"
   ]
  },
  {
   "cell_type": "markdown",
   "metadata": {},
   "source": [
    "・逆伝播"
   ]
  },
  {
   "cell_type": "code",
   "execution_count": 6,
   "metadata": {},
   "outputs": [
    {
     "name": "stdout",
     "output_type": "stream",
     "text": [
      "dapple: 3.3\n",
      "dapple_num: 121\n",
      "dtax: 330\n"
     ]
    }
   ],
   "source": [
    "dprice = 1\n",
    "dapple_price, dtax = mul_tax_layer.backward(dprice)\n",
    "dapple, dapple_num = mul_apple_layer.backward(dapple_price)\n",
    "\n",
    "print('dapple:', round(dapple, 2))\n",
    "print('dapple_num:', round(dapple_num))\n",
    "print('dtax:', dtax)"
   ]
  },
  {
   "cell_type": "markdown",
   "metadata": {},
   "source": [
    "【問題5-2】"
   ]
  },
  {
   "cell_type": "markdown",
   "metadata": {},
   "source": [
    "・順伝播"
   ]
  },
  {
   "cell_type": "code",
   "execution_count": 19,
   "metadata": {},
   "outputs": [
    {
     "name": "stdout",
     "output_type": "stream",
     "text": [
      "最終金額：445円\n"
     ]
    }
   ],
   "source": [
    "danngo = 150\n",
    "danngo_num = 3\n",
    "tax = 1.1\n",
    "discount = 0.9\n",
    "\n",
    "mul_danngo_layer = MulLayer()\n",
    "mul_tax_layer = MulLayer()\n",
    "mul_discount_layer = MulLayer()\n",
    "\n",
    "danngo_price = mul_danngo_layer.forward(danngo, danngo_num)\n",
    "price = mul_tax_layer.forward(danngo_price, tax)\n",
    "final_price = mul_discount_layer.forward(price, discount)\n",
    "\n",
    "print(\"最終金額：\" + str(int(final_price)) + \"円\" )"
   ]
  },
  {
   "cell_type": "markdown",
   "metadata": {},
   "source": [
    "・逆伝播"
   ]
  },
  {
   "cell_type": "code",
   "execution_count": 33,
   "metadata": {},
   "outputs": [
    {
     "name": "stdout",
     "output_type": "stream",
     "text": [
      "ddanngo: 2.97\n",
      "ddanngo_num: 148.5\n",
      "dtax: 1125.0\n",
      "ddiscount: 495.0\n",
      "みたらし団子の値段が1円値上がりすると、合計金額は2.97円値上がりします。\n"
     ]
    }
   ],
   "source": [
    "dfinal_price = 1\n",
    "\n",
    "dprice, ddiscount = mul_discount_layer.backward(dfinal_price)\n",
    "ddanngo_price, dtax = mul_tax_layer.backward(dprice)\n",
    "ddanngo, ddanngo_num = mul_danngo_layer.backward(ddanngo_price)\n",
    "\n",
    "print(\"ddanngo:\", ddanngo)\n",
    "print(\"ddanngo_num:\", round(ddanngo_num, 1))\n",
    "print(\"dtax:\", dtax)\n",
    "print(\"ddiscount:\", round(ddiscount, 1))\n",
    "print(\"みたらし団子の値段が1円値上がりすると、合計金額は\" + str(ddanngo) + \"円値上がりします。\")"
   ]
  },
  {
   "cell_type": "markdown",
   "metadata": {},
   "source": [
    "【問題5-3】"
   ]
  },
  {
   "cell_type": "markdown",
   "metadata": {},
   "source": [
    "・加算レイヤ"
   ]
  },
  {
   "cell_type": "code",
   "execution_count": 23,
   "metadata": {},
   "outputs": [],
   "source": [
    "class AddLayer:\n",
    "    def __init__(self):\n",
    "        pass\n",
    "    \n",
    "    def forward(self, x, y):\n",
    "        out = x + y\n",
    "        return out\n",
    "    \n",
    "    def backward(self, dout):\n",
    "        dx = dout * 1\n",
    "        dy = dout * 1\n",
    "        \n",
    "        return dx, dy"
   ]
  },
  {
   "cell_type": "markdown",
   "metadata": {},
   "source": [
    "・順伝播"
   ]
  },
  {
   "cell_type": "code",
   "execution_count": 27,
   "metadata": {},
   "outputs": [
    {
     "name": "stdout",
     "output_type": "stream",
     "text": [
      "合計金額：1375.0\n"
     ]
    }
   ],
   "source": [
    "apple = 150\n",
    "apple_num = 3\n",
    "grape = 400\n",
    "grape_num = 2\n",
    "tax = 1.1\n",
    "\n",
    "mul_apple_layer = MulLayer()\n",
    "mul_grape_layer = MulLayer()\n",
    "add_apple_grape_layer = AddLayer()\n",
    "mul_tax_layer = MulLayer()\n",
    "\n",
    "apple_price = mul_apple_layer.forward(apple, apple_num)\n",
    "grape_price = mul_grape_layer.forward(grape, grape_num)\n",
    "all_price = add_apple_grape_layer.forward(apple_price, grape_price)\n",
    "price = mul_tax_layer.forward(all_price, tax)\n",
    "\n",
    "print(\"合計金額：\" + str(price))"
   ]
  },
  {
   "cell_type": "markdown",
   "metadata": {},
   "source": [
    "・逆伝播"
   ]
  },
  {
   "cell_type": "code",
   "execution_count": 31,
   "metadata": {},
   "outputs": [
    {
     "name": "stdout",
     "output_type": "stream",
     "text": [
      "dapple: 3.3\n",
      "dapple_num: 165.0\n",
      "dgrape: 2.2\n",
      "dgrape_num: 440\n",
      "dtax: 1250\n"
     ]
    }
   ],
   "source": [
    "dprice = 1\n",
    "\n",
    "dall_price, dtax = mul_tax_layer.backward(dprice)\n",
    "dapple_price, dgrape_price = add_apple_grape_layer.backward(dall_price)\n",
    "dgrape, dgrape_num = mul_grape_layer.backward(dgrape_price)\n",
    "dapple, dapple_num = mul_apple_layer.backward(dapple_price)\n",
    "\n",
    "print(\"dapple:\", round(dapple, 1))\n",
    "print(\"dapple_num:\", dapple_num)\n",
    "print(\"dgrape:\", dgrape)\n",
    "print(\"dgrape_num:\", round(dgrape_num))\n",
    "print(\"dtax:\", dtax)"
   ]
  },
  {
   "cell_type": "markdown",
   "metadata": {},
   "source": [
    "【問題5-4】"
   ]
  },
  {
   "cell_type": "markdown",
   "metadata": {},
   "source": [
    "・順伝播"
   ]
  },
  {
   "cell_type": "code",
   "execution_count": 47,
   "metadata": {},
   "outputs": [
    {
     "name": "stdout",
     "output_type": "stream",
     "text": [
      "合計金額：42680.0円\n"
     ]
    }
   ],
   "source": [
    "table = 21000\n",
    "table_num = 1\n",
    "chair = 4200\n",
    "chair_num = 4\n",
    "pillow = 1000\n",
    "pillow_num = 2\n",
    "tax = 1.1\n",
    "discount = 0.5\n",
    "\n",
    "mul_table_layer = MulLayer()\n",
    "mul_chair_layer = MulLayer()\n",
    "mul_pillow_layer = MulLayer()\n",
    "add_table_chair_layer = AddLayer()\n",
    "add_pillow_price_layer = AddLayer()\n",
    "mul_tax_layer = MulLayer()\n",
    "mul_discount_layer = MulLayer()\n",
    "\n",
    "table_price = mul_table_layer.forward(table, table_num)\n",
    "chair_price = mul_chair_layer.forward(chair, chair_num)\n",
    "pillow_price = mul_pillow_layer.forward(pillow, pillow_num)\n",
    "discount_pillow = mul_discount_layer.forward(pillow_price, discount)\n",
    "table_chair = add_table_chair_layer.forward(table_price, chair_price)\n",
    "all_price = add_pillow_price_layer.forward(table_chair, discount_pillow)\n",
    "price = mul_tax_layer.forward(all_price, tax)\n",
    "\n",
    "print(\"合計金額：\" + str(price) + \"円\")"
   ]
  },
  {
   "cell_type": "markdown",
   "metadata": {},
   "source": [
    "・逆伝播"
   ]
  },
  {
   "cell_type": "code",
   "execution_count": 42,
   "metadata": {},
   "outputs": [
    {
     "name": "stdout",
     "output_type": "stream",
     "text": [
      "クッションの割引額が変化すると2200.0円変化します。\n"
     ]
    }
   ],
   "source": [
    "dprice = 1\n",
    "\n",
    "dall_price, dtax = mul_tax_layer.backward(dprice)\n",
    "dtable_chair, ddiscount_pillow = add_pillow_price_layer.backward(dall_price)\n",
    "dpillow_price, ddiscount = mul_discount_layer.backward(ddiscount_pillow)\n",
    "\n",
    "print(\"クッションの割引額が変化すると\" + str(ddiscount) + \"円変化します。\")"
   ]
  },
  {
   "cell_type": "code",
   "execution_count": null,
   "metadata": {},
   "outputs": [],
   "source": []
  }
 ],
 "metadata": {
  "kernelspec": {
   "display_name": "Python 3",
   "language": "python",
   "name": "python3"
  },
  "language_info": {
   "codemirror_mode": {
    "name": "ipython",
    "version": 3
   },
   "file_extension": ".py",
   "mimetype": "text/x-python",
   "name": "python",
   "nbconvert_exporter": "python",
   "pygments_lexer": "ipython3",
   "version": "3.7.4"
  }
 },
 "nbformat": 4,
 "nbformat_minor": 4
}
