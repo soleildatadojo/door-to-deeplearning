{
 "cells": [
  {
   "cell_type": "markdown",
   "metadata": {},
   "source": [
    "# 「**Deep Learning**の扉」　　\n",
    "### ①**Python**を使ってパーセプトロンを学ぶ　\n",
    "___________________________________________________"
   ]
  },
  {
   "cell_type": "markdown",
   "metadata": {},
   "source": [
    "## 1. Welcome to Deep Learning!　ようこそ、Deep Learning の世界へ！ \n",
    "\n",
    "ここでは、基本的な内容であるパーセプトロンについて学び、Deep Learningの面白さに触れてもらいたいと思います。  \n",
    "\n",
    "でも、よくわからないし、不安。という方もおられるかもしれませんが、ゆっくり自分のペースで進めてもらえば理解できる内容となっているので楽しんでください！  \n",
    "_______________________________________"
   ]
  },
  {
   "cell_type": "markdown",
   "metadata": {},
   "source": [
    "## 2. 一連の流れ　　\n",
    "まずは「パーセプトロン」について学習してもらいます。　　\n",
    "\n",
    "パーセプトロンについての学習が終われば、パーセプトロンの理解を深めるために、具体的な問題として論理回路を学習してもらいます。\n",
    "\n",
    "また、その論理回路を基本回路と組み合わせ回路に分けて学習していきます。\n",
    "\n",
    "まずは、基本回路のアルゴリズムの理解、そして学んだことを用いて基本回路を実装してもらいます。　　\n",
    "\n",
    "基本回路のあとは、組合わせ回路のアルゴリズムの理解と実装を行なってもらいます。　　\n",
    "\n",
    "最終的には応用問題ということで１つ問題を用意していますのでぜひ取り組んでみてください。\n",
    "\n",
    "このパーセプトロンという概念は、この先みなさんが学んでいくニューラルネットワーク（Deep Learning）の基盤となります。\n",
    "\n",
    "つまり、\n",
    "\n",
    "#### パーセプトロンの仕組みを学ぶことは、\n",
    "\n",
    "#### ニューラルネットワークやディープラーニングへと進む上で重要な考え方を学ぶこと\n",
    "\n",
    "になるので、しっかり理解を深めてもらえたらいいなと思います。"
   ]
  },
  {
   "cell_type": "markdown",
   "metadata": {},
   "source": [
    "- 今回の目的  \n",
    "    - パーセプトロンの理解\n",
    "    - 基本回路の理解と実装\n",
    "    - 組合わせ回路の理解と実装\n",
    "    - 応用問題を解く"
   ]
  },
  {
   "cell_type": "markdown",
   "metadata": {},
   "source": [
    "_________________________"
   ]
  },
  {
   "cell_type": "markdown",
   "metadata": {},
   "source": [
    "## 3. パーセプトロン"
   ]
  },
  {
   "cell_type": "markdown",
   "metadata": {},
   "source": [
    "**パーセプトロン**とは…  \n",
    "複数の信号を入力として受け取り、１つの信号を出力するものです。  \n",
    "\n",
    "この信号というのは電流や川のような「流れ」をイメージしてもらうとわかりやすいかもしれません。  \n",
    "\n",
    "でもここで注意してもらいたいのは、パーセプトロンの信号は  \n",
    "\n",
    "#### **「流す」か「流さない」つまり「０」か「１」**\n",
    "         \n",
    "の二値の値であるということです。  \n",
    "\n",
    "ここで、以下に２つの信号を入力として受け取るパーセプトロンの例を示します。"
   ]
  },
  {
   "cell_type": "markdown",
   "metadata": {},
   "source": [
    "<img src = \"img1_1.png\" style=\"width: 500px; float:left;\">"
   ]
  },
  {
   "cell_type": "markdown",
   "metadata": {},
   "source": [
    "図3-1"
   ]
  },
  {
   "cell_type": "markdown",
   "metadata": {},
   "source": [
    "上図にある「x」は入力信号、「y」は出力信号、「w」は重みを示しています。  \n",
    "\n",
    "また、「x」や「y」を囲む○は「ニューロン」と呼ばれます。"
   ]
  },
  {
   "cell_type": "markdown",
   "metadata": {},
   "source": [
    "入力信号は、ニューロンに送られる時に、それぞれの重みが乗算されます。  \n",
    "\n",
    "そして、送られてきた信号の総和が計算され、その総和が閾値を越した場合のみ「１」を出力します。  \n",
    "\n",
    "これは、「ニューロンが発火する」と表現されることがあります。\n",
    "\n",
    "（脳科学の世界で、閾値を超えた時に活動電位が発生することをニューロンの発火と呼ぶところから来ています。）\n",
    "\n",
    "また、閾値を**「θ」**という記号で表すと、  \n",
    "\n",
    "#### 以上の内容は  "
   ]
  },
  {
   "cell_type": "markdown",
   "metadata": {},
   "source": [
    "$$\n",
    "  f(x) = \\left\\{ \\begin{array}{ll}\n",
    "    1　(w1x1 + w2x2 >θ) \\\\\n",
    "    0　(w1x1 + w2x2 ≦θ)\n",
    "  \\end{array} \\right.\n",
    "$$"
   ]
  },
  {
   "cell_type": "markdown",
   "metadata": {},
   "source": [
    "#### という式で表されます。  \n",
    "\n",
    "重みは、その値が大きければ大きいほど、大きな信号が流れることを意味するので、  \n",
    "\n",
    "「w1」と「w2」は入力信号への重要度をコントロールするパラメータであるということがわかります。\n",
    "\n",
    "今までの内容をまとめると、\n",
    "\n",
    "#### パーセプトロンは、入力の値に重みを掛けて足し合わせた数値が閾値を超えると、「１」を出力する（超えなければ「０」を出力）\n",
    "\n",
    "といった非常にシンプルな内容になります。\n",
    "\n",
    "シンプルと言えど、**「入力」**に対する**「出力」**の関係を掴むことはとても大事なことなのでしっかり理解してください。\n",
    "\n",
    "**次の章からは、パーセプトロンの理解を深めるために基本回路を学習していきたいと思います！**\n"
   ]
  },
  {
   "cell_type": "markdown",
   "metadata": {},
   "source": [
    "## 4. 論理回路-基本編-"
   ]
  },
  {
   "cell_type": "markdown",
   "metadata": {},
   "source": [
    "これから、論理回路の基本となる  \n",
    "\n",
    "**・ANDゲート**   \n",
    "**・NANDゲート**  \n",
    "**・ORゲート**  \n",
    "\n",
    "の三つを学んでいきます。\n",
    "\n",
    "先ほどのパーセプトロンの知識を使えば、簡単に実装することができます。\n",
    "\n",
    "パズル感覚で楽しんでください！"
   ]
  },
  {
   "cell_type": "markdown",
   "metadata": {},
   "source": [
    "### 4-1. ANDゲート"
   ]
  },
  {
   "cell_type": "markdown",
   "metadata": {},
   "source": [
    "まずは、基本回路の１つである「ANDゲート」について考えていきます。  \n",
    "\n",
    "「ANDゲート」とは、\n",
    "\n",
    "#### **「２つの入力が１のときだけ１を出力し、それ以外は０を出力する」**  \n",
    "\n",
    "といった２つの入力に対し１つの出力を持つゲートです。  \n",
    "\n",
    "これから登場するOR・NANDゲートもANDゲートと同様に２入力１出力のゲートなので、ANDゲートを理解してしまえば難しくありません。"
   ]
  },
  {
   "cell_type": "markdown",
   "metadata": {},
   "source": [
    "文章だけではわかりにくいので、入力信号と出力信号の対応関係を表す「真理値表」を示します。"
   ]
  },
  {
   "cell_type": "markdown",
   "metadata": {},
   "source": [
    " |入力 : x1|入力 : x2|出力 : y|\n",
    " |-|-|-|\n",
    " |0|0|0|\n",
    " |1|0|0|\n",
    " |0|1|0|\n",
    " |1|1|1|"
   ]
  },
  {
   "cell_type": "markdown",
   "metadata": {},
   "source": [
    "さて、このANDゲートをパーセプトロンで表現したいと思います。  \n",
    "\n",
    "何をするかというと、上図の真理値表を満たすようにw1・w2・θの値を決めます。  \n",
    "（x1・x2には、「０」か「１」の値が入ります。）  \n",
    "\n",
    "うーん…。どうすればいいんだ…。  \n",
    "\n",
    "となった人はパーセプトロンの式を思い出して下さい！  \n",
    "\n",
    "  "
   ]
  },
  {
   "cell_type": "markdown",
   "metadata": {},
   "source": [
    "$$\n",
    "  f(x) = \\left\\{ \\begin{array}{ll}\n",
    "    1　(w1x1 + w2x2 >θ) \\\\\n",
    "    0　(w1x1 + w2x2 ≦θ)\n",
    "  \\end{array} \\right.\n",
    "$$\n",
    "    "
   ]
  },
  {
   "cell_type": "markdown",
   "metadata": {},
   "source": [
    "#### x1 = 0  \n",
    "#### x2 = 0  \n",
    "の時は、  \n",
    "#### y = 0  \n",
    "にならないといけないから…"
   ]
  },
  {
   "cell_type": "markdown",
   "metadata": {},
   "source": [
    "というように１つずつ考えていくと、上記の式を満たす(w1, w2, θ)の組み合わせが見つかるのではないでしょうか？  \n",
    "\n",
    "気づいた方もおられると思いますが、そうです！  \n",
    "\n",
    "上記の式を満たすパラメータの選び方は無限にあることがわかります。  \n",
    "\n",
    "では、見つけたパラメータを用いてANDゲートを実装してみましょう！"
   ]
  },
  {
   "cell_type": "markdown",
   "metadata": {},
   "source": [
    "【問題4-1】ANDゲートを実装して下さい。w1 = 0.3, w2 = 0.3, θ = 0.4とします。 "
   ]
  },
  {
   "cell_type": "code",
   "execution_count": null,
   "metadata": {},
   "outputs": [],
   "source": [
    "def AND(x1, x2):\n",
    "    ######以下にコードを書いて下さい######\n",
    "    w1, w2, theta = 0.3, 0.3, 0.4\n",
    "    ######「tmp」に「x1w1 + x2w2」を代入して下さい######\n",
    "    tmp = \n",
    "    ######「tmp」の値で条件分岐し「０」か「１」を返して下さい######\n",
    "    if tmp :\n",
    "        \n",
    "    elif tmp :\n",
    "        \n",
    "        \n",
    "y1 = AND(0, 0)\n",
    "y2 = AND(0, 1)\n",
    "y3 = AND(1, 0)\n",
    "y4 = AND(1, 1)\n",
    "print(y1, y2, y3, y4)\n",
    "######「shift + Enter」キーを押して下さい######"
   ]
  },
  {
   "cell_type": "markdown",
   "metadata": {},
   "source": [
    "うまく実装できましたか？  \n",
    "\n",
    "うまくできていれば真理値表と同じ結果が表示されると思います。"
   ]
  },
  {
   "cell_type": "markdown",
   "metadata": {},
   "source": [
    "ここでパーセプトロンの式を少し変形させます！  \n",
    "\n",
    "「θ」を「-b」として、以下に生まれ変わったパーセプトロンの式を表します。"
   ]
  },
  {
   "cell_type": "markdown",
   "metadata": {},
   "source": [
    "$$\n",
    "  f(x) = \\left\\{ \\begin{array}{ll}\n",
    "    1　(b + w1x1 + w2x2 >0) \\\\\n",
    "    0　(b + w1x1 + w2x2 ≦0)\n",
    "  \\end{array} \\right.\n",
    "$$"
   ]
  },
  {
   "cell_type": "markdown",
   "metadata": {},
   "source": [
    "このように変形することで、閾値が「０」になりました。\n",
    "\n",
    "「０」を超えると「１」を出力、「０」を超えなければ「０」を出力すると言えます。\n",
    "\n",
    "「w１」や「w２」は今までと同様に**「重み」**と呼びます。  \n",
    "\n",
    "では、閾値と呼ばれていた\n",
    "\n",
    "$$\n",
    "    θ = -b\n",
    "$$\n",
    "\n",
    "は何を表すのか。"
   ]
  },
  {
   "cell_type": "markdown",
   "metadata": {},
   "source": [
    "これは、「バイアス」と呼び、ニューロンの発火のしやすさをコントロールします。\n",
    "\n",
    "言い換えると入力値が「０」を超えやすいかどうかになります。\n",
    "\n",
    "それでは、新しくなったパーセプトロンの式を使ってANDゲートを実装していきましょう。\n",
    "\n",
    "と、言いたいのですが、ただ単に実装するのではなく、Numpyを使って実装してみましょう！\n",
    "\n",
    "その方が配列計算が可能になり、便利になります。"
   ]
  },
  {
   "cell_type": "code",
   "execution_count": 22,
   "metadata": {},
   "outputs": [
    {
     "name": "stdout",
     "output_type": "stream",
     "text": [
      "-0.10000000000000003\n"
     ]
    }
   ],
   "source": [
    "import numpy as np\n",
    "######配列を代入する######\n",
    "x = np.array([0, 1])  \n",
    "w = np.array([0.3, 0.3])\n",
    "b = -0.4\n",
    "######「x1w1 + x2w2」を計算する######\n",
    "z = np.sum(x*w)\n",
    "y = z + b\n",
    "print(y)"
   ]
  },
  {
   "cell_type": "markdown",
   "metadata": {},
   "source": [
    "上記のように配列で計算を考えることができます。  \n",
    "\n",
    "それでは、上記のコードを参考に書き直してみましょう！"
   ]
  },
  {
   "cell_type": "markdown",
   "metadata": {},
   "source": [
    "【問題4-2】ANDゲートを書き直してみましょう！"
   ]
  },
  {
   "cell_type": "code",
   "execution_count": null,
   "metadata": {},
   "outputs": [],
   "source": [
    "def AND(x1, x2):\n",
    "    #######「x」と「w」に配列を代入して下さい######\n",
    "    \n",
    "    \n",
    "    ######「b」にバイアスを代入して下さい######\n",
    "     \n",
    "    ######「tmp」に「x1w1 + x2w2 + b」を代入して下さい######\n",
    "     \n",
    "    ######「tmp」の値で条件分けし「０」か「１」を返して下さい######\n",
    "    if :\n",
    "        return \n",
    "    else:\n",
    "        return \n",
    "    \n",
    "y1 = AND(0, 0)\n",
    "y2 = AND(0, 1)\n",
    "y3 = AND(1, 0)\n",
    "y4 = AND(1, 1)\n",
    "print(y1, y2, y3, y4)\n",
    "######「shift + Enter」キーを押して下さい######"
   ]
  },
  {
   "cell_type": "markdown",
   "metadata": {},
   "source": [
    "先ほどと同じ結果が得られれば正解です！  \n",
    "\n",
    "どうですか？  \n",
    "\n",
    "だいぶ掴めてきましたか？  \n",
    "\n",
    "このままNAND・ORゲートも考えていきましょう！  "
   ]
  },
  {
   "cell_type": "markdown",
   "metadata": {},
   "source": [
    "### 4-2. NANDゲート"
   ]
  },
  {
   "cell_type": "markdown",
   "metadata": {},
   "source": [
    "NANDゲートとは、  \n",
    "\n",
    "#### **Not AND**  \n",
    "\n",
    "を意味しています。  \n",
    "\n",
    "つまり、ANDゲートの出力を逆にしたものになります。  \n",
    "\n",
    "ANDゲート同様に以下に真理値表を示します。"
   ]
  },
  {
   "cell_type": "markdown",
   "metadata": {},
   "source": [
    "|入力 : x1|入力 : x2|出力 : y|\n",
    " |-|-|-|\n",
    " |0|0|1|\n",
    " |1|0|1|\n",
    " |0|1|1|\n",
    " |1|1|0|"
   ]
  },
  {
   "cell_type": "markdown",
   "metadata": {},
   "source": [
    "ふむふむ。なるほど。\n",
    "\n",
    "真理値表があればわかりやすいですね！  \n",
    "\n",
    "これを参考にしつつ前回のANDゲートと同様にパラメータを決め、NANDゲートを実装してみましょう！"
   ]
  },
  {
   "cell_type": "markdown",
   "metadata": {},
   "source": [
    "【問題4-3】NANDゲートを実装して下さい。今回はパラメータを指定しないのでそれも考えてみて下さい。"
   ]
  },
  {
   "cell_type": "code",
   "execution_count": null,
   "metadata": {},
   "outputs": [],
   "source": [
    "def NAND(x1, x2):\n",
    "    ######以下にコードを書いて下さい######\n",
    "    \n",
    "    \n",
    "    \n",
    "    \n",
    "    \n",
    "    \n",
    "    \n",
    "    \n",
    "    \n",
    "y1 = NAND(0, 0)\n",
    "y2 = NAND(0, 1)\n",
    "y3 = NAND(1, 0)\n",
    "y4 = NAND(1, 1)\n",
    "print(y1, y2, y3, y4)\n",
    "######「shift + Enter」キーを押して下さい######    "
   ]
  },
  {
   "cell_type": "markdown",
   "metadata": {},
   "source": [
    "今回も真理値表と同じ結果が表示されましたか？  \n",
    "\n",
    "うまくいかない場合はANDゲートのコードを見直してみましょう！  \n",
    "\n",
    "ゆっくり着実に進むことが大事です。  \n",
    "\n",
    "#### それではORゲートへGO!!!!!  "
   ]
  },
  {
   "cell_type": "markdown",
   "metadata": {},
   "source": [
    "### 4-3. ORゲート"
   ]
  },
  {
   "cell_type": "markdown",
   "metadata": {},
   "source": [
    "皆さんもご存知の「〜か〜」の「or」です。  \n",
    "\n",
    "#### 入力の「x１」か「x２」のどちらかが「１」であれば、「１」を出力するのがORゲートです。  \n",
    "\n",
    "またまたイメージしやすいように以下に真理値表を示します。"
   ]
  },
  {
   "cell_type": "markdown",
   "metadata": {},
   "source": [
    "|入力 : x1|入力 : x2|出力 : y|\n",
    " |-|-|-|\n",
    " |0|0|0|\n",
    " |1|0|1|\n",
    " |0|1|1|\n",
    " |1|1|1|"
   ]
  },
  {
   "cell_type": "markdown",
   "metadata": {},
   "source": [
    "真理値表が出てくるということは、どういうことかわかりますか？\n",
    "\n",
    "はい！そうです！  \n",
    "\n",
    "ORゲートもAND・NANDゲートと同じように実装してみましょう！"
   ]
  },
  {
   "cell_type": "markdown",
   "metadata": {},
   "source": [
    "【問題4-4】ORゲートを実装して下さい。今回も同様にパラメータを指定しないのでそれも考えてみて下さい。"
   ]
  },
  {
   "cell_type": "code",
   "execution_count": null,
   "metadata": {},
   "outputs": [],
   "source": [
    "def OR(x1, x2):\n",
    "    ######以下にコードを書いて下さい######\n",
    "    \n",
    "    \n",
    "    \n",
    "    \n",
    "    \n",
    "    \n",
    "    \n",
    "    \n",
    "    \n",
    "    \n",
    "y1 = OR(0, 0)\n",
    "y2 = OR(0, 1)\n",
    "y3 = OR(1, 0)\n",
    "y4 = OR(1, 1)\n",
    "print(y1, y2, y3, y4)\n",
    "######「shift + Enter」キーを押して下さい######"
   ]
  },
  {
   "cell_type": "markdown",
   "metadata": {},
   "source": [
    "真理値表と同じ結果が得られたでしょうか。  \n",
    "\n",
    "もし得られない場合は落ち着いて書いたコードを見直してみて下さい。  \n",
    "\n",
    "・\n",
    "\n",
    "・\n",
    "\n",
    "・"
   ]
  },
  {
   "cell_type": "markdown",
   "metadata": {},
   "source": [
    "これで**「パーセプトロン」**と**「基本回路」**の学習は終わりです。  \n",
    "\n",
    "次からは、**「組合わせ回路」**について学んでいきましょう！\n"
   ]
  },
  {
   "cell_type": "markdown",
   "metadata": {},
   "source": [
    "## 5. 論理回路-応用編-"
   ]
  },
  {
   "cell_type": "markdown",
   "metadata": {},
   "source": [
    "**・ANDゲート**  \n",
    "**・NANDゲート**  \n",
    "**・ORゲート**\n",
    "\n",
    "の三つの論理回路を学んできましたが、どうでしょうか？\n",
    "\n",
    "もしかして、物足りないですか？\n",
    "\n",
    "そんなみなさんに、基本回路を組み合わせた「組合わせ回路」という内容を用意しました。\n",
    "\n",
    "今まで学んできた三つのゲートを組み合わせて新たな論理回路を作ってみてください！"
   ]
  },
  {
   "cell_type": "markdown",
   "metadata": {},
   "source": [
    "### 5-1. 「XORゲート』"
   ]
  },
  {
   "cell_type": "markdown",
   "metadata": {},
   "source": [
    "これからは組合わせ回路である**「XORゲート」**を学習していきます。  \n",
    "\n",
    "「XORゲート」は排他的論理和とも呼ばれる論理回路です。  \n",
    "\n",
    "またまた以下に真理値表を示します。"
   ]
  },
  {
   "cell_type": "markdown",
   "metadata": {},
   "source": [
    "|入力 : x1|入力 : x2|出力 : y|\n",
    " |-|-|-|\n",
    " |0|0|0|\n",
    " |1|0|1|\n",
    " |0|1|1|\n",
    " |1|1|0|"
   ]
  },
  {
   "cell_type": "markdown",
   "metadata": {},
   "source": [
    "真理値表から見て取れるようにXORゲートは  \n",
    "\n",
    "#### 入力の「X１」と「X2」のどちらかが「１」のときだけ出力が「１」  \n",
    "\n",
    "となる論理回路です。  \n",
    "\n",
    "察しのいい方は  \n",
    "\n",
    "「また条件を満たすようにパラメータを考えるだけか。」  \n",
    "\n",
    "と思うかもしれませんが、  \n",
    "\n",
    "今まで考えてきたパーセプトロンでは、XORゲートをそう簡単には実現することができないのです。"
   ]
  },
  {
   "cell_type": "markdown",
   "metadata": {},
   "source": [
    "どうして実現できないのでしょうか？  \n",
    "\n",
    "それは線形と非線形に関わってきます。  \n",
    "\n",
    "「ん？線形と非線形？」  \n",
    "\n",
    "なかなかイメージしにくいですよね。  \n",
    "\n",
    "そこで図を用いて考えてみましょう！  \n",
    "\n",
    "まずパーセプトロンで実現できるORゲートについて考えていきます。  \n",
    "\n",
    "パーセプトロンの式を思い出して下さい。  \n",
    "\n",
    "パーセプトロンは以下の式で表現できますね。"
   ]
  },
  {
   "cell_type": "markdown",
   "metadata": {},
   "source": [
    "$$\n",
    "  f(x) = \\left\\{ \\begin{array}{ll}\n",
    "    1　(b + w1x1 + w2x2 >0) \\\\\n",
    "    0　(b + w1x1 + w2x2 ≦0)\n",
    "  \\end{array} \\right.\n",
    "$$"
   ]
  },
  {
   "cell_type": "markdown",
   "metadata": {},
   "source": [
    "もっとわかりやすく考えるために具体的なパラメータを用いてみましょう。  \n",
    "\n",
    "ORゲートを満たさないといけないことを考えて  \n",
    "\n",
    "(b, w1, w2) = (-0.5, 1.0, 1.0)としてみます。"
   ]
  },
  {
   "cell_type": "markdown",
   "metadata": {},
   "source": [
    "$$\n",
    "  f(x) = \\left\\{ \\begin{array}{ll}\n",
    "    1　(-0.5 + x1 + x2 >0) \\\\\n",
    "    0　(-0.5 + x1 + x2 ≦0)\n",
    "  \\end{array} \\right.\n",
    "$$"
   ]
  },
  {
   "cell_type": "markdown",
   "metadata": {},
   "source": [
    "この式は、  \n",
    "\n",
    "#### -0.5 + x1 + x2 = 0  \n",
    "\n",
    "の直線で分断された２つの領域を作ります。  \n",
    "\n",
    "この２つの領域は、出力が「０」なのか「１」なのかを示す領域になります。  \n",
    "\n",
    "これを図で表します。"
   ]
  },
  {
   "cell_type": "markdown",
   "metadata": {},
   "source": [
    "<img src = \"img1_2.png\" style=\"width: 500px; float:left;\">"
   ]
  },
  {
   "cell_type": "markdown",
   "metadata": {},
   "source": [
    "図5-1"
   ]
  },
  {
   "cell_type": "markdown",
   "metadata": {},
   "source": [
    "ORゲートは  \n",
    "\n",
    "**(x1, x2)=(0, 0)**の時に**「０」**を出力、 \n",
    "\n",
    "**(x1, x2)=(1, 0),(0, 1),(1, 1)**の時に**「１」**を出力します。"
   ]
  },
  {
   "cell_type": "markdown",
   "metadata": {},
   "source": [
    "図を見てみると直線で４つの点を分けることができていますね。  \n",
    "\n",
    "これと同じことをXORゲートで考えてみましょう。  \n",
    "\n",
    "はい。そうなんです。  \n",
    "\n",
    "どう考えても４つの点を１本の直線で分けることはできないのです。  \n",
    "\n",
    "パーセプトロンは１本の直線で分けた領域しか表現できないのです。  \n",
    "\n",
    "ここで「線形と非線形」の話が出てきます。  \n",
    "\n",
    "曲線による領域を非線形な領域と言い、直線による領域を線形な領域と言います。  \n",
    "\n",
    "つまりパーセプトロンは線形な領域しか表現できないのです。"
   ]
  },
  {
   "cell_type": "markdown",
   "metadata": {},
   "source": [
    "「パーセプトロンがダメならどうしたらいいの？」となると思います。  \n",
    "\n",
    "そこで今まで学習してきた基本回路を使っていきます。  \n",
    "\n",
    "AND・NAND・ORゲートを組み合わせることでXORゲートを作ることができるのです。  \n",
    "\n",
    "下の図の「？」にAND・NAND・ORのいずれかを代入してXORゲートを完成するのですが、どうしたらいいでしょうか…\n",
    "\n",
    "紙に書いたりして少し考えてみて下さい。  \n",
    "\n",
    "「これかな？」というものができたら先に進んで答えを確認して下さい。  "
   ]
  },
  {
   "cell_type": "markdown",
   "metadata": {},
   "source": [
    "<img src = \"img1_3.png\" style=\"width: 600px; float:left;\">\n",
    "\n"
   ]
  },
  {
   "cell_type": "markdown",
   "metadata": {},
   "source": [
    "図5-2"
   ]
  },
  {
   "cell_type": "markdown",
   "metadata": {},
   "source": [
    "<img src = \"img1_4.png\" style=\"width: 600px; float:left;\">"
   ]
  },
  {
   "cell_type": "markdown",
   "metadata": {},
   "source": [
    "図5-3"
   ]
  },
  {
   "cell_type": "markdown",
   "metadata": {},
   "source": [
    "・  \n",
    "\n",
    "・  \n",
    "\n",
    "・  \n",
    "\n",
    "・  \n",
    "\n",
    "・"
   ]
  },
  {
   "cell_type": "markdown",
   "metadata": {},
   "source": [
    "<img src = \"img1_5.png\" style=\"width: 600px; float:left;\">"
   ]
  },
  {
   "cell_type": "markdown",
   "metadata": {},
   "source": [
    "図5-4"
   ]
  },
  {
   "cell_type": "markdown",
   "metadata": {},
   "source": [
    "どうでしょうか？  \n",
    "\n",
    "あってましたか？  \n",
    "\n",
    "XORゲートは上図の配線で実現できるのです。  \n",
    "\n",
    "ここで真理値表で確認してみましょう。"
   ]
  },
  {
   "cell_type": "markdown",
   "metadata": {},
   "source": [
    "|x1|x2|s1|s2|y|\n",
    "|-|-|-|-|-|\n",
    "|0|0|1|0|0|\n",
    "|1|0|1|1|1|\n",
    "|0|1|1|1|1|\n",
    "|1|1|0|1|0|"
   ]
  },
  {
   "cell_type": "markdown",
   "metadata": {},
   "source": [
    "【問題5-1】XORゲートを実装して下さい。"
   ]
  },
  {
   "cell_type": "code",
   "execution_count": null,
   "metadata": {},
   "outputs": [],
   "source": [
    "######以下に「XORゲート」のコードを書いて下さい######\n",
    "def XOR(x1, x2):\n",
    "    \n",
    "    \n",
    "    \n",
    "    \n",
    "    \n",
    "    \n",
    "    \n",
    "\n",
    "y1 = XOR(0, 0)\n",
    "y2 = XOR(0, 1)\n",
    "y3 = XOR(1, 0)\n",
    "y4 = XOR(1, 1)\n",
    "print(y1, y2, y3, y4)\n",
    "######「shift + Enter」キーを押して下さい######"
   ]
  },
  {
   "cell_type": "markdown",
   "metadata": {},
   "source": [
    "真理値表と同じ結果が得られましたか？  \n",
    "\n",
    "これでXORゲートを完成させることができたのです。  \n",
    "\n",
    "XORゲートをパーセプトロンの表現で表してみると以下の図のようになります。  "
   ]
  },
  {
   "cell_type": "markdown",
   "metadata": {},
   "source": [
    "<img src = \"img1_6.png\" style=\"width: 600px; float:left;\">"
   ]
  },
  {
   "cell_type": "markdown",
   "metadata": {},
   "source": [
    "図5-5"
   ]
  },
  {
   "cell_type": "markdown",
   "metadata": {},
   "source": [
    "図からわかるようにXORゲートは２層のパーセプトロンになります。\n",
    "\n",
    "第０層の二つのニューロンが入力信号を受け取り、これを第１層のニューロンに送ります。\n",
    "\n",
    "XORゲートの場合、「s1」と「s2」は、NANDゲートとORゲートの出力になります。\n",
    "\n",
    "そしてそれぞれの出力が、第２層への入力信号となります。\n",
    "\n",
    "XORゲートの場合、「y」はANDゲートの出力になります。\n",
    "\n",
    "このように層を複数重ねたパーセプトロンを多層パーセプトロンと呼ぶこともあります。  \n",
    "\n",
    "XORゲートを学習することにより、\n",
    "\n",
    "#### 単体のパーセプトロンでは表現できなかったものが、層を重ねることで表現するできる\n",
    "\n",
    "ということがわかったと思います。"
   ]
  },
  {
   "cell_type": "markdown",
   "metadata": {},
   "source": [
    "## 6. 問題集"
   ]
  },
  {
   "cell_type": "markdown",
   "metadata": {},
   "source": [
    "【演習６-1】以下の真理値表を満たすNOR回路を実装してください。"
   ]
  },
  {
   "cell_type": "markdown",
   "metadata": {},
   "source": [
    "|入力 : x1|入力 : x2|出力 : y|\n",
    " |-|-|-|\n",
    " |0|0|1|\n",
    " |1|0|0|\n",
    " |0|1|0|\n",
    " |1|1|0|"
   ]
  },
  {
   "cell_type": "code",
   "execution_count": 1,
   "metadata": {},
   "outputs": [],
   "source": [
    "######以下にコードを書いてください######\n",
    "\n",
    "\n",
    "\n",
    "######「Shift + Enter」を押してください######"
   ]
  },
  {
   "cell_type": "markdown",
   "metadata": {},
   "source": [
    "【演習6-2】以下の真理値表を満たすXNOR回路を実装してください。  \n",
    "ヒント：XOR回路とNOR回路を組み合わせることで作ることができます。"
   ]
  },
  {
   "cell_type": "markdown",
   "metadata": {},
   "source": [
    "<img src = \"img1_4.png\" style=\"width: 600px; float:left;\">"
   ]
  },
  {
   "cell_type": "markdown",
   "metadata": {},
   "source": [
    "|入力 : x1|入力 : x2|出力 : y|\n",
    " |-|-|-|\n",
    " |0|0|1|\n",
    " |1|0|0|\n",
    " |0|1|0|\n",
    " |1|1|1|"
   ]
  },
  {
   "cell_type": "code",
   "execution_count": null,
   "metadata": {},
   "outputs": [],
   "source": [
    "######以下にコードを書いてください######\n",
    "\n",
    "\n",
    "\n",
    "######「Shift + Enter」を押してください######"
   ]
  },
  {
   "cell_type": "markdown",
   "metadata": {},
   "source": [
    "## 7. まとめ"
   ]
  },
  {
   "cell_type": "markdown",
   "metadata": {},
   "source": [
    "お疲れ様でした。  \n",
    "\n",
    "全体を振り返りたいと思います。  \n",
    "\n",
    "今回は  \n",
    "- パーセプトロン\n",
    "- AND・NAND・ORゲート\n",
    "- XORゲート\n",
    "\n",
    "を学習しました。  \n",
    "\n",
    "パーセプトロンを学ぶことで「Deep Learning」という世界を垣間見ることができたのではないでしょうか？\n",
    "\n",
    "はじめにも言いましたが、\n",
    "\n",
    "重要なのは、\n",
    "\n",
    "#### ニューラルネットワーク（Deep Learning）の基盤となるパーセプトロンを理解する\n",
    "\n",
    "ことです！\n",
    "\n",
    "パーセプトロンを理解していれば、これからの内容がスムーズに理解できると思います。\n",
    "\n",
    "それではこの辺で、さようなら！"
   ]
  },
  {
   "cell_type": "code",
   "execution_count": null,
   "metadata": {},
   "outputs": [],
   "source": []
  }
 ],
 "metadata": {
  "kernelspec": {
   "display_name": "Python 2",
   "language": "python",
   "name": "python2"
  },
  "language_info": {
   "codemirror_mode": {
    "name": "ipython",
    "version": 3
   },
   "file_extension": ".py",
   "mimetype": "text/x-python",
   "name": "python",
   "nbconvert_exporter": "python",
   "pygments_lexer": "ipython3",
   "version": "3.7.4"
  }
 },
 "nbformat": 4,
 "nbformat_minor": 4
}
