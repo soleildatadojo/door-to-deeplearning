{
 "cells": [
  {
   "cell_type": "markdown",
   "metadata": {},
   "source": [
    "【問題4-1】"
   ]
  },
  {
   "cell_type": "code",
   "execution_count": 1,
   "metadata": {},
   "outputs": [
    {
     "name": "stdout",
     "output_type": "stream",
     "text": [
      "0 0 0 1\n"
     ]
    }
   ],
   "source": [
    "def AND(x1, x2):\n",
    "    ######以下にコードを書いて下さい######\n",
    "    w1, w2, theta = 0.3, 0.3, 0.4\n",
    "    ######「tmp」に「x1w1 + x2w2」を代入して下さい######\n",
    "    tmp = x1*w1 + x2*w2\n",
    "    ######「tmp」の値で条件分岐し「０」か「１」を返して下さい######\n",
    "    if tmp > theta:\n",
    "        return 1\n",
    "    elif tmp <= theta:\n",
    "        return 0\n",
    "        \n",
    "        \n",
    "y1 = AND(0, 0)\n",
    "y2 = AND(0, 1)\n",
    "y3 = AND(1, 0)\n",
    "y4 = AND(1, 1)\n",
    "print(y1, y2, y3, y4)\n",
    "######「shift + Enter」キーを押して下さい######"
   ]
  },
  {
   "cell_type": "markdown",
   "metadata": {},
   "source": [
    "【問題4-2】"
   ]
  },
  {
   "cell_type": "code",
   "execution_count": 6,
   "metadata": {},
   "outputs": [
    {
     "name": "stdout",
     "output_type": "stream",
     "text": [
      "0 0 0 1\n"
     ]
    }
   ],
   "source": [
    "import numpy as np\n",
    "def AND(x1, x2):\n",
    "    #######「x」と「w」に配列を代入して下さい######\n",
    "    x = np.array([x1, x2])\n",
    "    w = np.array([0.3, 0.3])\n",
    "    ######「b」にバイアスを代入して下さい######\n",
    "    b = -0.4\n",
    "    ######「tmp」に「x1w1 + x2w2 + b」を代入して下さい######\n",
    "    tmp = np.sum(x*w) + b\n",
    "    ######「tmp」の値で条件分けし「０」か「１」を返して下さい######\n",
    "    if tmp > 0:\n",
    "        return 1\n",
    "    else:\n",
    "        return 0\n",
    "    \n",
    "y1 = AND(0, 0)\n",
    "y2 = AND(0, 1)\n",
    "y3 = AND(1, 0)\n",
    "y4 = AND(1, 1)\n",
    "print(y1, y2, y3, y4)\n",
    "######「shift + Enter」キーを押して下さい######"
   ]
  },
  {
   "cell_type": "markdown",
   "metadata": {},
   "source": [
    "【問題4-3】"
   ]
  },
  {
   "cell_type": "code",
   "execution_count": 7,
   "metadata": {},
   "outputs": [
    {
     "name": "stdout",
     "output_type": "stream",
     "text": [
      "1 1 1 0\n"
     ]
    }
   ],
   "source": [
    "def NAND(x1, x2):\n",
    "    ######以下にコードを書いて下さい######\n",
    "    x = np.array([x1, x2])\n",
    "    w = np.array([-0.3, -0.3])\n",
    "    b = 0.4\n",
    "    tmp = np.sum(x*w) + b\n",
    "    if tmp > 0:\n",
    "        return 1\n",
    "    else:\n",
    "        return 0\n",
    "    \n",
    "    \n",
    "y1 = NAND(0, 0)\n",
    "y2 = NAND(0, 1)\n",
    "y3 = NAND(1, 0)\n",
    "y4 = NAND(1, 1)\n",
    "print(y1, y2, y3, y4)\n",
    "######「shift + Enter」キーを押して下さい######    "
   ]
  },
  {
   "cell_type": "markdown",
   "metadata": {},
   "source": [
    "【問題4-4】"
   ]
  },
  {
   "cell_type": "code",
   "execution_count": 8,
   "metadata": {},
   "outputs": [
    {
     "name": "stdout",
     "output_type": "stream",
     "text": [
      "0 1 1 1\n"
     ]
    }
   ],
   "source": [
    "def OR(x1, x2):\n",
    "    ######以下にコードを書いて下さい######\n",
    "    x = np.array([x1, x2])\n",
    "    w = np.array([0.3, 0.3])\n",
    "    b = -0.2\n",
    "    tmp = np.sum(x*w) + b\n",
    "    if tmp > 0:\n",
    "        return 1\n",
    "    else:\n",
    "        return 0\n",
    "    \n",
    "y1 = OR(0, 0)\n",
    "y2 = OR(0, 1)\n",
    "y3 = OR(1, 0)\n",
    "y4 = OR(1, 1)\n",
    "print(y1, y2, y3, y4)\n",
    "######「shift + Enter」キーを押して下さい######"
   ]
  },
  {
   "cell_type": "markdown",
   "metadata": {},
   "source": [
    "【問題5-1】"
   ]
  },
  {
   "cell_type": "code",
   "execution_count": 9,
   "metadata": {},
   "outputs": [
    {
     "name": "stdout",
     "output_type": "stream",
     "text": [
      "0 1 1 0\n"
     ]
    }
   ],
   "source": [
    "######以下に「XORゲート」のコードを書いて下さい######\n",
    "def XOR(x1, x2):\n",
    "    s1 = NAND(x1, x2)\n",
    "    s2 = OR(x1, x2)\n",
    "    y = AND(s1, s2)\n",
    "    \n",
    "    return y\n",
    "\n",
    "y1 = XOR(0, 0)\n",
    "y2 = XOR(0, 1)\n",
    "y3 = XOR(1, 0)\n",
    "y4 = XOR(1, 1)\n",
    "print(y1, y2, y3, y4)\n",
    "######「shift + Enter」キーを押して下さい######"
   ]
  },
  {
   "cell_type": "markdown",
   "metadata": {},
   "source": [
    "【演習6-1】"
   ]
  },
  {
   "cell_type": "code",
   "execution_count": 10,
   "metadata": {},
   "outputs": [
    {
     "name": "stdout",
     "output_type": "stream",
     "text": [
      "1 0 0 0\n"
     ]
    }
   ],
   "source": [
    "import numpy as np\n",
    "\n",
    "def NOR(x1, x2):\n",
    "    x = np.array([x1, x2])\n",
    "    w = np.array([-2.0, -2.0])\n",
    "    b = 1.0\n",
    "    tmp = np.sum(x*w) + b\n",
    "    if tmp > 0:\n",
    "        return 1\n",
    "    else:\n",
    "        return 0\n",
    "    \n",
    "y1 = NOR(0, 0)\n",
    "y2 = NOR(0, 1)\n",
    "y3 = NOR(1, 0)\n",
    "y4 = NOR(1, 1)\n",
    "print(y1, y2, y3, y4)\n",
    "######「Shift + Enter」を押してください######"
   ]
  },
  {
   "cell_type": "markdown",
   "metadata": {},
   "source": [
    "【演習6-2】"
   ]
  },
  {
   "cell_type": "code",
   "execution_count": 11,
   "metadata": {},
   "outputs": [
    {
     "name": "stdout",
     "output_type": "stream",
     "text": [
      "1 0 0 1\n"
     ]
    }
   ],
   "source": [
    "import numpy as np\n",
    "\n",
    "def XNOR(x1, x2):\n",
    "    s1 = XOR(x1, x2)\n",
    "    s2 = XOR(x1, x2)\n",
    "    y = NOR(s1, s2)\n",
    "    return y\n",
    "    \n",
    "y1 = XNOR(0, 0)\n",
    "y2 = XNOR(0, 1)\n",
    "y3 = XNOR(1, 0)\n",
    "y4 = XNOR(1, 1)\n",
    "print(y1, y2, y3, y4)"
   ]
  },
  {
   "cell_type": "markdown",
   "metadata": {},
   "source": [
    "「Perceptron-1.ipynb」はここまでになります。\n",
    "\n",
    "______________________________________"
   ]
  },
  {
   "cell_type": "markdown",
   "metadata": {},
   "source": [
    "【演習6-3】"
   ]
  },
  {
   "cell_type": "code",
   "execution_count": 7,
   "metadata": {},
   "outputs": [
    {
     "name": "stdout",
     "output_type": "stream",
     "text": [
      "(0, 0)\n",
      "(1, 0)\n",
      "(1, 0)\n",
      "(0, 1)\n"
     ]
    }
   ],
   "source": [
    "import numpy as np\n",
    "def half_adder(x1, x2):\n",
    "    ######半加算器を完成させてください######\n",
    "    c = AND(x1, x2)\n",
    "    s = XOR(x1, x2)\n",
    "    \n",
    "    ######「s」を出力、「c」を桁上げとします#######\n",
    "    return s, c\n",
    "\n",
    "\n",
    "print(half_adder(0, 0))\n",
    "print(half_adder(1, 0))\n",
    "print(half_adder(0, 1))\n",
    "print(half_adder(1, 1))\n",
    "######「shift + Enter」キーを押して下さい######"
   ]
  },
  {
   "cell_type": "markdown",
   "metadata": {},
   "source": [
    "【演習6-4】"
   ]
  },
  {
   "cell_type": "code",
   "execution_count": 10,
   "metadata": {},
   "outputs": [
    {
     "name": "stdout",
     "output_type": "stream",
     "text": [
      "(0, 0)\n",
      "(1, 0)\n",
      "(1, 0)\n",
      "(1, 0)\n",
      "(0, 1)\n",
      "(0, 1)\n",
      "(0, 1)\n",
      "(1, 1)\n"
     ]
    }
   ],
   "source": [
    "import numpy as np\n",
    "def full_adder(x1, x2, Cin):\n",
    "    ######全加算器を完成させてください######\n",
    "    s1, c1 = half_adder(x1, x2)\n",
    "    s2, c2 = half_adder(s1, Cin)\n",
    "    Cout = OR(c1, c2)\n",
    "    \n",
    "    ######「s2」を出力、「Cout」を桁上げとします######\n",
    "    return s2, Cout\n",
    "\n",
    "print(full_adder(0, 0, 0))\n",
    "print(full_adder(0, 0, 1))\n",
    "print(full_adder(0, 1, 0))\n",
    "print(full_adder(1, 0, 0))\n",
    "print(full_adder(0, 1, 1))\n",
    "print(full_adder(1, 0, 1))\n",
    "print(full_adder(1, 1, 0))\n",
    "print(full_adder(1, 1, 1))\n",
    "######「shift + Enter」キーを押して下さい######"
   ]
  },
  {
   "cell_type": "markdown",
   "metadata": {},
   "source": [
    "【演習6-5】複数パターンがあるので、参考に三つ載せておきます。\n",
    "一つ目のコードが一番基本的になると思うので、こちらのみ理解してもらえれば大丈夫です。\n",
    "\n",
    "他のコードは興味ある場合は参考にしてみてください。"
   ]
  },
  {
   "cell_type": "code",
   "execution_count": 18,
   "metadata": {},
   "outputs": [
    {
     "name": "stdout",
     "output_type": "stream",
     "text": [
      "1010\n",
      "[1 0 1 0]\n"
     ]
    }
   ],
   "source": [
    "######入力部を書き直す必要があるコードPart１######\n",
    "######しかし一番単純であり見やすい######\n",
    "\n",
    "######A1,A2,A3は「１０１」といった一つの数字、B1,B2,B3は「１０１」といった一つの数字######\n",
    "def three_adder(A1, A2, A3, B1, B2, B3):\n",
    "    s1, c1 = full_adder(A1, B1, 0)\n",
    "    s2, c2 = full_adder(A2, B2, c1)\n",
    "    s3, c3 = full_adder(A3, B3, c2)\n",
    "    if c3 == 1:\n",
    "        ######文字列の場合と配列の場合の２パターン表記######\n",
    "        print(str(c3)+str(s3)+str(s2)+str(s1))\n",
    "        C = np.array([c3, s3, s2, s1])\n",
    "        print(C)\n",
    "    elif c3 == 0:\n",
    "        print(str(s3)+str(s2)+str(s1))\n",
    "        C = np.array([s3, s2, s1])\n",
    "        print(C)\n",
    "        \n",
    "three_adder(1, 0, 1, 1, 0, 1)"
   ]
  },
  {
   "cell_type": "code",
   "execution_count": 12,
   "metadata": {},
   "outputs": [
    {
     "name": "stdout",
     "output_type": "stream",
     "text": [
      "１番右を１桁目として表示します。\n",
      "[1. 0. 1. 0.]\n"
     ]
    }
   ],
   "source": [
    "######入力部を書き直す必要があるコードPart２######\n",
    "\n",
    "def three_adder(x1, x2):\n",
    "    z = 0\n",
    "    t = 0\n",
    "    y = np.zeros(3)\n",
    "    for i, j in zip(x1, x2):\n",
    "        s, c = full_adder(i, j, z)\n",
    "        z = c\n",
    "        y[t] = s\n",
    "        if (t == 2) and (c == 1):\n",
    "            y = np.append(y, c)\n",
    "        t += 1\n",
    "      \n",
    "    print(\"１番右を１桁目として表示します。\")\n",
    "    print(np.flipud(y))\n",
    "\n",
    "######「０番目」から「１桁目」として代入していきます。######\n",
    "######他の数を計算したいときは以下を書き換えてください。######\n",
    "x1 = np.array([1, 0, 1])\n",
    "x2 = np.array([1, 0, 1])\n",
    "three_adder(x1, x2)"
   ]
  },
  {
   "cell_type": "code",
   "execution_count": 16,
   "metadata": {},
   "outputs": [
    {
     "name": "stdin",
     "output_type": "stream",
     "text": [
      "1桁目を入力してください： 1\n",
      "もう１つの1桁目を入力してください： 1\n",
      "2桁目を入力してください： 0\n",
      "もう１つの2桁目を入力してください： 0\n",
      "3桁目を入力してください： 1\n",
      "もう１つの3桁目を入力してください： 1\n"
     ]
    },
    {
     "name": "stdout",
     "output_type": "stream",
     "text": [
      "１番右を１桁目として表示します。\n",
      "[1. 0. 1. 0.]\n"
     ]
    }
   ],
   "source": [
    "######「input関数」を用いて上のコードよりかは柔軟性のあるコード######\n",
    "\n",
    "def three_adder(Cin_zero):\n",
    "    z = Cin_zero\n",
    "    y = np.zeros(3)\n",
    "    for i in range(0, 3):\n",
    "        x1 = int(input(str(i+1) + \"桁目を入力してください：\"))\n",
    "        x2 = int(input(\"もう１つの\" + str(i+1) + \"桁目を入力してください：\"))\n",
    "        s, c = full_adder(x1, x2, z)\n",
    "        z = c\n",
    "        y[i] = s\n",
    "        if (i == 2) and (c == 1):\n",
    "            y = np.append(y, c)\n",
    "\n",
    "    print(\"１番右を１桁目として表示します。\")        \n",
    "    y = np.flipud(y)\n",
    "    print(y)\n",
    "######「Cin_zero」は「桁上がりがない」とい意味で用いているので「０」を代入します###### \n",
    "######「Reason：当たり前のように０桁目はなく、強いて言うなら０＋０だから」######\n",
    "three_adder(0)"
   ]
  },
  {
   "cell_type": "code",
   "execution_count": null,
   "metadata": {},
   "outputs": [],
   "source": []
  }
 ],
 "metadata": {
  "kernelspec": {
   "display_name": "Python 3",
   "language": "python",
   "name": "python3"
  },
  "language_info": {
   "codemirror_mode": {
    "name": "ipython",
    "version": 3
   },
   "file_extension": ".py",
   "mimetype": "text/x-python",
   "name": "python",
   "nbconvert_exporter": "python",
   "pygments_lexer": "ipython3",
   "version": "3.7.4"
  }
 },
 "nbformat": 4,
 "nbformat_minor": 4
}
